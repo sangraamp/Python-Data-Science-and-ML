{
 "cells": [
  {
   "cell_type": "markdown",
   "metadata": {},
   "source": [
    "___\n",
    "\n",
    "<a href='http://www.pieriandata.com'> <img src='../Pierian_Data_Logo.png' /></a>\n",
    "___\n",
    "# Plotly and Cufflinks"
   ]
  },
  {
   "cell_type": "markdown",
   "metadata": {},
   "source": [
    "Plotly is a library that allows you to create interactive plots that you can use in dashboards or websites (you can save them as html files or static images).\n",
    "\n",
    "## Installation\n",
    "\n",
    "In order for this all to work, you'll need to install plotly and cufflinks to call plots directly off of a pandas dataframe. These libraries are not currently available through **conda** but are available through **pip**. Install the libraries at your command line/terminal using:\n",
    "\n",
    "    pip install plotly\n",
    "    pip install cufflinks\n",
    "\n",
    "** NOTE: Make sure you only have one installation of Python on your computer when you do this, otherwise the installation may not work. **\n",
    "\n",
    "## Imports and Set-up"
   ]
  },
  {
   "cell_type": "code",
   "execution_count": 1,
   "metadata": {},
   "outputs": [],
   "source": [
    "import pandas as pd\n",
    "import numpy as np\n",
    "%matplotlib inline"
   ]
  },
  {
   "cell_type": "code",
   "execution_count": 2,
   "metadata": {},
   "outputs": [
    {
     "name": "stdout",
     "output_type": "stream",
     "text": [
      "5.3.1\n"
     ]
    }
   ],
   "source": [
    "from plotly import __version__\n",
    "from plotly.offline import download_plotlyjs, init_notebook_mode, plot, iplot\n",
    "\n",
    "print(__version__) # requires version >= 1.9.0"
   ]
  },
  {
   "cell_type": "code",
   "execution_count": 3,
   "metadata": {},
   "outputs": [],
   "source": [
    "import cufflinks as cf"
   ]
  },
  {
   "cell_type": "code",
   "execution_count": 4,
   "metadata": {},
   "outputs": [
    {
     "data": {
      "text/html": [
       "        <script type=\"text/javascript\">\n",
       "        window.PlotlyConfig = {MathJaxConfig: 'local'};\n",
       "        if (window.MathJax) {MathJax.Hub.Config({SVG: {font: \"STIX-Web\"}});}\n",
       "        if (typeof require !== 'undefined') {\n",
       "        require.undef(\"plotly\");\n",
       "        requirejs.config({\n",
       "            paths: {\n",
       "                'plotly': ['https://cdn.plot.ly/plotly-2.4.2.min']\n",
       "            }\n",
       "        });\n",
       "        require(['plotly'], function(Plotly) {\n",
       "            window._Plotly = Plotly;\n",
       "        });\n",
       "        }\n",
       "        </script>\n",
       "        "
      ]
     },
     "metadata": {},
     "output_type": "display_data"
    }
   ],
   "source": [
    "# For Notebooks\n",
    "init_notebook_mode(connected=True)"
   ]
  },
  {
   "cell_type": "code",
   "execution_count": 5,
   "metadata": {},
   "outputs": [
    {
     "data": {
      "text/html": [
       "        <script type=\"text/javascript\">\n",
       "        window.PlotlyConfig = {MathJaxConfig: 'local'};\n",
       "        if (window.MathJax) {MathJax.Hub.Config({SVG: {font: \"STIX-Web\"}});}\n",
       "        if (typeof require !== 'undefined') {\n",
       "        require.undef(\"plotly\");\n",
       "        requirejs.config({\n",
       "            paths: {\n",
       "                'plotly': ['https://cdn.plot.ly/plotly-2.4.2.min']\n",
       "            }\n",
       "        });\n",
       "        require(['plotly'], function(Plotly) {\n",
       "            window._Plotly = Plotly;\n",
       "        });\n",
       "        }\n",
       "        </script>\n",
       "        "
      ]
     },
     "metadata": {},
     "output_type": "display_data"
    }
   ],
   "source": [
    "# For offline use\n",
    "cf.go_offline()"
   ]
  },
  {
   "cell_type": "markdown",
   "metadata": {},
   "source": [
    "### Fake Data"
   ]
  },
  {
   "cell_type": "code",
   "execution_count": 6,
   "metadata": {},
   "outputs": [],
   "source": [
    "df = pd.DataFrame(np.random.randn(100,4),columns='A B C D'.split())"
   ]
  },
  {
   "cell_type": "code",
   "execution_count": 7,
   "metadata": {},
   "outputs": [
    {
     "data": {
      "text/html": [
       "<div>\n",
       "<style scoped>\n",
       "    .dataframe tbody tr th:only-of-type {\n",
       "        vertical-align: middle;\n",
       "    }\n",
       "\n",
       "    .dataframe tbody tr th {\n",
       "        vertical-align: top;\n",
       "    }\n",
       "\n",
       "    .dataframe thead th {\n",
       "        text-align: right;\n",
       "    }\n",
       "</style>\n",
       "<table border=\"1\" class=\"dataframe\">\n",
       "  <thead>\n",
       "    <tr style=\"text-align: right;\">\n",
       "      <th></th>\n",
       "      <th>A</th>\n",
       "      <th>B</th>\n",
       "      <th>C</th>\n",
       "      <th>D</th>\n",
       "    </tr>\n",
       "  </thead>\n",
       "  <tbody>\n",
       "    <tr>\n",
       "      <th>0</th>\n",
       "      <td>1.639017</td>\n",
       "      <td>1.102553</td>\n",
       "      <td>-1.236056</td>\n",
       "      <td>-0.387635</td>\n",
       "    </tr>\n",
       "    <tr>\n",
       "      <th>1</th>\n",
       "      <td>0.350363</td>\n",
       "      <td>0.070030</td>\n",
       "      <td>1.315925</td>\n",
       "      <td>-0.829657</td>\n",
       "    </tr>\n",
       "    <tr>\n",
       "      <th>2</th>\n",
       "      <td>0.005345</td>\n",
       "      <td>0.581010</td>\n",
       "      <td>-1.048260</td>\n",
       "      <td>-0.966636</td>\n",
       "    </tr>\n",
       "    <tr>\n",
       "      <th>3</th>\n",
       "      <td>-1.007169</td>\n",
       "      <td>-1.920312</td>\n",
       "      <td>0.943262</td>\n",
       "      <td>-0.272526</td>\n",
       "    </tr>\n",
       "    <tr>\n",
       "      <th>4</th>\n",
       "      <td>0.606437</td>\n",
       "      <td>0.753293</td>\n",
       "      <td>0.109499</td>\n",
       "      <td>0.290246</td>\n",
       "    </tr>\n",
       "  </tbody>\n",
       "</table>\n",
       "</div>"
      ],
      "text/plain": [
       "          A         B         C         D\n",
       "0  1.639017  1.102553 -1.236056 -0.387635\n",
       "1  0.350363  0.070030  1.315925 -0.829657\n",
       "2  0.005345  0.581010 -1.048260 -0.966636\n",
       "3 -1.007169 -1.920312  0.943262 -0.272526\n",
       "4  0.606437  0.753293  0.109499  0.290246"
      ]
     },
     "execution_count": 7,
     "metadata": {},
     "output_type": "execute_result"
    }
   ],
   "source": [
    "df.head()"
   ]
  },
  {
   "cell_type": "code",
   "execution_count": 8,
   "metadata": {},
   "outputs": [],
   "source": [
    "df2 = pd.DataFrame({'Category':['A','B','C'],'Values':[32,43,50]})"
   ]
  },
  {
   "cell_type": "code",
   "execution_count": 9,
   "metadata": {},
   "outputs": [
    {
     "data": {
      "text/html": [
       "<div>\n",
       "<style scoped>\n",
       "    .dataframe tbody tr th:only-of-type {\n",
       "        vertical-align: middle;\n",
       "    }\n",
       "\n",
       "    .dataframe tbody tr th {\n",
       "        vertical-align: top;\n",
       "    }\n",
       "\n",
       "    .dataframe thead th {\n",
       "        text-align: right;\n",
       "    }\n",
       "</style>\n",
       "<table border=\"1\" class=\"dataframe\">\n",
       "  <thead>\n",
       "    <tr style=\"text-align: right;\">\n",
       "      <th></th>\n",
       "      <th>Category</th>\n",
       "      <th>Values</th>\n",
       "    </tr>\n",
       "  </thead>\n",
       "  <tbody>\n",
       "    <tr>\n",
       "      <th>0</th>\n",
       "      <td>A</td>\n",
       "      <td>32</td>\n",
       "    </tr>\n",
       "    <tr>\n",
       "      <th>1</th>\n",
       "      <td>B</td>\n",
       "      <td>43</td>\n",
       "    </tr>\n",
       "    <tr>\n",
       "      <th>2</th>\n",
       "      <td>C</td>\n",
       "      <td>50</td>\n",
       "    </tr>\n",
       "  </tbody>\n",
       "</table>\n",
       "</div>"
      ],
      "text/plain": [
       "  Category  Values\n",
       "0        A      32\n",
       "1        B      43\n",
       "2        C      50"
      ]
     },
     "execution_count": 9,
     "metadata": {},
     "output_type": "execute_result"
    }
   ],
   "source": [
    "df2.head()"
   ]
  },
  {
   "cell_type": "markdown",
   "metadata": {},
   "source": [
    "## Using Cufflinks and iplot()\n",
    "\n",
    "* scatter\n",
    "* bar\n",
    "* box\n",
    "* spread\n",
    "* ratio\n",
    "* heatmap\n",
    "* surface\n",
    "* histogram\n",
    "* bubble"
   ]
  },
  {
   "cell_type": "markdown",
   "metadata": {},
   "source": [
    "## Scatter"
   ]
  },
  {
   "cell_type": "code",
   "execution_count": 10,
   "metadata": {},
   "outputs": [
    {
     "data": {
      "application/vnd.plotly.v1+json": {
       "config": {
        "linkText": "Export to plot.ly",
        "plotlyServerURL": "https://plot.ly",
        "showLink": true
       },
       "data": [
        {
         "line": {
          "color": "rgba(255, 153, 51, 1.0)",
          "dash": "solid",
          "shape": "linear",
          "width": 1.3
         },
         "marker": {
          "size": 10,
          "symbol": "circle"
         },
         "mode": "markers",
         "name": "B",
         "text": "",
         "type": "scatter",
         "x": [
          1.6390172210782112,
          0.35036309608803734,
          0.005345251605557072,
          -1.007168582401739,
          0.6064372360595194,
          -0.8559716524754347,
          -0.29295931013977455,
          0.11469913509520363,
          -0.7523106090575572,
          -0.195634901571466,
          -0.5404692462016839,
          -1.3120969565229128,
          1.1111884746332532,
          -1.4563221199532441,
          -0.4000778003521611,
          -1.4451703461721117,
          -1.363231315990348,
          0.658342303654108,
          0.8786515409349503,
          -1.5086797797943805,
          -0.5725951421783421,
          -2.9521790062884317,
          0.8107187720350392,
          -2.519087609499849,
          0.6896584787258254,
          0.6435745175482077,
          -1.2000336887451124,
          0.34086045864628756,
          0.2654469043662446,
          -0.07746292037022126,
          0.8630843825610846,
          1.0891490140181523,
          -1.9524223419631697,
          0.6858617659955623,
          0.2883834504425376,
          0.20911482004677523,
          0.5299742543623438,
          1.1327845046858638,
          -0.7251055108060356,
          1.2135193055712752,
          2.300244842789878,
          -0.738390301241366,
          0.05291785180475275,
          -3.4709290329743743,
          0.5977833494136633,
          0.14110732006113477,
          -0.5840013368991821,
          0.004953715931068007,
          -1.223861385225602,
          0.6190924457254161,
          0.039732403047753204,
          1.425699337352612,
          0.44876455422443184,
          1.0781702197003584,
          1.6736082013851366,
          0.13414414323520682,
          -0.049714591234064916,
          1.5718612497436992,
          -0.488626681795911,
          -1.0745094634783077,
          0.010835515648132663,
          0.7740169127901401,
          -0.6426873875675859,
          -0.9754780684816817,
          0.5529827758798664,
          -1.0672963254082246,
          -0.04456852341750004,
          0.7692202067160016,
          1.2321144828985524,
          0.1433419894687381,
          -0.2909362098687318,
          -0.47267633317745456,
          1.7972382007227412,
          0.21805988911238225,
          -0.009552893266460817,
          1.3467405298885615,
          1.585402040037534,
          -0.4229297524139318,
          -0.3769072295415943,
          -0.3270199703308662,
          -1.6570808165725148,
          -0.12574749288277748,
          -0.6176444759289953,
          0.7439988726600845,
          0.24613374285765183,
          0.38947090242920723,
          1.6723019786775943,
          -0.41963702796672747,
          0.9047373455383958,
          -0.017673105582772474,
          -1.0170416703023462,
          -0.19324125760756355,
          -1.2503224511053932,
          -2.1470424425254766,
          1.0221779062477727,
          -2.5065738171228205,
          -0.05963337005966899,
          0.47649356521775404,
          1.4276528138041606,
          -0.32425457930617246
         ],
         "y": [
          1.102553266001446,
          0.07003004352789324,
          0.5810101219197732,
          -1.9203120747377667,
          0.7532931016641667,
          -1.8337590115007922,
          0.3096264931476165,
          0.6393282156170463,
          -0.798725006016867,
          0.5417207731363791,
          -0.4239424069146018,
          -0.41392400709499866,
          0.08559850853532823,
          0.9093550061070701,
          -0.7280430808263331,
          -0.6824589540078425,
          0.28090931380191964,
          -0.3319007037857765,
          -1.6667158346606188,
          1.6130909499660644,
          -0.29661045750111187,
          0.03900350809678387,
          -1.071474539376231,
          1.5231277410687434,
          -0.5079840148181424,
          -0.25873323295644196,
          0.824139139298492,
          -0.7159802359304246,
          0.0625797583586818,
          -0.3284807894012514,
          1.8955312299431808,
          0.19648109599776153,
          -0.7495227570633665,
          -0.4242023122477403,
          0.3280281720357379,
          1.286964003251896,
          0.5657468540102697,
          1.3689612247632001,
          -0.14350400521153903,
          0.4957019813435518,
          -0.15271765262681536,
          0.6806210533160196,
          -0.10168526735020109,
          -0.5982519315647606,
          -0.6749402596978042,
          0.9702043432759824,
          0.1819894336902613,
          0.5985343656147386,
          0.8340920172057208,
          -0.3702418957397792,
          -0.846857106926398,
          1.0311250582516243,
          0.5008522513259931,
          0.3365768679120584,
          1.7121320739187826,
          0.5117482937902189,
          -1.8244623092300802,
          0.4321066066002589,
          -1.4421686853378737,
          0.19790900585090146,
          0.5589783024737872,
          1.7182668640964827,
          1.315239011718634,
          1.7541664056342483,
          1.0824383076378559,
          0.22308066904734622,
          0.19192596158254535,
          -0.6642502185333556,
          -1.233927505323582,
          -0.5150258836486774,
          0.7724192205916995,
          -1.539246559652809,
          -0.3441725530827281,
          -1.294768684186355,
          2.1510598274343513,
          -0.43919021706940076,
          0.7869812774679221,
          -0.2659664510423569,
          -0.178614785666635,
          0.7088802171641168,
          -0.8127121234339456,
          0.2522994859088976,
          -0.8830069315654053,
          -0.035996353631033304,
          -0.09755848244586804,
          -1.1402570557997063,
          1.0168044017244504,
          0.19659128228813155,
          0.657835318268974,
          -1.6522321435881624,
          -0.7204032750503859,
          -2.0365700276099843,
          0.42548498076418545,
          -1.198762076198404,
          -0.08761184598444494,
          0.38108581263880736,
          -0.41153334539835307,
          -0.3198757873724358,
          -1.7491866397945144,
          0.06285634871996862
         ]
        }
       ],
       "layout": {
        "legend": {
         "bgcolor": "#F5F6F9",
         "font": {
          "color": "#4D5663"
         }
        },
        "paper_bgcolor": "#F5F6F9",
        "plot_bgcolor": "#F5F6F9",
        "template": {
         "data": {
          "bar": [
           {
            "error_x": {
             "color": "#2a3f5f"
            },
            "error_y": {
             "color": "#2a3f5f"
            },
            "marker": {
             "line": {
              "color": "#E5ECF6",
              "width": 0.5
             },
             "pattern": {
              "fillmode": "overlay",
              "size": 10,
              "solidity": 0.2
             }
            },
            "type": "bar"
           }
          ],
          "barpolar": [
           {
            "marker": {
             "line": {
              "color": "#E5ECF6",
              "width": 0.5
             },
             "pattern": {
              "fillmode": "overlay",
              "size": 10,
              "solidity": 0.2
             }
            },
            "type": "barpolar"
           }
          ],
          "carpet": [
           {
            "aaxis": {
             "endlinecolor": "#2a3f5f",
             "gridcolor": "white",
             "linecolor": "white",
             "minorgridcolor": "white",
             "startlinecolor": "#2a3f5f"
            },
            "baxis": {
             "endlinecolor": "#2a3f5f",
             "gridcolor": "white",
             "linecolor": "white",
             "minorgridcolor": "white",
             "startlinecolor": "#2a3f5f"
            },
            "type": "carpet"
           }
          ],
          "choropleth": [
           {
            "colorbar": {
             "outlinewidth": 0,
             "ticks": ""
            },
            "type": "choropleth"
           }
          ],
          "contour": [
           {
            "colorbar": {
             "outlinewidth": 0,
             "ticks": ""
            },
            "colorscale": [
             [
              0,
              "#0d0887"
             ],
             [
              0.1111111111111111,
              "#46039f"
             ],
             [
              0.2222222222222222,
              "#7201a8"
             ],
             [
              0.3333333333333333,
              "#9c179e"
             ],
             [
              0.4444444444444444,
              "#bd3786"
             ],
             [
              0.5555555555555556,
              "#d8576b"
             ],
             [
              0.6666666666666666,
              "#ed7953"
             ],
             [
              0.7777777777777778,
              "#fb9f3a"
             ],
             [
              0.8888888888888888,
              "#fdca26"
             ],
             [
              1,
              "#f0f921"
             ]
            ],
            "type": "contour"
           }
          ],
          "contourcarpet": [
           {
            "colorbar": {
             "outlinewidth": 0,
             "ticks": ""
            },
            "type": "contourcarpet"
           }
          ],
          "heatmap": [
           {
            "colorbar": {
             "outlinewidth": 0,
             "ticks": ""
            },
            "colorscale": [
             [
              0,
              "#0d0887"
             ],
             [
              0.1111111111111111,
              "#46039f"
             ],
             [
              0.2222222222222222,
              "#7201a8"
             ],
             [
              0.3333333333333333,
              "#9c179e"
             ],
             [
              0.4444444444444444,
              "#bd3786"
             ],
             [
              0.5555555555555556,
              "#d8576b"
             ],
             [
              0.6666666666666666,
              "#ed7953"
             ],
             [
              0.7777777777777778,
              "#fb9f3a"
             ],
             [
              0.8888888888888888,
              "#fdca26"
             ],
             [
              1,
              "#f0f921"
             ]
            ],
            "type": "heatmap"
           }
          ],
          "heatmapgl": [
           {
            "colorbar": {
             "outlinewidth": 0,
             "ticks": ""
            },
            "colorscale": [
             [
              0,
              "#0d0887"
             ],
             [
              0.1111111111111111,
              "#46039f"
             ],
             [
              0.2222222222222222,
              "#7201a8"
             ],
             [
              0.3333333333333333,
              "#9c179e"
             ],
             [
              0.4444444444444444,
              "#bd3786"
             ],
             [
              0.5555555555555556,
              "#d8576b"
             ],
             [
              0.6666666666666666,
              "#ed7953"
             ],
             [
              0.7777777777777778,
              "#fb9f3a"
             ],
             [
              0.8888888888888888,
              "#fdca26"
             ],
             [
              1,
              "#f0f921"
             ]
            ],
            "type": "heatmapgl"
           }
          ],
          "histogram": [
           {
            "marker": {
             "pattern": {
              "fillmode": "overlay",
              "size": 10,
              "solidity": 0.2
             }
            },
            "type": "histogram"
           }
          ],
          "histogram2d": [
           {
            "colorbar": {
             "outlinewidth": 0,
             "ticks": ""
            },
            "colorscale": [
             [
              0,
              "#0d0887"
             ],
             [
              0.1111111111111111,
              "#46039f"
             ],
             [
              0.2222222222222222,
              "#7201a8"
             ],
             [
              0.3333333333333333,
              "#9c179e"
             ],
             [
              0.4444444444444444,
              "#bd3786"
             ],
             [
              0.5555555555555556,
              "#d8576b"
             ],
             [
              0.6666666666666666,
              "#ed7953"
             ],
             [
              0.7777777777777778,
              "#fb9f3a"
             ],
             [
              0.8888888888888888,
              "#fdca26"
             ],
             [
              1,
              "#f0f921"
             ]
            ],
            "type": "histogram2d"
           }
          ],
          "histogram2dcontour": [
           {
            "colorbar": {
             "outlinewidth": 0,
             "ticks": ""
            },
            "colorscale": [
             [
              0,
              "#0d0887"
             ],
             [
              0.1111111111111111,
              "#46039f"
             ],
             [
              0.2222222222222222,
              "#7201a8"
             ],
             [
              0.3333333333333333,
              "#9c179e"
             ],
             [
              0.4444444444444444,
              "#bd3786"
             ],
             [
              0.5555555555555556,
              "#d8576b"
             ],
             [
              0.6666666666666666,
              "#ed7953"
             ],
             [
              0.7777777777777778,
              "#fb9f3a"
             ],
             [
              0.8888888888888888,
              "#fdca26"
             ],
             [
              1,
              "#f0f921"
             ]
            ],
            "type": "histogram2dcontour"
           }
          ],
          "mesh3d": [
           {
            "colorbar": {
             "outlinewidth": 0,
             "ticks": ""
            },
            "type": "mesh3d"
           }
          ],
          "parcoords": [
           {
            "line": {
             "colorbar": {
              "outlinewidth": 0,
              "ticks": ""
             }
            },
            "type": "parcoords"
           }
          ],
          "pie": [
           {
            "automargin": true,
            "type": "pie"
           }
          ],
          "scatter": [
           {
            "marker": {
             "colorbar": {
              "outlinewidth": 0,
              "ticks": ""
             }
            },
            "type": "scatter"
           }
          ],
          "scatter3d": [
           {
            "line": {
             "colorbar": {
              "outlinewidth": 0,
              "ticks": ""
             }
            },
            "marker": {
             "colorbar": {
              "outlinewidth": 0,
              "ticks": ""
             }
            },
            "type": "scatter3d"
           }
          ],
          "scattercarpet": [
           {
            "marker": {
             "colorbar": {
              "outlinewidth": 0,
              "ticks": ""
             }
            },
            "type": "scattercarpet"
           }
          ],
          "scattergeo": [
           {
            "marker": {
             "colorbar": {
              "outlinewidth": 0,
              "ticks": ""
             }
            },
            "type": "scattergeo"
           }
          ],
          "scattergl": [
           {
            "marker": {
             "colorbar": {
              "outlinewidth": 0,
              "ticks": ""
             }
            },
            "type": "scattergl"
           }
          ],
          "scattermapbox": [
           {
            "marker": {
             "colorbar": {
              "outlinewidth": 0,
              "ticks": ""
             }
            },
            "type": "scattermapbox"
           }
          ],
          "scatterpolar": [
           {
            "marker": {
             "colorbar": {
              "outlinewidth": 0,
              "ticks": ""
             }
            },
            "type": "scatterpolar"
           }
          ],
          "scatterpolargl": [
           {
            "marker": {
             "colorbar": {
              "outlinewidth": 0,
              "ticks": ""
             }
            },
            "type": "scatterpolargl"
           }
          ],
          "scatterternary": [
           {
            "marker": {
             "colorbar": {
              "outlinewidth": 0,
              "ticks": ""
             }
            },
            "type": "scatterternary"
           }
          ],
          "surface": [
           {
            "colorbar": {
             "outlinewidth": 0,
             "ticks": ""
            },
            "colorscale": [
             [
              0,
              "#0d0887"
             ],
             [
              0.1111111111111111,
              "#46039f"
             ],
             [
              0.2222222222222222,
              "#7201a8"
             ],
             [
              0.3333333333333333,
              "#9c179e"
             ],
             [
              0.4444444444444444,
              "#bd3786"
             ],
             [
              0.5555555555555556,
              "#d8576b"
             ],
             [
              0.6666666666666666,
              "#ed7953"
             ],
             [
              0.7777777777777778,
              "#fb9f3a"
             ],
             [
              0.8888888888888888,
              "#fdca26"
             ],
             [
              1,
              "#f0f921"
             ]
            ],
            "type": "surface"
           }
          ],
          "table": [
           {
            "cells": {
             "fill": {
              "color": "#EBF0F8"
             },
             "line": {
              "color": "white"
             }
            },
            "header": {
             "fill": {
              "color": "#C8D4E3"
             },
             "line": {
              "color": "white"
             }
            },
            "type": "table"
           }
          ]
         },
         "layout": {
          "annotationdefaults": {
           "arrowcolor": "#2a3f5f",
           "arrowhead": 0,
           "arrowwidth": 1
          },
          "autotypenumbers": "strict",
          "coloraxis": {
           "colorbar": {
            "outlinewidth": 0,
            "ticks": ""
           }
          },
          "colorscale": {
           "diverging": [
            [
             0,
             "#8e0152"
            ],
            [
             0.1,
             "#c51b7d"
            ],
            [
             0.2,
             "#de77ae"
            ],
            [
             0.3,
             "#f1b6da"
            ],
            [
             0.4,
             "#fde0ef"
            ],
            [
             0.5,
             "#f7f7f7"
            ],
            [
             0.6,
             "#e6f5d0"
            ],
            [
             0.7,
             "#b8e186"
            ],
            [
             0.8,
             "#7fbc41"
            ],
            [
             0.9,
             "#4d9221"
            ],
            [
             1,
             "#276419"
            ]
           ],
           "sequential": [
            [
             0,
             "#0d0887"
            ],
            [
             0.1111111111111111,
             "#46039f"
            ],
            [
             0.2222222222222222,
             "#7201a8"
            ],
            [
             0.3333333333333333,
             "#9c179e"
            ],
            [
             0.4444444444444444,
             "#bd3786"
            ],
            [
             0.5555555555555556,
             "#d8576b"
            ],
            [
             0.6666666666666666,
             "#ed7953"
            ],
            [
             0.7777777777777778,
             "#fb9f3a"
            ],
            [
             0.8888888888888888,
             "#fdca26"
            ],
            [
             1,
             "#f0f921"
            ]
           ],
           "sequentialminus": [
            [
             0,
             "#0d0887"
            ],
            [
             0.1111111111111111,
             "#46039f"
            ],
            [
             0.2222222222222222,
             "#7201a8"
            ],
            [
             0.3333333333333333,
             "#9c179e"
            ],
            [
             0.4444444444444444,
             "#bd3786"
            ],
            [
             0.5555555555555556,
             "#d8576b"
            ],
            [
             0.6666666666666666,
             "#ed7953"
            ],
            [
             0.7777777777777778,
             "#fb9f3a"
            ],
            [
             0.8888888888888888,
             "#fdca26"
            ],
            [
             1,
             "#f0f921"
            ]
           ]
          },
          "colorway": [
           "#636efa",
           "#EF553B",
           "#00cc96",
           "#ab63fa",
           "#FFA15A",
           "#19d3f3",
           "#FF6692",
           "#B6E880",
           "#FF97FF",
           "#FECB52"
          ],
          "font": {
           "color": "#2a3f5f"
          },
          "geo": {
           "bgcolor": "white",
           "lakecolor": "white",
           "landcolor": "#E5ECF6",
           "showlakes": true,
           "showland": true,
           "subunitcolor": "white"
          },
          "hoverlabel": {
           "align": "left"
          },
          "hovermode": "closest",
          "mapbox": {
           "style": "light"
          },
          "paper_bgcolor": "white",
          "plot_bgcolor": "#E5ECF6",
          "polar": {
           "angularaxis": {
            "gridcolor": "white",
            "linecolor": "white",
            "ticks": ""
           },
           "bgcolor": "#E5ECF6",
           "radialaxis": {
            "gridcolor": "white",
            "linecolor": "white",
            "ticks": ""
           }
          },
          "scene": {
           "xaxis": {
            "backgroundcolor": "#E5ECF6",
            "gridcolor": "white",
            "gridwidth": 2,
            "linecolor": "white",
            "showbackground": true,
            "ticks": "",
            "zerolinecolor": "white"
           },
           "yaxis": {
            "backgroundcolor": "#E5ECF6",
            "gridcolor": "white",
            "gridwidth": 2,
            "linecolor": "white",
            "showbackground": true,
            "ticks": "",
            "zerolinecolor": "white"
           },
           "zaxis": {
            "backgroundcolor": "#E5ECF6",
            "gridcolor": "white",
            "gridwidth": 2,
            "linecolor": "white",
            "showbackground": true,
            "ticks": "",
            "zerolinecolor": "white"
           }
          },
          "shapedefaults": {
           "line": {
            "color": "#2a3f5f"
           }
          },
          "ternary": {
           "aaxis": {
            "gridcolor": "white",
            "linecolor": "white",
            "ticks": ""
           },
           "baxis": {
            "gridcolor": "white",
            "linecolor": "white",
            "ticks": ""
           },
           "bgcolor": "#E5ECF6",
           "caxis": {
            "gridcolor": "white",
            "linecolor": "white",
            "ticks": ""
           }
          },
          "title": {
           "x": 0.05
          },
          "xaxis": {
           "automargin": true,
           "gridcolor": "white",
           "linecolor": "white",
           "ticks": "",
           "title": {
            "standoff": 15
           },
           "zerolinecolor": "white",
           "zerolinewidth": 2
          },
          "yaxis": {
           "automargin": true,
           "gridcolor": "white",
           "linecolor": "white",
           "ticks": "",
           "title": {
            "standoff": 15
           },
           "zerolinecolor": "white",
           "zerolinewidth": 2
          }
         }
        },
        "title": {
         "font": {
          "color": "#4D5663"
         }
        },
        "xaxis": {
         "gridcolor": "#E1E5ED",
         "showgrid": true,
         "tickfont": {
          "color": "#4D5663"
         },
         "title": {
          "font": {
           "color": "#4D5663"
          },
          "text": ""
         },
         "zerolinecolor": "#E1E5ED"
        },
        "yaxis": {
         "gridcolor": "#E1E5ED",
         "showgrid": true,
         "tickfont": {
          "color": "#4D5663"
         },
         "title": {
          "font": {
           "color": "#4D5663"
          },
          "text": ""
         },
         "zerolinecolor": "#E1E5ED"
        }
       }
      },
      "text/html": [
       "<div>                            <div id=\"9ff29586-99f4-4179-99ef-ac93fc78cfcb\" class=\"plotly-graph-div\" style=\"height:525px; width:100%;\"></div>            <script type=\"text/javascript\">                require([\"plotly\"], function(Plotly) {                    window.PLOTLYENV=window.PLOTLYENV || {};\n",
       "                    window.PLOTLYENV.BASE_URL='https://plot.ly';                                    if (document.getElementById(\"9ff29586-99f4-4179-99ef-ac93fc78cfcb\")) {                    Plotly.newPlot(                        \"9ff29586-99f4-4179-99ef-ac93fc78cfcb\",                        [{\"line\":{\"color\":\"rgba(255, 153, 51, 1.0)\",\"dash\":\"solid\",\"shape\":\"linear\",\"width\":1.3},\"marker\":{\"size\":10,\"symbol\":\"circle\"},\"mode\":\"markers\",\"name\":\"B\",\"text\":\"\",\"type\":\"scatter\",\"x\":[1.6390172210782112,0.35036309608803734,0.005345251605557072,-1.007168582401739,0.6064372360595194,-0.8559716524754347,-0.29295931013977455,0.11469913509520363,-0.7523106090575572,-0.195634901571466,-0.5404692462016839,-1.3120969565229128,1.1111884746332532,-1.4563221199532441,-0.4000778003521611,-1.4451703461721117,-1.363231315990348,0.658342303654108,0.8786515409349503,-1.5086797797943805,-0.5725951421783421,-2.9521790062884317,0.8107187720350392,-2.519087609499849,0.6896584787258254,0.6435745175482077,-1.2000336887451124,0.34086045864628756,0.2654469043662446,-0.07746292037022126,0.8630843825610846,1.0891490140181523,-1.9524223419631697,0.6858617659955623,0.2883834504425376,0.20911482004677523,0.5299742543623438,1.1327845046858638,-0.7251055108060356,1.2135193055712752,2.300244842789878,-0.738390301241366,0.05291785180475275,-3.4709290329743743,0.5977833494136633,0.14110732006113477,-0.5840013368991821,0.004953715931068007,-1.223861385225602,0.6190924457254161,0.039732403047753204,1.425699337352612,0.44876455422443184,1.0781702197003584,1.6736082013851366,0.13414414323520682,-0.049714591234064916,1.5718612497436992,-0.488626681795911,-1.0745094634783077,0.010835515648132663,0.7740169127901401,-0.6426873875675859,-0.9754780684816817,0.5529827758798664,-1.0672963254082246,-0.04456852341750004,0.7692202067160016,1.2321144828985524,0.1433419894687381,-0.2909362098687318,-0.47267633317745456,1.7972382007227412,0.21805988911238225,-0.009552893266460817,1.3467405298885615,1.585402040037534,-0.4229297524139318,-0.3769072295415943,-0.3270199703308662,-1.6570808165725148,-0.12574749288277748,-0.6176444759289953,0.7439988726600845,0.24613374285765183,0.38947090242920723,1.6723019786775943,-0.41963702796672747,0.9047373455383958,-0.017673105582772474,-1.0170416703023462,-0.19324125760756355,-1.2503224511053932,-2.1470424425254766,1.0221779062477727,-2.5065738171228205,-0.05963337005966899,0.47649356521775404,1.4276528138041606,-0.32425457930617246],\"y\":[1.102553266001446,0.07003004352789324,0.5810101219197732,-1.9203120747377667,0.7532931016641667,-1.8337590115007922,0.3096264931476165,0.6393282156170463,-0.798725006016867,0.5417207731363791,-0.4239424069146018,-0.41392400709499866,0.08559850853532823,0.9093550061070701,-0.7280430808263331,-0.6824589540078425,0.28090931380191964,-0.3319007037857765,-1.6667158346606188,1.6130909499660644,-0.29661045750111187,0.03900350809678387,-1.071474539376231,1.5231277410687434,-0.5079840148181424,-0.25873323295644196,0.824139139298492,-0.7159802359304246,0.0625797583586818,-0.3284807894012514,1.8955312299431808,0.19648109599776153,-0.7495227570633665,-0.4242023122477403,0.3280281720357379,1.286964003251896,0.5657468540102697,1.3689612247632001,-0.14350400521153903,0.4957019813435518,-0.15271765262681536,0.6806210533160196,-0.10168526735020109,-0.5982519315647606,-0.6749402596978042,0.9702043432759824,0.1819894336902613,0.5985343656147386,0.8340920172057208,-0.3702418957397792,-0.846857106926398,1.0311250582516243,0.5008522513259931,0.3365768679120584,1.7121320739187826,0.5117482937902189,-1.8244623092300802,0.4321066066002589,-1.4421686853378737,0.19790900585090146,0.5589783024737872,1.7182668640964827,1.315239011718634,1.7541664056342483,1.0824383076378559,0.22308066904734622,0.19192596158254535,-0.6642502185333556,-1.233927505323582,-0.5150258836486774,0.7724192205916995,-1.539246559652809,-0.3441725530827281,-1.294768684186355,2.1510598274343513,-0.43919021706940076,0.7869812774679221,-0.2659664510423569,-0.178614785666635,0.7088802171641168,-0.8127121234339456,0.2522994859088976,-0.8830069315654053,-0.035996353631033304,-0.09755848244586804,-1.1402570557997063,1.0168044017244504,0.19659128228813155,0.657835318268974,-1.6522321435881624,-0.7204032750503859,-2.0365700276099843,0.42548498076418545,-1.198762076198404,-0.08761184598444494,0.38108581263880736,-0.41153334539835307,-0.3198757873724358,-1.7491866397945144,0.06285634871996862]}],                        {\"legend\":{\"bgcolor\":\"#F5F6F9\",\"font\":{\"color\":\"#4D5663\"}},\"paper_bgcolor\":\"#F5F6F9\",\"plot_bgcolor\":\"#F5F6F9\",\"template\":{\"data\":{\"bar\":[{\"error_x\":{\"color\":\"#2a3f5f\"},\"error_y\":{\"color\":\"#2a3f5f\"},\"marker\":{\"line\":{\"color\":\"#E5ECF6\",\"width\":0.5},\"pattern\":{\"fillmode\":\"overlay\",\"size\":10,\"solidity\":0.2}},\"type\":\"bar\"}],\"barpolar\":[{\"marker\":{\"line\":{\"color\":\"#E5ECF6\",\"width\":0.5},\"pattern\":{\"fillmode\":\"overlay\",\"size\":10,\"solidity\":0.2}},\"type\":\"barpolar\"}],\"carpet\":[{\"aaxis\":{\"endlinecolor\":\"#2a3f5f\",\"gridcolor\":\"white\",\"linecolor\":\"white\",\"minorgridcolor\":\"white\",\"startlinecolor\":\"#2a3f5f\"},\"baxis\":{\"endlinecolor\":\"#2a3f5f\",\"gridcolor\":\"white\",\"linecolor\":\"white\",\"minorgridcolor\":\"white\",\"startlinecolor\":\"#2a3f5f\"},\"type\":\"carpet\"}],\"choropleth\":[{\"colorbar\":{\"outlinewidth\":0,\"ticks\":\"\"},\"type\":\"choropleth\"}],\"contour\":[{\"colorbar\":{\"outlinewidth\":0,\"ticks\":\"\"},\"colorscale\":[[0.0,\"#0d0887\"],[0.1111111111111111,\"#46039f\"],[0.2222222222222222,\"#7201a8\"],[0.3333333333333333,\"#9c179e\"],[0.4444444444444444,\"#bd3786\"],[0.5555555555555556,\"#d8576b\"],[0.6666666666666666,\"#ed7953\"],[0.7777777777777778,\"#fb9f3a\"],[0.8888888888888888,\"#fdca26\"],[1.0,\"#f0f921\"]],\"type\":\"contour\"}],\"contourcarpet\":[{\"colorbar\":{\"outlinewidth\":0,\"ticks\":\"\"},\"type\":\"contourcarpet\"}],\"heatmap\":[{\"colorbar\":{\"outlinewidth\":0,\"ticks\":\"\"},\"colorscale\":[[0.0,\"#0d0887\"],[0.1111111111111111,\"#46039f\"],[0.2222222222222222,\"#7201a8\"],[0.3333333333333333,\"#9c179e\"],[0.4444444444444444,\"#bd3786\"],[0.5555555555555556,\"#d8576b\"],[0.6666666666666666,\"#ed7953\"],[0.7777777777777778,\"#fb9f3a\"],[0.8888888888888888,\"#fdca26\"],[1.0,\"#f0f921\"]],\"type\":\"heatmap\"}],\"heatmapgl\":[{\"colorbar\":{\"outlinewidth\":0,\"ticks\":\"\"},\"colorscale\":[[0.0,\"#0d0887\"],[0.1111111111111111,\"#46039f\"],[0.2222222222222222,\"#7201a8\"],[0.3333333333333333,\"#9c179e\"],[0.4444444444444444,\"#bd3786\"],[0.5555555555555556,\"#d8576b\"],[0.6666666666666666,\"#ed7953\"],[0.7777777777777778,\"#fb9f3a\"],[0.8888888888888888,\"#fdca26\"],[1.0,\"#f0f921\"]],\"type\":\"heatmapgl\"}],\"histogram\":[{\"marker\":{\"pattern\":{\"fillmode\":\"overlay\",\"size\":10,\"solidity\":0.2}},\"type\":\"histogram\"}],\"histogram2d\":[{\"colorbar\":{\"outlinewidth\":0,\"ticks\":\"\"},\"colorscale\":[[0.0,\"#0d0887\"],[0.1111111111111111,\"#46039f\"],[0.2222222222222222,\"#7201a8\"],[0.3333333333333333,\"#9c179e\"],[0.4444444444444444,\"#bd3786\"],[0.5555555555555556,\"#d8576b\"],[0.6666666666666666,\"#ed7953\"],[0.7777777777777778,\"#fb9f3a\"],[0.8888888888888888,\"#fdca26\"],[1.0,\"#f0f921\"]],\"type\":\"histogram2d\"}],\"histogram2dcontour\":[{\"colorbar\":{\"outlinewidth\":0,\"ticks\":\"\"},\"colorscale\":[[0.0,\"#0d0887\"],[0.1111111111111111,\"#46039f\"],[0.2222222222222222,\"#7201a8\"],[0.3333333333333333,\"#9c179e\"],[0.4444444444444444,\"#bd3786\"],[0.5555555555555556,\"#d8576b\"],[0.6666666666666666,\"#ed7953\"],[0.7777777777777778,\"#fb9f3a\"],[0.8888888888888888,\"#fdca26\"],[1.0,\"#f0f921\"]],\"type\":\"histogram2dcontour\"}],\"mesh3d\":[{\"colorbar\":{\"outlinewidth\":0,\"ticks\":\"\"},\"type\":\"mesh3d\"}],\"parcoords\":[{\"line\":{\"colorbar\":{\"outlinewidth\":0,\"ticks\":\"\"}},\"type\":\"parcoords\"}],\"pie\":[{\"automargin\":true,\"type\":\"pie\"}],\"scatter\":[{\"marker\":{\"colorbar\":{\"outlinewidth\":0,\"ticks\":\"\"}},\"type\":\"scatter\"}],\"scatter3d\":[{\"line\":{\"colorbar\":{\"outlinewidth\":0,\"ticks\":\"\"}},\"marker\":{\"colorbar\":{\"outlinewidth\":0,\"ticks\":\"\"}},\"type\":\"scatter3d\"}],\"scattercarpet\":[{\"marker\":{\"colorbar\":{\"outlinewidth\":0,\"ticks\":\"\"}},\"type\":\"scattercarpet\"}],\"scattergeo\":[{\"marker\":{\"colorbar\":{\"outlinewidth\":0,\"ticks\":\"\"}},\"type\":\"scattergeo\"}],\"scattergl\":[{\"marker\":{\"colorbar\":{\"outlinewidth\":0,\"ticks\":\"\"}},\"type\":\"scattergl\"}],\"scattermapbox\":[{\"marker\":{\"colorbar\":{\"outlinewidth\":0,\"ticks\":\"\"}},\"type\":\"scattermapbox\"}],\"scatterpolar\":[{\"marker\":{\"colorbar\":{\"outlinewidth\":0,\"ticks\":\"\"}},\"type\":\"scatterpolar\"}],\"scatterpolargl\":[{\"marker\":{\"colorbar\":{\"outlinewidth\":0,\"ticks\":\"\"}},\"type\":\"scatterpolargl\"}],\"scatterternary\":[{\"marker\":{\"colorbar\":{\"outlinewidth\":0,\"ticks\":\"\"}},\"type\":\"scatterternary\"}],\"surface\":[{\"colorbar\":{\"outlinewidth\":0,\"ticks\":\"\"},\"colorscale\":[[0.0,\"#0d0887\"],[0.1111111111111111,\"#46039f\"],[0.2222222222222222,\"#7201a8\"],[0.3333333333333333,\"#9c179e\"],[0.4444444444444444,\"#bd3786\"],[0.5555555555555556,\"#d8576b\"],[0.6666666666666666,\"#ed7953\"],[0.7777777777777778,\"#fb9f3a\"],[0.8888888888888888,\"#fdca26\"],[1.0,\"#f0f921\"]],\"type\":\"surface\"}],\"table\":[{\"cells\":{\"fill\":{\"color\":\"#EBF0F8\"},\"line\":{\"color\":\"white\"}},\"header\":{\"fill\":{\"color\":\"#C8D4E3\"},\"line\":{\"color\":\"white\"}},\"type\":\"table\"}]},\"layout\":{\"annotationdefaults\":{\"arrowcolor\":\"#2a3f5f\",\"arrowhead\":0,\"arrowwidth\":1},\"autotypenumbers\":\"strict\",\"coloraxis\":{\"colorbar\":{\"outlinewidth\":0,\"ticks\":\"\"}},\"colorscale\":{\"diverging\":[[0,\"#8e0152\"],[0.1,\"#c51b7d\"],[0.2,\"#de77ae\"],[0.3,\"#f1b6da\"],[0.4,\"#fde0ef\"],[0.5,\"#f7f7f7\"],[0.6,\"#e6f5d0\"],[0.7,\"#b8e186\"],[0.8,\"#7fbc41\"],[0.9,\"#4d9221\"],[1,\"#276419\"]],\"sequential\":[[0.0,\"#0d0887\"],[0.1111111111111111,\"#46039f\"],[0.2222222222222222,\"#7201a8\"],[0.3333333333333333,\"#9c179e\"],[0.4444444444444444,\"#bd3786\"],[0.5555555555555556,\"#d8576b\"],[0.6666666666666666,\"#ed7953\"],[0.7777777777777778,\"#fb9f3a\"],[0.8888888888888888,\"#fdca26\"],[1.0,\"#f0f921\"]],\"sequentialminus\":[[0.0,\"#0d0887\"],[0.1111111111111111,\"#46039f\"],[0.2222222222222222,\"#7201a8\"],[0.3333333333333333,\"#9c179e\"],[0.4444444444444444,\"#bd3786\"],[0.5555555555555556,\"#d8576b\"],[0.6666666666666666,\"#ed7953\"],[0.7777777777777778,\"#fb9f3a\"],[0.8888888888888888,\"#fdca26\"],[1.0,\"#f0f921\"]]},\"colorway\":[\"#636efa\",\"#EF553B\",\"#00cc96\",\"#ab63fa\",\"#FFA15A\",\"#19d3f3\",\"#FF6692\",\"#B6E880\",\"#FF97FF\",\"#FECB52\"],\"font\":{\"color\":\"#2a3f5f\"},\"geo\":{\"bgcolor\":\"white\",\"lakecolor\":\"white\",\"landcolor\":\"#E5ECF6\",\"showlakes\":true,\"showland\":true,\"subunitcolor\":\"white\"},\"hoverlabel\":{\"align\":\"left\"},\"hovermode\":\"closest\",\"mapbox\":{\"style\":\"light\"},\"paper_bgcolor\":\"white\",\"plot_bgcolor\":\"#E5ECF6\",\"polar\":{\"angularaxis\":{\"gridcolor\":\"white\",\"linecolor\":\"white\",\"ticks\":\"\"},\"bgcolor\":\"#E5ECF6\",\"radialaxis\":{\"gridcolor\":\"white\",\"linecolor\":\"white\",\"ticks\":\"\"}},\"scene\":{\"xaxis\":{\"backgroundcolor\":\"#E5ECF6\",\"gridcolor\":\"white\",\"gridwidth\":2,\"linecolor\":\"white\",\"showbackground\":true,\"ticks\":\"\",\"zerolinecolor\":\"white\"},\"yaxis\":{\"backgroundcolor\":\"#E5ECF6\",\"gridcolor\":\"white\",\"gridwidth\":2,\"linecolor\":\"white\",\"showbackground\":true,\"ticks\":\"\",\"zerolinecolor\":\"white\"},\"zaxis\":{\"backgroundcolor\":\"#E5ECF6\",\"gridcolor\":\"white\",\"gridwidth\":2,\"linecolor\":\"white\",\"showbackground\":true,\"ticks\":\"\",\"zerolinecolor\":\"white\"}},\"shapedefaults\":{\"line\":{\"color\":\"#2a3f5f\"}},\"ternary\":{\"aaxis\":{\"gridcolor\":\"white\",\"linecolor\":\"white\",\"ticks\":\"\"},\"baxis\":{\"gridcolor\":\"white\",\"linecolor\":\"white\",\"ticks\":\"\"},\"bgcolor\":\"#E5ECF6\",\"caxis\":{\"gridcolor\":\"white\",\"linecolor\":\"white\",\"ticks\":\"\"}},\"title\":{\"x\":0.05},\"xaxis\":{\"automargin\":true,\"gridcolor\":\"white\",\"linecolor\":\"white\",\"ticks\":\"\",\"title\":{\"standoff\":15},\"zerolinecolor\":\"white\",\"zerolinewidth\":2},\"yaxis\":{\"automargin\":true,\"gridcolor\":\"white\",\"linecolor\":\"white\",\"ticks\":\"\",\"title\":{\"standoff\":15},\"zerolinecolor\":\"white\",\"zerolinewidth\":2}}},\"title\":{\"font\":{\"color\":\"#4D5663\"}},\"xaxis\":{\"gridcolor\":\"#E1E5ED\",\"showgrid\":true,\"tickfont\":{\"color\":\"#4D5663\"},\"title\":{\"font\":{\"color\":\"#4D5663\"},\"text\":\"\"},\"zerolinecolor\":\"#E1E5ED\"},\"yaxis\":{\"gridcolor\":\"#E1E5ED\",\"showgrid\":true,\"tickfont\":{\"color\":\"#4D5663\"},\"title\":{\"font\":{\"color\":\"#4D5663\"},\"text\":\"\"},\"zerolinecolor\":\"#E1E5ED\"}},                        {\"showLink\": true, \"linkText\": \"Export to plot.ly\", \"plotlyServerURL\": \"https://plot.ly\", \"responsive\": true}                    ).then(function(){\n",
       "                            \n",
       "var gd = document.getElementById('9ff29586-99f4-4179-99ef-ac93fc78cfcb');\n",
       "var x = new MutationObserver(function (mutations, observer) {{\n",
       "        var display = window.getComputedStyle(gd).display;\n",
       "        if (!display || display === 'none') {{\n",
       "            console.log([gd, 'removed!']);\n",
       "            Plotly.purge(gd);\n",
       "            observer.disconnect();\n",
       "        }}\n",
       "}});\n",
       "\n",
       "// Listen for the removal of the full notebook cells\n",
       "var notebookContainer = gd.closest('#notebook-container');\n",
       "if (notebookContainer) {{\n",
       "    x.observe(notebookContainer, {childList: true});\n",
       "}}\n",
       "\n",
       "// Listen for the clearing of the current output cell\n",
       "var outputEl = gd.closest('.output');\n",
       "if (outputEl) {{\n",
       "    x.observe(outputEl, {childList: true});\n",
       "}}\n",
       "\n",
       "                        })                };                });            </script>        </div>"
      ]
     },
     "metadata": {},
     "output_type": "display_data"
    }
   ],
   "source": [
    "df.iplot(kind='scatter',x='A',y='B',mode='markers',size=10)"
   ]
  },
  {
   "cell_type": "markdown",
   "metadata": {},
   "source": [
    "## Bar Plots"
   ]
  },
  {
   "cell_type": "code",
   "execution_count": 11,
   "metadata": {},
   "outputs": [
    {
     "data": {
      "application/vnd.plotly.v1+json": {
       "config": {
        "linkText": "Export to plot.ly",
        "plotlyServerURL": "https://plot.ly",
        "showLink": true
       },
       "data": [
        {
         "marker": {
          "color": "rgba(255, 153, 51, 0.6)",
          "line": {
           "color": "rgba(255, 153, 51, 1.0)",
           "width": 1
          }
         },
         "name": "Values",
         "orientation": "v",
         "text": "",
         "type": "bar",
         "x": [
          "A",
          "B",
          "C"
         ],
         "y": [
          32,
          43,
          50
         ]
        }
       ],
       "layout": {
        "legend": {
         "bgcolor": "#F5F6F9",
         "font": {
          "color": "#4D5663"
         }
        },
        "paper_bgcolor": "#F5F6F9",
        "plot_bgcolor": "#F5F6F9",
        "template": {
         "data": {
          "bar": [
           {
            "error_x": {
             "color": "#2a3f5f"
            },
            "error_y": {
             "color": "#2a3f5f"
            },
            "marker": {
             "line": {
              "color": "#E5ECF6",
              "width": 0.5
             },
             "pattern": {
              "fillmode": "overlay",
              "size": 10,
              "solidity": 0.2
             }
            },
            "type": "bar"
           }
          ],
          "barpolar": [
           {
            "marker": {
             "line": {
              "color": "#E5ECF6",
              "width": 0.5
             },
             "pattern": {
              "fillmode": "overlay",
              "size": 10,
              "solidity": 0.2
             }
            },
            "type": "barpolar"
           }
          ],
          "carpet": [
           {
            "aaxis": {
             "endlinecolor": "#2a3f5f",
             "gridcolor": "white",
             "linecolor": "white",
             "minorgridcolor": "white",
             "startlinecolor": "#2a3f5f"
            },
            "baxis": {
             "endlinecolor": "#2a3f5f",
             "gridcolor": "white",
             "linecolor": "white",
             "minorgridcolor": "white",
             "startlinecolor": "#2a3f5f"
            },
            "type": "carpet"
           }
          ],
          "choropleth": [
           {
            "colorbar": {
             "outlinewidth": 0,
             "ticks": ""
            },
            "type": "choropleth"
           }
          ],
          "contour": [
           {
            "colorbar": {
             "outlinewidth": 0,
             "ticks": ""
            },
            "colorscale": [
             [
              0,
              "#0d0887"
             ],
             [
              0.1111111111111111,
              "#46039f"
             ],
             [
              0.2222222222222222,
              "#7201a8"
             ],
             [
              0.3333333333333333,
              "#9c179e"
             ],
             [
              0.4444444444444444,
              "#bd3786"
             ],
             [
              0.5555555555555556,
              "#d8576b"
             ],
             [
              0.6666666666666666,
              "#ed7953"
             ],
             [
              0.7777777777777778,
              "#fb9f3a"
             ],
             [
              0.8888888888888888,
              "#fdca26"
             ],
             [
              1,
              "#f0f921"
             ]
            ],
            "type": "contour"
           }
          ],
          "contourcarpet": [
           {
            "colorbar": {
             "outlinewidth": 0,
             "ticks": ""
            },
            "type": "contourcarpet"
           }
          ],
          "heatmap": [
           {
            "colorbar": {
             "outlinewidth": 0,
             "ticks": ""
            },
            "colorscale": [
             [
              0,
              "#0d0887"
             ],
             [
              0.1111111111111111,
              "#46039f"
             ],
             [
              0.2222222222222222,
              "#7201a8"
             ],
             [
              0.3333333333333333,
              "#9c179e"
             ],
             [
              0.4444444444444444,
              "#bd3786"
             ],
             [
              0.5555555555555556,
              "#d8576b"
             ],
             [
              0.6666666666666666,
              "#ed7953"
             ],
             [
              0.7777777777777778,
              "#fb9f3a"
             ],
             [
              0.8888888888888888,
              "#fdca26"
             ],
             [
              1,
              "#f0f921"
             ]
            ],
            "type": "heatmap"
           }
          ],
          "heatmapgl": [
           {
            "colorbar": {
             "outlinewidth": 0,
             "ticks": ""
            },
            "colorscale": [
             [
              0,
              "#0d0887"
             ],
             [
              0.1111111111111111,
              "#46039f"
             ],
             [
              0.2222222222222222,
              "#7201a8"
             ],
             [
              0.3333333333333333,
              "#9c179e"
             ],
             [
              0.4444444444444444,
              "#bd3786"
             ],
             [
              0.5555555555555556,
              "#d8576b"
             ],
             [
              0.6666666666666666,
              "#ed7953"
             ],
             [
              0.7777777777777778,
              "#fb9f3a"
             ],
             [
              0.8888888888888888,
              "#fdca26"
             ],
             [
              1,
              "#f0f921"
             ]
            ],
            "type": "heatmapgl"
           }
          ],
          "histogram": [
           {
            "marker": {
             "pattern": {
              "fillmode": "overlay",
              "size": 10,
              "solidity": 0.2
             }
            },
            "type": "histogram"
           }
          ],
          "histogram2d": [
           {
            "colorbar": {
             "outlinewidth": 0,
             "ticks": ""
            },
            "colorscale": [
             [
              0,
              "#0d0887"
             ],
             [
              0.1111111111111111,
              "#46039f"
             ],
             [
              0.2222222222222222,
              "#7201a8"
             ],
             [
              0.3333333333333333,
              "#9c179e"
             ],
             [
              0.4444444444444444,
              "#bd3786"
             ],
             [
              0.5555555555555556,
              "#d8576b"
             ],
             [
              0.6666666666666666,
              "#ed7953"
             ],
             [
              0.7777777777777778,
              "#fb9f3a"
             ],
             [
              0.8888888888888888,
              "#fdca26"
             ],
             [
              1,
              "#f0f921"
             ]
            ],
            "type": "histogram2d"
           }
          ],
          "histogram2dcontour": [
           {
            "colorbar": {
             "outlinewidth": 0,
             "ticks": ""
            },
            "colorscale": [
             [
              0,
              "#0d0887"
             ],
             [
              0.1111111111111111,
              "#46039f"
             ],
             [
              0.2222222222222222,
              "#7201a8"
             ],
             [
              0.3333333333333333,
              "#9c179e"
             ],
             [
              0.4444444444444444,
              "#bd3786"
             ],
             [
              0.5555555555555556,
              "#d8576b"
             ],
             [
              0.6666666666666666,
              "#ed7953"
             ],
             [
              0.7777777777777778,
              "#fb9f3a"
             ],
             [
              0.8888888888888888,
              "#fdca26"
             ],
             [
              1,
              "#f0f921"
             ]
            ],
            "type": "histogram2dcontour"
           }
          ],
          "mesh3d": [
           {
            "colorbar": {
             "outlinewidth": 0,
             "ticks": ""
            },
            "type": "mesh3d"
           }
          ],
          "parcoords": [
           {
            "line": {
             "colorbar": {
              "outlinewidth": 0,
              "ticks": ""
             }
            },
            "type": "parcoords"
           }
          ],
          "pie": [
           {
            "automargin": true,
            "type": "pie"
           }
          ],
          "scatter": [
           {
            "marker": {
             "colorbar": {
              "outlinewidth": 0,
              "ticks": ""
             }
            },
            "type": "scatter"
           }
          ],
          "scatter3d": [
           {
            "line": {
             "colorbar": {
              "outlinewidth": 0,
              "ticks": ""
             }
            },
            "marker": {
             "colorbar": {
              "outlinewidth": 0,
              "ticks": ""
             }
            },
            "type": "scatter3d"
           }
          ],
          "scattercarpet": [
           {
            "marker": {
             "colorbar": {
              "outlinewidth": 0,
              "ticks": ""
             }
            },
            "type": "scattercarpet"
           }
          ],
          "scattergeo": [
           {
            "marker": {
             "colorbar": {
              "outlinewidth": 0,
              "ticks": ""
             }
            },
            "type": "scattergeo"
           }
          ],
          "scattergl": [
           {
            "marker": {
             "colorbar": {
              "outlinewidth": 0,
              "ticks": ""
             }
            },
            "type": "scattergl"
           }
          ],
          "scattermapbox": [
           {
            "marker": {
             "colorbar": {
              "outlinewidth": 0,
              "ticks": ""
             }
            },
            "type": "scattermapbox"
           }
          ],
          "scatterpolar": [
           {
            "marker": {
             "colorbar": {
              "outlinewidth": 0,
              "ticks": ""
             }
            },
            "type": "scatterpolar"
           }
          ],
          "scatterpolargl": [
           {
            "marker": {
             "colorbar": {
              "outlinewidth": 0,
              "ticks": ""
             }
            },
            "type": "scatterpolargl"
           }
          ],
          "scatterternary": [
           {
            "marker": {
             "colorbar": {
              "outlinewidth": 0,
              "ticks": ""
             }
            },
            "type": "scatterternary"
           }
          ],
          "surface": [
           {
            "colorbar": {
             "outlinewidth": 0,
             "ticks": ""
            },
            "colorscale": [
             [
              0,
              "#0d0887"
             ],
             [
              0.1111111111111111,
              "#46039f"
             ],
             [
              0.2222222222222222,
              "#7201a8"
             ],
             [
              0.3333333333333333,
              "#9c179e"
             ],
             [
              0.4444444444444444,
              "#bd3786"
             ],
             [
              0.5555555555555556,
              "#d8576b"
             ],
             [
              0.6666666666666666,
              "#ed7953"
             ],
             [
              0.7777777777777778,
              "#fb9f3a"
             ],
             [
              0.8888888888888888,
              "#fdca26"
             ],
             [
              1,
              "#f0f921"
             ]
            ],
            "type": "surface"
           }
          ],
          "table": [
           {
            "cells": {
             "fill": {
              "color": "#EBF0F8"
             },
             "line": {
              "color": "white"
             }
            },
            "header": {
             "fill": {
              "color": "#C8D4E3"
             },
             "line": {
              "color": "white"
             }
            },
            "type": "table"
           }
          ]
         },
         "layout": {
          "annotationdefaults": {
           "arrowcolor": "#2a3f5f",
           "arrowhead": 0,
           "arrowwidth": 1
          },
          "autotypenumbers": "strict",
          "coloraxis": {
           "colorbar": {
            "outlinewidth": 0,
            "ticks": ""
           }
          },
          "colorscale": {
           "diverging": [
            [
             0,
             "#8e0152"
            ],
            [
             0.1,
             "#c51b7d"
            ],
            [
             0.2,
             "#de77ae"
            ],
            [
             0.3,
             "#f1b6da"
            ],
            [
             0.4,
             "#fde0ef"
            ],
            [
             0.5,
             "#f7f7f7"
            ],
            [
             0.6,
             "#e6f5d0"
            ],
            [
             0.7,
             "#b8e186"
            ],
            [
             0.8,
             "#7fbc41"
            ],
            [
             0.9,
             "#4d9221"
            ],
            [
             1,
             "#276419"
            ]
           ],
           "sequential": [
            [
             0,
             "#0d0887"
            ],
            [
             0.1111111111111111,
             "#46039f"
            ],
            [
             0.2222222222222222,
             "#7201a8"
            ],
            [
             0.3333333333333333,
             "#9c179e"
            ],
            [
             0.4444444444444444,
             "#bd3786"
            ],
            [
             0.5555555555555556,
             "#d8576b"
            ],
            [
             0.6666666666666666,
             "#ed7953"
            ],
            [
             0.7777777777777778,
             "#fb9f3a"
            ],
            [
             0.8888888888888888,
             "#fdca26"
            ],
            [
             1,
             "#f0f921"
            ]
           ],
           "sequentialminus": [
            [
             0,
             "#0d0887"
            ],
            [
             0.1111111111111111,
             "#46039f"
            ],
            [
             0.2222222222222222,
             "#7201a8"
            ],
            [
             0.3333333333333333,
             "#9c179e"
            ],
            [
             0.4444444444444444,
             "#bd3786"
            ],
            [
             0.5555555555555556,
             "#d8576b"
            ],
            [
             0.6666666666666666,
             "#ed7953"
            ],
            [
             0.7777777777777778,
             "#fb9f3a"
            ],
            [
             0.8888888888888888,
             "#fdca26"
            ],
            [
             1,
             "#f0f921"
            ]
           ]
          },
          "colorway": [
           "#636efa",
           "#EF553B",
           "#00cc96",
           "#ab63fa",
           "#FFA15A",
           "#19d3f3",
           "#FF6692",
           "#B6E880",
           "#FF97FF",
           "#FECB52"
          ],
          "font": {
           "color": "#2a3f5f"
          },
          "geo": {
           "bgcolor": "white",
           "lakecolor": "white",
           "landcolor": "#E5ECF6",
           "showlakes": true,
           "showland": true,
           "subunitcolor": "white"
          },
          "hoverlabel": {
           "align": "left"
          },
          "hovermode": "closest",
          "mapbox": {
           "style": "light"
          },
          "paper_bgcolor": "white",
          "plot_bgcolor": "#E5ECF6",
          "polar": {
           "angularaxis": {
            "gridcolor": "white",
            "linecolor": "white",
            "ticks": ""
           },
           "bgcolor": "#E5ECF6",
           "radialaxis": {
            "gridcolor": "white",
            "linecolor": "white",
            "ticks": ""
           }
          },
          "scene": {
           "xaxis": {
            "backgroundcolor": "#E5ECF6",
            "gridcolor": "white",
            "gridwidth": 2,
            "linecolor": "white",
            "showbackground": true,
            "ticks": "",
            "zerolinecolor": "white"
           },
           "yaxis": {
            "backgroundcolor": "#E5ECF6",
            "gridcolor": "white",
            "gridwidth": 2,
            "linecolor": "white",
            "showbackground": true,
            "ticks": "",
            "zerolinecolor": "white"
           },
           "zaxis": {
            "backgroundcolor": "#E5ECF6",
            "gridcolor": "white",
            "gridwidth": 2,
            "linecolor": "white",
            "showbackground": true,
            "ticks": "",
            "zerolinecolor": "white"
           }
          },
          "shapedefaults": {
           "line": {
            "color": "#2a3f5f"
           }
          },
          "ternary": {
           "aaxis": {
            "gridcolor": "white",
            "linecolor": "white",
            "ticks": ""
           },
           "baxis": {
            "gridcolor": "white",
            "linecolor": "white",
            "ticks": ""
           },
           "bgcolor": "#E5ECF6",
           "caxis": {
            "gridcolor": "white",
            "linecolor": "white",
            "ticks": ""
           }
          },
          "title": {
           "x": 0.05
          },
          "xaxis": {
           "automargin": true,
           "gridcolor": "white",
           "linecolor": "white",
           "ticks": "",
           "title": {
            "standoff": 15
           },
           "zerolinecolor": "white",
           "zerolinewidth": 2
          },
          "yaxis": {
           "automargin": true,
           "gridcolor": "white",
           "linecolor": "white",
           "ticks": "",
           "title": {
            "standoff": 15
           },
           "zerolinecolor": "white",
           "zerolinewidth": 2
          }
         }
        },
        "title": {
         "font": {
          "color": "#4D5663"
         }
        },
        "xaxis": {
         "gridcolor": "#E1E5ED",
         "showgrid": true,
         "tickfont": {
          "color": "#4D5663"
         },
         "title": {
          "font": {
           "color": "#4D5663"
          },
          "text": ""
         },
         "zerolinecolor": "#E1E5ED"
        },
        "yaxis": {
         "gridcolor": "#E1E5ED",
         "showgrid": true,
         "tickfont": {
          "color": "#4D5663"
         },
         "title": {
          "font": {
           "color": "#4D5663"
          },
          "text": ""
         },
         "zerolinecolor": "#E1E5ED"
        }
       }
      },
      "text/html": [
       "<div>                            <div id=\"4ef3a0bb-e925-44d8-9fbf-928da4c081aa\" class=\"plotly-graph-div\" style=\"height:525px; width:100%;\"></div>            <script type=\"text/javascript\">                require([\"plotly\"], function(Plotly) {                    window.PLOTLYENV=window.PLOTLYENV || {};\n",
       "                    window.PLOTLYENV.BASE_URL='https://plot.ly';                                    if (document.getElementById(\"4ef3a0bb-e925-44d8-9fbf-928da4c081aa\")) {                    Plotly.newPlot(                        \"4ef3a0bb-e925-44d8-9fbf-928da4c081aa\",                        [{\"marker\":{\"color\":\"rgba(255, 153, 51, 0.6)\",\"line\":{\"color\":\"rgba(255, 153, 51, 1.0)\",\"width\":1}},\"name\":\"Values\",\"orientation\":\"v\",\"text\":\"\",\"type\":\"bar\",\"x\":[\"A\",\"B\",\"C\"],\"y\":[32,43,50]}],                        {\"legend\":{\"bgcolor\":\"#F5F6F9\",\"font\":{\"color\":\"#4D5663\"}},\"paper_bgcolor\":\"#F5F6F9\",\"plot_bgcolor\":\"#F5F6F9\",\"template\":{\"data\":{\"bar\":[{\"error_x\":{\"color\":\"#2a3f5f\"},\"error_y\":{\"color\":\"#2a3f5f\"},\"marker\":{\"line\":{\"color\":\"#E5ECF6\",\"width\":0.5},\"pattern\":{\"fillmode\":\"overlay\",\"size\":10,\"solidity\":0.2}},\"type\":\"bar\"}],\"barpolar\":[{\"marker\":{\"line\":{\"color\":\"#E5ECF6\",\"width\":0.5},\"pattern\":{\"fillmode\":\"overlay\",\"size\":10,\"solidity\":0.2}},\"type\":\"barpolar\"}],\"carpet\":[{\"aaxis\":{\"endlinecolor\":\"#2a3f5f\",\"gridcolor\":\"white\",\"linecolor\":\"white\",\"minorgridcolor\":\"white\",\"startlinecolor\":\"#2a3f5f\"},\"baxis\":{\"endlinecolor\":\"#2a3f5f\",\"gridcolor\":\"white\",\"linecolor\":\"white\",\"minorgridcolor\":\"white\",\"startlinecolor\":\"#2a3f5f\"},\"type\":\"carpet\"}],\"choropleth\":[{\"colorbar\":{\"outlinewidth\":0,\"ticks\":\"\"},\"type\":\"choropleth\"}],\"contour\":[{\"colorbar\":{\"outlinewidth\":0,\"ticks\":\"\"},\"colorscale\":[[0.0,\"#0d0887\"],[0.1111111111111111,\"#46039f\"],[0.2222222222222222,\"#7201a8\"],[0.3333333333333333,\"#9c179e\"],[0.4444444444444444,\"#bd3786\"],[0.5555555555555556,\"#d8576b\"],[0.6666666666666666,\"#ed7953\"],[0.7777777777777778,\"#fb9f3a\"],[0.8888888888888888,\"#fdca26\"],[1.0,\"#f0f921\"]],\"type\":\"contour\"}],\"contourcarpet\":[{\"colorbar\":{\"outlinewidth\":0,\"ticks\":\"\"},\"type\":\"contourcarpet\"}],\"heatmap\":[{\"colorbar\":{\"outlinewidth\":0,\"ticks\":\"\"},\"colorscale\":[[0.0,\"#0d0887\"],[0.1111111111111111,\"#46039f\"],[0.2222222222222222,\"#7201a8\"],[0.3333333333333333,\"#9c179e\"],[0.4444444444444444,\"#bd3786\"],[0.5555555555555556,\"#d8576b\"],[0.6666666666666666,\"#ed7953\"],[0.7777777777777778,\"#fb9f3a\"],[0.8888888888888888,\"#fdca26\"],[1.0,\"#f0f921\"]],\"type\":\"heatmap\"}],\"heatmapgl\":[{\"colorbar\":{\"outlinewidth\":0,\"ticks\":\"\"},\"colorscale\":[[0.0,\"#0d0887\"],[0.1111111111111111,\"#46039f\"],[0.2222222222222222,\"#7201a8\"],[0.3333333333333333,\"#9c179e\"],[0.4444444444444444,\"#bd3786\"],[0.5555555555555556,\"#d8576b\"],[0.6666666666666666,\"#ed7953\"],[0.7777777777777778,\"#fb9f3a\"],[0.8888888888888888,\"#fdca26\"],[1.0,\"#f0f921\"]],\"type\":\"heatmapgl\"}],\"histogram\":[{\"marker\":{\"pattern\":{\"fillmode\":\"overlay\",\"size\":10,\"solidity\":0.2}},\"type\":\"histogram\"}],\"histogram2d\":[{\"colorbar\":{\"outlinewidth\":0,\"ticks\":\"\"},\"colorscale\":[[0.0,\"#0d0887\"],[0.1111111111111111,\"#46039f\"],[0.2222222222222222,\"#7201a8\"],[0.3333333333333333,\"#9c179e\"],[0.4444444444444444,\"#bd3786\"],[0.5555555555555556,\"#d8576b\"],[0.6666666666666666,\"#ed7953\"],[0.7777777777777778,\"#fb9f3a\"],[0.8888888888888888,\"#fdca26\"],[1.0,\"#f0f921\"]],\"type\":\"histogram2d\"}],\"histogram2dcontour\":[{\"colorbar\":{\"outlinewidth\":0,\"ticks\":\"\"},\"colorscale\":[[0.0,\"#0d0887\"],[0.1111111111111111,\"#46039f\"],[0.2222222222222222,\"#7201a8\"],[0.3333333333333333,\"#9c179e\"],[0.4444444444444444,\"#bd3786\"],[0.5555555555555556,\"#d8576b\"],[0.6666666666666666,\"#ed7953\"],[0.7777777777777778,\"#fb9f3a\"],[0.8888888888888888,\"#fdca26\"],[1.0,\"#f0f921\"]],\"type\":\"histogram2dcontour\"}],\"mesh3d\":[{\"colorbar\":{\"outlinewidth\":0,\"ticks\":\"\"},\"type\":\"mesh3d\"}],\"parcoords\":[{\"line\":{\"colorbar\":{\"outlinewidth\":0,\"ticks\":\"\"}},\"type\":\"parcoords\"}],\"pie\":[{\"automargin\":true,\"type\":\"pie\"}],\"scatter\":[{\"marker\":{\"colorbar\":{\"outlinewidth\":0,\"ticks\":\"\"}},\"type\":\"scatter\"}],\"scatter3d\":[{\"line\":{\"colorbar\":{\"outlinewidth\":0,\"ticks\":\"\"}},\"marker\":{\"colorbar\":{\"outlinewidth\":0,\"ticks\":\"\"}},\"type\":\"scatter3d\"}],\"scattercarpet\":[{\"marker\":{\"colorbar\":{\"outlinewidth\":0,\"ticks\":\"\"}},\"type\":\"scattercarpet\"}],\"scattergeo\":[{\"marker\":{\"colorbar\":{\"outlinewidth\":0,\"ticks\":\"\"}},\"type\":\"scattergeo\"}],\"scattergl\":[{\"marker\":{\"colorbar\":{\"outlinewidth\":0,\"ticks\":\"\"}},\"type\":\"scattergl\"}],\"scattermapbox\":[{\"marker\":{\"colorbar\":{\"outlinewidth\":0,\"ticks\":\"\"}},\"type\":\"scattermapbox\"}],\"scatterpolar\":[{\"marker\":{\"colorbar\":{\"outlinewidth\":0,\"ticks\":\"\"}},\"type\":\"scatterpolar\"}],\"scatterpolargl\":[{\"marker\":{\"colorbar\":{\"outlinewidth\":0,\"ticks\":\"\"}},\"type\":\"scatterpolargl\"}],\"scatterternary\":[{\"marker\":{\"colorbar\":{\"outlinewidth\":0,\"ticks\":\"\"}},\"type\":\"scatterternary\"}],\"surface\":[{\"colorbar\":{\"outlinewidth\":0,\"ticks\":\"\"},\"colorscale\":[[0.0,\"#0d0887\"],[0.1111111111111111,\"#46039f\"],[0.2222222222222222,\"#7201a8\"],[0.3333333333333333,\"#9c179e\"],[0.4444444444444444,\"#bd3786\"],[0.5555555555555556,\"#d8576b\"],[0.6666666666666666,\"#ed7953\"],[0.7777777777777778,\"#fb9f3a\"],[0.8888888888888888,\"#fdca26\"],[1.0,\"#f0f921\"]],\"type\":\"surface\"}],\"table\":[{\"cells\":{\"fill\":{\"color\":\"#EBF0F8\"},\"line\":{\"color\":\"white\"}},\"header\":{\"fill\":{\"color\":\"#C8D4E3\"},\"line\":{\"color\":\"white\"}},\"type\":\"table\"}]},\"layout\":{\"annotationdefaults\":{\"arrowcolor\":\"#2a3f5f\",\"arrowhead\":0,\"arrowwidth\":1},\"autotypenumbers\":\"strict\",\"coloraxis\":{\"colorbar\":{\"outlinewidth\":0,\"ticks\":\"\"}},\"colorscale\":{\"diverging\":[[0,\"#8e0152\"],[0.1,\"#c51b7d\"],[0.2,\"#de77ae\"],[0.3,\"#f1b6da\"],[0.4,\"#fde0ef\"],[0.5,\"#f7f7f7\"],[0.6,\"#e6f5d0\"],[0.7,\"#b8e186\"],[0.8,\"#7fbc41\"],[0.9,\"#4d9221\"],[1,\"#276419\"]],\"sequential\":[[0.0,\"#0d0887\"],[0.1111111111111111,\"#46039f\"],[0.2222222222222222,\"#7201a8\"],[0.3333333333333333,\"#9c179e\"],[0.4444444444444444,\"#bd3786\"],[0.5555555555555556,\"#d8576b\"],[0.6666666666666666,\"#ed7953\"],[0.7777777777777778,\"#fb9f3a\"],[0.8888888888888888,\"#fdca26\"],[1.0,\"#f0f921\"]],\"sequentialminus\":[[0.0,\"#0d0887\"],[0.1111111111111111,\"#46039f\"],[0.2222222222222222,\"#7201a8\"],[0.3333333333333333,\"#9c179e\"],[0.4444444444444444,\"#bd3786\"],[0.5555555555555556,\"#d8576b\"],[0.6666666666666666,\"#ed7953\"],[0.7777777777777778,\"#fb9f3a\"],[0.8888888888888888,\"#fdca26\"],[1.0,\"#f0f921\"]]},\"colorway\":[\"#636efa\",\"#EF553B\",\"#00cc96\",\"#ab63fa\",\"#FFA15A\",\"#19d3f3\",\"#FF6692\",\"#B6E880\",\"#FF97FF\",\"#FECB52\"],\"font\":{\"color\":\"#2a3f5f\"},\"geo\":{\"bgcolor\":\"white\",\"lakecolor\":\"white\",\"landcolor\":\"#E5ECF6\",\"showlakes\":true,\"showland\":true,\"subunitcolor\":\"white\"},\"hoverlabel\":{\"align\":\"left\"},\"hovermode\":\"closest\",\"mapbox\":{\"style\":\"light\"},\"paper_bgcolor\":\"white\",\"plot_bgcolor\":\"#E5ECF6\",\"polar\":{\"angularaxis\":{\"gridcolor\":\"white\",\"linecolor\":\"white\",\"ticks\":\"\"},\"bgcolor\":\"#E5ECF6\",\"radialaxis\":{\"gridcolor\":\"white\",\"linecolor\":\"white\",\"ticks\":\"\"}},\"scene\":{\"xaxis\":{\"backgroundcolor\":\"#E5ECF6\",\"gridcolor\":\"white\",\"gridwidth\":2,\"linecolor\":\"white\",\"showbackground\":true,\"ticks\":\"\",\"zerolinecolor\":\"white\"},\"yaxis\":{\"backgroundcolor\":\"#E5ECF6\",\"gridcolor\":\"white\",\"gridwidth\":2,\"linecolor\":\"white\",\"showbackground\":true,\"ticks\":\"\",\"zerolinecolor\":\"white\"},\"zaxis\":{\"backgroundcolor\":\"#E5ECF6\",\"gridcolor\":\"white\",\"gridwidth\":2,\"linecolor\":\"white\",\"showbackground\":true,\"ticks\":\"\",\"zerolinecolor\":\"white\"}},\"shapedefaults\":{\"line\":{\"color\":\"#2a3f5f\"}},\"ternary\":{\"aaxis\":{\"gridcolor\":\"white\",\"linecolor\":\"white\",\"ticks\":\"\"},\"baxis\":{\"gridcolor\":\"white\",\"linecolor\":\"white\",\"ticks\":\"\"},\"bgcolor\":\"#E5ECF6\",\"caxis\":{\"gridcolor\":\"white\",\"linecolor\":\"white\",\"ticks\":\"\"}},\"title\":{\"x\":0.05},\"xaxis\":{\"automargin\":true,\"gridcolor\":\"white\",\"linecolor\":\"white\",\"ticks\":\"\",\"title\":{\"standoff\":15},\"zerolinecolor\":\"white\",\"zerolinewidth\":2},\"yaxis\":{\"automargin\":true,\"gridcolor\":\"white\",\"linecolor\":\"white\",\"ticks\":\"\",\"title\":{\"standoff\":15},\"zerolinecolor\":\"white\",\"zerolinewidth\":2}}},\"title\":{\"font\":{\"color\":\"#4D5663\"}},\"xaxis\":{\"gridcolor\":\"#E1E5ED\",\"showgrid\":true,\"tickfont\":{\"color\":\"#4D5663\"},\"title\":{\"font\":{\"color\":\"#4D5663\"},\"text\":\"\"},\"zerolinecolor\":\"#E1E5ED\"},\"yaxis\":{\"gridcolor\":\"#E1E5ED\",\"showgrid\":true,\"tickfont\":{\"color\":\"#4D5663\"},\"title\":{\"font\":{\"color\":\"#4D5663\"},\"text\":\"\"},\"zerolinecolor\":\"#E1E5ED\"}},                        {\"showLink\": true, \"linkText\": \"Export to plot.ly\", \"plotlyServerURL\": \"https://plot.ly\", \"responsive\": true}                    ).then(function(){\n",
       "                            \n",
       "var gd = document.getElementById('4ef3a0bb-e925-44d8-9fbf-928da4c081aa');\n",
       "var x = new MutationObserver(function (mutations, observer) {{\n",
       "        var display = window.getComputedStyle(gd).display;\n",
       "        if (!display || display === 'none') {{\n",
       "            console.log([gd, 'removed!']);\n",
       "            Plotly.purge(gd);\n",
       "            observer.disconnect();\n",
       "        }}\n",
       "}});\n",
       "\n",
       "// Listen for the removal of the full notebook cells\n",
       "var notebookContainer = gd.closest('#notebook-container');\n",
       "if (notebookContainer) {{\n",
       "    x.observe(notebookContainer, {childList: true});\n",
       "}}\n",
       "\n",
       "// Listen for the clearing of the current output cell\n",
       "var outputEl = gd.closest('.output');\n",
       "if (outputEl) {{\n",
       "    x.observe(outputEl, {childList: true});\n",
       "}}\n",
       "\n",
       "                        })                };                });            </script>        </div>"
      ]
     },
     "metadata": {},
     "output_type": "display_data"
    }
   ],
   "source": [
    "df2.iplot(kind='bar',x='Category',y='Values')"
   ]
  },
  {
   "cell_type": "code",
   "execution_count": 12,
   "metadata": {},
   "outputs": [
    {
     "data": {
      "application/vnd.plotly.v1+json": {
       "config": {
        "linkText": "Export to plot.ly",
        "plotlyServerURL": "https://plot.ly",
        "showLink": true
       },
       "data": [
        {
         "marker": {
          "color": "rgba(255, 153, 51, 0.6)",
          "line": {
           "color": "rgba(255, 153, 51, 1.0)",
           "width": 1
          }
         },
         "name": "None",
         "orientation": "v",
         "text": "",
         "type": "bar",
         "x": [
          "A",
          "B",
          "C",
          "D"
         ],
         "y": [
          100,
          100,
          100,
          100
         ]
        }
       ],
       "layout": {
        "legend": {
         "bgcolor": "#F5F6F9",
         "font": {
          "color": "#4D5663"
         }
        },
        "paper_bgcolor": "#F5F6F9",
        "plot_bgcolor": "#F5F6F9",
        "template": {
         "data": {
          "bar": [
           {
            "error_x": {
             "color": "#2a3f5f"
            },
            "error_y": {
             "color": "#2a3f5f"
            },
            "marker": {
             "line": {
              "color": "#E5ECF6",
              "width": 0.5
             },
             "pattern": {
              "fillmode": "overlay",
              "size": 10,
              "solidity": 0.2
             }
            },
            "type": "bar"
           }
          ],
          "barpolar": [
           {
            "marker": {
             "line": {
              "color": "#E5ECF6",
              "width": 0.5
             },
             "pattern": {
              "fillmode": "overlay",
              "size": 10,
              "solidity": 0.2
             }
            },
            "type": "barpolar"
           }
          ],
          "carpet": [
           {
            "aaxis": {
             "endlinecolor": "#2a3f5f",
             "gridcolor": "white",
             "linecolor": "white",
             "minorgridcolor": "white",
             "startlinecolor": "#2a3f5f"
            },
            "baxis": {
             "endlinecolor": "#2a3f5f",
             "gridcolor": "white",
             "linecolor": "white",
             "minorgridcolor": "white",
             "startlinecolor": "#2a3f5f"
            },
            "type": "carpet"
           }
          ],
          "choropleth": [
           {
            "colorbar": {
             "outlinewidth": 0,
             "ticks": ""
            },
            "type": "choropleth"
           }
          ],
          "contour": [
           {
            "colorbar": {
             "outlinewidth": 0,
             "ticks": ""
            },
            "colorscale": [
             [
              0,
              "#0d0887"
             ],
             [
              0.1111111111111111,
              "#46039f"
             ],
             [
              0.2222222222222222,
              "#7201a8"
             ],
             [
              0.3333333333333333,
              "#9c179e"
             ],
             [
              0.4444444444444444,
              "#bd3786"
             ],
             [
              0.5555555555555556,
              "#d8576b"
             ],
             [
              0.6666666666666666,
              "#ed7953"
             ],
             [
              0.7777777777777778,
              "#fb9f3a"
             ],
             [
              0.8888888888888888,
              "#fdca26"
             ],
             [
              1,
              "#f0f921"
             ]
            ],
            "type": "contour"
           }
          ],
          "contourcarpet": [
           {
            "colorbar": {
             "outlinewidth": 0,
             "ticks": ""
            },
            "type": "contourcarpet"
           }
          ],
          "heatmap": [
           {
            "colorbar": {
             "outlinewidth": 0,
             "ticks": ""
            },
            "colorscale": [
             [
              0,
              "#0d0887"
             ],
             [
              0.1111111111111111,
              "#46039f"
             ],
             [
              0.2222222222222222,
              "#7201a8"
             ],
             [
              0.3333333333333333,
              "#9c179e"
             ],
             [
              0.4444444444444444,
              "#bd3786"
             ],
             [
              0.5555555555555556,
              "#d8576b"
             ],
             [
              0.6666666666666666,
              "#ed7953"
             ],
             [
              0.7777777777777778,
              "#fb9f3a"
             ],
             [
              0.8888888888888888,
              "#fdca26"
             ],
             [
              1,
              "#f0f921"
             ]
            ],
            "type": "heatmap"
           }
          ],
          "heatmapgl": [
           {
            "colorbar": {
             "outlinewidth": 0,
             "ticks": ""
            },
            "colorscale": [
             [
              0,
              "#0d0887"
             ],
             [
              0.1111111111111111,
              "#46039f"
             ],
             [
              0.2222222222222222,
              "#7201a8"
             ],
             [
              0.3333333333333333,
              "#9c179e"
             ],
             [
              0.4444444444444444,
              "#bd3786"
             ],
             [
              0.5555555555555556,
              "#d8576b"
             ],
             [
              0.6666666666666666,
              "#ed7953"
             ],
             [
              0.7777777777777778,
              "#fb9f3a"
             ],
             [
              0.8888888888888888,
              "#fdca26"
             ],
             [
              1,
              "#f0f921"
             ]
            ],
            "type": "heatmapgl"
           }
          ],
          "histogram": [
           {
            "marker": {
             "pattern": {
              "fillmode": "overlay",
              "size": 10,
              "solidity": 0.2
             }
            },
            "type": "histogram"
           }
          ],
          "histogram2d": [
           {
            "colorbar": {
             "outlinewidth": 0,
             "ticks": ""
            },
            "colorscale": [
             [
              0,
              "#0d0887"
             ],
             [
              0.1111111111111111,
              "#46039f"
             ],
             [
              0.2222222222222222,
              "#7201a8"
             ],
             [
              0.3333333333333333,
              "#9c179e"
             ],
             [
              0.4444444444444444,
              "#bd3786"
             ],
             [
              0.5555555555555556,
              "#d8576b"
             ],
             [
              0.6666666666666666,
              "#ed7953"
             ],
             [
              0.7777777777777778,
              "#fb9f3a"
             ],
             [
              0.8888888888888888,
              "#fdca26"
             ],
             [
              1,
              "#f0f921"
             ]
            ],
            "type": "histogram2d"
           }
          ],
          "histogram2dcontour": [
           {
            "colorbar": {
             "outlinewidth": 0,
             "ticks": ""
            },
            "colorscale": [
             [
              0,
              "#0d0887"
             ],
             [
              0.1111111111111111,
              "#46039f"
             ],
             [
              0.2222222222222222,
              "#7201a8"
             ],
             [
              0.3333333333333333,
              "#9c179e"
             ],
             [
              0.4444444444444444,
              "#bd3786"
             ],
             [
              0.5555555555555556,
              "#d8576b"
             ],
             [
              0.6666666666666666,
              "#ed7953"
             ],
             [
              0.7777777777777778,
              "#fb9f3a"
             ],
             [
              0.8888888888888888,
              "#fdca26"
             ],
             [
              1,
              "#f0f921"
             ]
            ],
            "type": "histogram2dcontour"
           }
          ],
          "mesh3d": [
           {
            "colorbar": {
             "outlinewidth": 0,
             "ticks": ""
            },
            "type": "mesh3d"
           }
          ],
          "parcoords": [
           {
            "line": {
             "colorbar": {
              "outlinewidth": 0,
              "ticks": ""
             }
            },
            "type": "parcoords"
           }
          ],
          "pie": [
           {
            "automargin": true,
            "type": "pie"
           }
          ],
          "scatter": [
           {
            "marker": {
             "colorbar": {
              "outlinewidth": 0,
              "ticks": ""
             }
            },
            "type": "scatter"
           }
          ],
          "scatter3d": [
           {
            "line": {
             "colorbar": {
              "outlinewidth": 0,
              "ticks": ""
             }
            },
            "marker": {
             "colorbar": {
              "outlinewidth": 0,
              "ticks": ""
             }
            },
            "type": "scatter3d"
           }
          ],
          "scattercarpet": [
           {
            "marker": {
             "colorbar": {
              "outlinewidth": 0,
              "ticks": ""
             }
            },
            "type": "scattercarpet"
           }
          ],
          "scattergeo": [
           {
            "marker": {
             "colorbar": {
              "outlinewidth": 0,
              "ticks": ""
             }
            },
            "type": "scattergeo"
           }
          ],
          "scattergl": [
           {
            "marker": {
             "colorbar": {
              "outlinewidth": 0,
              "ticks": ""
             }
            },
            "type": "scattergl"
           }
          ],
          "scattermapbox": [
           {
            "marker": {
             "colorbar": {
              "outlinewidth": 0,
              "ticks": ""
             }
            },
            "type": "scattermapbox"
           }
          ],
          "scatterpolar": [
           {
            "marker": {
             "colorbar": {
              "outlinewidth": 0,
              "ticks": ""
             }
            },
            "type": "scatterpolar"
           }
          ],
          "scatterpolargl": [
           {
            "marker": {
             "colorbar": {
              "outlinewidth": 0,
              "ticks": ""
             }
            },
            "type": "scatterpolargl"
           }
          ],
          "scatterternary": [
           {
            "marker": {
             "colorbar": {
              "outlinewidth": 0,
              "ticks": ""
             }
            },
            "type": "scatterternary"
           }
          ],
          "surface": [
           {
            "colorbar": {
             "outlinewidth": 0,
             "ticks": ""
            },
            "colorscale": [
             [
              0,
              "#0d0887"
             ],
             [
              0.1111111111111111,
              "#46039f"
             ],
             [
              0.2222222222222222,
              "#7201a8"
             ],
             [
              0.3333333333333333,
              "#9c179e"
             ],
             [
              0.4444444444444444,
              "#bd3786"
             ],
             [
              0.5555555555555556,
              "#d8576b"
             ],
             [
              0.6666666666666666,
              "#ed7953"
             ],
             [
              0.7777777777777778,
              "#fb9f3a"
             ],
             [
              0.8888888888888888,
              "#fdca26"
             ],
             [
              1,
              "#f0f921"
             ]
            ],
            "type": "surface"
           }
          ],
          "table": [
           {
            "cells": {
             "fill": {
              "color": "#EBF0F8"
             },
             "line": {
              "color": "white"
             }
            },
            "header": {
             "fill": {
              "color": "#C8D4E3"
             },
             "line": {
              "color": "white"
             }
            },
            "type": "table"
           }
          ]
         },
         "layout": {
          "annotationdefaults": {
           "arrowcolor": "#2a3f5f",
           "arrowhead": 0,
           "arrowwidth": 1
          },
          "autotypenumbers": "strict",
          "coloraxis": {
           "colorbar": {
            "outlinewidth": 0,
            "ticks": ""
           }
          },
          "colorscale": {
           "diverging": [
            [
             0,
             "#8e0152"
            ],
            [
             0.1,
             "#c51b7d"
            ],
            [
             0.2,
             "#de77ae"
            ],
            [
             0.3,
             "#f1b6da"
            ],
            [
             0.4,
             "#fde0ef"
            ],
            [
             0.5,
             "#f7f7f7"
            ],
            [
             0.6,
             "#e6f5d0"
            ],
            [
             0.7,
             "#b8e186"
            ],
            [
             0.8,
             "#7fbc41"
            ],
            [
             0.9,
             "#4d9221"
            ],
            [
             1,
             "#276419"
            ]
           ],
           "sequential": [
            [
             0,
             "#0d0887"
            ],
            [
             0.1111111111111111,
             "#46039f"
            ],
            [
             0.2222222222222222,
             "#7201a8"
            ],
            [
             0.3333333333333333,
             "#9c179e"
            ],
            [
             0.4444444444444444,
             "#bd3786"
            ],
            [
             0.5555555555555556,
             "#d8576b"
            ],
            [
             0.6666666666666666,
             "#ed7953"
            ],
            [
             0.7777777777777778,
             "#fb9f3a"
            ],
            [
             0.8888888888888888,
             "#fdca26"
            ],
            [
             1,
             "#f0f921"
            ]
           ],
           "sequentialminus": [
            [
             0,
             "#0d0887"
            ],
            [
             0.1111111111111111,
             "#46039f"
            ],
            [
             0.2222222222222222,
             "#7201a8"
            ],
            [
             0.3333333333333333,
             "#9c179e"
            ],
            [
             0.4444444444444444,
             "#bd3786"
            ],
            [
             0.5555555555555556,
             "#d8576b"
            ],
            [
             0.6666666666666666,
             "#ed7953"
            ],
            [
             0.7777777777777778,
             "#fb9f3a"
            ],
            [
             0.8888888888888888,
             "#fdca26"
            ],
            [
             1,
             "#f0f921"
            ]
           ]
          },
          "colorway": [
           "#636efa",
           "#EF553B",
           "#00cc96",
           "#ab63fa",
           "#FFA15A",
           "#19d3f3",
           "#FF6692",
           "#B6E880",
           "#FF97FF",
           "#FECB52"
          ],
          "font": {
           "color": "#2a3f5f"
          },
          "geo": {
           "bgcolor": "white",
           "lakecolor": "white",
           "landcolor": "#E5ECF6",
           "showlakes": true,
           "showland": true,
           "subunitcolor": "white"
          },
          "hoverlabel": {
           "align": "left"
          },
          "hovermode": "closest",
          "mapbox": {
           "style": "light"
          },
          "paper_bgcolor": "white",
          "plot_bgcolor": "#E5ECF6",
          "polar": {
           "angularaxis": {
            "gridcolor": "white",
            "linecolor": "white",
            "ticks": ""
           },
           "bgcolor": "#E5ECF6",
           "radialaxis": {
            "gridcolor": "white",
            "linecolor": "white",
            "ticks": ""
           }
          },
          "scene": {
           "xaxis": {
            "backgroundcolor": "#E5ECF6",
            "gridcolor": "white",
            "gridwidth": 2,
            "linecolor": "white",
            "showbackground": true,
            "ticks": "",
            "zerolinecolor": "white"
           },
           "yaxis": {
            "backgroundcolor": "#E5ECF6",
            "gridcolor": "white",
            "gridwidth": 2,
            "linecolor": "white",
            "showbackground": true,
            "ticks": "",
            "zerolinecolor": "white"
           },
           "zaxis": {
            "backgroundcolor": "#E5ECF6",
            "gridcolor": "white",
            "gridwidth": 2,
            "linecolor": "white",
            "showbackground": true,
            "ticks": "",
            "zerolinecolor": "white"
           }
          },
          "shapedefaults": {
           "line": {
            "color": "#2a3f5f"
           }
          },
          "ternary": {
           "aaxis": {
            "gridcolor": "white",
            "linecolor": "white",
            "ticks": ""
           },
           "baxis": {
            "gridcolor": "white",
            "linecolor": "white",
            "ticks": ""
           },
           "bgcolor": "#E5ECF6",
           "caxis": {
            "gridcolor": "white",
            "linecolor": "white",
            "ticks": ""
           }
          },
          "title": {
           "x": 0.05
          },
          "xaxis": {
           "automargin": true,
           "gridcolor": "white",
           "linecolor": "white",
           "ticks": "",
           "title": {
            "standoff": 15
           },
           "zerolinecolor": "white",
           "zerolinewidth": 2
          },
          "yaxis": {
           "automargin": true,
           "gridcolor": "white",
           "linecolor": "white",
           "ticks": "",
           "title": {
            "standoff": 15
           },
           "zerolinecolor": "white",
           "zerolinewidth": 2
          }
         }
        },
        "title": {
         "font": {
          "color": "#4D5663"
         }
        },
        "xaxis": {
         "gridcolor": "#E1E5ED",
         "showgrid": true,
         "tickfont": {
          "color": "#4D5663"
         },
         "title": {
          "font": {
           "color": "#4D5663"
          },
          "text": ""
         },
         "zerolinecolor": "#E1E5ED"
        },
        "yaxis": {
         "gridcolor": "#E1E5ED",
         "showgrid": true,
         "tickfont": {
          "color": "#4D5663"
         },
         "title": {
          "font": {
           "color": "#4D5663"
          },
          "text": ""
         },
         "zerolinecolor": "#E1E5ED"
        }
       }
      },
      "text/html": [
       "<div>                            <div id=\"6e641ef6-1679-4e68-a874-8b7cab4edf91\" class=\"plotly-graph-div\" style=\"height:525px; width:100%;\"></div>            <script type=\"text/javascript\">                require([\"plotly\"], function(Plotly) {                    window.PLOTLYENV=window.PLOTLYENV || {};\n",
       "                    window.PLOTLYENV.BASE_URL='https://plot.ly';                                    if (document.getElementById(\"6e641ef6-1679-4e68-a874-8b7cab4edf91\")) {                    Plotly.newPlot(                        \"6e641ef6-1679-4e68-a874-8b7cab4edf91\",                        [{\"marker\":{\"color\":\"rgba(255, 153, 51, 0.6)\",\"line\":{\"color\":\"rgba(255, 153, 51, 1.0)\",\"width\":1}},\"name\":\"None\",\"orientation\":\"v\",\"text\":\"\",\"type\":\"bar\",\"x\":[\"A\",\"B\",\"C\",\"D\"],\"y\":[100,100,100,100]}],                        {\"legend\":{\"bgcolor\":\"#F5F6F9\",\"font\":{\"color\":\"#4D5663\"}},\"paper_bgcolor\":\"#F5F6F9\",\"plot_bgcolor\":\"#F5F6F9\",\"template\":{\"data\":{\"bar\":[{\"error_x\":{\"color\":\"#2a3f5f\"},\"error_y\":{\"color\":\"#2a3f5f\"},\"marker\":{\"line\":{\"color\":\"#E5ECF6\",\"width\":0.5},\"pattern\":{\"fillmode\":\"overlay\",\"size\":10,\"solidity\":0.2}},\"type\":\"bar\"}],\"barpolar\":[{\"marker\":{\"line\":{\"color\":\"#E5ECF6\",\"width\":0.5},\"pattern\":{\"fillmode\":\"overlay\",\"size\":10,\"solidity\":0.2}},\"type\":\"barpolar\"}],\"carpet\":[{\"aaxis\":{\"endlinecolor\":\"#2a3f5f\",\"gridcolor\":\"white\",\"linecolor\":\"white\",\"minorgridcolor\":\"white\",\"startlinecolor\":\"#2a3f5f\"},\"baxis\":{\"endlinecolor\":\"#2a3f5f\",\"gridcolor\":\"white\",\"linecolor\":\"white\",\"minorgridcolor\":\"white\",\"startlinecolor\":\"#2a3f5f\"},\"type\":\"carpet\"}],\"choropleth\":[{\"colorbar\":{\"outlinewidth\":0,\"ticks\":\"\"},\"type\":\"choropleth\"}],\"contour\":[{\"colorbar\":{\"outlinewidth\":0,\"ticks\":\"\"},\"colorscale\":[[0.0,\"#0d0887\"],[0.1111111111111111,\"#46039f\"],[0.2222222222222222,\"#7201a8\"],[0.3333333333333333,\"#9c179e\"],[0.4444444444444444,\"#bd3786\"],[0.5555555555555556,\"#d8576b\"],[0.6666666666666666,\"#ed7953\"],[0.7777777777777778,\"#fb9f3a\"],[0.8888888888888888,\"#fdca26\"],[1.0,\"#f0f921\"]],\"type\":\"contour\"}],\"contourcarpet\":[{\"colorbar\":{\"outlinewidth\":0,\"ticks\":\"\"},\"type\":\"contourcarpet\"}],\"heatmap\":[{\"colorbar\":{\"outlinewidth\":0,\"ticks\":\"\"},\"colorscale\":[[0.0,\"#0d0887\"],[0.1111111111111111,\"#46039f\"],[0.2222222222222222,\"#7201a8\"],[0.3333333333333333,\"#9c179e\"],[0.4444444444444444,\"#bd3786\"],[0.5555555555555556,\"#d8576b\"],[0.6666666666666666,\"#ed7953\"],[0.7777777777777778,\"#fb9f3a\"],[0.8888888888888888,\"#fdca26\"],[1.0,\"#f0f921\"]],\"type\":\"heatmap\"}],\"heatmapgl\":[{\"colorbar\":{\"outlinewidth\":0,\"ticks\":\"\"},\"colorscale\":[[0.0,\"#0d0887\"],[0.1111111111111111,\"#46039f\"],[0.2222222222222222,\"#7201a8\"],[0.3333333333333333,\"#9c179e\"],[0.4444444444444444,\"#bd3786\"],[0.5555555555555556,\"#d8576b\"],[0.6666666666666666,\"#ed7953\"],[0.7777777777777778,\"#fb9f3a\"],[0.8888888888888888,\"#fdca26\"],[1.0,\"#f0f921\"]],\"type\":\"heatmapgl\"}],\"histogram\":[{\"marker\":{\"pattern\":{\"fillmode\":\"overlay\",\"size\":10,\"solidity\":0.2}},\"type\":\"histogram\"}],\"histogram2d\":[{\"colorbar\":{\"outlinewidth\":0,\"ticks\":\"\"},\"colorscale\":[[0.0,\"#0d0887\"],[0.1111111111111111,\"#46039f\"],[0.2222222222222222,\"#7201a8\"],[0.3333333333333333,\"#9c179e\"],[0.4444444444444444,\"#bd3786\"],[0.5555555555555556,\"#d8576b\"],[0.6666666666666666,\"#ed7953\"],[0.7777777777777778,\"#fb9f3a\"],[0.8888888888888888,\"#fdca26\"],[1.0,\"#f0f921\"]],\"type\":\"histogram2d\"}],\"histogram2dcontour\":[{\"colorbar\":{\"outlinewidth\":0,\"ticks\":\"\"},\"colorscale\":[[0.0,\"#0d0887\"],[0.1111111111111111,\"#46039f\"],[0.2222222222222222,\"#7201a8\"],[0.3333333333333333,\"#9c179e\"],[0.4444444444444444,\"#bd3786\"],[0.5555555555555556,\"#d8576b\"],[0.6666666666666666,\"#ed7953\"],[0.7777777777777778,\"#fb9f3a\"],[0.8888888888888888,\"#fdca26\"],[1.0,\"#f0f921\"]],\"type\":\"histogram2dcontour\"}],\"mesh3d\":[{\"colorbar\":{\"outlinewidth\":0,\"ticks\":\"\"},\"type\":\"mesh3d\"}],\"parcoords\":[{\"line\":{\"colorbar\":{\"outlinewidth\":0,\"ticks\":\"\"}},\"type\":\"parcoords\"}],\"pie\":[{\"automargin\":true,\"type\":\"pie\"}],\"scatter\":[{\"marker\":{\"colorbar\":{\"outlinewidth\":0,\"ticks\":\"\"}},\"type\":\"scatter\"}],\"scatter3d\":[{\"line\":{\"colorbar\":{\"outlinewidth\":0,\"ticks\":\"\"}},\"marker\":{\"colorbar\":{\"outlinewidth\":0,\"ticks\":\"\"}},\"type\":\"scatter3d\"}],\"scattercarpet\":[{\"marker\":{\"colorbar\":{\"outlinewidth\":0,\"ticks\":\"\"}},\"type\":\"scattercarpet\"}],\"scattergeo\":[{\"marker\":{\"colorbar\":{\"outlinewidth\":0,\"ticks\":\"\"}},\"type\":\"scattergeo\"}],\"scattergl\":[{\"marker\":{\"colorbar\":{\"outlinewidth\":0,\"ticks\":\"\"}},\"type\":\"scattergl\"}],\"scattermapbox\":[{\"marker\":{\"colorbar\":{\"outlinewidth\":0,\"ticks\":\"\"}},\"type\":\"scattermapbox\"}],\"scatterpolar\":[{\"marker\":{\"colorbar\":{\"outlinewidth\":0,\"ticks\":\"\"}},\"type\":\"scatterpolar\"}],\"scatterpolargl\":[{\"marker\":{\"colorbar\":{\"outlinewidth\":0,\"ticks\":\"\"}},\"type\":\"scatterpolargl\"}],\"scatterternary\":[{\"marker\":{\"colorbar\":{\"outlinewidth\":0,\"ticks\":\"\"}},\"type\":\"scatterternary\"}],\"surface\":[{\"colorbar\":{\"outlinewidth\":0,\"ticks\":\"\"},\"colorscale\":[[0.0,\"#0d0887\"],[0.1111111111111111,\"#46039f\"],[0.2222222222222222,\"#7201a8\"],[0.3333333333333333,\"#9c179e\"],[0.4444444444444444,\"#bd3786\"],[0.5555555555555556,\"#d8576b\"],[0.6666666666666666,\"#ed7953\"],[0.7777777777777778,\"#fb9f3a\"],[0.8888888888888888,\"#fdca26\"],[1.0,\"#f0f921\"]],\"type\":\"surface\"}],\"table\":[{\"cells\":{\"fill\":{\"color\":\"#EBF0F8\"},\"line\":{\"color\":\"white\"}},\"header\":{\"fill\":{\"color\":\"#C8D4E3\"},\"line\":{\"color\":\"white\"}},\"type\":\"table\"}]},\"layout\":{\"annotationdefaults\":{\"arrowcolor\":\"#2a3f5f\",\"arrowhead\":0,\"arrowwidth\":1},\"autotypenumbers\":\"strict\",\"coloraxis\":{\"colorbar\":{\"outlinewidth\":0,\"ticks\":\"\"}},\"colorscale\":{\"diverging\":[[0,\"#8e0152\"],[0.1,\"#c51b7d\"],[0.2,\"#de77ae\"],[0.3,\"#f1b6da\"],[0.4,\"#fde0ef\"],[0.5,\"#f7f7f7\"],[0.6,\"#e6f5d0\"],[0.7,\"#b8e186\"],[0.8,\"#7fbc41\"],[0.9,\"#4d9221\"],[1,\"#276419\"]],\"sequential\":[[0.0,\"#0d0887\"],[0.1111111111111111,\"#46039f\"],[0.2222222222222222,\"#7201a8\"],[0.3333333333333333,\"#9c179e\"],[0.4444444444444444,\"#bd3786\"],[0.5555555555555556,\"#d8576b\"],[0.6666666666666666,\"#ed7953\"],[0.7777777777777778,\"#fb9f3a\"],[0.8888888888888888,\"#fdca26\"],[1.0,\"#f0f921\"]],\"sequentialminus\":[[0.0,\"#0d0887\"],[0.1111111111111111,\"#46039f\"],[0.2222222222222222,\"#7201a8\"],[0.3333333333333333,\"#9c179e\"],[0.4444444444444444,\"#bd3786\"],[0.5555555555555556,\"#d8576b\"],[0.6666666666666666,\"#ed7953\"],[0.7777777777777778,\"#fb9f3a\"],[0.8888888888888888,\"#fdca26\"],[1.0,\"#f0f921\"]]},\"colorway\":[\"#636efa\",\"#EF553B\",\"#00cc96\",\"#ab63fa\",\"#FFA15A\",\"#19d3f3\",\"#FF6692\",\"#B6E880\",\"#FF97FF\",\"#FECB52\"],\"font\":{\"color\":\"#2a3f5f\"},\"geo\":{\"bgcolor\":\"white\",\"lakecolor\":\"white\",\"landcolor\":\"#E5ECF6\",\"showlakes\":true,\"showland\":true,\"subunitcolor\":\"white\"},\"hoverlabel\":{\"align\":\"left\"},\"hovermode\":\"closest\",\"mapbox\":{\"style\":\"light\"},\"paper_bgcolor\":\"white\",\"plot_bgcolor\":\"#E5ECF6\",\"polar\":{\"angularaxis\":{\"gridcolor\":\"white\",\"linecolor\":\"white\",\"ticks\":\"\"},\"bgcolor\":\"#E5ECF6\",\"radialaxis\":{\"gridcolor\":\"white\",\"linecolor\":\"white\",\"ticks\":\"\"}},\"scene\":{\"xaxis\":{\"backgroundcolor\":\"#E5ECF6\",\"gridcolor\":\"white\",\"gridwidth\":2,\"linecolor\":\"white\",\"showbackground\":true,\"ticks\":\"\",\"zerolinecolor\":\"white\"},\"yaxis\":{\"backgroundcolor\":\"#E5ECF6\",\"gridcolor\":\"white\",\"gridwidth\":2,\"linecolor\":\"white\",\"showbackground\":true,\"ticks\":\"\",\"zerolinecolor\":\"white\"},\"zaxis\":{\"backgroundcolor\":\"#E5ECF6\",\"gridcolor\":\"white\",\"gridwidth\":2,\"linecolor\":\"white\",\"showbackground\":true,\"ticks\":\"\",\"zerolinecolor\":\"white\"}},\"shapedefaults\":{\"line\":{\"color\":\"#2a3f5f\"}},\"ternary\":{\"aaxis\":{\"gridcolor\":\"white\",\"linecolor\":\"white\",\"ticks\":\"\"},\"baxis\":{\"gridcolor\":\"white\",\"linecolor\":\"white\",\"ticks\":\"\"},\"bgcolor\":\"#E5ECF6\",\"caxis\":{\"gridcolor\":\"white\",\"linecolor\":\"white\",\"ticks\":\"\"}},\"title\":{\"x\":0.05},\"xaxis\":{\"automargin\":true,\"gridcolor\":\"white\",\"linecolor\":\"white\",\"ticks\":\"\",\"title\":{\"standoff\":15},\"zerolinecolor\":\"white\",\"zerolinewidth\":2},\"yaxis\":{\"automargin\":true,\"gridcolor\":\"white\",\"linecolor\":\"white\",\"ticks\":\"\",\"title\":{\"standoff\":15},\"zerolinecolor\":\"white\",\"zerolinewidth\":2}}},\"title\":{\"font\":{\"color\":\"#4D5663\"}},\"xaxis\":{\"gridcolor\":\"#E1E5ED\",\"showgrid\":true,\"tickfont\":{\"color\":\"#4D5663\"},\"title\":{\"font\":{\"color\":\"#4D5663\"},\"text\":\"\"},\"zerolinecolor\":\"#E1E5ED\"},\"yaxis\":{\"gridcolor\":\"#E1E5ED\",\"showgrid\":true,\"tickfont\":{\"color\":\"#4D5663\"},\"title\":{\"font\":{\"color\":\"#4D5663\"},\"text\":\"\"},\"zerolinecolor\":\"#E1E5ED\"}},                        {\"showLink\": true, \"linkText\": \"Export to plot.ly\", \"plotlyServerURL\": \"https://plot.ly\", \"responsive\": true}                    ).then(function(){\n",
       "                            \n",
       "var gd = document.getElementById('6e641ef6-1679-4e68-a874-8b7cab4edf91');\n",
       "var x = new MutationObserver(function (mutations, observer) {{\n",
       "        var display = window.getComputedStyle(gd).display;\n",
       "        if (!display || display === 'none') {{\n",
       "            console.log([gd, 'removed!']);\n",
       "            Plotly.purge(gd);\n",
       "            observer.disconnect();\n",
       "        }}\n",
       "}});\n",
       "\n",
       "// Listen for the removal of the full notebook cells\n",
       "var notebookContainer = gd.closest('#notebook-container');\n",
       "if (notebookContainer) {{\n",
       "    x.observe(notebookContainer, {childList: true});\n",
       "}}\n",
       "\n",
       "// Listen for the clearing of the current output cell\n",
       "var outputEl = gd.closest('.output');\n",
       "if (outputEl) {{\n",
       "    x.observe(outputEl, {childList: true});\n",
       "}}\n",
       "\n",
       "                        })                };                });            </script>        </div>"
      ]
     },
     "metadata": {},
     "output_type": "display_data"
    }
   ],
   "source": [
    "df.count().iplot(kind='bar')"
   ]
  },
  {
   "cell_type": "markdown",
   "metadata": {},
   "source": [
    "## Boxplots"
   ]
  },
  {
   "cell_type": "code",
   "execution_count": 13,
   "metadata": {},
   "outputs": [
    {
     "data": {
      "application/vnd.plotly.v1+json": {
       "config": {
        "linkText": "Export to plot.ly",
        "plotlyServerURL": "https://plot.ly",
        "showLink": true
       },
       "data": [
        {
         "boxpoints": false,
         "line": {
          "width": 1.3
         },
         "marker": {
          "color": "rgba(255, 153, 51, 1.0)"
         },
         "name": "A",
         "orientation": "v",
         "type": "box",
         "y": [
          1.6390172210782112,
          0.35036309608803734,
          0.005345251605557072,
          -1.007168582401739,
          0.6064372360595194,
          -0.8559716524754347,
          -0.29295931013977455,
          0.11469913509520363,
          -0.7523106090575572,
          -0.195634901571466,
          -0.5404692462016839,
          -1.3120969565229128,
          1.1111884746332532,
          -1.4563221199532441,
          -0.4000778003521611,
          -1.4451703461721117,
          -1.363231315990348,
          0.658342303654108,
          0.8786515409349503,
          -1.5086797797943805,
          -0.5725951421783421,
          -2.9521790062884317,
          0.8107187720350392,
          -2.519087609499849,
          0.6896584787258254,
          0.6435745175482077,
          -1.2000336887451124,
          0.34086045864628756,
          0.2654469043662446,
          -0.07746292037022126,
          0.8630843825610846,
          1.0891490140181523,
          -1.9524223419631697,
          0.6858617659955623,
          0.2883834504425376,
          0.20911482004677523,
          0.5299742543623438,
          1.1327845046858638,
          -0.7251055108060356,
          1.2135193055712752,
          2.300244842789878,
          -0.738390301241366,
          0.05291785180475275,
          -3.4709290329743743,
          0.5977833494136633,
          0.14110732006113477,
          -0.5840013368991821,
          0.004953715931068007,
          -1.223861385225602,
          0.6190924457254161,
          0.039732403047753204,
          1.425699337352612,
          0.44876455422443184,
          1.0781702197003584,
          1.6736082013851366,
          0.13414414323520682,
          -0.049714591234064916,
          1.5718612497436992,
          -0.488626681795911,
          -1.0745094634783077,
          0.010835515648132663,
          0.7740169127901401,
          -0.6426873875675859,
          -0.9754780684816817,
          0.5529827758798664,
          -1.0672963254082246,
          -0.04456852341750004,
          0.7692202067160016,
          1.2321144828985524,
          0.1433419894687381,
          -0.2909362098687318,
          -0.47267633317745456,
          1.7972382007227412,
          0.21805988911238225,
          -0.009552893266460817,
          1.3467405298885615,
          1.585402040037534,
          -0.4229297524139318,
          -0.3769072295415943,
          -0.3270199703308662,
          -1.6570808165725148,
          -0.12574749288277748,
          -0.6176444759289953,
          0.7439988726600845,
          0.24613374285765183,
          0.38947090242920723,
          1.6723019786775943,
          -0.41963702796672747,
          0.9047373455383958,
          -0.017673105582772474,
          -1.0170416703023462,
          -0.19324125760756355,
          -1.2503224511053932,
          -2.1470424425254766,
          1.0221779062477727,
          -2.5065738171228205,
          -0.05963337005966899,
          0.47649356521775404,
          1.4276528138041606,
          -0.32425457930617246
         ]
        },
        {
         "boxpoints": false,
         "line": {
          "width": 1.3
         },
         "marker": {
          "color": "rgba(55, 128, 191, 1.0)"
         },
         "name": "B",
         "orientation": "v",
         "type": "box",
         "y": [
          1.102553266001446,
          0.07003004352789324,
          0.5810101219197732,
          -1.9203120747377667,
          0.7532931016641667,
          -1.8337590115007922,
          0.3096264931476165,
          0.6393282156170463,
          -0.798725006016867,
          0.5417207731363791,
          -0.4239424069146018,
          -0.41392400709499866,
          0.08559850853532823,
          0.9093550061070701,
          -0.7280430808263331,
          -0.6824589540078425,
          0.28090931380191964,
          -0.3319007037857765,
          -1.6667158346606188,
          1.6130909499660644,
          -0.29661045750111187,
          0.03900350809678387,
          -1.071474539376231,
          1.5231277410687434,
          -0.5079840148181424,
          -0.25873323295644196,
          0.824139139298492,
          -0.7159802359304246,
          0.0625797583586818,
          -0.3284807894012514,
          1.8955312299431808,
          0.19648109599776153,
          -0.7495227570633665,
          -0.4242023122477403,
          0.3280281720357379,
          1.286964003251896,
          0.5657468540102697,
          1.3689612247632001,
          -0.14350400521153903,
          0.4957019813435518,
          -0.15271765262681536,
          0.6806210533160196,
          -0.10168526735020109,
          -0.5982519315647606,
          -0.6749402596978042,
          0.9702043432759824,
          0.1819894336902613,
          0.5985343656147386,
          0.8340920172057208,
          -0.3702418957397792,
          -0.846857106926398,
          1.0311250582516243,
          0.5008522513259931,
          0.3365768679120584,
          1.7121320739187826,
          0.5117482937902189,
          -1.8244623092300802,
          0.4321066066002589,
          -1.4421686853378737,
          0.19790900585090146,
          0.5589783024737872,
          1.7182668640964827,
          1.315239011718634,
          1.7541664056342483,
          1.0824383076378559,
          0.22308066904734622,
          0.19192596158254535,
          -0.6642502185333556,
          -1.233927505323582,
          -0.5150258836486774,
          0.7724192205916995,
          -1.539246559652809,
          -0.3441725530827281,
          -1.294768684186355,
          2.1510598274343513,
          -0.43919021706940076,
          0.7869812774679221,
          -0.2659664510423569,
          -0.178614785666635,
          0.7088802171641168,
          -0.8127121234339456,
          0.2522994859088976,
          -0.8830069315654053,
          -0.035996353631033304,
          -0.09755848244586804,
          -1.1402570557997063,
          1.0168044017244504,
          0.19659128228813155,
          0.657835318268974,
          -1.6522321435881624,
          -0.7204032750503859,
          -2.0365700276099843,
          0.42548498076418545,
          -1.198762076198404,
          -0.08761184598444494,
          0.38108581263880736,
          -0.41153334539835307,
          -0.3198757873724358,
          -1.7491866397945144,
          0.06285634871996862
         ]
        },
        {
         "boxpoints": false,
         "line": {
          "width": 1.3
         },
         "marker": {
          "color": "rgba(50, 171, 96, 1.0)"
         },
         "name": "C",
         "orientation": "v",
         "type": "box",
         "y": [
          -1.2360563498264105,
          1.3159246155540758,
          -1.0482603162166566,
          0.9432616197698795,
          0.10949886162246518,
          0.5313438139599458,
          -1.3552785017281528,
          0.12462285062562888,
          -0.4889671456360796,
          -1.7262254043755738,
          -0.4727441117244799,
          2.23016733519551,
          -1.5116922783089672,
          1.0497036131393698,
          -0.3470306443121238,
          -0.075443785828641,
          -1.4295392830009814,
          -0.30124193344180233,
          -1.3677720811705105,
          -0.8353199309143495,
          0.25656687810902506,
          0.19032657870124028,
          0.5197559209704815,
          1.921351175003571,
          0.08679678567510596,
          -1.036855853984869,
          -0.48260313794125065,
          1.0669390875077744,
          -0.4998410973231635,
          1.4813675874982553,
          -2.08755006932975,
          1.4705101950570325,
          1.1456828682182947,
          -0.08809791636786443,
          -1.030893766505458,
          -0.7555175682912136,
          0.07260594299456122,
          2.2148128286809285,
          0.32373193348590285,
          0.5022243710604071,
          1.0403970950093342,
          0.4917850418417762,
          1.9661347817075387,
          -0.5731101043316489,
          -0.20878340179099592,
          -0.5022600886571217,
          0.767888524172614,
          -0.05836163111324807,
          -0.8366541518953358,
          -1.4756852125807234,
          0.4342292402110419,
          1.011375246477727,
          -0.03237677526662315,
          -1.5922206232981653,
          0.6801877876131237,
          -0.7609471783218504,
          -0.8953247315868167,
          -0.8918628114730981,
          1.0853164431965339,
          0.59632343162454,
          0.8326872866933389,
          -0.7875772856791142,
          0.23904939197822037,
          0.27233819891138294,
          2.158220785969478,
          -0.8047814973479522,
          1.1371537496974125,
          0.37714487561804827,
          0.3331136636808223,
          -1.1681919120199784,
          -0.6764021446986844,
          -0.6205998252229585,
          0.1125284868564861,
          0.15957840800580372,
          1.5188194312814423,
          1.4089987295870168,
          0.10312109310131272,
          -0.8695305524847472,
          -1.0332649555822395,
          0.1949052313930126,
          0.529649175782848,
          -2.461728343380069,
          -0.6476436240576234,
          -1.5830176874090964,
          0.1823987199377903,
          -0.7353989000653937,
          -0.3265920569485933,
          0.14176988754621792,
          -0.12049426897958981,
          -0.07429772129139557,
          0.5858574165205841,
          0.6742532264468089,
          -1.039742973706262,
          -0.10441732330559937,
          0.13297570250755156,
          0.35675827309400593,
          0.5429576605960009,
          0.8481299972917296,
          -1.269197745394751,
          -0.063424522296274
         ]
        },
        {
         "boxpoints": false,
         "line": {
          "width": 1.3
         },
         "marker": {
          "color": "rgba(128, 0, 128, 1.0)"
         },
         "name": "D",
         "orientation": "v",
         "type": "box",
         "y": [
          -0.3876351538192493,
          -0.8296571219705642,
          -0.9666359010560744,
          -0.27252610137131583,
          0.29024583738250814,
          0.026293118578263032,
          0.1809630272451399,
          0.724968679915043,
          0.31262232066408185,
          -1.017825673956993,
          1.3696921307512595,
          1.3775889124639769,
          1.241098369180556,
          -0.6990524380989664,
          1.4747367236717397,
          0.5798228850293702,
          -1.036380740783406,
          0.8608894323795349,
          0.16714974846456593,
          0.6891428351484585,
          2.307597149763561,
          -0.19384362150846227,
          0.4411638735799402,
          0.9467707643346768,
          1.1935611200206604,
          -1.2082823855441158,
          -1.450893573650019,
          -0.9388907679342247,
          -0.44626964981179124,
          -1.29486767365812,
          0.20713729662405478,
          -0.6221414037699228,
          -0.6351880928477655,
          0.6098282530454491,
          0.3560243596805245,
          -0.38101026326892906,
          0.16960331543066987,
          0.7725812733389487,
          0.3193672008945128,
          0.12481433995434044,
          -1.2285353784601412,
          -0.712473629988644,
          -0.640186135196878,
          0.24458816789031673,
          -1.0113584036999896,
          -1.0728721448384266,
          -0.9952399420140805,
          -0.893786982521726,
          -1.0197858726369542,
          1.7919412297704587,
          0.9131794048060983,
          0.9294387718396656,
          -0.7863980384807477,
          1.4703071359742637,
          -0.764805697844493,
          1.4842095823819974,
          0.16197078331900475,
          -0.9523819336524822,
          0.1161357605797125,
          0.332018726360375,
          0.3978741352435876,
          1.3556320140950224,
          -0.28575551342641087,
          0.8874988150562103,
          0.09126583288734684,
          -0.30523257816122823,
          0.4873327207221328,
          0.6267538228082257,
          0.6503644344585291,
          0.9419861828588326,
          0.4761434464155009,
          -1.642093716172821,
          0.9462974435287662,
          2.245208081719052,
          -0.6545076564710867,
          -1.0415956371009087,
          -1.2618471555939805,
          -1.5595520204931115,
          1.0968150847773313,
          1.870688624312931,
          -0.36630708128034223,
          0.5029843940902577,
          0.21729457633436644,
          1.1515070541079988,
          -0.2853792863872244,
          0.19130556138435756,
          1.2119821642251132,
          0.35848705096098443,
          -0.004269602293290566,
          -0.02831173558559384,
          1.3307159916456643,
          -0.11626202059381414,
          0.13217089093742912,
          -0.930755324831226,
          -0.8022217937210094,
          0.14292601668996605,
          0.5585494252446102,
          -0.5067800112656453,
          0.18540048779486654,
          0.4483455209106131
         ]
        }
       ],
       "layout": {
        "legend": {
         "bgcolor": "#F5F6F9",
         "font": {
          "color": "#4D5663"
         }
        },
        "paper_bgcolor": "#F5F6F9",
        "plot_bgcolor": "#F5F6F9",
        "template": {
         "data": {
          "bar": [
           {
            "error_x": {
             "color": "#2a3f5f"
            },
            "error_y": {
             "color": "#2a3f5f"
            },
            "marker": {
             "line": {
              "color": "#E5ECF6",
              "width": 0.5
             },
             "pattern": {
              "fillmode": "overlay",
              "size": 10,
              "solidity": 0.2
             }
            },
            "type": "bar"
           }
          ],
          "barpolar": [
           {
            "marker": {
             "line": {
              "color": "#E5ECF6",
              "width": 0.5
             },
             "pattern": {
              "fillmode": "overlay",
              "size": 10,
              "solidity": 0.2
             }
            },
            "type": "barpolar"
           }
          ],
          "carpet": [
           {
            "aaxis": {
             "endlinecolor": "#2a3f5f",
             "gridcolor": "white",
             "linecolor": "white",
             "minorgridcolor": "white",
             "startlinecolor": "#2a3f5f"
            },
            "baxis": {
             "endlinecolor": "#2a3f5f",
             "gridcolor": "white",
             "linecolor": "white",
             "minorgridcolor": "white",
             "startlinecolor": "#2a3f5f"
            },
            "type": "carpet"
           }
          ],
          "choropleth": [
           {
            "colorbar": {
             "outlinewidth": 0,
             "ticks": ""
            },
            "type": "choropleth"
           }
          ],
          "contour": [
           {
            "colorbar": {
             "outlinewidth": 0,
             "ticks": ""
            },
            "colorscale": [
             [
              0,
              "#0d0887"
             ],
             [
              0.1111111111111111,
              "#46039f"
             ],
             [
              0.2222222222222222,
              "#7201a8"
             ],
             [
              0.3333333333333333,
              "#9c179e"
             ],
             [
              0.4444444444444444,
              "#bd3786"
             ],
             [
              0.5555555555555556,
              "#d8576b"
             ],
             [
              0.6666666666666666,
              "#ed7953"
             ],
             [
              0.7777777777777778,
              "#fb9f3a"
             ],
             [
              0.8888888888888888,
              "#fdca26"
             ],
             [
              1,
              "#f0f921"
             ]
            ],
            "type": "contour"
           }
          ],
          "contourcarpet": [
           {
            "colorbar": {
             "outlinewidth": 0,
             "ticks": ""
            },
            "type": "contourcarpet"
           }
          ],
          "heatmap": [
           {
            "colorbar": {
             "outlinewidth": 0,
             "ticks": ""
            },
            "colorscale": [
             [
              0,
              "#0d0887"
             ],
             [
              0.1111111111111111,
              "#46039f"
             ],
             [
              0.2222222222222222,
              "#7201a8"
             ],
             [
              0.3333333333333333,
              "#9c179e"
             ],
             [
              0.4444444444444444,
              "#bd3786"
             ],
             [
              0.5555555555555556,
              "#d8576b"
             ],
             [
              0.6666666666666666,
              "#ed7953"
             ],
             [
              0.7777777777777778,
              "#fb9f3a"
             ],
             [
              0.8888888888888888,
              "#fdca26"
             ],
             [
              1,
              "#f0f921"
             ]
            ],
            "type": "heatmap"
           }
          ],
          "heatmapgl": [
           {
            "colorbar": {
             "outlinewidth": 0,
             "ticks": ""
            },
            "colorscale": [
             [
              0,
              "#0d0887"
             ],
             [
              0.1111111111111111,
              "#46039f"
             ],
             [
              0.2222222222222222,
              "#7201a8"
             ],
             [
              0.3333333333333333,
              "#9c179e"
             ],
             [
              0.4444444444444444,
              "#bd3786"
             ],
             [
              0.5555555555555556,
              "#d8576b"
             ],
             [
              0.6666666666666666,
              "#ed7953"
             ],
             [
              0.7777777777777778,
              "#fb9f3a"
             ],
             [
              0.8888888888888888,
              "#fdca26"
             ],
             [
              1,
              "#f0f921"
             ]
            ],
            "type": "heatmapgl"
           }
          ],
          "histogram": [
           {
            "marker": {
             "pattern": {
              "fillmode": "overlay",
              "size": 10,
              "solidity": 0.2
             }
            },
            "type": "histogram"
           }
          ],
          "histogram2d": [
           {
            "colorbar": {
             "outlinewidth": 0,
             "ticks": ""
            },
            "colorscale": [
             [
              0,
              "#0d0887"
             ],
             [
              0.1111111111111111,
              "#46039f"
             ],
             [
              0.2222222222222222,
              "#7201a8"
             ],
             [
              0.3333333333333333,
              "#9c179e"
             ],
             [
              0.4444444444444444,
              "#bd3786"
             ],
             [
              0.5555555555555556,
              "#d8576b"
             ],
             [
              0.6666666666666666,
              "#ed7953"
             ],
             [
              0.7777777777777778,
              "#fb9f3a"
             ],
             [
              0.8888888888888888,
              "#fdca26"
             ],
             [
              1,
              "#f0f921"
             ]
            ],
            "type": "histogram2d"
           }
          ],
          "histogram2dcontour": [
           {
            "colorbar": {
             "outlinewidth": 0,
             "ticks": ""
            },
            "colorscale": [
             [
              0,
              "#0d0887"
             ],
             [
              0.1111111111111111,
              "#46039f"
             ],
             [
              0.2222222222222222,
              "#7201a8"
             ],
             [
              0.3333333333333333,
              "#9c179e"
             ],
             [
              0.4444444444444444,
              "#bd3786"
             ],
             [
              0.5555555555555556,
              "#d8576b"
             ],
             [
              0.6666666666666666,
              "#ed7953"
             ],
             [
              0.7777777777777778,
              "#fb9f3a"
             ],
             [
              0.8888888888888888,
              "#fdca26"
             ],
             [
              1,
              "#f0f921"
             ]
            ],
            "type": "histogram2dcontour"
           }
          ],
          "mesh3d": [
           {
            "colorbar": {
             "outlinewidth": 0,
             "ticks": ""
            },
            "type": "mesh3d"
           }
          ],
          "parcoords": [
           {
            "line": {
             "colorbar": {
              "outlinewidth": 0,
              "ticks": ""
             }
            },
            "type": "parcoords"
           }
          ],
          "pie": [
           {
            "automargin": true,
            "type": "pie"
           }
          ],
          "scatter": [
           {
            "marker": {
             "colorbar": {
              "outlinewidth": 0,
              "ticks": ""
             }
            },
            "type": "scatter"
           }
          ],
          "scatter3d": [
           {
            "line": {
             "colorbar": {
              "outlinewidth": 0,
              "ticks": ""
             }
            },
            "marker": {
             "colorbar": {
              "outlinewidth": 0,
              "ticks": ""
             }
            },
            "type": "scatter3d"
           }
          ],
          "scattercarpet": [
           {
            "marker": {
             "colorbar": {
              "outlinewidth": 0,
              "ticks": ""
             }
            },
            "type": "scattercarpet"
           }
          ],
          "scattergeo": [
           {
            "marker": {
             "colorbar": {
              "outlinewidth": 0,
              "ticks": ""
             }
            },
            "type": "scattergeo"
           }
          ],
          "scattergl": [
           {
            "marker": {
             "colorbar": {
              "outlinewidth": 0,
              "ticks": ""
             }
            },
            "type": "scattergl"
           }
          ],
          "scattermapbox": [
           {
            "marker": {
             "colorbar": {
              "outlinewidth": 0,
              "ticks": ""
             }
            },
            "type": "scattermapbox"
           }
          ],
          "scatterpolar": [
           {
            "marker": {
             "colorbar": {
              "outlinewidth": 0,
              "ticks": ""
             }
            },
            "type": "scatterpolar"
           }
          ],
          "scatterpolargl": [
           {
            "marker": {
             "colorbar": {
              "outlinewidth": 0,
              "ticks": ""
             }
            },
            "type": "scatterpolargl"
           }
          ],
          "scatterternary": [
           {
            "marker": {
             "colorbar": {
              "outlinewidth": 0,
              "ticks": ""
             }
            },
            "type": "scatterternary"
           }
          ],
          "surface": [
           {
            "colorbar": {
             "outlinewidth": 0,
             "ticks": ""
            },
            "colorscale": [
             [
              0,
              "#0d0887"
             ],
             [
              0.1111111111111111,
              "#46039f"
             ],
             [
              0.2222222222222222,
              "#7201a8"
             ],
             [
              0.3333333333333333,
              "#9c179e"
             ],
             [
              0.4444444444444444,
              "#bd3786"
             ],
             [
              0.5555555555555556,
              "#d8576b"
             ],
             [
              0.6666666666666666,
              "#ed7953"
             ],
             [
              0.7777777777777778,
              "#fb9f3a"
             ],
             [
              0.8888888888888888,
              "#fdca26"
             ],
             [
              1,
              "#f0f921"
             ]
            ],
            "type": "surface"
           }
          ],
          "table": [
           {
            "cells": {
             "fill": {
              "color": "#EBF0F8"
             },
             "line": {
              "color": "white"
             }
            },
            "header": {
             "fill": {
              "color": "#C8D4E3"
             },
             "line": {
              "color": "white"
             }
            },
            "type": "table"
           }
          ]
         },
         "layout": {
          "annotationdefaults": {
           "arrowcolor": "#2a3f5f",
           "arrowhead": 0,
           "arrowwidth": 1
          },
          "autotypenumbers": "strict",
          "coloraxis": {
           "colorbar": {
            "outlinewidth": 0,
            "ticks": ""
           }
          },
          "colorscale": {
           "diverging": [
            [
             0,
             "#8e0152"
            ],
            [
             0.1,
             "#c51b7d"
            ],
            [
             0.2,
             "#de77ae"
            ],
            [
             0.3,
             "#f1b6da"
            ],
            [
             0.4,
             "#fde0ef"
            ],
            [
             0.5,
             "#f7f7f7"
            ],
            [
             0.6,
             "#e6f5d0"
            ],
            [
             0.7,
             "#b8e186"
            ],
            [
             0.8,
             "#7fbc41"
            ],
            [
             0.9,
             "#4d9221"
            ],
            [
             1,
             "#276419"
            ]
           ],
           "sequential": [
            [
             0,
             "#0d0887"
            ],
            [
             0.1111111111111111,
             "#46039f"
            ],
            [
             0.2222222222222222,
             "#7201a8"
            ],
            [
             0.3333333333333333,
             "#9c179e"
            ],
            [
             0.4444444444444444,
             "#bd3786"
            ],
            [
             0.5555555555555556,
             "#d8576b"
            ],
            [
             0.6666666666666666,
             "#ed7953"
            ],
            [
             0.7777777777777778,
             "#fb9f3a"
            ],
            [
             0.8888888888888888,
             "#fdca26"
            ],
            [
             1,
             "#f0f921"
            ]
           ],
           "sequentialminus": [
            [
             0,
             "#0d0887"
            ],
            [
             0.1111111111111111,
             "#46039f"
            ],
            [
             0.2222222222222222,
             "#7201a8"
            ],
            [
             0.3333333333333333,
             "#9c179e"
            ],
            [
             0.4444444444444444,
             "#bd3786"
            ],
            [
             0.5555555555555556,
             "#d8576b"
            ],
            [
             0.6666666666666666,
             "#ed7953"
            ],
            [
             0.7777777777777778,
             "#fb9f3a"
            ],
            [
             0.8888888888888888,
             "#fdca26"
            ],
            [
             1,
             "#f0f921"
            ]
           ]
          },
          "colorway": [
           "#636efa",
           "#EF553B",
           "#00cc96",
           "#ab63fa",
           "#FFA15A",
           "#19d3f3",
           "#FF6692",
           "#B6E880",
           "#FF97FF",
           "#FECB52"
          ],
          "font": {
           "color": "#2a3f5f"
          },
          "geo": {
           "bgcolor": "white",
           "lakecolor": "white",
           "landcolor": "#E5ECF6",
           "showlakes": true,
           "showland": true,
           "subunitcolor": "white"
          },
          "hoverlabel": {
           "align": "left"
          },
          "hovermode": "closest",
          "mapbox": {
           "style": "light"
          },
          "paper_bgcolor": "white",
          "plot_bgcolor": "#E5ECF6",
          "polar": {
           "angularaxis": {
            "gridcolor": "white",
            "linecolor": "white",
            "ticks": ""
           },
           "bgcolor": "#E5ECF6",
           "radialaxis": {
            "gridcolor": "white",
            "linecolor": "white",
            "ticks": ""
           }
          },
          "scene": {
           "xaxis": {
            "backgroundcolor": "#E5ECF6",
            "gridcolor": "white",
            "gridwidth": 2,
            "linecolor": "white",
            "showbackground": true,
            "ticks": "",
            "zerolinecolor": "white"
           },
           "yaxis": {
            "backgroundcolor": "#E5ECF6",
            "gridcolor": "white",
            "gridwidth": 2,
            "linecolor": "white",
            "showbackground": true,
            "ticks": "",
            "zerolinecolor": "white"
           },
           "zaxis": {
            "backgroundcolor": "#E5ECF6",
            "gridcolor": "white",
            "gridwidth": 2,
            "linecolor": "white",
            "showbackground": true,
            "ticks": "",
            "zerolinecolor": "white"
           }
          },
          "shapedefaults": {
           "line": {
            "color": "#2a3f5f"
           }
          },
          "ternary": {
           "aaxis": {
            "gridcolor": "white",
            "linecolor": "white",
            "ticks": ""
           },
           "baxis": {
            "gridcolor": "white",
            "linecolor": "white",
            "ticks": ""
           },
           "bgcolor": "#E5ECF6",
           "caxis": {
            "gridcolor": "white",
            "linecolor": "white",
            "ticks": ""
           }
          },
          "title": {
           "x": 0.05
          },
          "xaxis": {
           "automargin": true,
           "gridcolor": "white",
           "linecolor": "white",
           "ticks": "",
           "title": {
            "standoff": 15
           },
           "zerolinecolor": "white",
           "zerolinewidth": 2
          },
          "yaxis": {
           "automargin": true,
           "gridcolor": "white",
           "linecolor": "white",
           "ticks": "",
           "title": {
            "standoff": 15
           },
           "zerolinecolor": "white",
           "zerolinewidth": 2
          }
         }
        },
        "title": {
         "font": {
          "color": "#4D5663"
         }
        },
        "xaxis": {
         "gridcolor": "#E1E5ED",
         "showgrid": true,
         "tickfont": {
          "color": "#4D5663"
         },
         "title": {
          "font": {
           "color": "#4D5663"
          },
          "text": ""
         },
         "zerolinecolor": "#E1E5ED"
        },
        "yaxis": {
         "gridcolor": "#E1E5ED",
         "showgrid": true,
         "tickfont": {
          "color": "#4D5663"
         },
         "title": {
          "font": {
           "color": "#4D5663"
          },
          "text": ""
         },
         "zerolinecolor": "#E1E5ED"
        }
       }
      },
      "text/html": [
       "<div>                            <div id=\"2f49a170-79c7-4c11-9c78-93a20894baec\" class=\"plotly-graph-div\" style=\"height:525px; width:100%;\"></div>            <script type=\"text/javascript\">                require([\"plotly\"], function(Plotly) {                    window.PLOTLYENV=window.PLOTLYENV || {};\n",
       "                    window.PLOTLYENV.BASE_URL='https://plot.ly';                                    if (document.getElementById(\"2f49a170-79c7-4c11-9c78-93a20894baec\")) {                    Plotly.newPlot(                        \"2f49a170-79c7-4c11-9c78-93a20894baec\",                        [{\"boxpoints\":false,\"line\":{\"width\":1.3},\"marker\":{\"color\":\"rgba(255, 153, 51, 1.0)\"},\"name\":\"A\",\"orientation\":\"v\",\"type\":\"box\",\"y\":[1.6390172210782112,0.35036309608803734,0.005345251605557072,-1.007168582401739,0.6064372360595194,-0.8559716524754347,-0.29295931013977455,0.11469913509520363,-0.7523106090575572,-0.195634901571466,-0.5404692462016839,-1.3120969565229128,1.1111884746332532,-1.4563221199532441,-0.4000778003521611,-1.4451703461721117,-1.363231315990348,0.658342303654108,0.8786515409349503,-1.5086797797943805,-0.5725951421783421,-2.9521790062884317,0.8107187720350392,-2.519087609499849,0.6896584787258254,0.6435745175482077,-1.2000336887451124,0.34086045864628756,0.2654469043662446,-0.07746292037022126,0.8630843825610846,1.0891490140181523,-1.9524223419631697,0.6858617659955623,0.2883834504425376,0.20911482004677523,0.5299742543623438,1.1327845046858638,-0.7251055108060356,1.2135193055712752,2.300244842789878,-0.738390301241366,0.05291785180475275,-3.4709290329743743,0.5977833494136633,0.14110732006113477,-0.5840013368991821,0.004953715931068007,-1.223861385225602,0.6190924457254161,0.039732403047753204,1.425699337352612,0.44876455422443184,1.0781702197003584,1.6736082013851366,0.13414414323520682,-0.049714591234064916,1.5718612497436992,-0.488626681795911,-1.0745094634783077,0.010835515648132663,0.7740169127901401,-0.6426873875675859,-0.9754780684816817,0.5529827758798664,-1.0672963254082246,-0.04456852341750004,0.7692202067160016,1.2321144828985524,0.1433419894687381,-0.2909362098687318,-0.47267633317745456,1.7972382007227412,0.21805988911238225,-0.009552893266460817,1.3467405298885615,1.585402040037534,-0.4229297524139318,-0.3769072295415943,-0.3270199703308662,-1.6570808165725148,-0.12574749288277748,-0.6176444759289953,0.7439988726600845,0.24613374285765183,0.38947090242920723,1.6723019786775943,-0.41963702796672747,0.9047373455383958,-0.017673105582772474,-1.0170416703023462,-0.19324125760756355,-1.2503224511053932,-2.1470424425254766,1.0221779062477727,-2.5065738171228205,-0.05963337005966899,0.47649356521775404,1.4276528138041606,-0.32425457930617246]},{\"boxpoints\":false,\"line\":{\"width\":1.3},\"marker\":{\"color\":\"rgba(55, 128, 191, 1.0)\"},\"name\":\"B\",\"orientation\":\"v\",\"type\":\"box\",\"y\":[1.102553266001446,0.07003004352789324,0.5810101219197732,-1.9203120747377667,0.7532931016641667,-1.8337590115007922,0.3096264931476165,0.6393282156170463,-0.798725006016867,0.5417207731363791,-0.4239424069146018,-0.41392400709499866,0.08559850853532823,0.9093550061070701,-0.7280430808263331,-0.6824589540078425,0.28090931380191964,-0.3319007037857765,-1.6667158346606188,1.6130909499660644,-0.29661045750111187,0.03900350809678387,-1.071474539376231,1.5231277410687434,-0.5079840148181424,-0.25873323295644196,0.824139139298492,-0.7159802359304246,0.0625797583586818,-0.3284807894012514,1.8955312299431808,0.19648109599776153,-0.7495227570633665,-0.4242023122477403,0.3280281720357379,1.286964003251896,0.5657468540102697,1.3689612247632001,-0.14350400521153903,0.4957019813435518,-0.15271765262681536,0.6806210533160196,-0.10168526735020109,-0.5982519315647606,-0.6749402596978042,0.9702043432759824,0.1819894336902613,0.5985343656147386,0.8340920172057208,-0.3702418957397792,-0.846857106926398,1.0311250582516243,0.5008522513259931,0.3365768679120584,1.7121320739187826,0.5117482937902189,-1.8244623092300802,0.4321066066002589,-1.4421686853378737,0.19790900585090146,0.5589783024737872,1.7182668640964827,1.315239011718634,1.7541664056342483,1.0824383076378559,0.22308066904734622,0.19192596158254535,-0.6642502185333556,-1.233927505323582,-0.5150258836486774,0.7724192205916995,-1.539246559652809,-0.3441725530827281,-1.294768684186355,2.1510598274343513,-0.43919021706940076,0.7869812774679221,-0.2659664510423569,-0.178614785666635,0.7088802171641168,-0.8127121234339456,0.2522994859088976,-0.8830069315654053,-0.035996353631033304,-0.09755848244586804,-1.1402570557997063,1.0168044017244504,0.19659128228813155,0.657835318268974,-1.6522321435881624,-0.7204032750503859,-2.0365700276099843,0.42548498076418545,-1.198762076198404,-0.08761184598444494,0.38108581263880736,-0.41153334539835307,-0.3198757873724358,-1.7491866397945144,0.06285634871996862]},{\"boxpoints\":false,\"line\":{\"width\":1.3},\"marker\":{\"color\":\"rgba(50, 171, 96, 1.0)\"},\"name\":\"C\",\"orientation\":\"v\",\"type\":\"box\",\"y\":[-1.2360563498264105,1.3159246155540758,-1.0482603162166566,0.9432616197698795,0.10949886162246518,0.5313438139599458,-1.3552785017281528,0.12462285062562888,-0.4889671456360796,-1.7262254043755738,-0.4727441117244799,2.23016733519551,-1.5116922783089672,1.0497036131393698,-0.3470306443121238,-0.075443785828641,-1.4295392830009814,-0.30124193344180233,-1.3677720811705105,-0.8353199309143495,0.25656687810902506,0.19032657870124028,0.5197559209704815,1.921351175003571,0.08679678567510596,-1.036855853984869,-0.48260313794125065,1.0669390875077744,-0.4998410973231635,1.4813675874982553,-2.08755006932975,1.4705101950570325,1.1456828682182947,-0.08809791636786443,-1.030893766505458,-0.7555175682912136,0.07260594299456122,2.2148128286809285,0.32373193348590285,0.5022243710604071,1.0403970950093342,0.4917850418417762,1.9661347817075387,-0.5731101043316489,-0.20878340179099592,-0.5022600886571217,0.767888524172614,-0.05836163111324807,-0.8366541518953358,-1.4756852125807234,0.4342292402110419,1.011375246477727,-0.03237677526662315,-1.5922206232981653,0.6801877876131237,-0.7609471783218504,-0.8953247315868167,-0.8918628114730981,1.0853164431965339,0.59632343162454,0.8326872866933389,-0.7875772856791142,0.23904939197822037,0.27233819891138294,2.158220785969478,-0.8047814973479522,1.1371537496974125,0.37714487561804827,0.3331136636808223,-1.1681919120199784,-0.6764021446986844,-0.6205998252229585,0.1125284868564861,0.15957840800580372,1.5188194312814423,1.4089987295870168,0.10312109310131272,-0.8695305524847472,-1.0332649555822395,0.1949052313930126,0.529649175782848,-2.461728343380069,-0.6476436240576234,-1.5830176874090964,0.1823987199377903,-0.7353989000653937,-0.3265920569485933,0.14176988754621792,-0.12049426897958981,-0.07429772129139557,0.5858574165205841,0.6742532264468089,-1.039742973706262,-0.10441732330559937,0.13297570250755156,0.35675827309400593,0.5429576605960009,0.8481299972917296,-1.269197745394751,-0.063424522296274]},{\"boxpoints\":false,\"line\":{\"width\":1.3},\"marker\":{\"color\":\"rgba(128, 0, 128, 1.0)\"},\"name\":\"D\",\"orientation\":\"v\",\"type\":\"box\",\"y\":[-0.3876351538192493,-0.8296571219705642,-0.9666359010560744,-0.27252610137131583,0.29024583738250814,0.026293118578263032,0.1809630272451399,0.724968679915043,0.31262232066408185,-1.017825673956993,1.3696921307512595,1.3775889124639769,1.241098369180556,-0.6990524380989664,1.4747367236717397,0.5798228850293702,-1.036380740783406,0.8608894323795349,0.16714974846456593,0.6891428351484585,2.307597149763561,-0.19384362150846227,0.4411638735799402,0.9467707643346768,1.1935611200206604,-1.2082823855441158,-1.450893573650019,-0.9388907679342247,-0.44626964981179124,-1.29486767365812,0.20713729662405478,-0.6221414037699228,-0.6351880928477655,0.6098282530454491,0.3560243596805245,-0.38101026326892906,0.16960331543066987,0.7725812733389487,0.3193672008945128,0.12481433995434044,-1.2285353784601412,-0.712473629988644,-0.640186135196878,0.24458816789031673,-1.0113584036999896,-1.0728721448384266,-0.9952399420140805,-0.893786982521726,-1.0197858726369542,1.7919412297704587,0.9131794048060983,0.9294387718396656,-0.7863980384807477,1.4703071359742637,-0.764805697844493,1.4842095823819974,0.16197078331900475,-0.9523819336524822,0.1161357605797125,0.332018726360375,0.3978741352435876,1.3556320140950224,-0.28575551342641087,0.8874988150562103,0.09126583288734684,-0.30523257816122823,0.4873327207221328,0.6267538228082257,0.6503644344585291,0.9419861828588326,0.4761434464155009,-1.642093716172821,0.9462974435287662,2.245208081719052,-0.6545076564710867,-1.0415956371009087,-1.2618471555939805,-1.5595520204931115,1.0968150847773313,1.870688624312931,-0.36630708128034223,0.5029843940902577,0.21729457633436644,1.1515070541079988,-0.2853792863872244,0.19130556138435756,1.2119821642251132,0.35848705096098443,-0.004269602293290566,-0.02831173558559384,1.3307159916456643,-0.11626202059381414,0.13217089093742912,-0.930755324831226,-0.8022217937210094,0.14292601668996605,0.5585494252446102,-0.5067800112656453,0.18540048779486654,0.4483455209106131]}],                        {\"legend\":{\"bgcolor\":\"#F5F6F9\",\"font\":{\"color\":\"#4D5663\"}},\"paper_bgcolor\":\"#F5F6F9\",\"plot_bgcolor\":\"#F5F6F9\",\"template\":{\"data\":{\"bar\":[{\"error_x\":{\"color\":\"#2a3f5f\"},\"error_y\":{\"color\":\"#2a3f5f\"},\"marker\":{\"line\":{\"color\":\"#E5ECF6\",\"width\":0.5},\"pattern\":{\"fillmode\":\"overlay\",\"size\":10,\"solidity\":0.2}},\"type\":\"bar\"}],\"barpolar\":[{\"marker\":{\"line\":{\"color\":\"#E5ECF6\",\"width\":0.5},\"pattern\":{\"fillmode\":\"overlay\",\"size\":10,\"solidity\":0.2}},\"type\":\"barpolar\"}],\"carpet\":[{\"aaxis\":{\"endlinecolor\":\"#2a3f5f\",\"gridcolor\":\"white\",\"linecolor\":\"white\",\"minorgridcolor\":\"white\",\"startlinecolor\":\"#2a3f5f\"},\"baxis\":{\"endlinecolor\":\"#2a3f5f\",\"gridcolor\":\"white\",\"linecolor\":\"white\",\"minorgridcolor\":\"white\",\"startlinecolor\":\"#2a3f5f\"},\"type\":\"carpet\"}],\"choropleth\":[{\"colorbar\":{\"outlinewidth\":0,\"ticks\":\"\"},\"type\":\"choropleth\"}],\"contour\":[{\"colorbar\":{\"outlinewidth\":0,\"ticks\":\"\"},\"colorscale\":[[0.0,\"#0d0887\"],[0.1111111111111111,\"#46039f\"],[0.2222222222222222,\"#7201a8\"],[0.3333333333333333,\"#9c179e\"],[0.4444444444444444,\"#bd3786\"],[0.5555555555555556,\"#d8576b\"],[0.6666666666666666,\"#ed7953\"],[0.7777777777777778,\"#fb9f3a\"],[0.8888888888888888,\"#fdca26\"],[1.0,\"#f0f921\"]],\"type\":\"contour\"}],\"contourcarpet\":[{\"colorbar\":{\"outlinewidth\":0,\"ticks\":\"\"},\"type\":\"contourcarpet\"}],\"heatmap\":[{\"colorbar\":{\"outlinewidth\":0,\"ticks\":\"\"},\"colorscale\":[[0.0,\"#0d0887\"],[0.1111111111111111,\"#46039f\"],[0.2222222222222222,\"#7201a8\"],[0.3333333333333333,\"#9c179e\"],[0.4444444444444444,\"#bd3786\"],[0.5555555555555556,\"#d8576b\"],[0.6666666666666666,\"#ed7953\"],[0.7777777777777778,\"#fb9f3a\"],[0.8888888888888888,\"#fdca26\"],[1.0,\"#f0f921\"]],\"type\":\"heatmap\"}],\"heatmapgl\":[{\"colorbar\":{\"outlinewidth\":0,\"ticks\":\"\"},\"colorscale\":[[0.0,\"#0d0887\"],[0.1111111111111111,\"#46039f\"],[0.2222222222222222,\"#7201a8\"],[0.3333333333333333,\"#9c179e\"],[0.4444444444444444,\"#bd3786\"],[0.5555555555555556,\"#d8576b\"],[0.6666666666666666,\"#ed7953\"],[0.7777777777777778,\"#fb9f3a\"],[0.8888888888888888,\"#fdca26\"],[1.0,\"#f0f921\"]],\"type\":\"heatmapgl\"}],\"histogram\":[{\"marker\":{\"pattern\":{\"fillmode\":\"overlay\",\"size\":10,\"solidity\":0.2}},\"type\":\"histogram\"}],\"histogram2d\":[{\"colorbar\":{\"outlinewidth\":0,\"ticks\":\"\"},\"colorscale\":[[0.0,\"#0d0887\"],[0.1111111111111111,\"#46039f\"],[0.2222222222222222,\"#7201a8\"],[0.3333333333333333,\"#9c179e\"],[0.4444444444444444,\"#bd3786\"],[0.5555555555555556,\"#d8576b\"],[0.6666666666666666,\"#ed7953\"],[0.7777777777777778,\"#fb9f3a\"],[0.8888888888888888,\"#fdca26\"],[1.0,\"#f0f921\"]],\"type\":\"histogram2d\"}],\"histogram2dcontour\":[{\"colorbar\":{\"outlinewidth\":0,\"ticks\":\"\"},\"colorscale\":[[0.0,\"#0d0887\"],[0.1111111111111111,\"#46039f\"],[0.2222222222222222,\"#7201a8\"],[0.3333333333333333,\"#9c179e\"],[0.4444444444444444,\"#bd3786\"],[0.5555555555555556,\"#d8576b\"],[0.6666666666666666,\"#ed7953\"],[0.7777777777777778,\"#fb9f3a\"],[0.8888888888888888,\"#fdca26\"],[1.0,\"#f0f921\"]],\"type\":\"histogram2dcontour\"}],\"mesh3d\":[{\"colorbar\":{\"outlinewidth\":0,\"ticks\":\"\"},\"type\":\"mesh3d\"}],\"parcoords\":[{\"line\":{\"colorbar\":{\"outlinewidth\":0,\"ticks\":\"\"}},\"type\":\"parcoords\"}],\"pie\":[{\"automargin\":true,\"type\":\"pie\"}],\"scatter\":[{\"marker\":{\"colorbar\":{\"outlinewidth\":0,\"ticks\":\"\"}},\"type\":\"scatter\"}],\"scatter3d\":[{\"line\":{\"colorbar\":{\"outlinewidth\":0,\"ticks\":\"\"}},\"marker\":{\"colorbar\":{\"outlinewidth\":0,\"ticks\":\"\"}},\"type\":\"scatter3d\"}],\"scattercarpet\":[{\"marker\":{\"colorbar\":{\"outlinewidth\":0,\"ticks\":\"\"}},\"type\":\"scattercarpet\"}],\"scattergeo\":[{\"marker\":{\"colorbar\":{\"outlinewidth\":0,\"ticks\":\"\"}},\"type\":\"scattergeo\"}],\"scattergl\":[{\"marker\":{\"colorbar\":{\"outlinewidth\":0,\"ticks\":\"\"}},\"type\":\"scattergl\"}],\"scattermapbox\":[{\"marker\":{\"colorbar\":{\"outlinewidth\":0,\"ticks\":\"\"}},\"type\":\"scattermapbox\"}],\"scatterpolar\":[{\"marker\":{\"colorbar\":{\"outlinewidth\":0,\"ticks\":\"\"}},\"type\":\"scatterpolar\"}],\"scatterpolargl\":[{\"marker\":{\"colorbar\":{\"outlinewidth\":0,\"ticks\":\"\"}},\"type\":\"scatterpolargl\"}],\"scatterternary\":[{\"marker\":{\"colorbar\":{\"outlinewidth\":0,\"ticks\":\"\"}},\"type\":\"scatterternary\"}],\"surface\":[{\"colorbar\":{\"outlinewidth\":0,\"ticks\":\"\"},\"colorscale\":[[0.0,\"#0d0887\"],[0.1111111111111111,\"#46039f\"],[0.2222222222222222,\"#7201a8\"],[0.3333333333333333,\"#9c179e\"],[0.4444444444444444,\"#bd3786\"],[0.5555555555555556,\"#d8576b\"],[0.6666666666666666,\"#ed7953\"],[0.7777777777777778,\"#fb9f3a\"],[0.8888888888888888,\"#fdca26\"],[1.0,\"#f0f921\"]],\"type\":\"surface\"}],\"table\":[{\"cells\":{\"fill\":{\"color\":\"#EBF0F8\"},\"line\":{\"color\":\"white\"}},\"header\":{\"fill\":{\"color\":\"#C8D4E3\"},\"line\":{\"color\":\"white\"}},\"type\":\"table\"}]},\"layout\":{\"annotationdefaults\":{\"arrowcolor\":\"#2a3f5f\",\"arrowhead\":0,\"arrowwidth\":1},\"autotypenumbers\":\"strict\",\"coloraxis\":{\"colorbar\":{\"outlinewidth\":0,\"ticks\":\"\"}},\"colorscale\":{\"diverging\":[[0,\"#8e0152\"],[0.1,\"#c51b7d\"],[0.2,\"#de77ae\"],[0.3,\"#f1b6da\"],[0.4,\"#fde0ef\"],[0.5,\"#f7f7f7\"],[0.6,\"#e6f5d0\"],[0.7,\"#b8e186\"],[0.8,\"#7fbc41\"],[0.9,\"#4d9221\"],[1,\"#276419\"]],\"sequential\":[[0.0,\"#0d0887\"],[0.1111111111111111,\"#46039f\"],[0.2222222222222222,\"#7201a8\"],[0.3333333333333333,\"#9c179e\"],[0.4444444444444444,\"#bd3786\"],[0.5555555555555556,\"#d8576b\"],[0.6666666666666666,\"#ed7953\"],[0.7777777777777778,\"#fb9f3a\"],[0.8888888888888888,\"#fdca26\"],[1.0,\"#f0f921\"]],\"sequentialminus\":[[0.0,\"#0d0887\"],[0.1111111111111111,\"#46039f\"],[0.2222222222222222,\"#7201a8\"],[0.3333333333333333,\"#9c179e\"],[0.4444444444444444,\"#bd3786\"],[0.5555555555555556,\"#d8576b\"],[0.6666666666666666,\"#ed7953\"],[0.7777777777777778,\"#fb9f3a\"],[0.8888888888888888,\"#fdca26\"],[1.0,\"#f0f921\"]]},\"colorway\":[\"#636efa\",\"#EF553B\",\"#00cc96\",\"#ab63fa\",\"#FFA15A\",\"#19d3f3\",\"#FF6692\",\"#B6E880\",\"#FF97FF\",\"#FECB52\"],\"font\":{\"color\":\"#2a3f5f\"},\"geo\":{\"bgcolor\":\"white\",\"lakecolor\":\"white\",\"landcolor\":\"#E5ECF6\",\"showlakes\":true,\"showland\":true,\"subunitcolor\":\"white\"},\"hoverlabel\":{\"align\":\"left\"},\"hovermode\":\"closest\",\"mapbox\":{\"style\":\"light\"},\"paper_bgcolor\":\"white\",\"plot_bgcolor\":\"#E5ECF6\",\"polar\":{\"angularaxis\":{\"gridcolor\":\"white\",\"linecolor\":\"white\",\"ticks\":\"\"},\"bgcolor\":\"#E5ECF6\",\"radialaxis\":{\"gridcolor\":\"white\",\"linecolor\":\"white\",\"ticks\":\"\"}},\"scene\":{\"xaxis\":{\"backgroundcolor\":\"#E5ECF6\",\"gridcolor\":\"white\",\"gridwidth\":2,\"linecolor\":\"white\",\"showbackground\":true,\"ticks\":\"\",\"zerolinecolor\":\"white\"},\"yaxis\":{\"backgroundcolor\":\"#E5ECF6\",\"gridcolor\":\"white\",\"gridwidth\":2,\"linecolor\":\"white\",\"showbackground\":true,\"ticks\":\"\",\"zerolinecolor\":\"white\"},\"zaxis\":{\"backgroundcolor\":\"#E5ECF6\",\"gridcolor\":\"white\",\"gridwidth\":2,\"linecolor\":\"white\",\"showbackground\":true,\"ticks\":\"\",\"zerolinecolor\":\"white\"}},\"shapedefaults\":{\"line\":{\"color\":\"#2a3f5f\"}},\"ternary\":{\"aaxis\":{\"gridcolor\":\"white\",\"linecolor\":\"white\",\"ticks\":\"\"},\"baxis\":{\"gridcolor\":\"white\",\"linecolor\":\"white\",\"ticks\":\"\"},\"bgcolor\":\"#E5ECF6\",\"caxis\":{\"gridcolor\":\"white\",\"linecolor\":\"white\",\"ticks\":\"\"}},\"title\":{\"x\":0.05},\"xaxis\":{\"automargin\":true,\"gridcolor\":\"white\",\"linecolor\":\"white\",\"ticks\":\"\",\"title\":{\"standoff\":15},\"zerolinecolor\":\"white\",\"zerolinewidth\":2},\"yaxis\":{\"automargin\":true,\"gridcolor\":\"white\",\"linecolor\":\"white\",\"ticks\":\"\",\"title\":{\"standoff\":15},\"zerolinecolor\":\"white\",\"zerolinewidth\":2}}},\"title\":{\"font\":{\"color\":\"#4D5663\"}},\"xaxis\":{\"gridcolor\":\"#E1E5ED\",\"showgrid\":true,\"tickfont\":{\"color\":\"#4D5663\"},\"title\":{\"font\":{\"color\":\"#4D5663\"},\"text\":\"\"},\"zerolinecolor\":\"#E1E5ED\"},\"yaxis\":{\"gridcolor\":\"#E1E5ED\",\"showgrid\":true,\"tickfont\":{\"color\":\"#4D5663\"},\"title\":{\"font\":{\"color\":\"#4D5663\"},\"text\":\"\"},\"zerolinecolor\":\"#E1E5ED\"}},                        {\"showLink\": true, \"linkText\": \"Export to plot.ly\", \"plotlyServerURL\": \"https://plot.ly\", \"responsive\": true}                    ).then(function(){\n",
       "                            \n",
       "var gd = document.getElementById('2f49a170-79c7-4c11-9c78-93a20894baec');\n",
       "var x = new MutationObserver(function (mutations, observer) {{\n",
       "        var display = window.getComputedStyle(gd).display;\n",
       "        if (!display || display === 'none') {{\n",
       "            console.log([gd, 'removed!']);\n",
       "            Plotly.purge(gd);\n",
       "            observer.disconnect();\n",
       "        }}\n",
       "}});\n",
       "\n",
       "// Listen for the removal of the full notebook cells\n",
       "var notebookContainer = gd.closest('#notebook-container');\n",
       "if (notebookContainer) {{\n",
       "    x.observe(notebookContainer, {childList: true});\n",
       "}}\n",
       "\n",
       "// Listen for the clearing of the current output cell\n",
       "var outputEl = gd.closest('.output');\n",
       "if (outputEl) {{\n",
       "    x.observe(outputEl, {childList: true});\n",
       "}}\n",
       "\n",
       "                        })                };                });            </script>        </div>"
      ]
     },
     "metadata": {},
     "output_type": "display_data"
    }
   ],
   "source": [
    "df.iplot(kind='box')"
   ]
  },
  {
   "cell_type": "markdown",
   "metadata": {},
   "source": [
    "## 3d Surface"
   ]
  },
  {
   "cell_type": "code",
   "execution_count": 14,
   "metadata": {},
   "outputs": [
    {
     "data": {
      "application/vnd.plotly.v1+json": {
       "config": {
        "linkText": "Export to plot.ly",
        "plotlyServerURL": "https://plot.ly",
        "showLink": true
       },
       "data": [
        {
         "colorscale": [
          [
           0,
           "rgb(165,0,38)"
          ],
          [
           0.1,
           "rgb(215,48,39)"
          ],
          [
           0.2,
           "rgb(244,109,67)"
          ],
          [
           0.3,
           "rgb(253,174,97)"
          ],
          [
           0.4,
           "rgb(254,224,144)"
          ],
          [
           0.5,
           "rgb(255,255,191)"
          ],
          [
           0.6,
           "rgb(224,243,248)"
          ],
          [
           0.7,
           "rgb(171,217,233)"
          ],
          [
           0.8,
           "rgb(116,173,209)"
          ],
          [
           0.9,
           "rgb(69,117,180)"
          ],
          [
           1,
           "rgb(49,54,149)"
          ]
         ],
         "type": "surface",
         "x": [
          0,
          1,
          2,
          3,
          4
         ],
         "y": [
          "x",
          "y",
          "z"
         ],
         "z": [
          [
           1,
           2,
           3,
           4,
           5
          ],
          [
           10,
           20,
           30,
           20,
           10
          ],
          [
           5,
           4,
           3,
           2,
           1
          ]
         ]
        }
       ],
       "layout": {
        "legend": {
         "bgcolor": "#F5F6F9",
         "font": {
          "color": "#4D5663"
         }
        },
        "paper_bgcolor": "#F5F6F9",
        "plot_bgcolor": "#F5F6F9",
        "template": {
         "data": {
          "bar": [
           {
            "error_x": {
             "color": "#2a3f5f"
            },
            "error_y": {
             "color": "#2a3f5f"
            },
            "marker": {
             "line": {
              "color": "#E5ECF6",
              "width": 0.5
             },
             "pattern": {
              "fillmode": "overlay",
              "size": 10,
              "solidity": 0.2
             }
            },
            "type": "bar"
           }
          ],
          "barpolar": [
           {
            "marker": {
             "line": {
              "color": "#E5ECF6",
              "width": 0.5
             },
             "pattern": {
              "fillmode": "overlay",
              "size": 10,
              "solidity": 0.2
             }
            },
            "type": "barpolar"
           }
          ],
          "carpet": [
           {
            "aaxis": {
             "endlinecolor": "#2a3f5f",
             "gridcolor": "white",
             "linecolor": "white",
             "minorgridcolor": "white",
             "startlinecolor": "#2a3f5f"
            },
            "baxis": {
             "endlinecolor": "#2a3f5f",
             "gridcolor": "white",
             "linecolor": "white",
             "minorgridcolor": "white",
             "startlinecolor": "#2a3f5f"
            },
            "type": "carpet"
           }
          ],
          "choropleth": [
           {
            "colorbar": {
             "outlinewidth": 0,
             "ticks": ""
            },
            "type": "choropleth"
           }
          ],
          "contour": [
           {
            "colorbar": {
             "outlinewidth": 0,
             "ticks": ""
            },
            "colorscale": [
             [
              0,
              "#0d0887"
             ],
             [
              0.1111111111111111,
              "#46039f"
             ],
             [
              0.2222222222222222,
              "#7201a8"
             ],
             [
              0.3333333333333333,
              "#9c179e"
             ],
             [
              0.4444444444444444,
              "#bd3786"
             ],
             [
              0.5555555555555556,
              "#d8576b"
             ],
             [
              0.6666666666666666,
              "#ed7953"
             ],
             [
              0.7777777777777778,
              "#fb9f3a"
             ],
             [
              0.8888888888888888,
              "#fdca26"
             ],
             [
              1,
              "#f0f921"
             ]
            ],
            "type": "contour"
           }
          ],
          "contourcarpet": [
           {
            "colorbar": {
             "outlinewidth": 0,
             "ticks": ""
            },
            "type": "contourcarpet"
           }
          ],
          "heatmap": [
           {
            "colorbar": {
             "outlinewidth": 0,
             "ticks": ""
            },
            "colorscale": [
             [
              0,
              "#0d0887"
             ],
             [
              0.1111111111111111,
              "#46039f"
             ],
             [
              0.2222222222222222,
              "#7201a8"
             ],
             [
              0.3333333333333333,
              "#9c179e"
             ],
             [
              0.4444444444444444,
              "#bd3786"
             ],
             [
              0.5555555555555556,
              "#d8576b"
             ],
             [
              0.6666666666666666,
              "#ed7953"
             ],
             [
              0.7777777777777778,
              "#fb9f3a"
             ],
             [
              0.8888888888888888,
              "#fdca26"
             ],
             [
              1,
              "#f0f921"
             ]
            ],
            "type": "heatmap"
           }
          ],
          "heatmapgl": [
           {
            "colorbar": {
             "outlinewidth": 0,
             "ticks": ""
            },
            "colorscale": [
             [
              0,
              "#0d0887"
             ],
             [
              0.1111111111111111,
              "#46039f"
             ],
             [
              0.2222222222222222,
              "#7201a8"
             ],
             [
              0.3333333333333333,
              "#9c179e"
             ],
             [
              0.4444444444444444,
              "#bd3786"
             ],
             [
              0.5555555555555556,
              "#d8576b"
             ],
             [
              0.6666666666666666,
              "#ed7953"
             ],
             [
              0.7777777777777778,
              "#fb9f3a"
             ],
             [
              0.8888888888888888,
              "#fdca26"
             ],
             [
              1,
              "#f0f921"
             ]
            ],
            "type": "heatmapgl"
           }
          ],
          "histogram": [
           {
            "marker": {
             "pattern": {
              "fillmode": "overlay",
              "size": 10,
              "solidity": 0.2
             }
            },
            "type": "histogram"
           }
          ],
          "histogram2d": [
           {
            "colorbar": {
             "outlinewidth": 0,
             "ticks": ""
            },
            "colorscale": [
             [
              0,
              "#0d0887"
             ],
             [
              0.1111111111111111,
              "#46039f"
             ],
             [
              0.2222222222222222,
              "#7201a8"
             ],
             [
              0.3333333333333333,
              "#9c179e"
             ],
             [
              0.4444444444444444,
              "#bd3786"
             ],
             [
              0.5555555555555556,
              "#d8576b"
             ],
             [
              0.6666666666666666,
              "#ed7953"
             ],
             [
              0.7777777777777778,
              "#fb9f3a"
             ],
             [
              0.8888888888888888,
              "#fdca26"
             ],
             [
              1,
              "#f0f921"
             ]
            ],
            "type": "histogram2d"
           }
          ],
          "histogram2dcontour": [
           {
            "colorbar": {
             "outlinewidth": 0,
             "ticks": ""
            },
            "colorscale": [
             [
              0,
              "#0d0887"
             ],
             [
              0.1111111111111111,
              "#46039f"
             ],
             [
              0.2222222222222222,
              "#7201a8"
             ],
             [
              0.3333333333333333,
              "#9c179e"
             ],
             [
              0.4444444444444444,
              "#bd3786"
             ],
             [
              0.5555555555555556,
              "#d8576b"
             ],
             [
              0.6666666666666666,
              "#ed7953"
             ],
             [
              0.7777777777777778,
              "#fb9f3a"
             ],
             [
              0.8888888888888888,
              "#fdca26"
             ],
             [
              1,
              "#f0f921"
             ]
            ],
            "type": "histogram2dcontour"
           }
          ],
          "mesh3d": [
           {
            "colorbar": {
             "outlinewidth": 0,
             "ticks": ""
            },
            "type": "mesh3d"
           }
          ],
          "parcoords": [
           {
            "line": {
             "colorbar": {
              "outlinewidth": 0,
              "ticks": ""
             }
            },
            "type": "parcoords"
           }
          ],
          "pie": [
           {
            "automargin": true,
            "type": "pie"
           }
          ],
          "scatter": [
           {
            "marker": {
             "colorbar": {
              "outlinewidth": 0,
              "ticks": ""
             }
            },
            "type": "scatter"
           }
          ],
          "scatter3d": [
           {
            "line": {
             "colorbar": {
              "outlinewidth": 0,
              "ticks": ""
             }
            },
            "marker": {
             "colorbar": {
              "outlinewidth": 0,
              "ticks": ""
             }
            },
            "type": "scatter3d"
           }
          ],
          "scattercarpet": [
           {
            "marker": {
             "colorbar": {
              "outlinewidth": 0,
              "ticks": ""
             }
            },
            "type": "scattercarpet"
           }
          ],
          "scattergeo": [
           {
            "marker": {
             "colorbar": {
              "outlinewidth": 0,
              "ticks": ""
             }
            },
            "type": "scattergeo"
           }
          ],
          "scattergl": [
           {
            "marker": {
             "colorbar": {
              "outlinewidth": 0,
              "ticks": ""
             }
            },
            "type": "scattergl"
           }
          ],
          "scattermapbox": [
           {
            "marker": {
             "colorbar": {
              "outlinewidth": 0,
              "ticks": ""
             }
            },
            "type": "scattermapbox"
           }
          ],
          "scatterpolar": [
           {
            "marker": {
             "colorbar": {
              "outlinewidth": 0,
              "ticks": ""
             }
            },
            "type": "scatterpolar"
           }
          ],
          "scatterpolargl": [
           {
            "marker": {
             "colorbar": {
              "outlinewidth": 0,
              "ticks": ""
             }
            },
            "type": "scatterpolargl"
           }
          ],
          "scatterternary": [
           {
            "marker": {
             "colorbar": {
              "outlinewidth": 0,
              "ticks": ""
             }
            },
            "type": "scatterternary"
           }
          ],
          "surface": [
           {
            "colorbar": {
             "outlinewidth": 0,
             "ticks": ""
            },
            "colorscale": [
             [
              0,
              "#0d0887"
             ],
             [
              0.1111111111111111,
              "#46039f"
             ],
             [
              0.2222222222222222,
              "#7201a8"
             ],
             [
              0.3333333333333333,
              "#9c179e"
             ],
             [
              0.4444444444444444,
              "#bd3786"
             ],
             [
              0.5555555555555556,
              "#d8576b"
             ],
             [
              0.6666666666666666,
              "#ed7953"
             ],
             [
              0.7777777777777778,
              "#fb9f3a"
             ],
             [
              0.8888888888888888,
              "#fdca26"
             ],
             [
              1,
              "#f0f921"
             ]
            ],
            "type": "surface"
           }
          ],
          "table": [
           {
            "cells": {
             "fill": {
              "color": "#EBF0F8"
             },
             "line": {
              "color": "white"
             }
            },
            "header": {
             "fill": {
              "color": "#C8D4E3"
             },
             "line": {
              "color": "white"
             }
            },
            "type": "table"
           }
          ]
         },
         "layout": {
          "annotationdefaults": {
           "arrowcolor": "#2a3f5f",
           "arrowhead": 0,
           "arrowwidth": 1
          },
          "autotypenumbers": "strict",
          "coloraxis": {
           "colorbar": {
            "outlinewidth": 0,
            "ticks": ""
           }
          },
          "colorscale": {
           "diverging": [
            [
             0,
             "#8e0152"
            ],
            [
             0.1,
             "#c51b7d"
            ],
            [
             0.2,
             "#de77ae"
            ],
            [
             0.3,
             "#f1b6da"
            ],
            [
             0.4,
             "#fde0ef"
            ],
            [
             0.5,
             "#f7f7f7"
            ],
            [
             0.6,
             "#e6f5d0"
            ],
            [
             0.7,
             "#b8e186"
            ],
            [
             0.8,
             "#7fbc41"
            ],
            [
             0.9,
             "#4d9221"
            ],
            [
             1,
             "#276419"
            ]
           ],
           "sequential": [
            [
             0,
             "#0d0887"
            ],
            [
             0.1111111111111111,
             "#46039f"
            ],
            [
             0.2222222222222222,
             "#7201a8"
            ],
            [
             0.3333333333333333,
             "#9c179e"
            ],
            [
             0.4444444444444444,
             "#bd3786"
            ],
            [
             0.5555555555555556,
             "#d8576b"
            ],
            [
             0.6666666666666666,
             "#ed7953"
            ],
            [
             0.7777777777777778,
             "#fb9f3a"
            ],
            [
             0.8888888888888888,
             "#fdca26"
            ],
            [
             1,
             "#f0f921"
            ]
           ],
           "sequentialminus": [
            [
             0,
             "#0d0887"
            ],
            [
             0.1111111111111111,
             "#46039f"
            ],
            [
             0.2222222222222222,
             "#7201a8"
            ],
            [
             0.3333333333333333,
             "#9c179e"
            ],
            [
             0.4444444444444444,
             "#bd3786"
            ],
            [
             0.5555555555555556,
             "#d8576b"
            ],
            [
             0.6666666666666666,
             "#ed7953"
            ],
            [
             0.7777777777777778,
             "#fb9f3a"
            ],
            [
             0.8888888888888888,
             "#fdca26"
            ],
            [
             1,
             "#f0f921"
            ]
           ]
          },
          "colorway": [
           "#636efa",
           "#EF553B",
           "#00cc96",
           "#ab63fa",
           "#FFA15A",
           "#19d3f3",
           "#FF6692",
           "#B6E880",
           "#FF97FF",
           "#FECB52"
          ],
          "font": {
           "color": "#2a3f5f"
          },
          "geo": {
           "bgcolor": "white",
           "lakecolor": "white",
           "landcolor": "#E5ECF6",
           "showlakes": true,
           "showland": true,
           "subunitcolor": "white"
          },
          "hoverlabel": {
           "align": "left"
          },
          "hovermode": "closest",
          "mapbox": {
           "style": "light"
          },
          "paper_bgcolor": "white",
          "plot_bgcolor": "#E5ECF6",
          "polar": {
           "angularaxis": {
            "gridcolor": "white",
            "linecolor": "white",
            "ticks": ""
           },
           "bgcolor": "#E5ECF6",
           "radialaxis": {
            "gridcolor": "white",
            "linecolor": "white",
            "ticks": ""
           }
          },
          "scene": {
           "xaxis": {
            "backgroundcolor": "#E5ECF6",
            "gridcolor": "white",
            "gridwidth": 2,
            "linecolor": "white",
            "showbackground": true,
            "ticks": "",
            "zerolinecolor": "white"
           },
           "yaxis": {
            "backgroundcolor": "#E5ECF6",
            "gridcolor": "white",
            "gridwidth": 2,
            "linecolor": "white",
            "showbackground": true,
            "ticks": "",
            "zerolinecolor": "white"
           },
           "zaxis": {
            "backgroundcolor": "#E5ECF6",
            "gridcolor": "white",
            "gridwidth": 2,
            "linecolor": "white",
            "showbackground": true,
            "ticks": "",
            "zerolinecolor": "white"
           }
          },
          "shapedefaults": {
           "line": {
            "color": "#2a3f5f"
           }
          },
          "ternary": {
           "aaxis": {
            "gridcolor": "white",
            "linecolor": "white",
            "ticks": ""
           },
           "baxis": {
            "gridcolor": "white",
            "linecolor": "white",
            "ticks": ""
           },
           "bgcolor": "#E5ECF6",
           "caxis": {
            "gridcolor": "white",
            "linecolor": "white",
            "ticks": ""
           }
          },
          "title": {
           "x": 0.05
          },
          "xaxis": {
           "automargin": true,
           "gridcolor": "white",
           "linecolor": "white",
           "ticks": "",
           "title": {
            "standoff": 15
           },
           "zerolinecolor": "white",
           "zerolinewidth": 2
          },
          "yaxis": {
           "automargin": true,
           "gridcolor": "white",
           "linecolor": "white",
           "ticks": "",
           "title": {
            "standoff": 15
           },
           "zerolinecolor": "white",
           "zerolinewidth": 2
          }
         }
        },
        "title": {
         "font": {
          "color": "#4D5663"
         }
        },
        "xaxis": {
         "gridcolor": "#E1E5ED",
         "showgrid": true,
         "tickfont": {
          "color": "#4D5663"
         },
         "title": {
          "font": {
           "color": "#4D5663"
          },
          "text": ""
         },
         "zerolinecolor": "#E1E5ED"
        },
        "yaxis": {
         "gridcolor": "#E1E5ED",
         "showgrid": true,
         "tickfont": {
          "color": "#4D5663"
         },
         "title": {
          "font": {
           "color": "#4D5663"
          },
          "text": ""
         },
         "zerolinecolor": "#E1E5ED"
        }
       }
      },
      "text/html": [
       "<div>                            <div id=\"c85de0b9-14d2-4bfa-a644-5509498dc78c\" class=\"plotly-graph-div\" style=\"height:525px; width:100%;\"></div>            <script type=\"text/javascript\">                require([\"plotly\"], function(Plotly) {                    window.PLOTLYENV=window.PLOTLYENV || {};\n",
       "                    window.PLOTLYENV.BASE_URL='https://plot.ly';                                    if (document.getElementById(\"c85de0b9-14d2-4bfa-a644-5509498dc78c\")) {                    Plotly.newPlot(                        \"c85de0b9-14d2-4bfa-a644-5509498dc78c\",                        [{\"colorscale\":[[0.0,\"rgb(165,0,38)\"],[0.1,\"rgb(215,48,39)\"],[0.2,\"rgb(244,109,67)\"],[0.3,\"rgb(253,174,97)\"],[0.4,\"rgb(254,224,144)\"],[0.5,\"rgb(255,255,191)\"],[0.6,\"rgb(224,243,248)\"],[0.7,\"rgb(171,217,233)\"],[0.8,\"rgb(116,173,209)\"],[0.9,\"rgb(69,117,180)\"],[1.0,\"rgb(49,54,149)\"]],\"type\":\"surface\",\"x\":[0,1,2,3,4],\"y\":[\"x\",\"y\",\"z\"],\"z\":[[1,2,3,4,5],[10,20,30,20,10],[5,4,3,2,1]]}],                        {\"legend\":{\"bgcolor\":\"#F5F6F9\",\"font\":{\"color\":\"#4D5663\"}},\"paper_bgcolor\":\"#F5F6F9\",\"plot_bgcolor\":\"#F5F6F9\",\"template\":{\"data\":{\"bar\":[{\"error_x\":{\"color\":\"#2a3f5f\"},\"error_y\":{\"color\":\"#2a3f5f\"},\"marker\":{\"line\":{\"color\":\"#E5ECF6\",\"width\":0.5},\"pattern\":{\"fillmode\":\"overlay\",\"size\":10,\"solidity\":0.2}},\"type\":\"bar\"}],\"barpolar\":[{\"marker\":{\"line\":{\"color\":\"#E5ECF6\",\"width\":0.5},\"pattern\":{\"fillmode\":\"overlay\",\"size\":10,\"solidity\":0.2}},\"type\":\"barpolar\"}],\"carpet\":[{\"aaxis\":{\"endlinecolor\":\"#2a3f5f\",\"gridcolor\":\"white\",\"linecolor\":\"white\",\"minorgridcolor\":\"white\",\"startlinecolor\":\"#2a3f5f\"},\"baxis\":{\"endlinecolor\":\"#2a3f5f\",\"gridcolor\":\"white\",\"linecolor\":\"white\",\"minorgridcolor\":\"white\",\"startlinecolor\":\"#2a3f5f\"},\"type\":\"carpet\"}],\"choropleth\":[{\"colorbar\":{\"outlinewidth\":0,\"ticks\":\"\"},\"type\":\"choropleth\"}],\"contour\":[{\"colorbar\":{\"outlinewidth\":0,\"ticks\":\"\"},\"colorscale\":[[0.0,\"#0d0887\"],[0.1111111111111111,\"#46039f\"],[0.2222222222222222,\"#7201a8\"],[0.3333333333333333,\"#9c179e\"],[0.4444444444444444,\"#bd3786\"],[0.5555555555555556,\"#d8576b\"],[0.6666666666666666,\"#ed7953\"],[0.7777777777777778,\"#fb9f3a\"],[0.8888888888888888,\"#fdca26\"],[1.0,\"#f0f921\"]],\"type\":\"contour\"}],\"contourcarpet\":[{\"colorbar\":{\"outlinewidth\":0,\"ticks\":\"\"},\"type\":\"contourcarpet\"}],\"heatmap\":[{\"colorbar\":{\"outlinewidth\":0,\"ticks\":\"\"},\"colorscale\":[[0.0,\"#0d0887\"],[0.1111111111111111,\"#46039f\"],[0.2222222222222222,\"#7201a8\"],[0.3333333333333333,\"#9c179e\"],[0.4444444444444444,\"#bd3786\"],[0.5555555555555556,\"#d8576b\"],[0.6666666666666666,\"#ed7953\"],[0.7777777777777778,\"#fb9f3a\"],[0.8888888888888888,\"#fdca26\"],[1.0,\"#f0f921\"]],\"type\":\"heatmap\"}],\"heatmapgl\":[{\"colorbar\":{\"outlinewidth\":0,\"ticks\":\"\"},\"colorscale\":[[0.0,\"#0d0887\"],[0.1111111111111111,\"#46039f\"],[0.2222222222222222,\"#7201a8\"],[0.3333333333333333,\"#9c179e\"],[0.4444444444444444,\"#bd3786\"],[0.5555555555555556,\"#d8576b\"],[0.6666666666666666,\"#ed7953\"],[0.7777777777777778,\"#fb9f3a\"],[0.8888888888888888,\"#fdca26\"],[1.0,\"#f0f921\"]],\"type\":\"heatmapgl\"}],\"histogram\":[{\"marker\":{\"pattern\":{\"fillmode\":\"overlay\",\"size\":10,\"solidity\":0.2}},\"type\":\"histogram\"}],\"histogram2d\":[{\"colorbar\":{\"outlinewidth\":0,\"ticks\":\"\"},\"colorscale\":[[0.0,\"#0d0887\"],[0.1111111111111111,\"#46039f\"],[0.2222222222222222,\"#7201a8\"],[0.3333333333333333,\"#9c179e\"],[0.4444444444444444,\"#bd3786\"],[0.5555555555555556,\"#d8576b\"],[0.6666666666666666,\"#ed7953\"],[0.7777777777777778,\"#fb9f3a\"],[0.8888888888888888,\"#fdca26\"],[1.0,\"#f0f921\"]],\"type\":\"histogram2d\"}],\"histogram2dcontour\":[{\"colorbar\":{\"outlinewidth\":0,\"ticks\":\"\"},\"colorscale\":[[0.0,\"#0d0887\"],[0.1111111111111111,\"#46039f\"],[0.2222222222222222,\"#7201a8\"],[0.3333333333333333,\"#9c179e\"],[0.4444444444444444,\"#bd3786\"],[0.5555555555555556,\"#d8576b\"],[0.6666666666666666,\"#ed7953\"],[0.7777777777777778,\"#fb9f3a\"],[0.8888888888888888,\"#fdca26\"],[1.0,\"#f0f921\"]],\"type\":\"histogram2dcontour\"}],\"mesh3d\":[{\"colorbar\":{\"outlinewidth\":0,\"ticks\":\"\"},\"type\":\"mesh3d\"}],\"parcoords\":[{\"line\":{\"colorbar\":{\"outlinewidth\":0,\"ticks\":\"\"}},\"type\":\"parcoords\"}],\"pie\":[{\"automargin\":true,\"type\":\"pie\"}],\"scatter\":[{\"marker\":{\"colorbar\":{\"outlinewidth\":0,\"ticks\":\"\"}},\"type\":\"scatter\"}],\"scatter3d\":[{\"line\":{\"colorbar\":{\"outlinewidth\":0,\"ticks\":\"\"}},\"marker\":{\"colorbar\":{\"outlinewidth\":0,\"ticks\":\"\"}},\"type\":\"scatter3d\"}],\"scattercarpet\":[{\"marker\":{\"colorbar\":{\"outlinewidth\":0,\"ticks\":\"\"}},\"type\":\"scattercarpet\"}],\"scattergeo\":[{\"marker\":{\"colorbar\":{\"outlinewidth\":0,\"ticks\":\"\"}},\"type\":\"scattergeo\"}],\"scattergl\":[{\"marker\":{\"colorbar\":{\"outlinewidth\":0,\"ticks\":\"\"}},\"type\":\"scattergl\"}],\"scattermapbox\":[{\"marker\":{\"colorbar\":{\"outlinewidth\":0,\"ticks\":\"\"}},\"type\":\"scattermapbox\"}],\"scatterpolar\":[{\"marker\":{\"colorbar\":{\"outlinewidth\":0,\"ticks\":\"\"}},\"type\":\"scatterpolar\"}],\"scatterpolargl\":[{\"marker\":{\"colorbar\":{\"outlinewidth\":0,\"ticks\":\"\"}},\"type\":\"scatterpolargl\"}],\"scatterternary\":[{\"marker\":{\"colorbar\":{\"outlinewidth\":0,\"ticks\":\"\"}},\"type\":\"scatterternary\"}],\"surface\":[{\"colorbar\":{\"outlinewidth\":0,\"ticks\":\"\"},\"colorscale\":[[0.0,\"#0d0887\"],[0.1111111111111111,\"#46039f\"],[0.2222222222222222,\"#7201a8\"],[0.3333333333333333,\"#9c179e\"],[0.4444444444444444,\"#bd3786\"],[0.5555555555555556,\"#d8576b\"],[0.6666666666666666,\"#ed7953\"],[0.7777777777777778,\"#fb9f3a\"],[0.8888888888888888,\"#fdca26\"],[1.0,\"#f0f921\"]],\"type\":\"surface\"}],\"table\":[{\"cells\":{\"fill\":{\"color\":\"#EBF0F8\"},\"line\":{\"color\":\"white\"}},\"header\":{\"fill\":{\"color\":\"#C8D4E3\"},\"line\":{\"color\":\"white\"}},\"type\":\"table\"}]},\"layout\":{\"annotationdefaults\":{\"arrowcolor\":\"#2a3f5f\",\"arrowhead\":0,\"arrowwidth\":1},\"autotypenumbers\":\"strict\",\"coloraxis\":{\"colorbar\":{\"outlinewidth\":0,\"ticks\":\"\"}},\"colorscale\":{\"diverging\":[[0,\"#8e0152\"],[0.1,\"#c51b7d\"],[0.2,\"#de77ae\"],[0.3,\"#f1b6da\"],[0.4,\"#fde0ef\"],[0.5,\"#f7f7f7\"],[0.6,\"#e6f5d0\"],[0.7,\"#b8e186\"],[0.8,\"#7fbc41\"],[0.9,\"#4d9221\"],[1,\"#276419\"]],\"sequential\":[[0.0,\"#0d0887\"],[0.1111111111111111,\"#46039f\"],[0.2222222222222222,\"#7201a8\"],[0.3333333333333333,\"#9c179e\"],[0.4444444444444444,\"#bd3786\"],[0.5555555555555556,\"#d8576b\"],[0.6666666666666666,\"#ed7953\"],[0.7777777777777778,\"#fb9f3a\"],[0.8888888888888888,\"#fdca26\"],[1.0,\"#f0f921\"]],\"sequentialminus\":[[0.0,\"#0d0887\"],[0.1111111111111111,\"#46039f\"],[0.2222222222222222,\"#7201a8\"],[0.3333333333333333,\"#9c179e\"],[0.4444444444444444,\"#bd3786\"],[0.5555555555555556,\"#d8576b\"],[0.6666666666666666,\"#ed7953\"],[0.7777777777777778,\"#fb9f3a\"],[0.8888888888888888,\"#fdca26\"],[1.0,\"#f0f921\"]]},\"colorway\":[\"#636efa\",\"#EF553B\",\"#00cc96\",\"#ab63fa\",\"#FFA15A\",\"#19d3f3\",\"#FF6692\",\"#B6E880\",\"#FF97FF\",\"#FECB52\"],\"font\":{\"color\":\"#2a3f5f\"},\"geo\":{\"bgcolor\":\"white\",\"lakecolor\":\"white\",\"landcolor\":\"#E5ECF6\",\"showlakes\":true,\"showland\":true,\"subunitcolor\":\"white\"},\"hoverlabel\":{\"align\":\"left\"},\"hovermode\":\"closest\",\"mapbox\":{\"style\":\"light\"},\"paper_bgcolor\":\"white\",\"plot_bgcolor\":\"#E5ECF6\",\"polar\":{\"angularaxis\":{\"gridcolor\":\"white\",\"linecolor\":\"white\",\"ticks\":\"\"},\"bgcolor\":\"#E5ECF6\",\"radialaxis\":{\"gridcolor\":\"white\",\"linecolor\":\"white\",\"ticks\":\"\"}},\"scene\":{\"xaxis\":{\"backgroundcolor\":\"#E5ECF6\",\"gridcolor\":\"white\",\"gridwidth\":2,\"linecolor\":\"white\",\"showbackground\":true,\"ticks\":\"\",\"zerolinecolor\":\"white\"},\"yaxis\":{\"backgroundcolor\":\"#E5ECF6\",\"gridcolor\":\"white\",\"gridwidth\":2,\"linecolor\":\"white\",\"showbackground\":true,\"ticks\":\"\",\"zerolinecolor\":\"white\"},\"zaxis\":{\"backgroundcolor\":\"#E5ECF6\",\"gridcolor\":\"white\",\"gridwidth\":2,\"linecolor\":\"white\",\"showbackground\":true,\"ticks\":\"\",\"zerolinecolor\":\"white\"}},\"shapedefaults\":{\"line\":{\"color\":\"#2a3f5f\"}},\"ternary\":{\"aaxis\":{\"gridcolor\":\"white\",\"linecolor\":\"white\",\"ticks\":\"\"},\"baxis\":{\"gridcolor\":\"white\",\"linecolor\":\"white\",\"ticks\":\"\"},\"bgcolor\":\"#E5ECF6\",\"caxis\":{\"gridcolor\":\"white\",\"linecolor\":\"white\",\"ticks\":\"\"}},\"title\":{\"x\":0.05},\"xaxis\":{\"automargin\":true,\"gridcolor\":\"white\",\"linecolor\":\"white\",\"ticks\":\"\",\"title\":{\"standoff\":15},\"zerolinecolor\":\"white\",\"zerolinewidth\":2},\"yaxis\":{\"automargin\":true,\"gridcolor\":\"white\",\"linecolor\":\"white\",\"ticks\":\"\",\"title\":{\"standoff\":15},\"zerolinecolor\":\"white\",\"zerolinewidth\":2}}},\"title\":{\"font\":{\"color\":\"#4D5663\"}},\"xaxis\":{\"gridcolor\":\"#E1E5ED\",\"showgrid\":true,\"tickfont\":{\"color\":\"#4D5663\"},\"title\":{\"font\":{\"color\":\"#4D5663\"},\"text\":\"\"},\"zerolinecolor\":\"#E1E5ED\"},\"yaxis\":{\"gridcolor\":\"#E1E5ED\",\"showgrid\":true,\"tickfont\":{\"color\":\"#4D5663\"},\"title\":{\"font\":{\"color\":\"#4D5663\"},\"text\":\"\"},\"zerolinecolor\":\"#E1E5ED\"}},                        {\"showLink\": true, \"linkText\": \"Export to plot.ly\", \"plotlyServerURL\": \"https://plot.ly\", \"responsive\": true}                    ).then(function(){\n",
       "                            \n",
       "var gd = document.getElementById('c85de0b9-14d2-4bfa-a644-5509498dc78c');\n",
       "var x = new MutationObserver(function (mutations, observer) {{\n",
       "        var display = window.getComputedStyle(gd).display;\n",
       "        if (!display || display === 'none') {{\n",
       "            console.log([gd, 'removed!']);\n",
       "            Plotly.purge(gd);\n",
       "            observer.disconnect();\n",
       "        }}\n",
       "}});\n",
       "\n",
       "// Listen for the removal of the full notebook cells\n",
       "var notebookContainer = gd.closest('#notebook-container');\n",
       "if (notebookContainer) {{\n",
       "    x.observe(notebookContainer, {childList: true});\n",
       "}}\n",
       "\n",
       "// Listen for the clearing of the current output cell\n",
       "var outputEl = gd.closest('.output');\n",
       "if (outputEl) {{\n",
       "    x.observe(outputEl, {childList: true});\n",
       "}}\n",
       "\n",
       "                        })                };                });            </script>        </div>"
      ]
     },
     "metadata": {},
     "output_type": "display_data"
    }
   ],
   "source": [
    "df3 = pd.DataFrame({'x':[1,2,3,4,5],'y':[10,20,30,20,10],'z':[5,4,3,2,1]})\n",
    "df3.iplot(kind='surface',colorscale='rdylbu')"
   ]
  },
  {
   "cell_type": "markdown",
   "metadata": {},
   "source": [
    "## Spread"
   ]
  },
  {
   "cell_type": "code",
   "execution_count": 15,
   "metadata": {},
   "outputs": [
    {
     "name": "stderr",
     "output_type": "stream",
     "text": [
      "/Users/sangraampatwardhan/opt/anaconda3/lib/python3.8/site-packages/cufflinks/plotlytools.py:849: FutureWarning:\n",
      "\n",
      "The pandas.np module is deprecated and will be removed from pandas in a future version. Import numpy directly instead\n",
      "\n",
      "/Users/sangraampatwardhan/opt/anaconda3/lib/python3.8/site-packages/cufflinks/plotlytools.py:850: FutureWarning:\n",
      "\n",
      "The pandas.np module is deprecated and will be removed from pandas in a future version. Import numpy directly instead\n",
      "\n"
     ]
    },
    {
     "data": {
      "application/vnd.plotly.v1+json": {
       "config": {
        "linkText": "Export to plot.ly",
        "plotlyServerURL": "https://plot.ly",
        "showLink": true
       },
       "data": [
        {
         "line": {
          "color": "rgba(255, 153, 51, 1.0)",
          "dash": "solid",
          "shape": "linear",
          "width": 1.3
         },
         "mode": "lines",
         "name": "A",
         "text": "",
         "type": "scatter",
         "x": [
          0,
          1,
          2,
          3,
          4,
          5,
          6,
          7,
          8,
          9,
          10,
          11,
          12,
          13,
          14,
          15,
          16,
          17,
          18,
          19,
          20,
          21,
          22,
          23,
          24,
          25,
          26,
          27,
          28,
          29,
          30,
          31,
          32,
          33,
          34,
          35,
          36,
          37,
          38,
          39,
          40,
          41,
          42,
          43,
          44,
          45,
          46,
          47,
          48,
          49,
          50,
          51,
          52,
          53,
          54,
          55,
          56,
          57,
          58,
          59,
          60,
          61,
          62,
          63,
          64,
          65,
          66,
          67,
          68,
          69,
          70,
          71,
          72,
          73,
          74,
          75,
          76,
          77,
          78,
          79,
          80,
          81,
          82,
          83,
          84,
          85,
          86,
          87,
          88,
          89,
          90,
          91,
          92,
          93,
          94,
          95,
          96,
          97,
          98,
          99
         ],
         "y": [
          1.6390172210782112,
          0.35036309608803734,
          0.005345251605557072,
          -1.007168582401739,
          0.6064372360595194,
          -0.8559716524754347,
          -0.29295931013977455,
          0.11469913509520363,
          -0.7523106090575572,
          -0.195634901571466,
          -0.5404692462016839,
          -1.3120969565229128,
          1.1111884746332532,
          -1.4563221199532441,
          -0.4000778003521611,
          -1.4451703461721117,
          -1.363231315990348,
          0.658342303654108,
          0.8786515409349503,
          -1.5086797797943805,
          -0.5725951421783421,
          -2.9521790062884317,
          0.8107187720350392,
          -2.519087609499849,
          0.6896584787258254,
          0.6435745175482077,
          -1.2000336887451124,
          0.34086045864628756,
          0.2654469043662446,
          -0.07746292037022126,
          0.8630843825610846,
          1.0891490140181523,
          -1.9524223419631697,
          0.6858617659955623,
          0.2883834504425376,
          0.20911482004677523,
          0.5299742543623438,
          1.1327845046858638,
          -0.7251055108060356,
          1.2135193055712752,
          2.300244842789878,
          -0.738390301241366,
          0.05291785180475275,
          -3.4709290329743743,
          0.5977833494136633,
          0.14110732006113477,
          -0.5840013368991821,
          0.004953715931068007,
          -1.223861385225602,
          0.6190924457254161,
          0.039732403047753204,
          1.425699337352612,
          0.44876455422443184,
          1.0781702197003584,
          1.6736082013851366,
          0.13414414323520682,
          -0.049714591234064916,
          1.5718612497436992,
          -0.488626681795911,
          -1.0745094634783077,
          0.010835515648132663,
          0.7740169127901401,
          -0.6426873875675859,
          -0.9754780684816817,
          0.5529827758798664,
          -1.0672963254082246,
          -0.04456852341750004,
          0.7692202067160016,
          1.2321144828985524,
          0.1433419894687381,
          -0.2909362098687318,
          -0.47267633317745456,
          1.7972382007227412,
          0.21805988911238225,
          -0.009552893266460817,
          1.3467405298885615,
          1.585402040037534,
          -0.4229297524139318,
          -0.3769072295415943,
          -0.3270199703308662,
          -1.6570808165725148,
          -0.12574749288277748,
          -0.6176444759289953,
          0.7439988726600845,
          0.24613374285765183,
          0.38947090242920723,
          1.6723019786775943,
          -0.41963702796672747,
          0.9047373455383958,
          -0.017673105582772474,
          -1.0170416703023462,
          -0.19324125760756355,
          -1.2503224511053932,
          -2.1470424425254766,
          1.0221779062477727,
          -2.5065738171228205,
          -0.05963337005966899,
          0.47649356521775404,
          1.4276528138041606,
          -0.32425457930617246
         ]
        },
        {
         "line": {
          "color": "rgba(55, 128, 191, 1.0)",
          "dash": "solid",
          "shape": "linear",
          "width": 1.3
         },
         "mode": "lines",
         "name": "B",
         "text": "",
         "type": "scatter",
         "x": [
          0,
          1,
          2,
          3,
          4,
          5,
          6,
          7,
          8,
          9,
          10,
          11,
          12,
          13,
          14,
          15,
          16,
          17,
          18,
          19,
          20,
          21,
          22,
          23,
          24,
          25,
          26,
          27,
          28,
          29,
          30,
          31,
          32,
          33,
          34,
          35,
          36,
          37,
          38,
          39,
          40,
          41,
          42,
          43,
          44,
          45,
          46,
          47,
          48,
          49,
          50,
          51,
          52,
          53,
          54,
          55,
          56,
          57,
          58,
          59,
          60,
          61,
          62,
          63,
          64,
          65,
          66,
          67,
          68,
          69,
          70,
          71,
          72,
          73,
          74,
          75,
          76,
          77,
          78,
          79,
          80,
          81,
          82,
          83,
          84,
          85,
          86,
          87,
          88,
          89,
          90,
          91,
          92,
          93,
          94,
          95,
          96,
          97,
          98,
          99
         ],
         "y": [
          1.102553266001446,
          0.07003004352789324,
          0.5810101219197732,
          -1.9203120747377667,
          0.7532931016641667,
          -1.8337590115007922,
          0.3096264931476165,
          0.6393282156170463,
          -0.798725006016867,
          0.5417207731363791,
          -0.4239424069146018,
          -0.41392400709499866,
          0.08559850853532823,
          0.9093550061070701,
          -0.7280430808263331,
          -0.6824589540078425,
          0.28090931380191964,
          -0.3319007037857765,
          -1.6667158346606188,
          1.6130909499660644,
          -0.29661045750111187,
          0.03900350809678387,
          -1.071474539376231,
          1.5231277410687434,
          -0.5079840148181424,
          -0.25873323295644196,
          0.824139139298492,
          -0.7159802359304246,
          0.0625797583586818,
          -0.3284807894012514,
          1.8955312299431808,
          0.19648109599776153,
          -0.7495227570633665,
          -0.4242023122477403,
          0.3280281720357379,
          1.286964003251896,
          0.5657468540102697,
          1.3689612247632001,
          -0.14350400521153903,
          0.4957019813435518,
          -0.15271765262681536,
          0.6806210533160196,
          -0.10168526735020109,
          -0.5982519315647606,
          -0.6749402596978042,
          0.9702043432759824,
          0.1819894336902613,
          0.5985343656147386,
          0.8340920172057208,
          -0.3702418957397792,
          -0.846857106926398,
          1.0311250582516243,
          0.5008522513259931,
          0.3365768679120584,
          1.7121320739187826,
          0.5117482937902189,
          -1.8244623092300802,
          0.4321066066002589,
          -1.4421686853378737,
          0.19790900585090146,
          0.5589783024737872,
          1.7182668640964827,
          1.315239011718634,
          1.7541664056342483,
          1.0824383076378559,
          0.22308066904734622,
          0.19192596158254535,
          -0.6642502185333556,
          -1.233927505323582,
          -0.5150258836486774,
          0.7724192205916995,
          -1.539246559652809,
          -0.3441725530827281,
          -1.294768684186355,
          2.1510598274343513,
          -0.43919021706940076,
          0.7869812774679221,
          -0.2659664510423569,
          -0.178614785666635,
          0.7088802171641168,
          -0.8127121234339456,
          0.2522994859088976,
          -0.8830069315654053,
          -0.035996353631033304,
          -0.09755848244586804,
          -1.1402570557997063,
          1.0168044017244504,
          0.19659128228813155,
          0.657835318268974,
          -1.6522321435881624,
          -0.7204032750503859,
          -2.0365700276099843,
          0.42548498076418545,
          -1.198762076198404,
          -0.08761184598444494,
          0.38108581263880736,
          -0.41153334539835307,
          -0.3198757873724358,
          -1.7491866397945144,
          0.06285634871996862
         ]
        },
        {
         "connectgaps": false,
         "fill": "tozeroy",
         "line": {
          "color": "green",
          "dash": "solid",
          "shape": "linear",
          "width": 0.5
         },
         "mode": "lines",
         "name": "Spread",
         "showlegend": false,
         "type": "scatter",
         "x": [
          0,
          1,
          2,
          3,
          4,
          5,
          6,
          7,
          8,
          9,
          10,
          11,
          12,
          13,
          14,
          15,
          16,
          17,
          18,
          19,
          20,
          21,
          22,
          23,
          24,
          25,
          26,
          27,
          28,
          29,
          30,
          31,
          32,
          33,
          34,
          35,
          36,
          37,
          38,
          39,
          40,
          41,
          42,
          43,
          44,
          45,
          46,
          47,
          48,
          49,
          50,
          51,
          52,
          53,
          54,
          55,
          56,
          57,
          58,
          59,
          60,
          61,
          62,
          63,
          64,
          65,
          66,
          67,
          68,
          69,
          70,
          71,
          72,
          73,
          74,
          75,
          76,
          77,
          78,
          79,
          80,
          81,
          82,
          83,
          84,
          85,
          86,
          87,
          88,
          89,
          90,
          91,
          92,
          93,
          94,
          95,
          96,
          97,
          98,
          99
         ],
         "xaxis": "x2",
         "y": [
          0.5364639550767651,
          0.28033305256014407,
          "",
          0.9131434923360278,
          "",
          0.9777873590253575,
          "",
          "",
          0.04641439695930982,
          "",
          "",
          "",
          1.025589966097925,
          "",
          0.32796528047417195,
          "",
          "",
          0.9902430074398845,
          2.545367375595569,
          "",
          "",
          "",
          1.88219331141127,
          "",
          1.1976424935439678,
          0.9023077505046497,
          "",
          1.0568406945767121,
          0.20286714600756278,
          0.2510178690310302,
          "",
          0.8926679180203908,
          "",
          1.1100640782433024,
          "",
          "",
          "",
          "",
          "",
          0.7178173242277234,
          2.4529624954166933,
          "",
          0.15460311915495384,
          "",
          1.2727236091114675,
          "",
          "",
          "",
          "",
          0.9893343414651954,
          0.8865895099741512,
          0.39457427910098763,
          "",
          0.7415933517883,
          "",
          "",
          1.7747477179960154,
          1.1397546431434402,
          0.9535420035419626,
          "",
          "",
          "",
          "",
          "",
          "",
          "",
          "",
          1.4334704252493573,
          2.4660419882221345,
          0.6583678731174155,
          "",
          1.0665702264753545,
          2.141410753805469,
          1.5128285732987372,
          "",
          1.7859307469579622,
          0.7984207625696118,
          "",
          "",
          "",
          "",
          "",
          0.26536245563641003,
          0.7799952262911177,
          0.34369222530351984,
          1.5297279582289134,
          0.6554975769531439,
          "",
          0.2469020272694218,
          1.6345590380053898,
          "",
          1.8433287700024208,
          "",
          "",
          1.1097897522322175,
          "",
          0.35189997533868406,
          0.7963693525901898,
          3.1768394535986753,
          ""
         ],
         "yaxis": "y2"
        },
        {
         "connectgaps": false,
         "fill": "tozeroy",
         "line": {
          "color": "red",
          "dash": "solid",
          "shape": "linear",
          "width": 0.5
         },
         "mode": "lines",
         "name": "Spread",
         "showlegend": false,
         "type": "scatter",
         "x": [
          0,
          1,
          2,
          3,
          4,
          5,
          6,
          7,
          8,
          9,
          10,
          11,
          12,
          13,
          14,
          15,
          16,
          17,
          18,
          19,
          20,
          21,
          22,
          23,
          24,
          25,
          26,
          27,
          28,
          29,
          30,
          31,
          32,
          33,
          34,
          35,
          36,
          37,
          38,
          39,
          40,
          41,
          42,
          43,
          44,
          45,
          46,
          47,
          48,
          49,
          50,
          51,
          52,
          53,
          54,
          55,
          56,
          57,
          58,
          59,
          60,
          61,
          62,
          63,
          64,
          65,
          66,
          67,
          68,
          69,
          70,
          71,
          72,
          73,
          74,
          75,
          76,
          77,
          78,
          79,
          80,
          81,
          82,
          83,
          84,
          85,
          86,
          87,
          88,
          89,
          90,
          91,
          92,
          93,
          94,
          95,
          96,
          97,
          98,
          99
         ],
         "xaxis": "x2",
         "y": [
          "",
          "",
          -0.5756648703142161,
          "",
          -0.14685586560464736,
          "",
          -0.602585803287391,
          -0.5246290805218428,
          "",
          -0.7373556747078451,
          -0.11652683928708213,
          -0.8981729494279141,
          "",
          -2.365677126060314,
          "",
          -0.7627113921642692,
          -1.6441406297922676,
          "",
          "",
          -3.1217707297604447,
          -0.2759846846772302,
          -2.9911825143852155,
          "",
          -4.0422153505685925,
          "",
          "",
          -2.0241728280436044,
          "",
          "",
          "",
          -1.0324468473820962,
          "",
          -1.2028995848998032,
          "",
          -0.039644721593200316,
          -1.077849183205121,
          -0.035772599647925896,
          -0.23617672007733637,
          -0.5816015055944965,
          "",
          "",
          -1.4190113545573855,
          "",
          -2.8726771014096135,
          "",
          -0.8290970232148476,
          -0.7659907705894434,
          -0.5935806496836706,
          -2.057953402431323,
          "",
          "",
          "",
          -0.05208769710156125,
          "",
          -0.038523872533646086,
          -0.37760415055501206,
          "",
          "",
          "",
          -1.272418469329209,
          -0.5481427868256545,
          -0.9442499513063426,
          -1.9579263992862201,
          -2.72964447411593,
          -0.5294555317579894,
          -1.2903769944555707,
          -0.23649448500004538,
          "",
          "",
          "",
          -1.0633554304604314,
          "",
          "",
          "",
          -2.1606127207008123,
          "",
          "",
          -0.15696330137157494,
          -0.19829244387495928,
          -1.035900187494983,
          -0.8443686931385692,
          -0.3780469787916751,
          "",
          "",
          "",
          "",
          "",
          -0.616228310254859,
          "",
          "",
          -0.29663839525196023,
          "",
          -1.6758074318695786,
          -0.9482803663270727,
          "",
          -2.887659629761628,
          "",
          "",
          "",
          -0.3871109280261411
         ],
         "yaxis": "y2"
        }
       ],
       "layout": {
        "hovermode": "x",
        "legend": {
         "bgcolor": "#F5F6F9",
         "font": {
          "color": "#4D5663"
         }
        },
        "paper_bgcolor": "#F5F6F9",
        "plot_bgcolor": "#F5F6F9",
        "template": {
         "data": {
          "bar": [
           {
            "error_x": {
             "color": "#2a3f5f"
            },
            "error_y": {
             "color": "#2a3f5f"
            },
            "marker": {
             "line": {
              "color": "#E5ECF6",
              "width": 0.5
             },
             "pattern": {
              "fillmode": "overlay",
              "size": 10,
              "solidity": 0.2
             }
            },
            "type": "bar"
           }
          ],
          "barpolar": [
           {
            "marker": {
             "line": {
              "color": "#E5ECF6",
              "width": 0.5
             },
             "pattern": {
              "fillmode": "overlay",
              "size": 10,
              "solidity": 0.2
             }
            },
            "type": "barpolar"
           }
          ],
          "carpet": [
           {
            "aaxis": {
             "endlinecolor": "#2a3f5f",
             "gridcolor": "white",
             "linecolor": "white",
             "minorgridcolor": "white",
             "startlinecolor": "#2a3f5f"
            },
            "baxis": {
             "endlinecolor": "#2a3f5f",
             "gridcolor": "white",
             "linecolor": "white",
             "minorgridcolor": "white",
             "startlinecolor": "#2a3f5f"
            },
            "type": "carpet"
           }
          ],
          "choropleth": [
           {
            "colorbar": {
             "outlinewidth": 0,
             "ticks": ""
            },
            "type": "choropleth"
           }
          ],
          "contour": [
           {
            "colorbar": {
             "outlinewidth": 0,
             "ticks": ""
            },
            "colorscale": [
             [
              0,
              "#0d0887"
             ],
             [
              0.1111111111111111,
              "#46039f"
             ],
             [
              0.2222222222222222,
              "#7201a8"
             ],
             [
              0.3333333333333333,
              "#9c179e"
             ],
             [
              0.4444444444444444,
              "#bd3786"
             ],
             [
              0.5555555555555556,
              "#d8576b"
             ],
             [
              0.6666666666666666,
              "#ed7953"
             ],
             [
              0.7777777777777778,
              "#fb9f3a"
             ],
             [
              0.8888888888888888,
              "#fdca26"
             ],
             [
              1,
              "#f0f921"
             ]
            ],
            "type": "contour"
           }
          ],
          "contourcarpet": [
           {
            "colorbar": {
             "outlinewidth": 0,
             "ticks": ""
            },
            "type": "contourcarpet"
           }
          ],
          "heatmap": [
           {
            "colorbar": {
             "outlinewidth": 0,
             "ticks": ""
            },
            "colorscale": [
             [
              0,
              "#0d0887"
             ],
             [
              0.1111111111111111,
              "#46039f"
             ],
             [
              0.2222222222222222,
              "#7201a8"
             ],
             [
              0.3333333333333333,
              "#9c179e"
             ],
             [
              0.4444444444444444,
              "#bd3786"
             ],
             [
              0.5555555555555556,
              "#d8576b"
             ],
             [
              0.6666666666666666,
              "#ed7953"
             ],
             [
              0.7777777777777778,
              "#fb9f3a"
             ],
             [
              0.8888888888888888,
              "#fdca26"
             ],
             [
              1,
              "#f0f921"
             ]
            ],
            "type": "heatmap"
           }
          ],
          "heatmapgl": [
           {
            "colorbar": {
             "outlinewidth": 0,
             "ticks": ""
            },
            "colorscale": [
             [
              0,
              "#0d0887"
             ],
             [
              0.1111111111111111,
              "#46039f"
             ],
             [
              0.2222222222222222,
              "#7201a8"
             ],
             [
              0.3333333333333333,
              "#9c179e"
             ],
             [
              0.4444444444444444,
              "#bd3786"
             ],
             [
              0.5555555555555556,
              "#d8576b"
             ],
             [
              0.6666666666666666,
              "#ed7953"
             ],
             [
              0.7777777777777778,
              "#fb9f3a"
             ],
             [
              0.8888888888888888,
              "#fdca26"
             ],
             [
              1,
              "#f0f921"
             ]
            ],
            "type": "heatmapgl"
           }
          ],
          "histogram": [
           {
            "marker": {
             "pattern": {
              "fillmode": "overlay",
              "size": 10,
              "solidity": 0.2
             }
            },
            "type": "histogram"
           }
          ],
          "histogram2d": [
           {
            "colorbar": {
             "outlinewidth": 0,
             "ticks": ""
            },
            "colorscale": [
             [
              0,
              "#0d0887"
             ],
             [
              0.1111111111111111,
              "#46039f"
             ],
             [
              0.2222222222222222,
              "#7201a8"
             ],
             [
              0.3333333333333333,
              "#9c179e"
             ],
             [
              0.4444444444444444,
              "#bd3786"
             ],
             [
              0.5555555555555556,
              "#d8576b"
             ],
             [
              0.6666666666666666,
              "#ed7953"
             ],
             [
              0.7777777777777778,
              "#fb9f3a"
             ],
             [
              0.8888888888888888,
              "#fdca26"
             ],
             [
              1,
              "#f0f921"
             ]
            ],
            "type": "histogram2d"
           }
          ],
          "histogram2dcontour": [
           {
            "colorbar": {
             "outlinewidth": 0,
             "ticks": ""
            },
            "colorscale": [
             [
              0,
              "#0d0887"
             ],
             [
              0.1111111111111111,
              "#46039f"
             ],
             [
              0.2222222222222222,
              "#7201a8"
             ],
             [
              0.3333333333333333,
              "#9c179e"
             ],
             [
              0.4444444444444444,
              "#bd3786"
             ],
             [
              0.5555555555555556,
              "#d8576b"
             ],
             [
              0.6666666666666666,
              "#ed7953"
             ],
             [
              0.7777777777777778,
              "#fb9f3a"
             ],
             [
              0.8888888888888888,
              "#fdca26"
             ],
             [
              1,
              "#f0f921"
             ]
            ],
            "type": "histogram2dcontour"
           }
          ],
          "mesh3d": [
           {
            "colorbar": {
             "outlinewidth": 0,
             "ticks": ""
            },
            "type": "mesh3d"
           }
          ],
          "parcoords": [
           {
            "line": {
             "colorbar": {
              "outlinewidth": 0,
              "ticks": ""
             }
            },
            "type": "parcoords"
           }
          ],
          "pie": [
           {
            "automargin": true,
            "type": "pie"
           }
          ],
          "scatter": [
           {
            "marker": {
             "colorbar": {
              "outlinewidth": 0,
              "ticks": ""
             }
            },
            "type": "scatter"
           }
          ],
          "scatter3d": [
           {
            "line": {
             "colorbar": {
              "outlinewidth": 0,
              "ticks": ""
             }
            },
            "marker": {
             "colorbar": {
              "outlinewidth": 0,
              "ticks": ""
             }
            },
            "type": "scatter3d"
           }
          ],
          "scattercarpet": [
           {
            "marker": {
             "colorbar": {
              "outlinewidth": 0,
              "ticks": ""
             }
            },
            "type": "scattercarpet"
           }
          ],
          "scattergeo": [
           {
            "marker": {
             "colorbar": {
              "outlinewidth": 0,
              "ticks": ""
             }
            },
            "type": "scattergeo"
           }
          ],
          "scattergl": [
           {
            "marker": {
             "colorbar": {
              "outlinewidth": 0,
              "ticks": ""
             }
            },
            "type": "scattergl"
           }
          ],
          "scattermapbox": [
           {
            "marker": {
             "colorbar": {
              "outlinewidth": 0,
              "ticks": ""
             }
            },
            "type": "scattermapbox"
           }
          ],
          "scatterpolar": [
           {
            "marker": {
             "colorbar": {
              "outlinewidth": 0,
              "ticks": ""
             }
            },
            "type": "scatterpolar"
           }
          ],
          "scatterpolargl": [
           {
            "marker": {
             "colorbar": {
              "outlinewidth": 0,
              "ticks": ""
             }
            },
            "type": "scatterpolargl"
           }
          ],
          "scatterternary": [
           {
            "marker": {
             "colorbar": {
              "outlinewidth": 0,
              "ticks": ""
             }
            },
            "type": "scatterternary"
           }
          ],
          "surface": [
           {
            "colorbar": {
             "outlinewidth": 0,
             "ticks": ""
            },
            "colorscale": [
             [
              0,
              "#0d0887"
             ],
             [
              0.1111111111111111,
              "#46039f"
             ],
             [
              0.2222222222222222,
              "#7201a8"
             ],
             [
              0.3333333333333333,
              "#9c179e"
             ],
             [
              0.4444444444444444,
              "#bd3786"
             ],
             [
              0.5555555555555556,
              "#d8576b"
             ],
             [
              0.6666666666666666,
              "#ed7953"
             ],
             [
              0.7777777777777778,
              "#fb9f3a"
             ],
             [
              0.8888888888888888,
              "#fdca26"
             ],
             [
              1,
              "#f0f921"
             ]
            ],
            "type": "surface"
           }
          ],
          "table": [
           {
            "cells": {
             "fill": {
              "color": "#EBF0F8"
             },
             "line": {
              "color": "white"
             }
            },
            "header": {
             "fill": {
              "color": "#C8D4E3"
             },
             "line": {
              "color": "white"
             }
            },
            "type": "table"
           }
          ]
         },
         "layout": {
          "annotationdefaults": {
           "arrowcolor": "#2a3f5f",
           "arrowhead": 0,
           "arrowwidth": 1
          },
          "autotypenumbers": "strict",
          "coloraxis": {
           "colorbar": {
            "outlinewidth": 0,
            "ticks": ""
           }
          },
          "colorscale": {
           "diverging": [
            [
             0,
             "#8e0152"
            ],
            [
             0.1,
             "#c51b7d"
            ],
            [
             0.2,
             "#de77ae"
            ],
            [
             0.3,
             "#f1b6da"
            ],
            [
             0.4,
             "#fde0ef"
            ],
            [
             0.5,
             "#f7f7f7"
            ],
            [
             0.6,
             "#e6f5d0"
            ],
            [
             0.7,
             "#b8e186"
            ],
            [
             0.8,
             "#7fbc41"
            ],
            [
             0.9,
             "#4d9221"
            ],
            [
             1,
             "#276419"
            ]
           ],
           "sequential": [
            [
             0,
             "#0d0887"
            ],
            [
             0.1111111111111111,
             "#46039f"
            ],
            [
             0.2222222222222222,
             "#7201a8"
            ],
            [
             0.3333333333333333,
             "#9c179e"
            ],
            [
             0.4444444444444444,
             "#bd3786"
            ],
            [
             0.5555555555555556,
             "#d8576b"
            ],
            [
             0.6666666666666666,
             "#ed7953"
            ],
            [
             0.7777777777777778,
             "#fb9f3a"
            ],
            [
             0.8888888888888888,
             "#fdca26"
            ],
            [
             1,
             "#f0f921"
            ]
           ],
           "sequentialminus": [
            [
             0,
             "#0d0887"
            ],
            [
             0.1111111111111111,
             "#46039f"
            ],
            [
             0.2222222222222222,
             "#7201a8"
            ],
            [
             0.3333333333333333,
             "#9c179e"
            ],
            [
             0.4444444444444444,
             "#bd3786"
            ],
            [
             0.5555555555555556,
             "#d8576b"
            ],
            [
             0.6666666666666666,
             "#ed7953"
            ],
            [
             0.7777777777777778,
             "#fb9f3a"
            ],
            [
             0.8888888888888888,
             "#fdca26"
            ],
            [
             1,
             "#f0f921"
            ]
           ]
          },
          "colorway": [
           "#636efa",
           "#EF553B",
           "#00cc96",
           "#ab63fa",
           "#FFA15A",
           "#19d3f3",
           "#FF6692",
           "#B6E880",
           "#FF97FF",
           "#FECB52"
          ],
          "font": {
           "color": "#2a3f5f"
          },
          "geo": {
           "bgcolor": "white",
           "lakecolor": "white",
           "landcolor": "#E5ECF6",
           "showlakes": true,
           "showland": true,
           "subunitcolor": "white"
          },
          "hoverlabel": {
           "align": "left"
          },
          "hovermode": "closest",
          "mapbox": {
           "style": "light"
          },
          "paper_bgcolor": "white",
          "plot_bgcolor": "#E5ECF6",
          "polar": {
           "angularaxis": {
            "gridcolor": "white",
            "linecolor": "white",
            "ticks": ""
           },
           "bgcolor": "#E5ECF6",
           "radialaxis": {
            "gridcolor": "white",
            "linecolor": "white",
            "ticks": ""
           }
          },
          "scene": {
           "xaxis": {
            "backgroundcolor": "#E5ECF6",
            "gridcolor": "white",
            "gridwidth": 2,
            "linecolor": "white",
            "showbackground": true,
            "ticks": "",
            "zerolinecolor": "white"
           },
           "yaxis": {
            "backgroundcolor": "#E5ECF6",
            "gridcolor": "white",
            "gridwidth": 2,
            "linecolor": "white",
            "showbackground": true,
            "ticks": "",
            "zerolinecolor": "white"
           },
           "zaxis": {
            "backgroundcolor": "#E5ECF6",
            "gridcolor": "white",
            "gridwidth": 2,
            "linecolor": "white",
            "showbackground": true,
            "ticks": "",
            "zerolinecolor": "white"
           }
          },
          "shapedefaults": {
           "line": {
            "color": "#2a3f5f"
           }
          },
          "ternary": {
           "aaxis": {
            "gridcolor": "white",
            "linecolor": "white",
            "ticks": ""
           },
           "baxis": {
            "gridcolor": "white",
            "linecolor": "white",
            "ticks": ""
           },
           "bgcolor": "#E5ECF6",
           "caxis": {
            "gridcolor": "white",
            "linecolor": "white",
            "ticks": ""
           }
          },
          "title": {
           "x": 0.05
          },
          "xaxis": {
           "automargin": true,
           "gridcolor": "white",
           "linecolor": "white",
           "ticks": "",
           "title": {
            "standoff": 15
           },
           "zerolinecolor": "white",
           "zerolinewidth": 2
          },
          "yaxis": {
           "automargin": true,
           "gridcolor": "white",
           "linecolor": "white",
           "ticks": "",
           "title": {
            "standoff": 15
           },
           "zerolinecolor": "white",
           "zerolinewidth": 2
          }
         }
        },
        "title": {
         "font": {
          "color": "#4D5663"
         }
        },
        "xaxis": {
         "gridcolor": "#E1E5ED",
         "showgrid": true,
         "tickfont": {
          "color": "#4D5663"
         },
         "title": {
          "font": {
           "color": "#4D5663"
          },
          "text": ""
         },
         "zerolinecolor": "#E1E5ED"
        },
        "xaxis2": {
         "anchor": "y2",
         "gridcolor": "#E1E5ED",
         "showgrid": true,
         "showticklabels": false,
         "tickfont": {
          "color": "#4D5663"
         },
         "title": {
          "font": {
           "color": "#4D5663"
          },
          "text": ""
         },
         "zerolinecolor": "#E1E5ED"
        },
        "yaxis": {
         "domain": [
          0.3,
          1
         ],
         "gridcolor": "#E1E5ED",
         "showgrid": true,
         "tickfont": {
          "color": "#4D5663"
         },
         "title": {
          "font": {
           "color": "#4D5663"
          },
          "text": ""
         },
         "zerolinecolor": "#E1E5ED"
        },
        "yaxis2": {
         "domain": [
          0,
          0.25
         ],
         "gridcolor": "#E1E5ED",
         "showgrid": true,
         "tickfont": {
          "color": "#4D5663"
         },
         "title": {
          "font": {
           "color": "#4D5663"
          },
          "text": "Spread"
         },
         "zerolinecolor": "#E1E5ED"
        }
       }
      },
      "text/html": [
       "<div>                            <div id=\"fe3eda29-3e7d-4873-b56c-678cf568aea7\" class=\"plotly-graph-div\" style=\"height:525px; width:100%;\"></div>            <script type=\"text/javascript\">                require([\"plotly\"], function(Plotly) {                    window.PLOTLYENV=window.PLOTLYENV || {};\n",
       "                    window.PLOTLYENV.BASE_URL='https://plot.ly';                                    if (document.getElementById(\"fe3eda29-3e7d-4873-b56c-678cf568aea7\")) {                    Plotly.newPlot(                        \"fe3eda29-3e7d-4873-b56c-678cf568aea7\",                        [{\"line\":{\"color\":\"rgba(255, 153, 51, 1.0)\",\"dash\":\"solid\",\"shape\":\"linear\",\"width\":1.3},\"mode\":\"lines\",\"name\":\"A\",\"text\":\"\",\"type\":\"scatter\",\"x\":[0,1,2,3,4,5,6,7,8,9,10,11,12,13,14,15,16,17,18,19,20,21,22,23,24,25,26,27,28,29,30,31,32,33,34,35,36,37,38,39,40,41,42,43,44,45,46,47,48,49,50,51,52,53,54,55,56,57,58,59,60,61,62,63,64,65,66,67,68,69,70,71,72,73,74,75,76,77,78,79,80,81,82,83,84,85,86,87,88,89,90,91,92,93,94,95,96,97,98,99],\"y\":[1.6390172210782112,0.35036309608803734,0.005345251605557072,-1.007168582401739,0.6064372360595194,-0.8559716524754347,-0.29295931013977455,0.11469913509520363,-0.7523106090575572,-0.195634901571466,-0.5404692462016839,-1.3120969565229128,1.1111884746332532,-1.4563221199532441,-0.4000778003521611,-1.4451703461721117,-1.363231315990348,0.658342303654108,0.8786515409349503,-1.5086797797943805,-0.5725951421783421,-2.9521790062884317,0.8107187720350392,-2.519087609499849,0.6896584787258254,0.6435745175482077,-1.2000336887451124,0.34086045864628756,0.2654469043662446,-0.07746292037022126,0.8630843825610846,1.0891490140181523,-1.9524223419631697,0.6858617659955623,0.2883834504425376,0.20911482004677523,0.5299742543623438,1.1327845046858638,-0.7251055108060356,1.2135193055712752,2.300244842789878,-0.738390301241366,0.05291785180475275,-3.4709290329743743,0.5977833494136633,0.14110732006113477,-0.5840013368991821,0.004953715931068007,-1.223861385225602,0.6190924457254161,0.039732403047753204,1.425699337352612,0.44876455422443184,1.0781702197003584,1.6736082013851366,0.13414414323520682,-0.049714591234064916,1.5718612497436992,-0.488626681795911,-1.0745094634783077,0.010835515648132663,0.7740169127901401,-0.6426873875675859,-0.9754780684816817,0.5529827758798664,-1.0672963254082246,-0.04456852341750004,0.7692202067160016,1.2321144828985524,0.1433419894687381,-0.2909362098687318,-0.47267633317745456,1.7972382007227412,0.21805988911238225,-0.009552893266460817,1.3467405298885615,1.585402040037534,-0.4229297524139318,-0.3769072295415943,-0.3270199703308662,-1.6570808165725148,-0.12574749288277748,-0.6176444759289953,0.7439988726600845,0.24613374285765183,0.38947090242920723,1.6723019786775943,-0.41963702796672747,0.9047373455383958,-0.017673105582772474,-1.0170416703023462,-0.19324125760756355,-1.2503224511053932,-2.1470424425254766,1.0221779062477727,-2.5065738171228205,-0.05963337005966899,0.47649356521775404,1.4276528138041606,-0.32425457930617246]},{\"line\":{\"color\":\"rgba(55, 128, 191, 1.0)\",\"dash\":\"solid\",\"shape\":\"linear\",\"width\":1.3},\"mode\":\"lines\",\"name\":\"B\",\"text\":\"\",\"type\":\"scatter\",\"x\":[0,1,2,3,4,5,6,7,8,9,10,11,12,13,14,15,16,17,18,19,20,21,22,23,24,25,26,27,28,29,30,31,32,33,34,35,36,37,38,39,40,41,42,43,44,45,46,47,48,49,50,51,52,53,54,55,56,57,58,59,60,61,62,63,64,65,66,67,68,69,70,71,72,73,74,75,76,77,78,79,80,81,82,83,84,85,86,87,88,89,90,91,92,93,94,95,96,97,98,99],\"y\":[1.102553266001446,0.07003004352789324,0.5810101219197732,-1.9203120747377667,0.7532931016641667,-1.8337590115007922,0.3096264931476165,0.6393282156170463,-0.798725006016867,0.5417207731363791,-0.4239424069146018,-0.41392400709499866,0.08559850853532823,0.9093550061070701,-0.7280430808263331,-0.6824589540078425,0.28090931380191964,-0.3319007037857765,-1.6667158346606188,1.6130909499660644,-0.29661045750111187,0.03900350809678387,-1.071474539376231,1.5231277410687434,-0.5079840148181424,-0.25873323295644196,0.824139139298492,-0.7159802359304246,0.0625797583586818,-0.3284807894012514,1.8955312299431808,0.19648109599776153,-0.7495227570633665,-0.4242023122477403,0.3280281720357379,1.286964003251896,0.5657468540102697,1.3689612247632001,-0.14350400521153903,0.4957019813435518,-0.15271765262681536,0.6806210533160196,-0.10168526735020109,-0.5982519315647606,-0.6749402596978042,0.9702043432759824,0.1819894336902613,0.5985343656147386,0.8340920172057208,-0.3702418957397792,-0.846857106926398,1.0311250582516243,0.5008522513259931,0.3365768679120584,1.7121320739187826,0.5117482937902189,-1.8244623092300802,0.4321066066002589,-1.4421686853378737,0.19790900585090146,0.5589783024737872,1.7182668640964827,1.315239011718634,1.7541664056342483,1.0824383076378559,0.22308066904734622,0.19192596158254535,-0.6642502185333556,-1.233927505323582,-0.5150258836486774,0.7724192205916995,-1.539246559652809,-0.3441725530827281,-1.294768684186355,2.1510598274343513,-0.43919021706940076,0.7869812774679221,-0.2659664510423569,-0.178614785666635,0.7088802171641168,-0.8127121234339456,0.2522994859088976,-0.8830069315654053,-0.035996353631033304,-0.09755848244586804,-1.1402570557997063,1.0168044017244504,0.19659128228813155,0.657835318268974,-1.6522321435881624,-0.7204032750503859,-2.0365700276099843,0.42548498076418545,-1.198762076198404,-0.08761184598444494,0.38108581263880736,-0.41153334539835307,-0.3198757873724358,-1.7491866397945144,0.06285634871996862]},{\"connectgaps\":false,\"fill\":\"tozeroy\",\"line\":{\"color\":\"green\",\"dash\":\"solid\",\"shape\":\"linear\",\"width\":0.5},\"mode\":\"lines\",\"name\":\"Spread\",\"showlegend\":false,\"type\":\"scatter\",\"x\":[0,1,2,3,4,5,6,7,8,9,10,11,12,13,14,15,16,17,18,19,20,21,22,23,24,25,26,27,28,29,30,31,32,33,34,35,36,37,38,39,40,41,42,43,44,45,46,47,48,49,50,51,52,53,54,55,56,57,58,59,60,61,62,63,64,65,66,67,68,69,70,71,72,73,74,75,76,77,78,79,80,81,82,83,84,85,86,87,88,89,90,91,92,93,94,95,96,97,98,99],\"xaxis\":\"x2\",\"y\":[0.5364639550767651,0.28033305256014407,\"\",0.9131434923360278,\"\",0.9777873590253575,\"\",\"\",0.04641439695930982,\"\",\"\",\"\",1.025589966097925,\"\",0.32796528047417195,\"\",\"\",0.9902430074398845,2.545367375595569,\"\",\"\",\"\",1.88219331141127,\"\",1.1976424935439678,0.9023077505046497,\"\",1.0568406945767121,0.20286714600756278,0.2510178690310302,\"\",0.8926679180203908,\"\",1.1100640782433024,\"\",\"\",\"\",\"\",\"\",0.7178173242277234,2.4529624954166933,\"\",0.15460311915495384,\"\",1.2727236091114675,\"\",\"\",\"\",\"\",0.9893343414651954,0.8865895099741512,0.39457427910098763,\"\",0.7415933517883,\"\",\"\",1.7747477179960154,1.1397546431434402,0.9535420035419626,\"\",\"\",\"\",\"\",\"\",\"\",\"\",\"\",1.4334704252493573,2.4660419882221345,0.6583678731174155,\"\",1.0665702264753545,2.141410753805469,1.5128285732987372,\"\",1.7859307469579622,0.7984207625696118,\"\",\"\",\"\",\"\",\"\",0.26536245563641003,0.7799952262911177,0.34369222530351984,1.5297279582289134,0.6554975769531439,\"\",0.2469020272694218,1.6345590380053898,\"\",1.8433287700024208,\"\",\"\",1.1097897522322175,\"\",0.35189997533868406,0.7963693525901898,3.1768394535986753,\"\"],\"yaxis\":\"y2\"},{\"connectgaps\":false,\"fill\":\"tozeroy\",\"line\":{\"color\":\"red\",\"dash\":\"solid\",\"shape\":\"linear\",\"width\":0.5},\"mode\":\"lines\",\"name\":\"Spread\",\"showlegend\":false,\"type\":\"scatter\",\"x\":[0,1,2,3,4,5,6,7,8,9,10,11,12,13,14,15,16,17,18,19,20,21,22,23,24,25,26,27,28,29,30,31,32,33,34,35,36,37,38,39,40,41,42,43,44,45,46,47,48,49,50,51,52,53,54,55,56,57,58,59,60,61,62,63,64,65,66,67,68,69,70,71,72,73,74,75,76,77,78,79,80,81,82,83,84,85,86,87,88,89,90,91,92,93,94,95,96,97,98,99],\"xaxis\":\"x2\",\"y\":[\"\",\"\",-0.5756648703142161,\"\",-0.14685586560464736,\"\",-0.602585803287391,-0.5246290805218428,\"\",-0.7373556747078451,-0.11652683928708213,-0.8981729494279141,\"\",-2.365677126060314,\"\",-0.7627113921642692,-1.6441406297922676,\"\",\"\",-3.1217707297604447,-0.2759846846772302,-2.9911825143852155,\"\",-4.0422153505685925,\"\",\"\",-2.0241728280436044,\"\",\"\",\"\",-1.0324468473820962,\"\",-1.2028995848998032,\"\",-0.039644721593200316,-1.077849183205121,-0.035772599647925896,-0.23617672007733637,-0.5816015055944965,\"\",\"\",-1.4190113545573855,\"\",-2.8726771014096135,\"\",-0.8290970232148476,-0.7659907705894434,-0.5935806496836706,-2.057953402431323,\"\",\"\",\"\",-0.05208769710156125,\"\",-0.038523872533646086,-0.37760415055501206,\"\",\"\",\"\",-1.272418469329209,-0.5481427868256545,-0.9442499513063426,-1.9579263992862201,-2.72964447411593,-0.5294555317579894,-1.2903769944555707,-0.23649448500004538,\"\",\"\",\"\",-1.0633554304604314,\"\",\"\",\"\",-2.1606127207008123,\"\",\"\",-0.15696330137157494,-0.19829244387495928,-1.035900187494983,-0.8443686931385692,-0.3780469787916751,\"\",\"\",\"\",\"\",\"\",-0.616228310254859,\"\",\"\",-0.29663839525196023,\"\",-1.6758074318695786,-0.9482803663270727,\"\",-2.887659629761628,\"\",\"\",\"\",-0.3871109280261411],\"yaxis\":\"y2\"}],                        {\"hovermode\":\"x\",\"legend\":{\"bgcolor\":\"#F5F6F9\",\"font\":{\"color\":\"#4D5663\"}},\"paper_bgcolor\":\"#F5F6F9\",\"plot_bgcolor\":\"#F5F6F9\",\"template\":{\"data\":{\"bar\":[{\"error_x\":{\"color\":\"#2a3f5f\"},\"error_y\":{\"color\":\"#2a3f5f\"},\"marker\":{\"line\":{\"color\":\"#E5ECF6\",\"width\":0.5},\"pattern\":{\"fillmode\":\"overlay\",\"size\":10,\"solidity\":0.2}},\"type\":\"bar\"}],\"barpolar\":[{\"marker\":{\"line\":{\"color\":\"#E5ECF6\",\"width\":0.5},\"pattern\":{\"fillmode\":\"overlay\",\"size\":10,\"solidity\":0.2}},\"type\":\"barpolar\"}],\"carpet\":[{\"aaxis\":{\"endlinecolor\":\"#2a3f5f\",\"gridcolor\":\"white\",\"linecolor\":\"white\",\"minorgridcolor\":\"white\",\"startlinecolor\":\"#2a3f5f\"},\"baxis\":{\"endlinecolor\":\"#2a3f5f\",\"gridcolor\":\"white\",\"linecolor\":\"white\",\"minorgridcolor\":\"white\",\"startlinecolor\":\"#2a3f5f\"},\"type\":\"carpet\"}],\"choropleth\":[{\"colorbar\":{\"outlinewidth\":0,\"ticks\":\"\"},\"type\":\"choropleth\"}],\"contour\":[{\"colorbar\":{\"outlinewidth\":0,\"ticks\":\"\"},\"colorscale\":[[0.0,\"#0d0887\"],[0.1111111111111111,\"#46039f\"],[0.2222222222222222,\"#7201a8\"],[0.3333333333333333,\"#9c179e\"],[0.4444444444444444,\"#bd3786\"],[0.5555555555555556,\"#d8576b\"],[0.6666666666666666,\"#ed7953\"],[0.7777777777777778,\"#fb9f3a\"],[0.8888888888888888,\"#fdca26\"],[1.0,\"#f0f921\"]],\"type\":\"contour\"}],\"contourcarpet\":[{\"colorbar\":{\"outlinewidth\":0,\"ticks\":\"\"},\"type\":\"contourcarpet\"}],\"heatmap\":[{\"colorbar\":{\"outlinewidth\":0,\"ticks\":\"\"},\"colorscale\":[[0.0,\"#0d0887\"],[0.1111111111111111,\"#46039f\"],[0.2222222222222222,\"#7201a8\"],[0.3333333333333333,\"#9c179e\"],[0.4444444444444444,\"#bd3786\"],[0.5555555555555556,\"#d8576b\"],[0.6666666666666666,\"#ed7953\"],[0.7777777777777778,\"#fb9f3a\"],[0.8888888888888888,\"#fdca26\"],[1.0,\"#f0f921\"]],\"type\":\"heatmap\"}],\"heatmapgl\":[{\"colorbar\":{\"outlinewidth\":0,\"ticks\":\"\"},\"colorscale\":[[0.0,\"#0d0887\"],[0.1111111111111111,\"#46039f\"],[0.2222222222222222,\"#7201a8\"],[0.3333333333333333,\"#9c179e\"],[0.4444444444444444,\"#bd3786\"],[0.5555555555555556,\"#d8576b\"],[0.6666666666666666,\"#ed7953\"],[0.7777777777777778,\"#fb9f3a\"],[0.8888888888888888,\"#fdca26\"],[1.0,\"#f0f921\"]],\"type\":\"heatmapgl\"}],\"histogram\":[{\"marker\":{\"pattern\":{\"fillmode\":\"overlay\",\"size\":10,\"solidity\":0.2}},\"type\":\"histogram\"}],\"histogram2d\":[{\"colorbar\":{\"outlinewidth\":0,\"ticks\":\"\"},\"colorscale\":[[0.0,\"#0d0887\"],[0.1111111111111111,\"#46039f\"],[0.2222222222222222,\"#7201a8\"],[0.3333333333333333,\"#9c179e\"],[0.4444444444444444,\"#bd3786\"],[0.5555555555555556,\"#d8576b\"],[0.6666666666666666,\"#ed7953\"],[0.7777777777777778,\"#fb9f3a\"],[0.8888888888888888,\"#fdca26\"],[1.0,\"#f0f921\"]],\"type\":\"histogram2d\"}],\"histogram2dcontour\":[{\"colorbar\":{\"outlinewidth\":0,\"ticks\":\"\"},\"colorscale\":[[0.0,\"#0d0887\"],[0.1111111111111111,\"#46039f\"],[0.2222222222222222,\"#7201a8\"],[0.3333333333333333,\"#9c179e\"],[0.4444444444444444,\"#bd3786\"],[0.5555555555555556,\"#d8576b\"],[0.6666666666666666,\"#ed7953\"],[0.7777777777777778,\"#fb9f3a\"],[0.8888888888888888,\"#fdca26\"],[1.0,\"#f0f921\"]],\"type\":\"histogram2dcontour\"}],\"mesh3d\":[{\"colorbar\":{\"outlinewidth\":0,\"ticks\":\"\"},\"type\":\"mesh3d\"}],\"parcoords\":[{\"line\":{\"colorbar\":{\"outlinewidth\":0,\"ticks\":\"\"}},\"type\":\"parcoords\"}],\"pie\":[{\"automargin\":true,\"type\":\"pie\"}],\"scatter\":[{\"marker\":{\"colorbar\":{\"outlinewidth\":0,\"ticks\":\"\"}},\"type\":\"scatter\"}],\"scatter3d\":[{\"line\":{\"colorbar\":{\"outlinewidth\":0,\"ticks\":\"\"}},\"marker\":{\"colorbar\":{\"outlinewidth\":0,\"ticks\":\"\"}},\"type\":\"scatter3d\"}],\"scattercarpet\":[{\"marker\":{\"colorbar\":{\"outlinewidth\":0,\"ticks\":\"\"}},\"type\":\"scattercarpet\"}],\"scattergeo\":[{\"marker\":{\"colorbar\":{\"outlinewidth\":0,\"ticks\":\"\"}},\"type\":\"scattergeo\"}],\"scattergl\":[{\"marker\":{\"colorbar\":{\"outlinewidth\":0,\"ticks\":\"\"}},\"type\":\"scattergl\"}],\"scattermapbox\":[{\"marker\":{\"colorbar\":{\"outlinewidth\":0,\"ticks\":\"\"}},\"type\":\"scattermapbox\"}],\"scatterpolar\":[{\"marker\":{\"colorbar\":{\"outlinewidth\":0,\"ticks\":\"\"}},\"type\":\"scatterpolar\"}],\"scatterpolargl\":[{\"marker\":{\"colorbar\":{\"outlinewidth\":0,\"ticks\":\"\"}},\"type\":\"scatterpolargl\"}],\"scatterternary\":[{\"marker\":{\"colorbar\":{\"outlinewidth\":0,\"ticks\":\"\"}},\"type\":\"scatterternary\"}],\"surface\":[{\"colorbar\":{\"outlinewidth\":0,\"ticks\":\"\"},\"colorscale\":[[0.0,\"#0d0887\"],[0.1111111111111111,\"#46039f\"],[0.2222222222222222,\"#7201a8\"],[0.3333333333333333,\"#9c179e\"],[0.4444444444444444,\"#bd3786\"],[0.5555555555555556,\"#d8576b\"],[0.6666666666666666,\"#ed7953\"],[0.7777777777777778,\"#fb9f3a\"],[0.8888888888888888,\"#fdca26\"],[1.0,\"#f0f921\"]],\"type\":\"surface\"}],\"table\":[{\"cells\":{\"fill\":{\"color\":\"#EBF0F8\"},\"line\":{\"color\":\"white\"}},\"header\":{\"fill\":{\"color\":\"#C8D4E3\"},\"line\":{\"color\":\"white\"}},\"type\":\"table\"}]},\"layout\":{\"annotationdefaults\":{\"arrowcolor\":\"#2a3f5f\",\"arrowhead\":0,\"arrowwidth\":1},\"autotypenumbers\":\"strict\",\"coloraxis\":{\"colorbar\":{\"outlinewidth\":0,\"ticks\":\"\"}},\"colorscale\":{\"diverging\":[[0,\"#8e0152\"],[0.1,\"#c51b7d\"],[0.2,\"#de77ae\"],[0.3,\"#f1b6da\"],[0.4,\"#fde0ef\"],[0.5,\"#f7f7f7\"],[0.6,\"#e6f5d0\"],[0.7,\"#b8e186\"],[0.8,\"#7fbc41\"],[0.9,\"#4d9221\"],[1,\"#276419\"]],\"sequential\":[[0.0,\"#0d0887\"],[0.1111111111111111,\"#46039f\"],[0.2222222222222222,\"#7201a8\"],[0.3333333333333333,\"#9c179e\"],[0.4444444444444444,\"#bd3786\"],[0.5555555555555556,\"#d8576b\"],[0.6666666666666666,\"#ed7953\"],[0.7777777777777778,\"#fb9f3a\"],[0.8888888888888888,\"#fdca26\"],[1.0,\"#f0f921\"]],\"sequentialminus\":[[0.0,\"#0d0887\"],[0.1111111111111111,\"#46039f\"],[0.2222222222222222,\"#7201a8\"],[0.3333333333333333,\"#9c179e\"],[0.4444444444444444,\"#bd3786\"],[0.5555555555555556,\"#d8576b\"],[0.6666666666666666,\"#ed7953\"],[0.7777777777777778,\"#fb9f3a\"],[0.8888888888888888,\"#fdca26\"],[1.0,\"#f0f921\"]]},\"colorway\":[\"#636efa\",\"#EF553B\",\"#00cc96\",\"#ab63fa\",\"#FFA15A\",\"#19d3f3\",\"#FF6692\",\"#B6E880\",\"#FF97FF\",\"#FECB52\"],\"font\":{\"color\":\"#2a3f5f\"},\"geo\":{\"bgcolor\":\"white\",\"lakecolor\":\"white\",\"landcolor\":\"#E5ECF6\",\"showlakes\":true,\"showland\":true,\"subunitcolor\":\"white\"},\"hoverlabel\":{\"align\":\"left\"},\"hovermode\":\"closest\",\"mapbox\":{\"style\":\"light\"},\"paper_bgcolor\":\"white\",\"plot_bgcolor\":\"#E5ECF6\",\"polar\":{\"angularaxis\":{\"gridcolor\":\"white\",\"linecolor\":\"white\",\"ticks\":\"\"},\"bgcolor\":\"#E5ECF6\",\"radialaxis\":{\"gridcolor\":\"white\",\"linecolor\":\"white\",\"ticks\":\"\"}},\"scene\":{\"xaxis\":{\"backgroundcolor\":\"#E5ECF6\",\"gridcolor\":\"white\",\"gridwidth\":2,\"linecolor\":\"white\",\"showbackground\":true,\"ticks\":\"\",\"zerolinecolor\":\"white\"},\"yaxis\":{\"backgroundcolor\":\"#E5ECF6\",\"gridcolor\":\"white\",\"gridwidth\":2,\"linecolor\":\"white\",\"showbackground\":true,\"ticks\":\"\",\"zerolinecolor\":\"white\"},\"zaxis\":{\"backgroundcolor\":\"#E5ECF6\",\"gridcolor\":\"white\",\"gridwidth\":2,\"linecolor\":\"white\",\"showbackground\":true,\"ticks\":\"\",\"zerolinecolor\":\"white\"}},\"shapedefaults\":{\"line\":{\"color\":\"#2a3f5f\"}},\"ternary\":{\"aaxis\":{\"gridcolor\":\"white\",\"linecolor\":\"white\",\"ticks\":\"\"},\"baxis\":{\"gridcolor\":\"white\",\"linecolor\":\"white\",\"ticks\":\"\"},\"bgcolor\":\"#E5ECF6\",\"caxis\":{\"gridcolor\":\"white\",\"linecolor\":\"white\",\"ticks\":\"\"}},\"title\":{\"x\":0.05},\"xaxis\":{\"automargin\":true,\"gridcolor\":\"white\",\"linecolor\":\"white\",\"ticks\":\"\",\"title\":{\"standoff\":15},\"zerolinecolor\":\"white\",\"zerolinewidth\":2},\"yaxis\":{\"automargin\":true,\"gridcolor\":\"white\",\"linecolor\":\"white\",\"ticks\":\"\",\"title\":{\"standoff\":15},\"zerolinecolor\":\"white\",\"zerolinewidth\":2}}},\"title\":{\"font\":{\"color\":\"#4D5663\"}},\"xaxis\":{\"gridcolor\":\"#E1E5ED\",\"showgrid\":true,\"tickfont\":{\"color\":\"#4D5663\"},\"title\":{\"font\":{\"color\":\"#4D5663\"},\"text\":\"\"},\"zerolinecolor\":\"#E1E5ED\"},\"xaxis2\":{\"anchor\":\"y2\",\"gridcolor\":\"#E1E5ED\",\"showgrid\":true,\"showticklabels\":false,\"tickfont\":{\"color\":\"#4D5663\"},\"title\":{\"font\":{\"color\":\"#4D5663\"},\"text\":\"\"},\"zerolinecolor\":\"#E1E5ED\"},\"yaxis\":{\"domain\":[0.3,1],\"gridcolor\":\"#E1E5ED\",\"showgrid\":true,\"tickfont\":{\"color\":\"#4D5663\"},\"title\":{\"font\":{\"color\":\"#4D5663\"},\"text\":\"\"},\"zerolinecolor\":\"#E1E5ED\"},\"yaxis2\":{\"domain\":[0,0.25],\"gridcolor\":\"#E1E5ED\",\"showgrid\":true,\"tickfont\":{\"color\":\"#4D5663\"},\"title\":{\"font\":{\"color\":\"#4D5663\"},\"text\":\"Spread\"},\"zerolinecolor\":\"#E1E5ED\"}},                        {\"showLink\": true, \"linkText\": \"Export to plot.ly\", \"plotlyServerURL\": \"https://plot.ly\", \"responsive\": true}                    ).then(function(){\n",
       "                            \n",
       "var gd = document.getElementById('fe3eda29-3e7d-4873-b56c-678cf568aea7');\n",
       "var x = new MutationObserver(function (mutations, observer) {{\n",
       "        var display = window.getComputedStyle(gd).display;\n",
       "        if (!display || display === 'none') {{\n",
       "            console.log([gd, 'removed!']);\n",
       "            Plotly.purge(gd);\n",
       "            observer.disconnect();\n",
       "        }}\n",
       "}});\n",
       "\n",
       "// Listen for the removal of the full notebook cells\n",
       "var notebookContainer = gd.closest('#notebook-container');\n",
       "if (notebookContainer) {{\n",
       "    x.observe(notebookContainer, {childList: true});\n",
       "}}\n",
       "\n",
       "// Listen for the clearing of the current output cell\n",
       "var outputEl = gd.closest('.output');\n",
       "if (outputEl) {{\n",
       "    x.observe(outputEl, {childList: true});\n",
       "}}\n",
       "\n",
       "                        })                };                });            </script>        </div>"
      ]
     },
     "metadata": {},
     "output_type": "display_data"
    }
   ],
   "source": [
    "df[['A','B']].iplot(kind='spread')"
   ]
  },
  {
   "cell_type": "markdown",
   "metadata": {},
   "source": [
    "## histogram"
   ]
  },
  {
   "cell_type": "code",
   "execution_count": 16,
   "metadata": {},
   "outputs": [
    {
     "data": {
      "application/vnd.plotly.v1+json": {
       "config": {
        "linkText": "Export to plot.ly",
        "plotlyServerURL": "https://plot.ly",
        "showLink": true
       },
       "data": [
        {
         "histfunc": "count",
         "histnorm": "",
         "marker": {
          "color": "rgba(255, 153, 51, 1.0)",
          "line": {
           "color": "#4D5663",
           "width": 1.3
          }
         },
         "name": "A",
         "nbinsx": 25,
         "opacity": 0.8,
         "orientation": "v",
         "type": "histogram",
         "x": [
          1.6390172210782112,
          0.35036309608803734,
          0.005345251605557072,
          -1.007168582401739,
          0.6064372360595194,
          -0.8559716524754347,
          -0.29295931013977455,
          0.11469913509520363,
          -0.7523106090575572,
          -0.195634901571466,
          -0.5404692462016839,
          -1.3120969565229128,
          1.1111884746332532,
          -1.4563221199532441,
          -0.4000778003521611,
          -1.4451703461721117,
          -1.363231315990348,
          0.658342303654108,
          0.8786515409349503,
          -1.5086797797943805,
          -0.5725951421783421,
          -2.9521790062884317,
          0.8107187720350392,
          -2.519087609499849,
          0.6896584787258254,
          0.6435745175482077,
          -1.2000336887451124,
          0.34086045864628756,
          0.2654469043662446,
          -0.07746292037022126,
          0.8630843825610846,
          1.0891490140181523,
          -1.9524223419631697,
          0.6858617659955623,
          0.2883834504425376,
          0.20911482004677523,
          0.5299742543623438,
          1.1327845046858638,
          -0.7251055108060356,
          1.2135193055712752,
          2.300244842789878,
          -0.738390301241366,
          0.05291785180475275,
          -3.4709290329743743,
          0.5977833494136633,
          0.14110732006113477,
          -0.5840013368991821,
          0.004953715931068007,
          -1.223861385225602,
          0.6190924457254161,
          0.039732403047753204,
          1.425699337352612,
          0.44876455422443184,
          1.0781702197003584,
          1.6736082013851366,
          0.13414414323520682,
          -0.049714591234064916,
          1.5718612497436992,
          -0.488626681795911,
          -1.0745094634783077,
          0.010835515648132663,
          0.7740169127901401,
          -0.6426873875675859,
          -0.9754780684816817,
          0.5529827758798664,
          -1.0672963254082246,
          -0.04456852341750004,
          0.7692202067160016,
          1.2321144828985524,
          0.1433419894687381,
          -0.2909362098687318,
          -0.47267633317745456,
          1.7972382007227412,
          0.21805988911238225,
          -0.009552893266460817,
          1.3467405298885615,
          1.585402040037534,
          -0.4229297524139318,
          -0.3769072295415943,
          -0.3270199703308662,
          -1.6570808165725148,
          -0.12574749288277748,
          -0.6176444759289953,
          0.7439988726600845,
          0.24613374285765183,
          0.38947090242920723,
          1.6723019786775943,
          -0.41963702796672747,
          0.9047373455383958,
          -0.017673105582772474,
          -1.0170416703023462,
          -0.19324125760756355,
          -1.2503224511053932,
          -2.1470424425254766,
          1.0221779062477727,
          -2.5065738171228205,
          -0.05963337005966899,
          0.47649356521775404,
          1.4276528138041606,
          -0.32425457930617246
         ]
        }
       ],
       "layout": {
        "barmode": "overlay",
        "legend": {
         "bgcolor": "#F5F6F9",
         "font": {
          "color": "#4D5663"
         }
        },
        "paper_bgcolor": "#F5F6F9",
        "plot_bgcolor": "#F5F6F9",
        "template": {
         "data": {
          "bar": [
           {
            "error_x": {
             "color": "#2a3f5f"
            },
            "error_y": {
             "color": "#2a3f5f"
            },
            "marker": {
             "line": {
              "color": "#E5ECF6",
              "width": 0.5
             },
             "pattern": {
              "fillmode": "overlay",
              "size": 10,
              "solidity": 0.2
             }
            },
            "type": "bar"
           }
          ],
          "barpolar": [
           {
            "marker": {
             "line": {
              "color": "#E5ECF6",
              "width": 0.5
             },
             "pattern": {
              "fillmode": "overlay",
              "size": 10,
              "solidity": 0.2
             }
            },
            "type": "barpolar"
           }
          ],
          "carpet": [
           {
            "aaxis": {
             "endlinecolor": "#2a3f5f",
             "gridcolor": "white",
             "linecolor": "white",
             "minorgridcolor": "white",
             "startlinecolor": "#2a3f5f"
            },
            "baxis": {
             "endlinecolor": "#2a3f5f",
             "gridcolor": "white",
             "linecolor": "white",
             "minorgridcolor": "white",
             "startlinecolor": "#2a3f5f"
            },
            "type": "carpet"
           }
          ],
          "choropleth": [
           {
            "colorbar": {
             "outlinewidth": 0,
             "ticks": ""
            },
            "type": "choropleth"
           }
          ],
          "contour": [
           {
            "colorbar": {
             "outlinewidth": 0,
             "ticks": ""
            },
            "colorscale": [
             [
              0,
              "#0d0887"
             ],
             [
              0.1111111111111111,
              "#46039f"
             ],
             [
              0.2222222222222222,
              "#7201a8"
             ],
             [
              0.3333333333333333,
              "#9c179e"
             ],
             [
              0.4444444444444444,
              "#bd3786"
             ],
             [
              0.5555555555555556,
              "#d8576b"
             ],
             [
              0.6666666666666666,
              "#ed7953"
             ],
             [
              0.7777777777777778,
              "#fb9f3a"
             ],
             [
              0.8888888888888888,
              "#fdca26"
             ],
             [
              1,
              "#f0f921"
             ]
            ],
            "type": "contour"
           }
          ],
          "contourcarpet": [
           {
            "colorbar": {
             "outlinewidth": 0,
             "ticks": ""
            },
            "type": "contourcarpet"
           }
          ],
          "heatmap": [
           {
            "colorbar": {
             "outlinewidth": 0,
             "ticks": ""
            },
            "colorscale": [
             [
              0,
              "#0d0887"
             ],
             [
              0.1111111111111111,
              "#46039f"
             ],
             [
              0.2222222222222222,
              "#7201a8"
             ],
             [
              0.3333333333333333,
              "#9c179e"
             ],
             [
              0.4444444444444444,
              "#bd3786"
             ],
             [
              0.5555555555555556,
              "#d8576b"
             ],
             [
              0.6666666666666666,
              "#ed7953"
             ],
             [
              0.7777777777777778,
              "#fb9f3a"
             ],
             [
              0.8888888888888888,
              "#fdca26"
             ],
             [
              1,
              "#f0f921"
             ]
            ],
            "type": "heatmap"
           }
          ],
          "heatmapgl": [
           {
            "colorbar": {
             "outlinewidth": 0,
             "ticks": ""
            },
            "colorscale": [
             [
              0,
              "#0d0887"
             ],
             [
              0.1111111111111111,
              "#46039f"
             ],
             [
              0.2222222222222222,
              "#7201a8"
             ],
             [
              0.3333333333333333,
              "#9c179e"
             ],
             [
              0.4444444444444444,
              "#bd3786"
             ],
             [
              0.5555555555555556,
              "#d8576b"
             ],
             [
              0.6666666666666666,
              "#ed7953"
             ],
             [
              0.7777777777777778,
              "#fb9f3a"
             ],
             [
              0.8888888888888888,
              "#fdca26"
             ],
             [
              1,
              "#f0f921"
             ]
            ],
            "type": "heatmapgl"
           }
          ],
          "histogram": [
           {
            "marker": {
             "pattern": {
              "fillmode": "overlay",
              "size": 10,
              "solidity": 0.2
             }
            },
            "type": "histogram"
           }
          ],
          "histogram2d": [
           {
            "colorbar": {
             "outlinewidth": 0,
             "ticks": ""
            },
            "colorscale": [
             [
              0,
              "#0d0887"
             ],
             [
              0.1111111111111111,
              "#46039f"
             ],
             [
              0.2222222222222222,
              "#7201a8"
             ],
             [
              0.3333333333333333,
              "#9c179e"
             ],
             [
              0.4444444444444444,
              "#bd3786"
             ],
             [
              0.5555555555555556,
              "#d8576b"
             ],
             [
              0.6666666666666666,
              "#ed7953"
             ],
             [
              0.7777777777777778,
              "#fb9f3a"
             ],
             [
              0.8888888888888888,
              "#fdca26"
             ],
             [
              1,
              "#f0f921"
             ]
            ],
            "type": "histogram2d"
           }
          ],
          "histogram2dcontour": [
           {
            "colorbar": {
             "outlinewidth": 0,
             "ticks": ""
            },
            "colorscale": [
             [
              0,
              "#0d0887"
             ],
             [
              0.1111111111111111,
              "#46039f"
             ],
             [
              0.2222222222222222,
              "#7201a8"
             ],
             [
              0.3333333333333333,
              "#9c179e"
             ],
             [
              0.4444444444444444,
              "#bd3786"
             ],
             [
              0.5555555555555556,
              "#d8576b"
             ],
             [
              0.6666666666666666,
              "#ed7953"
             ],
             [
              0.7777777777777778,
              "#fb9f3a"
             ],
             [
              0.8888888888888888,
              "#fdca26"
             ],
             [
              1,
              "#f0f921"
             ]
            ],
            "type": "histogram2dcontour"
           }
          ],
          "mesh3d": [
           {
            "colorbar": {
             "outlinewidth": 0,
             "ticks": ""
            },
            "type": "mesh3d"
           }
          ],
          "parcoords": [
           {
            "line": {
             "colorbar": {
              "outlinewidth": 0,
              "ticks": ""
             }
            },
            "type": "parcoords"
           }
          ],
          "pie": [
           {
            "automargin": true,
            "type": "pie"
           }
          ],
          "scatter": [
           {
            "marker": {
             "colorbar": {
              "outlinewidth": 0,
              "ticks": ""
             }
            },
            "type": "scatter"
           }
          ],
          "scatter3d": [
           {
            "line": {
             "colorbar": {
              "outlinewidth": 0,
              "ticks": ""
             }
            },
            "marker": {
             "colorbar": {
              "outlinewidth": 0,
              "ticks": ""
             }
            },
            "type": "scatter3d"
           }
          ],
          "scattercarpet": [
           {
            "marker": {
             "colorbar": {
              "outlinewidth": 0,
              "ticks": ""
             }
            },
            "type": "scattercarpet"
           }
          ],
          "scattergeo": [
           {
            "marker": {
             "colorbar": {
              "outlinewidth": 0,
              "ticks": ""
             }
            },
            "type": "scattergeo"
           }
          ],
          "scattergl": [
           {
            "marker": {
             "colorbar": {
              "outlinewidth": 0,
              "ticks": ""
             }
            },
            "type": "scattergl"
           }
          ],
          "scattermapbox": [
           {
            "marker": {
             "colorbar": {
              "outlinewidth": 0,
              "ticks": ""
             }
            },
            "type": "scattermapbox"
           }
          ],
          "scatterpolar": [
           {
            "marker": {
             "colorbar": {
              "outlinewidth": 0,
              "ticks": ""
             }
            },
            "type": "scatterpolar"
           }
          ],
          "scatterpolargl": [
           {
            "marker": {
             "colorbar": {
              "outlinewidth": 0,
              "ticks": ""
             }
            },
            "type": "scatterpolargl"
           }
          ],
          "scatterternary": [
           {
            "marker": {
             "colorbar": {
              "outlinewidth": 0,
              "ticks": ""
             }
            },
            "type": "scatterternary"
           }
          ],
          "surface": [
           {
            "colorbar": {
             "outlinewidth": 0,
             "ticks": ""
            },
            "colorscale": [
             [
              0,
              "#0d0887"
             ],
             [
              0.1111111111111111,
              "#46039f"
             ],
             [
              0.2222222222222222,
              "#7201a8"
             ],
             [
              0.3333333333333333,
              "#9c179e"
             ],
             [
              0.4444444444444444,
              "#bd3786"
             ],
             [
              0.5555555555555556,
              "#d8576b"
             ],
             [
              0.6666666666666666,
              "#ed7953"
             ],
             [
              0.7777777777777778,
              "#fb9f3a"
             ],
             [
              0.8888888888888888,
              "#fdca26"
             ],
             [
              1,
              "#f0f921"
             ]
            ],
            "type": "surface"
           }
          ],
          "table": [
           {
            "cells": {
             "fill": {
              "color": "#EBF0F8"
             },
             "line": {
              "color": "white"
             }
            },
            "header": {
             "fill": {
              "color": "#C8D4E3"
             },
             "line": {
              "color": "white"
             }
            },
            "type": "table"
           }
          ]
         },
         "layout": {
          "annotationdefaults": {
           "arrowcolor": "#2a3f5f",
           "arrowhead": 0,
           "arrowwidth": 1
          },
          "autotypenumbers": "strict",
          "coloraxis": {
           "colorbar": {
            "outlinewidth": 0,
            "ticks": ""
           }
          },
          "colorscale": {
           "diverging": [
            [
             0,
             "#8e0152"
            ],
            [
             0.1,
             "#c51b7d"
            ],
            [
             0.2,
             "#de77ae"
            ],
            [
             0.3,
             "#f1b6da"
            ],
            [
             0.4,
             "#fde0ef"
            ],
            [
             0.5,
             "#f7f7f7"
            ],
            [
             0.6,
             "#e6f5d0"
            ],
            [
             0.7,
             "#b8e186"
            ],
            [
             0.8,
             "#7fbc41"
            ],
            [
             0.9,
             "#4d9221"
            ],
            [
             1,
             "#276419"
            ]
           ],
           "sequential": [
            [
             0,
             "#0d0887"
            ],
            [
             0.1111111111111111,
             "#46039f"
            ],
            [
             0.2222222222222222,
             "#7201a8"
            ],
            [
             0.3333333333333333,
             "#9c179e"
            ],
            [
             0.4444444444444444,
             "#bd3786"
            ],
            [
             0.5555555555555556,
             "#d8576b"
            ],
            [
             0.6666666666666666,
             "#ed7953"
            ],
            [
             0.7777777777777778,
             "#fb9f3a"
            ],
            [
             0.8888888888888888,
             "#fdca26"
            ],
            [
             1,
             "#f0f921"
            ]
           ],
           "sequentialminus": [
            [
             0,
             "#0d0887"
            ],
            [
             0.1111111111111111,
             "#46039f"
            ],
            [
             0.2222222222222222,
             "#7201a8"
            ],
            [
             0.3333333333333333,
             "#9c179e"
            ],
            [
             0.4444444444444444,
             "#bd3786"
            ],
            [
             0.5555555555555556,
             "#d8576b"
            ],
            [
             0.6666666666666666,
             "#ed7953"
            ],
            [
             0.7777777777777778,
             "#fb9f3a"
            ],
            [
             0.8888888888888888,
             "#fdca26"
            ],
            [
             1,
             "#f0f921"
            ]
           ]
          },
          "colorway": [
           "#636efa",
           "#EF553B",
           "#00cc96",
           "#ab63fa",
           "#FFA15A",
           "#19d3f3",
           "#FF6692",
           "#B6E880",
           "#FF97FF",
           "#FECB52"
          ],
          "font": {
           "color": "#2a3f5f"
          },
          "geo": {
           "bgcolor": "white",
           "lakecolor": "white",
           "landcolor": "#E5ECF6",
           "showlakes": true,
           "showland": true,
           "subunitcolor": "white"
          },
          "hoverlabel": {
           "align": "left"
          },
          "hovermode": "closest",
          "mapbox": {
           "style": "light"
          },
          "paper_bgcolor": "white",
          "plot_bgcolor": "#E5ECF6",
          "polar": {
           "angularaxis": {
            "gridcolor": "white",
            "linecolor": "white",
            "ticks": ""
           },
           "bgcolor": "#E5ECF6",
           "radialaxis": {
            "gridcolor": "white",
            "linecolor": "white",
            "ticks": ""
           }
          },
          "scene": {
           "xaxis": {
            "backgroundcolor": "#E5ECF6",
            "gridcolor": "white",
            "gridwidth": 2,
            "linecolor": "white",
            "showbackground": true,
            "ticks": "",
            "zerolinecolor": "white"
           },
           "yaxis": {
            "backgroundcolor": "#E5ECF6",
            "gridcolor": "white",
            "gridwidth": 2,
            "linecolor": "white",
            "showbackground": true,
            "ticks": "",
            "zerolinecolor": "white"
           },
           "zaxis": {
            "backgroundcolor": "#E5ECF6",
            "gridcolor": "white",
            "gridwidth": 2,
            "linecolor": "white",
            "showbackground": true,
            "ticks": "",
            "zerolinecolor": "white"
           }
          },
          "shapedefaults": {
           "line": {
            "color": "#2a3f5f"
           }
          },
          "ternary": {
           "aaxis": {
            "gridcolor": "white",
            "linecolor": "white",
            "ticks": ""
           },
           "baxis": {
            "gridcolor": "white",
            "linecolor": "white",
            "ticks": ""
           },
           "bgcolor": "#E5ECF6",
           "caxis": {
            "gridcolor": "white",
            "linecolor": "white",
            "ticks": ""
           }
          },
          "title": {
           "x": 0.05
          },
          "xaxis": {
           "automargin": true,
           "gridcolor": "white",
           "linecolor": "white",
           "ticks": "",
           "title": {
            "standoff": 15
           },
           "zerolinecolor": "white",
           "zerolinewidth": 2
          },
          "yaxis": {
           "automargin": true,
           "gridcolor": "white",
           "linecolor": "white",
           "ticks": "",
           "title": {
            "standoff": 15
           },
           "zerolinecolor": "white",
           "zerolinewidth": 2
          }
         }
        },
        "title": {
         "font": {
          "color": "#4D5663"
         }
        },
        "xaxis": {
         "gridcolor": "#E1E5ED",
         "showgrid": true,
         "tickfont": {
          "color": "#4D5663"
         },
         "title": {
          "font": {
           "color": "#4D5663"
          },
          "text": ""
         },
         "zerolinecolor": "#E1E5ED"
        },
        "yaxis": {
         "gridcolor": "#E1E5ED",
         "showgrid": true,
         "tickfont": {
          "color": "#4D5663"
         },
         "title": {
          "font": {
           "color": "#4D5663"
          },
          "text": ""
         },
         "zerolinecolor": "#E1E5ED"
        }
       }
      },
      "text/html": [
       "<div>                            <div id=\"0e7db6d6-1594-4eb4-bb5d-fe28be88dc9a\" class=\"plotly-graph-div\" style=\"height:525px; width:100%;\"></div>            <script type=\"text/javascript\">                require([\"plotly\"], function(Plotly) {                    window.PLOTLYENV=window.PLOTLYENV || {};\n",
       "                    window.PLOTLYENV.BASE_URL='https://plot.ly';                                    if (document.getElementById(\"0e7db6d6-1594-4eb4-bb5d-fe28be88dc9a\")) {                    Plotly.newPlot(                        \"0e7db6d6-1594-4eb4-bb5d-fe28be88dc9a\",                        [{\"histfunc\":\"count\",\"histnorm\":\"\",\"marker\":{\"color\":\"rgba(255, 153, 51, 1.0)\",\"line\":{\"color\":\"#4D5663\",\"width\":1.3}},\"name\":\"A\",\"nbinsx\":25,\"opacity\":0.8,\"orientation\":\"v\",\"type\":\"histogram\",\"x\":[1.6390172210782112,0.35036309608803734,0.005345251605557072,-1.007168582401739,0.6064372360595194,-0.8559716524754347,-0.29295931013977455,0.11469913509520363,-0.7523106090575572,-0.195634901571466,-0.5404692462016839,-1.3120969565229128,1.1111884746332532,-1.4563221199532441,-0.4000778003521611,-1.4451703461721117,-1.363231315990348,0.658342303654108,0.8786515409349503,-1.5086797797943805,-0.5725951421783421,-2.9521790062884317,0.8107187720350392,-2.519087609499849,0.6896584787258254,0.6435745175482077,-1.2000336887451124,0.34086045864628756,0.2654469043662446,-0.07746292037022126,0.8630843825610846,1.0891490140181523,-1.9524223419631697,0.6858617659955623,0.2883834504425376,0.20911482004677523,0.5299742543623438,1.1327845046858638,-0.7251055108060356,1.2135193055712752,2.300244842789878,-0.738390301241366,0.05291785180475275,-3.4709290329743743,0.5977833494136633,0.14110732006113477,-0.5840013368991821,0.004953715931068007,-1.223861385225602,0.6190924457254161,0.039732403047753204,1.425699337352612,0.44876455422443184,1.0781702197003584,1.6736082013851366,0.13414414323520682,-0.049714591234064916,1.5718612497436992,-0.488626681795911,-1.0745094634783077,0.010835515648132663,0.7740169127901401,-0.6426873875675859,-0.9754780684816817,0.5529827758798664,-1.0672963254082246,-0.04456852341750004,0.7692202067160016,1.2321144828985524,0.1433419894687381,-0.2909362098687318,-0.47267633317745456,1.7972382007227412,0.21805988911238225,-0.009552893266460817,1.3467405298885615,1.585402040037534,-0.4229297524139318,-0.3769072295415943,-0.3270199703308662,-1.6570808165725148,-0.12574749288277748,-0.6176444759289953,0.7439988726600845,0.24613374285765183,0.38947090242920723,1.6723019786775943,-0.41963702796672747,0.9047373455383958,-0.017673105582772474,-1.0170416703023462,-0.19324125760756355,-1.2503224511053932,-2.1470424425254766,1.0221779062477727,-2.5065738171228205,-0.05963337005966899,0.47649356521775404,1.4276528138041606,-0.32425457930617246]}],                        {\"barmode\":\"overlay\",\"legend\":{\"bgcolor\":\"#F5F6F9\",\"font\":{\"color\":\"#4D5663\"}},\"paper_bgcolor\":\"#F5F6F9\",\"plot_bgcolor\":\"#F5F6F9\",\"template\":{\"data\":{\"bar\":[{\"error_x\":{\"color\":\"#2a3f5f\"},\"error_y\":{\"color\":\"#2a3f5f\"},\"marker\":{\"line\":{\"color\":\"#E5ECF6\",\"width\":0.5},\"pattern\":{\"fillmode\":\"overlay\",\"size\":10,\"solidity\":0.2}},\"type\":\"bar\"}],\"barpolar\":[{\"marker\":{\"line\":{\"color\":\"#E5ECF6\",\"width\":0.5},\"pattern\":{\"fillmode\":\"overlay\",\"size\":10,\"solidity\":0.2}},\"type\":\"barpolar\"}],\"carpet\":[{\"aaxis\":{\"endlinecolor\":\"#2a3f5f\",\"gridcolor\":\"white\",\"linecolor\":\"white\",\"minorgridcolor\":\"white\",\"startlinecolor\":\"#2a3f5f\"},\"baxis\":{\"endlinecolor\":\"#2a3f5f\",\"gridcolor\":\"white\",\"linecolor\":\"white\",\"minorgridcolor\":\"white\",\"startlinecolor\":\"#2a3f5f\"},\"type\":\"carpet\"}],\"choropleth\":[{\"colorbar\":{\"outlinewidth\":0,\"ticks\":\"\"},\"type\":\"choropleth\"}],\"contour\":[{\"colorbar\":{\"outlinewidth\":0,\"ticks\":\"\"},\"colorscale\":[[0.0,\"#0d0887\"],[0.1111111111111111,\"#46039f\"],[0.2222222222222222,\"#7201a8\"],[0.3333333333333333,\"#9c179e\"],[0.4444444444444444,\"#bd3786\"],[0.5555555555555556,\"#d8576b\"],[0.6666666666666666,\"#ed7953\"],[0.7777777777777778,\"#fb9f3a\"],[0.8888888888888888,\"#fdca26\"],[1.0,\"#f0f921\"]],\"type\":\"contour\"}],\"contourcarpet\":[{\"colorbar\":{\"outlinewidth\":0,\"ticks\":\"\"},\"type\":\"contourcarpet\"}],\"heatmap\":[{\"colorbar\":{\"outlinewidth\":0,\"ticks\":\"\"},\"colorscale\":[[0.0,\"#0d0887\"],[0.1111111111111111,\"#46039f\"],[0.2222222222222222,\"#7201a8\"],[0.3333333333333333,\"#9c179e\"],[0.4444444444444444,\"#bd3786\"],[0.5555555555555556,\"#d8576b\"],[0.6666666666666666,\"#ed7953\"],[0.7777777777777778,\"#fb9f3a\"],[0.8888888888888888,\"#fdca26\"],[1.0,\"#f0f921\"]],\"type\":\"heatmap\"}],\"heatmapgl\":[{\"colorbar\":{\"outlinewidth\":0,\"ticks\":\"\"},\"colorscale\":[[0.0,\"#0d0887\"],[0.1111111111111111,\"#46039f\"],[0.2222222222222222,\"#7201a8\"],[0.3333333333333333,\"#9c179e\"],[0.4444444444444444,\"#bd3786\"],[0.5555555555555556,\"#d8576b\"],[0.6666666666666666,\"#ed7953\"],[0.7777777777777778,\"#fb9f3a\"],[0.8888888888888888,\"#fdca26\"],[1.0,\"#f0f921\"]],\"type\":\"heatmapgl\"}],\"histogram\":[{\"marker\":{\"pattern\":{\"fillmode\":\"overlay\",\"size\":10,\"solidity\":0.2}},\"type\":\"histogram\"}],\"histogram2d\":[{\"colorbar\":{\"outlinewidth\":0,\"ticks\":\"\"},\"colorscale\":[[0.0,\"#0d0887\"],[0.1111111111111111,\"#46039f\"],[0.2222222222222222,\"#7201a8\"],[0.3333333333333333,\"#9c179e\"],[0.4444444444444444,\"#bd3786\"],[0.5555555555555556,\"#d8576b\"],[0.6666666666666666,\"#ed7953\"],[0.7777777777777778,\"#fb9f3a\"],[0.8888888888888888,\"#fdca26\"],[1.0,\"#f0f921\"]],\"type\":\"histogram2d\"}],\"histogram2dcontour\":[{\"colorbar\":{\"outlinewidth\":0,\"ticks\":\"\"},\"colorscale\":[[0.0,\"#0d0887\"],[0.1111111111111111,\"#46039f\"],[0.2222222222222222,\"#7201a8\"],[0.3333333333333333,\"#9c179e\"],[0.4444444444444444,\"#bd3786\"],[0.5555555555555556,\"#d8576b\"],[0.6666666666666666,\"#ed7953\"],[0.7777777777777778,\"#fb9f3a\"],[0.8888888888888888,\"#fdca26\"],[1.0,\"#f0f921\"]],\"type\":\"histogram2dcontour\"}],\"mesh3d\":[{\"colorbar\":{\"outlinewidth\":0,\"ticks\":\"\"},\"type\":\"mesh3d\"}],\"parcoords\":[{\"line\":{\"colorbar\":{\"outlinewidth\":0,\"ticks\":\"\"}},\"type\":\"parcoords\"}],\"pie\":[{\"automargin\":true,\"type\":\"pie\"}],\"scatter\":[{\"marker\":{\"colorbar\":{\"outlinewidth\":0,\"ticks\":\"\"}},\"type\":\"scatter\"}],\"scatter3d\":[{\"line\":{\"colorbar\":{\"outlinewidth\":0,\"ticks\":\"\"}},\"marker\":{\"colorbar\":{\"outlinewidth\":0,\"ticks\":\"\"}},\"type\":\"scatter3d\"}],\"scattercarpet\":[{\"marker\":{\"colorbar\":{\"outlinewidth\":0,\"ticks\":\"\"}},\"type\":\"scattercarpet\"}],\"scattergeo\":[{\"marker\":{\"colorbar\":{\"outlinewidth\":0,\"ticks\":\"\"}},\"type\":\"scattergeo\"}],\"scattergl\":[{\"marker\":{\"colorbar\":{\"outlinewidth\":0,\"ticks\":\"\"}},\"type\":\"scattergl\"}],\"scattermapbox\":[{\"marker\":{\"colorbar\":{\"outlinewidth\":0,\"ticks\":\"\"}},\"type\":\"scattermapbox\"}],\"scatterpolar\":[{\"marker\":{\"colorbar\":{\"outlinewidth\":0,\"ticks\":\"\"}},\"type\":\"scatterpolar\"}],\"scatterpolargl\":[{\"marker\":{\"colorbar\":{\"outlinewidth\":0,\"ticks\":\"\"}},\"type\":\"scatterpolargl\"}],\"scatterternary\":[{\"marker\":{\"colorbar\":{\"outlinewidth\":0,\"ticks\":\"\"}},\"type\":\"scatterternary\"}],\"surface\":[{\"colorbar\":{\"outlinewidth\":0,\"ticks\":\"\"},\"colorscale\":[[0.0,\"#0d0887\"],[0.1111111111111111,\"#46039f\"],[0.2222222222222222,\"#7201a8\"],[0.3333333333333333,\"#9c179e\"],[0.4444444444444444,\"#bd3786\"],[0.5555555555555556,\"#d8576b\"],[0.6666666666666666,\"#ed7953\"],[0.7777777777777778,\"#fb9f3a\"],[0.8888888888888888,\"#fdca26\"],[1.0,\"#f0f921\"]],\"type\":\"surface\"}],\"table\":[{\"cells\":{\"fill\":{\"color\":\"#EBF0F8\"},\"line\":{\"color\":\"white\"}},\"header\":{\"fill\":{\"color\":\"#C8D4E3\"},\"line\":{\"color\":\"white\"}},\"type\":\"table\"}]},\"layout\":{\"annotationdefaults\":{\"arrowcolor\":\"#2a3f5f\",\"arrowhead\":0,\"arrowwidth\":1},\"autotypenumbers\":\"strict\",\"coloraxis\":{\"colorbar\":{\"outlinewidth\":0,\"ticks\":\"\"}},\"colorscale\":{\"diverging\":[[0,\"#8e0152\"],[0.1,\"#c51b7d\"],[0.2,\"#de77ae\"],[0.3,\"#f1b6da\"],[0.4,\"#fde0ef\"],[0.5,\"#f7f7f7\"],[0.6,\"#e6f5d0\"],[0.7,\"#b8e186\"],[0.8,\"#7fbc41\"],[0.9,\"#4d9221\"],[1,\"#276419\"]],\"sequential\":[[0.0,\"#0d0887\"],[0.1111111111111111,\"#46039f\"],[0.2222222222222222,\"#7201a8\"],[0.3333333333333333,\"#9c179e\"],[0.4444444444444444,\"#bd3786\"],[0.5555555555555556,\"#d8576b\"],[0.6666666666666666,\"#ed7953\"],[0.7777777777777778,\"#fb9f3a\"],[0.8888888888888888,\"#fdca26\"],[1.0,\"#f0f921\"]],\"sequentialminus\":[[0.0,\"#0d0887\"],[0.1111111111111111,\"#46039f\"],[0.2222222222222222,\"#7201a8\"],[0.3333333333333333,\"#9c179e\"],[0.4444444444444444,\"#bd3786\"],[0.5555555555555556,\"#d8576b\"],[0.6666666666666666,\"#ed7953\"],[0.7777777777777778,\"#fb9f3a\"],[0.8888888888888888,\"#fdca26\"],[1.0,\"#f0f921\"]]},\"colorway\":[\"#636efa\",\"#EF553B\",\"#00cc96\",\"#ab63fa\",\"#FFA15A\",\"#19d3f3\",\"#FF6692\",\"#B6E880\",\"#FF97FF\",\"#FECB52\"],\"font\":{\"color\":\"#2a3f5f\"},\"geo\":{\"bgcolor\":\"white\",\"lakecolor\":\"white\",\"landcolor\":\"#E5ECF6\",\"showlakes\":true,\"showland\":true,\"subunitcolor\":\"white\"},\"hoverlabel\":{\"align\":\"left\"},\"hovermode\":\"closest\",\"mapbox\":{\"style\":\"light\"},\"paper_bgcolor\":\"white\",\"plot_bgcolor\":\"#E5ECF6\",\"polar\":{\"angularaxis\":{\"gridcolor\":\"white\",\"linecolor\":\"white\",\"ticks\":\"\"},\"bgcolor\":\"#E5ECF6\",\"radialaxis\":{\"gridcolor\":\"white\",\"linecolor\":\"white\",\"ticks\":\"\"}},\"scene\":{\"xaxis\":{\"backgroundcolor\":\"#E5ECF6\",\"gridcolor\":\"white\",\"gridwidth\":2,\"linecolor\":\"white\",\"showbackground\":true,\"ticks\":\"\",\"zerolinecolor\":\"white\"},\"yaxis\":{\"backgroundcolor\":\"#E5ECF6\",\"gridcolor\":\"white\",\"gridwidth\":2,\"linecolor\":\"white\",\"showbackground\":true,\"ticks\":\"\",\"zerolinecolor\":\"white\"},\"zaxis\":{\"backgroundcolor\":\"#E5ECF6\",\"gridcolor\":\"white\",\"gridwidth\":2,\"linecolor\":\"white\",\"showbackground\":true,\"ticks\":\"\",\"zerolinecolor\":\"white\"}},\"shapedefaults\":{\"line\":{\"color\":\"#2a3f5f\"}},\"ternary\":{\"aaxis\":{\"gridcolor\":\"white\",\"linecolor\":\"white\",\"ticks\":\"\"},\"baxis\":{\"gridcolor\":\"white\",\"linecolor\":\"white\",\"ticks\":\"\"},\"bgcolor\":\"#E5ECF6\",\"caxis\":{\"gridcolor\":\"white\",\"linecolor\":\"white\",\"ticks\":\"\"}},\"title\":{\"x\":0.05},\"xaxis\":{\"automargin\":true,\"gridcolor\":\"white\",\"linecolor\":\"white\",\"ticks\":\"\",\"title\":{\"standoff\":15},\"zerolinecolor\":\"white\",\"zerolinewidth\":2},\"yaxis\":{\"automargin\":true,\"gridcolor\":\"white\",\"linecolor\":\"white\",\"ticks\":\"\",\"title\":{\"standoff\":15},\"zerolinecolor\":\"white\",\"zerolinewidth\":2}}},\"title\":{\"font\":{\"color\":\"#4D5663\"}},\"xaxis\":{\"gridcolor\":\"#E1E5ED\",\"showgrid\":true,\"tickfont\":{\"color\":\"#4D5663\"},\"title\":{\"font\":{\"color\":\"#4D5663\"},\"text\":\"\"},\"zerolinecolor\":\"#E1E5ED\"},\"yaxis\":{\"gridcolor\":\"#E1E5ED\",\"showgrid\":true,\"tickfont\":{\"color\":\"#4D5663\"},\"title\":{\"font\":{\"color\":\"#4D5663\"},\"text\":\"\"},\"zerolinecolor\":\"#E1E5ED\"}},                        {\"showLink\": true, \"linkText\": \"Export to plot.ly\", \"plotlyServerURL\": \"https://plot.ly\", \"responsive\": true}                    ).then(function(){\n",
       "                            \n",
       "var gd = document.getElementById('0e7db6d6-1594-4eb4-bb5d-fe28be88dc9a');\n",
       "var x = new MutationObserver(function (mutations, observer) {{\n",
       "        var display = window.getComputedStyle(gd).display;\n",
       "        if (!display || display === 'none') {{\n",
       "            console.log([gd, 'removed!']);\n",
       "            Plotly.purge(gd);\n",
       "            observer.disconnect();\n",
       "        }}\n",
       "}});\n",
       "\n",
       "// Listen for the removal of the full notebook cells\n",
       "var notebookContainer = gd.closest('#notebook-container');\n",
       "if (notebookContainer) {{\n",
       "    x.observe(notebookContainer, {childList: true});\n",
       "}}\n",
       "\n",
       "// Listen for the clearing of the current output cell\n",
       "var outputEl = gd.closest('.output');\n",
       "if (outputEl) {{\n",
       "    x.observe(outputEl, {childList: true});\n",
       "}}\n",
       "\n",
       "                        })                };                });            </script>        </div>"
      ]
     },
     "metadata": {},
     "output_type": "display_data"
    }
   ],
   "source": [
    "df['A'].iplot(kind='hist',bins=25)"
   ]
  },
  {
   "cell_type": "code",
   "execution_count": 17,
   "metadata": {},
   "outputs": [
    {
     "data": {
      "application/vnd.plotly.v1+json": {
       "config": {
        "linkText": "Export to plot.ly",
        "plotlyServerURL": "https://plot.ly",
        "showLink": true
       },
       "data": [
        {
         "marker": {
          "color": [
           "rgb(255, 153, 51)",
           "rgb(55, 128, 191)",
           "rgb(50, 171, 96)",
           "rgb(128, 0, 128)",
           "rgb(219, 64, 82)",
           "rgb(0, 128, 128)",
           "rgb(255, 255, 51)",
           "rgb(128, 128, 0)",
           "rgb(251, 128, 114)",
           "rgb(128, 177, 211)"
          ],
          "line": {
           "width": 1.3
          },
          "size": [
           38,
           92,
           42,
           84,
           66,
           75,
           35,
           67,
           54,
           27,
           54,
           112,
           32,
           86,
           57,
           62,
           33,
           58,
           35,
           46,
           69,
           68,
           75,
           105,
           66,
           42,
           54,
           87,
           53,
           96,
           19,
           95,
           88,
           62,
           42,
           48,
           66,
           111,
           71,
           75,
           86,
           74,
           106,
           52,
           60,
           53,
           80,
           63,
           46,
           33,
           73,
           86,
           63,
           30,
           78,
           48,
           45,
           45,
           87,
           77,
           82,
           47,
           69,
           70,
           110,
           47,
           88,
           72,
           71,
           39,
           50,
           51,
           66,
           67,
           96,
           94,
           66,
           45,
           42,
           68,
           75,
           12,
           50,
           30,
           68,
           48,
           57,
           67,
           61,
           62,
           76,
           78,
           42,
           62,
           67,
           72,
           76,
           82,
           37,
           63
          ],
          "symbol": "circle"
         },
         "mode": "markers",
         "text": "",
         "type": "scatter",
         "x": [
          1.6390172210782112,
          0.35036309608803734,
          0.005345251605557072,
          -1.007168582401739,
          0.6064372360595194,
          -0.8559716524754347,
          -0.29295931013977455,
          0.11469913509520363,
          -0.7523106090575572,
          -0.195634901571466,
          -0.5404692462016839,
          -1.3120969565229128,
          1.1111884746332532,
          -1.4563221199532441,
          -0.4000778003521611,
          -1.4451703461721117,
          -1.363231315990348,
          0.658342303654108,
          0.8786515409349503,
          -1.5086797797943805,
          -0.5725951421783421,
          -2.9521790062884317,
          0.8107187720350392,
          -2.519087609499849,
          0.6896584787258254,
          0.6435745175482077,
          -1.2000336887451124,
          0.34086045864628756,
          0.2654469043662446,
          -0.07746292037022126,
          0.8630843825610846,
          1.0891490140181523,
          -1.9524223419631697,
          0.6858617659955623,
          0.2883834504425376,
          0.20911482004677523,
          0.5299742543623438,
          1.1327845046858638,
          -0.7251055108060356,
          1.2135193055712752,
          2.300244842789878,
          -0.738390301241366,
          0.05291785180475275,
          -3.4709290329743743,
          0.5977833494136633,
          0.14110732006113477,
          -0.5840013368991821,
          0.004953715931068007,
          -1.223861385225602,
          0.6190924457254161,
          0.039732403047753204,
          1.425699337352612,
          0.44876455422443184,
          1.0781702197003584,
          1.6736082013851366,
          0.13414414323520682,
          -0.049714591234064916,
          1.5718612497436992,
          -0.488626681795911,
          -1.0745094634783077,
          0.010835515648132663,
          0.7740169127901401,
          -0.6426873875675859,
          -0.9754780684816817,
          0.5529827758798664,
          -1.0672963254082246,
          -0.04456852341750004,
          0.7692202067160016,
          1.2321144828985524,
          0.1433419894687381,
          -0.2909362098687318,
          -0.47267633317745456,
          1.7972382007227412,
          0.21805988911238225,
          -0.009552893266460817,
          1.3467405298885615,
          1.585402040037534,
          -0.4229297524139318,
          -0.3769072295415943,
          -0.3270199703308662,
          -1.6570808165725148,
          -0.12574749288277748,
          -0.6176444759289953,
          0.7439988726600845,
          0.24613374285765183,
          0.38947090242920723,
          1.6723019786775943,
          -0.41963702796672747,
          0.9047373455383958,
          -0.017673105582772474,
          -1.0170416703023462,
          -0.19324125760756355,
          -1.2503224511053932,
          -2.1470424425254766,
          1.0221779062477727,
          -2.5065738171228205,
          -0.05963337005966899,
          0.47649356521775404,
          1.4276528138041606,
          -0.32425457930617246
         ],
         "y": [
          1.102553266001446,
          0.07003004352789324,
          0.5810101219197732,
          -1.9203120747377667,
          0.7532931016641667,
          -1.8337590115007922,
          0.3096264931476165,
          0.6393282156170463,
          -0.798725006016867,
          0.5417207731363791,
          -0.4239424069146018,
          -0.41392400709499866,
          0.08559850853532823,
          0.9093550061070701,
          -0.7280430808263331,
          -0.6824589540078425,
          0.28090931380191964,
          -0.3319007037857765,
          -1.6667158346606188,
          1.6130909499660644,
          -0.29661045750111187,
          0.03900350809678387,
          -1.071474539376231,
          1.5231277410687434,
          -0.5079840148181424,
          -0.25873323295644196,
          0.824139139298492,
          -0.7159802359304246,
          0.0625797583586818,
          -0.3284807894012514,
          1.8955312299431808,
          0.19648109599776153,
          -0.7495227570633665,
          -0.4242023122477403,
          0.3280281720357379,
          1.286964003251896,
          0.5657468540102697,
          1.3689612247632001,
          -0.14350400521153903,
          0.4957019813435518,
          -0.15271765262681536,
          0.6806210533160196,
          -0.10168526735020109,
          -0.5982519315647606,
          -0.6749402596978042,
          0.9702043432759824,
          0.1819894336902613,
          0.5985343656147386,
          0.8340920172057208,
          -0.3702418957397792,
          -0.846857106926398,
          1.0311250582516243,
          0.5008522513259931,
          0.3365768679120584,
          1.7121320739187826,
          0.5117482937902189,
          -1.8244623092300802,
          0.4321066066002589,
          -1.4421686853378737,
          0.19790900585090146,
          0.5589783024737872,
          1.7182668640964827,
          1.315239011718634,
          1.7541664056342483,
          1.0824383076378559,
          0.22308066904734622,
          0.19192596158254535,
          -0.6642502185333556,
          -1.233927505323582,
          -0.5150258836486774,
          0.7724192205916995,
          -1.539246559652809,
          -0.3441725530827281,
          -1.294768684186355,
          2.1510598274343513,
          -0.43919021706940076,
          0.7869812774679221,
          -0.2659664510423569,
          -0.178614785666635,
          0.7088802171641168,
          -0.8127121234339456,
          0.2522994859088976,
          -0.8830069315654053,
          -0.035996353631033304,
          -0.09755848244586804,
          -1.1402570557997063,
          1.0168044017244504,
          0.19659128228813155,
          0.657835318268974,
          -1.6522321435881624,
          -0.7204032750503859,
          -2.0365700276099843,
          0.42548498076418545,
          -1.198762076198404,
          -0.08761184598444494,
          0.38108581263880736,
          -0.41153334539835307,
          -0.3198757873724358,
          -1.7491866397945144,
          0.06285634871996862
         ]
        }
       ],
       "layout": {
        "legend": {
         "bgcolor": "#F5F6F9",
         "font": {
          "color": "#4D5663"
         }
        },
        "paper_bgcolor": "#F5F6F9",
        "plot_bgcolor": "#F5F6F9",
        "template": {
         "data": {
          "bar": [
           {
            "error_x": {
             "color": "#2a3f5f"
            },
            "error_y": {
             "color": "#2a3f5f"
            },
            "marker": {
             "line": {
              "color": "#E5ECF6",
              "width": 0.5
             },
             "pattern": {
              "fillmode": "overlay",
              "size": 10,
              "solidity": 0.2
             }
            },
            "type": "bar"
           }
          ],
          "barpolar": [
           {
            "marker": {
             "line": {
              "color": "#E5ECF6",
              "width": 0.5
             },
             "pattern": {
              "fillmode": "overlay",
              "size": 10,
              "solidity": 0.2
             }
            },
            "type": "barpolar"
           }
          ],
          "carpet": [
           {
            "aaxis": {
             "endlinecolor": "#2a3f5f",
             "gridcolor": "white",
             "linecolor": "white",
             "minorgridcolor": "white",
             "startlinecolor": "#2a3f5f"
            },
            "baxis": {
             "endlinecolor": "#2a3f5f",
             "gridcolor": "white",
             "linecolor": "white",
             "minorgridcolor": "white",
             "startlinecolor": "#2a3f5f"
            },
            "type": "carpet"
           }
          ],
          "choropleth": [
           {
            "colorbar": {
             "outlinewidth": 0,
             "ticks": ""
            },
            "type": "choropleth"
           }
          ],
          "contour": [
           {
            "colorbar": {
             "outlinewidth": 0,
             "ticks": ""
            },
            "colorscale": [
             [
              0,
              "#0d0887"
             ],
             [
              0.1111111111111111,
              "#46039f"
             ],
             [
              0.2222222222222222,
              "#7201a8"
             ],
             [
              0.3333333333333333,
              "#9c179e"
             ],
             [
              0.4444444444444444,
              "#bd3786"
             ],
             [
              0.5555555555555556,
              "#d8576b"
             ],
             [
              0.6666666666666666,
              "#ed7953"
             ],
             [
              0.7777777777777778,
              "#fb9f3a"
             ],
             [
              0.8888888888888888,
              "#fdca26"
             ],
             [
              1,
              "#f0f921"
             ]
            ],
            "type": "contour"
           }
          ],
          "contourcarpet": [
           {
            "colorbar": {
             "outlinewidth": 0,
             "ticks": ""
            },
            "type": "contourcarpet"
           }
          ],
          "heatmap": [
           {
            "colorbar": {
             "outlinewidth": 0,
             "ticks": ""
            },
            "colorscale": [
             [
              0,
              "#0d0887"
             ],
             [
              0.1111111111111111,
              "#46039f"
             ],
             [
              0.2222222222222222,
              "#7201a8"
             ],
             [
              0.3333333333333333,
              "#9c179e"
             ],
             [
              0.4444444444444444,
              "#bd3786"
             ],
             [
              0.5555555555555556,
              "#d8576b"
             ],
             [
              0.6666666666666666,
              "#ed7953"
             ],
             [
              0.7777777777777778,
              "#fb9f3a"
             ],
             [
              0.8888888888888888,
              "#fdca26"
             ],
             [
              1,
              "#f0f921"
             ]
            ],
            "type": "heatmap"
           }
          ],
          "heatmapgl": [
           {
            "colorbar": {
             "outlinewidth": 0,
             "ticks": ""
            },
            "colorscale": [
             [
              0,
              "#0d0887"
             ],
             [
              0.1111111111111111,
              "#46039f"
             ],
             [
              0.2222222222222222,
              "#7201a8"
             ],
             [
              0.3333333333333333,
              "#9c179e"
             ],
             [
              0.4444444444444444,
              "#bd3786"
             ],
             [
              0.5555555555555556,
              "#d8576b"
             ],
             [
              0.6666666666666666,
              "#ed7953"
             ],
             [
              0.7777777777777778,
              "#fb9f3a"
             ],
             [
              0.8888888888888888,
              "#fdca26"
             ],
             [
              1,
              "#f0f921"
             ]
            ],
            "type": "heatmapgl"
           }
          ],
          "histogram": [
           {
            "marker": {
             "pattern": {
              "fillmode": "overlay",
              "size": 10,
              "solidity": 0.2
             }
            },
            "type": "histogram"
           }
          ],
          "histogram2d": [
           {
            "colorbar": {
             "outlinewidth": 0,
             "ticks": ""
            },
            "colorscale": [
             [
              0,
              "#0d0887"
             ],
             [
              0.1111111111111111,
              "#46039f"
             ],
             [
              0.2222222222222222,
              "#7201a8"
             ],
             [
              0.3333333333333333,
              "#9c179e"
             ],
             [
              0.4444444444444444,
              "#bd3786"
             ],
             [
              0.5555555555555556,
              "#d8576b"
             ],
             [
              0.6666666666666666,
              "#ed7953"
             ],
             [
              0.7777777777777778,
              "#fb9f3a"
             ],
             [
              0.8888888888888888,
              "#fdca26"
             ],
             [
              1,
              "#f0f921"
             ]
            ],
            "type": "histogram2d"
           }
          ],
          "histogram2dcontour": [
           {
            "colorbar": {
             "outlinewidth": 0,
             "ticks": ""
            },
            "colorscale": [
             [
              0,
              "#0d0887"
             ],
             [
              0.1111111111111111,
              "#46039f"
             ],
             [
              0.2222222222222222,
              "#7201a8"
             ],
             [
              0.3333333333333333,
              "#9c179e"
             ],
             [
              0.4444444444444444,
              "#bd3786"
             ],
             [
              0.5555555555555556,
              "#d8576b"
             ],
             [
              0.6666666666666666,
              "#ed7953"
             ],
             [
              0.7777777777777778,
              "#fb9f3a"
             ],
             [
              0.8888888888888888,
              "#fdca26"
             ],
             [
              1,
              "#f0f921"
             ]
            ],
            "type": "histogram2dcontour"
           }
          ],
          "mesh3d": [
           {
            "colorbar": {
             "outlinewidth": 0,
             "ticks": ""
            },
            "type": "mesh3d"
           }
          ],
          "parcoords": [
           {
            "line": {
             "colorbar": {
              "outlinewidth": 0,
              "ticks": ""
             }
            },
            "type": "parcoords"
           }
          ],
          "pie": [
           {
            "automargin": true,
            "type": "pie"
           }
          ],
          "scatter": [
           {
            "marker": {
             "colorbar": {
              "outlinewidth": 0,
              "ticks": ""
             }
            },
            "type": "scatter"
           }
          ],
          "scatter3d": [
           {
            "line": {
             "colorbar": {
              "outlinewidth": 0,
              "ticks": ""
             }
            },
            "marker": {
             "colorbar": {
              "outlinewidth": 0,
              "ticks": ""
             }
            },
            "type": "scatter3d"
           }
          ],
          "scattercarpet": [
           {
            "marker": {
             "colorbar": {
              "outlinewidth": 0,
              "ticks": ""
             }
            },
            "type": "scattercarpet"
           }
          ],
          "scattergeo": [
           {
            "marker": {
             "colorbar": {
              "outlinewidth": 0,
              "ticks": ""
             }
            },
            "type": "scattergeo"
           }
          ],
          "scattergl": [
           {
            "marker": {
             "colorbar": {
              "outlinewidth": 0,
              "ticks": ""
             }
            },
            "type": "scattergl"
           }
          ],
          "scattermapbox": [
           {
            "marker": {
             "colorbar": {
              "outlinewidth": 0,
              "ticks": ""
             }
            },
            "type": "scattermapbox"
           }
          ],
          "scatterpolar": [
           {
            "marker": {
             "colorbar": {
              "outlinewidth": 0,
              "ticks": ""
             }
            },
            "type": "scatterpolar"
           }
          ],
          "scatterpolargl": [
           {
            "marker": {
             "colorbar": {
              "outlinewidth": 0,
              "ticks": ""
             }
            },
            "type": "scatterpolargl"
           }
          ],
          "scatterternary": [
           {
            "marker": {
             "colorbar": {
              "outlinewidth": 0,
              "ticks": ""
             }
            },
            "type": "scatterternary"
           }
          ],
          "surface": [
           {
            "colorbar": {
             "outlinewidth": 0,
             "ticks": ""
            },
            "colorscale": [
             [
              0,
              "#0d0887"
             ],
             [
              0.1111111111111111,
              "#46039f"
             ],
             [
              0.2222222222222222,
              "#7201a8"
             ],
             [
              0.3333333333333333,
              "#9c179e"
             ],
             [
              0.4444444444444444,
              "#bd3786"
             ],
             [
              0.5555555555555556,
              "#d8576b"
             ],
             [
              0.6666666666666666,
              "#ed7953"
             ],
             [
              0.7777777777777778,
              "#fb9f3a"
             ],
             [
              0.8888888888888888,
              "#fdca26"
             ],
             [
              1,
              "#f0f921"
             ]
            ],
            "type": "surface"
           }
          ],
          "table": [
           {
            "cells": {
             "fill": {
              "color": "#EBF0F8"
             },
             "line": {
              "color": "white"
             }
            },
            "header": {
             "fill": {
              "color": "#C8D4E3"
             },
             "line": {
              "color": "white"
             }
            },
            "type": "table"
           }
          ]
         },
         "layout": {
          "annotationdefaults": {
           "arrowcolor": "#2a3f5f",
           "arrowhead": 0,
           "arrowwidth": 1
          },
          "autotypenumbers": "strict",
          "coloraxis": {
           "colorbar": {
            "outlinewidth": 0,
            "ticks": ""
           }
          },
          "colorscale": {
           "diverging": [
            [
             0,
             "#8e0152"
            ],
            [
             0.1,
             "#c51b7d"
            ],
            [
             0.2,
             "#de77ae"
            ],
            [
             0.3,
             "#f1b6da"
            ],
            [
             0.4,
             "#fde0ef"
            ],
            [
             0.5,
             "#f7f7f7"
            ],
            [
             0.6,
             "#e6f5d0"
            ],
            [
             0.7,
             "#b8e186"
            ],
            [
             0.8,
             "#7fbc41"
            ],
            [
             0.9,
             "#4d9221"
            ],
            [
             1,
             "#276419"
            ]
           ],
           "sequential": [
            [
             0,
             "#0d0887"
            ],
            [
             0.1111111111111111,
             "#46039f"
            ],
            [
             0.2222222222222222,
             "#7201a8"
            ],
            [
             0.3333333333333333,
             "#9c179e"
            ],
            [
             0.4444444444444444,
             "#bd3786"
            ],
            [
             0.5555555555555556,
             "#d8576b"
            ],
            [
             0.6666666666666666,
             "#ed7953"
            ],
            [
             0.7777777777777778,
             "#fb9f3a"
            ],
            [
             0.8888888888888888,
             "#fdca26"
            ],
            [
             1,
             "#f0f921"
            ]
           ],
           "sequentialminus": [
            [
             0,
             "#0d0887"
            ],
            [
             0.1111111111111111,
             "#46039f"
            ],
            [
             0.2222222222222222,
             "#7201a8"
            ],
            [
             0.3333333333333333,
             "#9c179e"
            ],
            [
             0.4444444444444444,
             "#bd3786"
            ],
            [
             0.5555555555555556,
             "#d8576b"
            ],
            [
             0.6666666666666666,
             "#ed7953"
            ],
            [
             0.7777777777777778,
             "#fb9f3a"
            ],
            [
             0.8888888888888888,
             "#fdca26"
            ],
            [
             1,
             "#f0f921"
            ]
           ]
          },
          "colorway": [
           "#636efa",
           "#EF553B",
           "#00cc96",
           "#ab63fa",
           "#FFA15A",
           "#19d3f3",
           "#FF6692",
           "#B6E880",
           "#FF97FF",
           "#FECB52"
          ],
          "font": {
           "color": "#2a3f5f"
          },
          "geo": {
           "bgcolor": "white",
           "lakecolor": "white",
           "landcolor": "#E5ECF6",
           "showlakes": true,
           "showland": true,
           "subunitcolor": "white"
          },
          "hoverlabel": {
           "align": "left"
          },
          "hovermode": "closest",
          "mapbox": {
           "style": "light"
          },
          "paper_bgcolor": "white",
          "plot_bgcolor": "#E5ECF6",
          "polar": {
           "angularaxis": {
            "gridcolor": "white",
            "linecolor": "white",
            "ticks": ""
           },
           "bgcolor": "#E5ECF6",
           "radialaxis": {
            "gridcolor": "white",
            "linecolor": "white",
            "ticks": ""
           }
          },
          "scene": {
           "xaxis": {
            "backgroundcolor": "#E5ECF6",
            "gridcolor": "white",
            "gridwidth": 2,
            "linecolor": "white",
            "showbackground": true,
            "ticks": "",
            "zerolinecolor": "white"
           },
           "yaxis": {
            "backgroundcolor": "#E5ECF6",
            "gridcolor": "white",
            "gridwidth": 2,
            "linecolor": "white",
            "showbackground": true,
            "ticks": "",
            "zerolinecolor": "white"
           },
           "zaxis": {
            "backgroundcolor": "#E5ECF6",
            "gridcolor": "white",
            "gridwidth": 2,
            "linecolor": "white",
            "showbackground": true,
            "ticks": "",
            "zerolinecolor": "white"
           }
          },
          "shapedefaults": {
           "line": {
            "color": "#2a3f5f"
           }
          },
          "ternary": {
           "aaxis": {
            "gridcolor": "white",
            "linecolor": "white",
            "ticks": ""
           },
           "baxis": {
            "gridcolor": "white",
            "linecolor": "white",
            "ticks": ""
           },
           "bgcolor": "#E5ECF6",
           "caxis": {
            "gridcolor": "white",
            "linecolor": "white",
            "ticks": ""
           }
          },
          "title": {
           "x": 0.05
          },
          "xaxis": {
           "automargin": true,
           "gridcolor": "white",
           "linecolor": "white",
           "ticks": "",
           "title": {
            "standoff": 15
           },
           "zerolinecolor": "white",
           "zerolinewidth": 2
          },
          "yaxis": {
           "automargin": true,
           "gridcolor": "white",
           "linecolor": "white",
           "ticks": "",
           "title": {
            "standoff": 15
           },
           "zerolinecolor": "white",
           "zerolinewidth": 2
          }
         }
        },
        "title": {
         "font": {
          "color": "#4D5663"
         }
        },
        "xaxis": {
         "gridcolor": "#E1E5ED",
         "showgrid": true,
         "tickfont": {
          "color": "#4D5663"
         },
         "title": {
          "font": {
           "color": "#4D5663"
          },
          "text": ""
         },
         "zerolinecolor": "#E1E5ED"
        },
        "yaxis": {
         "gridcolor": "#E1E5ED",
         "showgrid": true,
         "tickfont": {
          "color": "#4D5663"
         },
         "title": {
          "font": {
           "color": "#4D5663"
          },
          "text": ""
         },
         "zerolinecolor": "#E1E5ED"
        }
       }
      },
      "text/html": [
       "<div>                            <div id=\"48529172-f08b-4e8c-8f0f-dce5c2eb76b8\" class=\"plotly-graph-div\" style=\"height:525px; width:100%;\"></div>            <script type=\"text/javascript\">                require([\"plotly\"], function(Plotly) {                    window.PLOTLYENV=window.PLOTLYENV || {};\n",
       "                    window.PLOTLYENV.BASE_URL='https://plot.ly';                                    if (document.getElementById(\"48529172-f08b-4e8c-8f0f-dce5c2eb76b8\")) {                    Plotly.newPlot(                        \"48529172-f08b-4e8c-8f0f-dce5c2eb76b8\",                        [{\"marker\":{\"color\":[\"rgb(255, 153, 51)\",\"rgb(55, 128, 191)\",\"rgb(50, 171, 96)\",\"rgb(128, 0, 128)\",\"rgb(219, 64, 82)\",\"rgb(0, 128, 128)\",\"rgb(255, 255, 51)\",\"rgb(128, 128, 0)\",\"rgb(251, 128, 114)\",\"rgb(128, 177, 211)\"],\"line\":{\"width\":1.3},\"size\":[38,92,42,84,66,75,35,67,54,27,54,112,32,86,57,62,33,58,35,46,69,68,75,105,66,42,54,87,53,96,19,95,88,62,42,48,66,111,71,75,86,74,106,52,60,53,80,63,46,33,73,86,63,30,78,48,45,45,87,77,82,47,69,70,110,47,88,72,71,39,50,51,66,67,96,94,66,45,42,68,75,12,50,30,68,48,57,67,61,62,76,78,42,62,67,72,76,82,37,63],\"symbol\":\"circle\"},\"mode\":\"markers\",\"text\":\"\",\"type\":\"scatter\",\"x\":[1.6390172210782112,0.35036309608803734,0.005345251605557072,-1.007168582401739,0.6064372360595194,-0.8559716524754347,-0.29295931013977455,0.11469913509520363,-0.7523106090575572,-0.195634901571466,-0.5404692462016839,-1.3120969565229128,1.1111884746332532,-1.4563221199532441,-0.4000778003521611,-1.4451703461721117,-1.363231315990348,0.658342303654108,0.8786515409349503,-1.5086797797943805,-0.5725951421783421,-2.9521790062884317,0.8107187720350392,-2.519087609499849,0.6896584787258254,0.6435745175482077,-1.2000336887451124,0.34086045864628756,0.2654469043662446,-0.07746292037022126,0.8630843825610846,1.0891490140181523,-1.9524223419631697,0.6858617659955623,0.2883834504425376,0.20911482004677523,0.5299742543623438,1.1327845046858638,-0.7251055108060356,1.2135193055712752,2.300244842789878,-0.738390301241366,0.05291785180475275,-3.4709290329743743,0.5977833494136633,0.14110732006113477,-0.5840013368991821,0.004953715931068007,-1.223861385225602,0.6190924457254161,0.039732403047753204,1.425699337352612,0.44876455422443184,1.0781702197003584,1.6736082013851366,0.13414414323520682,-0.049714591234064916,1.5718612497436992,-0.488626681795911,-1.0745094634783077,0.010835515648132663,0.7740169127901401,-0.6426873875675859,-0.9754780684816817,0.5529827758798664,-1.0672963254082246,-0.04456852341750004,0.7692202067160016,1.2321144828985524,0.1433419894687381,-0.2909362098687318,-0.47267633317745456,1.7972382007227412,0.21805988911238225,-0.009552893266460817,1.3467405298885615,1.585402040037534,-0.4229297524139318,-0.3769072295415943,-0.3270199703308662,-1.6570808165725148,-0.12574749288277748,-0.6176444759289953,0.7439988726600845,0.24613374285765183,0.38947090242920723,1.6723019786775943,-0.41963702796672747,0.9047373455383958,-0.017673105582772474,-1.0170416703023462,-0.19324125760756355,-1.2503224511053932,-2.1470424425254766,1.0221779062477727,-2.5065738171228205,-0.05963337005966899,0.47649356521775404,1.4276528138041606,-0.32425457930617246],\"y\":[1.102553266001446,0.07003004352789324,0.5810101219197732,-1.9203120747377667,0.7532931016641667,-1.8337590115007922,0.3096264931476165,0.6393282156170463,-0.798725006016867,0.5417207731363791,-0.4239424069146018,-0.41392400709499866,0.08559850853532823,0.9093550061070701,-0.7280430808263331,-0.6824589540078425,0.28090931380191964,-0.3319007037857765,-1.6667158346606188,1.6130909499660644,-0.29661045750111187,0.03900350809678387,-1.071474539376231,1.5231277410687434,-0.5079840148181424,-0.25873323295644196,0.824139139298492,-0.7159802359304246,0.0625797583586818,-0.3284807894012514,1.8955312299431808,0.19648109599776153,-0.7495227570633665,-0.4242023122477403,0.3280281720357379,1.286964003251896,0.5657468540102697,1.3689612247632001,-0.14350400521153903,0.4957019813435518,-0.15271765262681536,0.6806210533160196,-0.10168526735020109,-0.5982519315647606,-0.6749402596978042,0.9702043432759824,0.1819894336902613,0.5985343656147386,0.8340920172057208,-0.3702418957397792,-0.846857106926398,1.0311250582516243,0.5008522513259931,0.3365768679120584,1.7121320739187826,0.5117482937902189,-1.8244623092300802,0.4321066066002589,-1.4421686853378737,0.19790900585090146,0.5589783024737872,1.7182668640964827,1.315239011718634,1.7541664056342483,1.0824383076378559,0.22308066904734622,0.19192596158254535,-0.6642502185333556,-1.233927505323582,-0.5150258836486774,0.7724192205916995,-1.539246559652809,-0.3441725530827281,-1.294768684186355,2.1510598274343513,-0.43919021706940076,0.7869812774679221,-0.2659664510423569,-0.178614785666635,0.7088802171641168,-0.8127121234339456,0.2522994859088976,-0.8830069315654053,-0.035996353631033304,-0.09755848244586804,-1.1402570557997063,1.0168044017244504,0.19659128228813155,0.657835318268974,-1.6522321435881624,-0.7204032750503859,-2.0365700276099843,0.42548498076418545,-1.198762076198404,-0.08761184598444494,0.38108581263880736,-0.41153334539835307,-0.3198757873724358,-1.7491866397945144,0.06285634871996862]}],                        {\"legend\":{\"bgcolor\":\"#F5F6F9\",\"font\":{\"color\":\"#4D5663\"}},\"paper_bgcolor\":\"#F5F6F9\",\"plot_bgcolor\":\"#F5F6F9\",\"template\":{\"data\":{\"bar\":[{\"error_x\":{\"color\":\"#2a3f5f\"},\"error_y\":{\"color\":\"#2a3f5f\"},\"marker\":{\"line\":{\"color\":\"#E5ECF6\",\"width\":0.5},\"pattern\":{\"fillmode\":\"overlay\",\"size\":10,\"solidity\":0.2}},\"type\":\"bar\"}],\"barpolar\":[{\"marker\":{\"line\":{\"color\":\"#E5ECF6\",\"width\":0.5},\"pattern\":{\"fillmode\":\"overlay\",\"size\":10,\"solidity\":0.2}},\"type\":\"barpolar\"}],\"carpet\":[{\"aaxis\":{\"endlinecolor\":\"#2a3f5f\",\"gridcolor\":\"white\",\"linecolor\":\"white\",\"minorgridcolor\":\"white\",\"startlinecolor\":\"#2a3f5f\"},\"baxis\":{\"endlinecolor\":\"#2a3f5f\",\"gridcolor\":\"white\",\"linecolor\":\"white\",\"minorgridcolor\":\"white\",\"startlinecolor\":\"#2a3f5f\"},\"type\":\"carpet\"}],\"choropleth\":[{\"colorbar\":{\"outlinewidth\":0,\"ticks\":\"\"},\"type\":\"choropleth\"}],\"contour\":[{\"colorbar\":{\"outlinewidth\":0,\"ticks\":\"\"},\"colorscale\":[[0.0,\"#0d0887\"],[0.1111111111111111,\"#46039f\"],[0.2222222222222222,\"#7201a8\"],[0.3333333333333333,\"#9c179e\"],[0.4444444444444444,\"#bd3786\"],[0.5555555555555556,\"#d8576b\"],[0.6666666666666666,\"#ed7953\"],[0.7777777777777778,\"#fb9f3a\"],[0.8888888888888888,\"#fdca26\"],[1.0,\"#f0f921\"]],\"type\":\"contour\"}],\"contourcarpet\":[{\"colorbar\":{\"outlinewidth\":0,\"ticks\":\"\"},\"type\":\"contourcarpet\"}],\"heatmap\":[{\"colorbar\":{\"outlinewidth\":0,\"ticks\":\"\"},\"colorscale\":[[0.0,\"#0d0887\"],[0.1111111111111111,\"#46039f\"],[0.2222222222222222,\"#7201a8\"],[0.3333333333333333,\"#9c179e\"],[0.4444444444444444,\"#bd3786\"],[0.5555555555555556,\"#d8576b\"],[0.6666666666666666,\"#ed7953\"],[0.7777777777777778,\"#fb9f3a\"],[0.8888888888888888,\"#fdca26\"],[1.0,\"#f0f921\"]],\"type\":\"heatmap\"}],\"heatmapgl\":[{\"colorbar\":{\"outlinewidth\":0,\"ticks\":\"\"},\"colorscale\":[[0.0,\"#0d0887\"],[0.1111111111111111,\"#46039f\"],[0.2222222222222222,\"#7201a8\"],[0.3333333333333333,\"#9c179e\"],[0.4444444444444444,\"#bd3786\"],[0.5555555555555556,\"#d8576b\"],[0.6666666666666666,\"#ed7953\"],[0.7777777777777778,\"#fb9f3a\"],[0.8888888888888888,\"#fdca26\"],[1.0,\"#f0f921\"]],\"type\":\"heatmapgl\"}],\"histogram\":[{\"marker\":{\"pattern\":{\"fillmode\":\"overlay\",\"size\":10,\"solidity\":0.2}},\"type\":\"histogram\"}],\"histogram2d\":[{\"colorbar\":{\"outlinewidth\":0,\"ticks\":\"\"},\"colorscale\":[[0.0,\"#0d0887\"],[0.1111111111111111,\"#46039f\"],[0.2222222222222222,\"#7201a8\"],[0.3333333333333333,\"#9c179e\"],[0.4444444444444444,\"#bd3786\"],[0.5555555555555556,\"#d8576b\"],[0.6666666666666666,\"#ed7953\"],[0.7777777777777778,\"#fb9f3a\"],[0.8888888888888888,\"#fdca26\"],[1.0,\"#f0f921\"]],\"type\":\"histogram2d\"}],\"histogram2dcontour\":[{\"colorbar\":{\"outlinewidth\":0,\"ticks\":\"\"},\"colorscale\":[[0.0,\"#0d0887\"],[0.1111111111111111,\"#46039f\"],[0.2222222222222222,\"#7201a8\"],[0.3333333333333333,\"#9c179e\"],[0.4444444444444444,\"#bd3786\"],[0.5555555555555556,\"#d8576b\"],[0.6666666666666666,\"#ed7953\"],[0.7777777777777778,\"#fb9f3a\"],[0.8888888888888888,\"#fdca26\"],[1.0,\"#f0f921\"]],\"type\":\"histogram2dcontour\"}],\"mesh3d\":[{\"colorbar\":{\"outlinewidth\":0,\"ticks\":\"\"},\"type\":\"mesh3d\"}],\"parcoords\":[{\"line\":{\"colorbar\":{\"outlinewidth\":0,\"ticks\":\"\"}},\"type\":\"parcoords\"}],\"pie\":[{\"automargin\":true,\"type\":\"pie\"}],\"scatter\":[{\"marker\":{\"colorbar\":{\"outlinewidth\":0,\"ticks\":\"\"}},\"type\":\"scatter\"}],\"scatter3d\":[{\"line\":{\"colorbar\":{\"outlinewidth\":0,\"ticks\":\"\"}},\"marker\":{\"colorbar\":{\"outlinewidth\":0,\"ticks\":\"\"}},\"type\":\"scatter3d\"}],\"scattercarpet\":[{\"marker\":{\"colorbar\":{\"outlinewidth\":0,\"ticks\":\"\"}},\"type\":\"scattercarpet\"}],\"scattergeo\":[{\"marker\":{\"colorbar\":{\"outlinewidth\":0,\"ticks\":\"\"}},\"type\":\"scattergeo\"}],\"scattergl\":[{\"marker\":{\"colorbar\":{\"outlinewidth\":0,\"ticks\":\"\"}},\"type\":\"scattergl\"}],\"scattermapbox\":[{\"marker\":{\"colorbar\":{\"outlinewidth\":0,\"ticks\":\"\"}},\"type\":\"scattermapbox\"}],\"scatterpolar\":[{\"marker\":{\"colorbar\":{\"outlinewidth\":0,\"ticks\":\"\"}},\"type\":\"scatterpolar\"}],\"scatterpolargl\":[{\"marker\":{\"colorbar\":{\"outlinewidth\":0,\"ticks\":\"\"}},\"type\":\"scatterpolargl\"}],\"scatterternary\":[{\"marker\":{\"colorbar\":{\"outlinewidth\":0,\"ticks\":\"\"}},\"type\":\"scatterternary\"}],\"surface\":[{\"colorbar\":{\"outlinewidth\":0,\"ticks\":\"\"},\"colorscale\":[[0.0,\"#0d0887\"],[0.1111111111111111,\"#46039f\"],[0.2222222222222222,\"#7201a8\"],[0.3333333333333333,\"#9c179e\"],[0.4444444444444444,\"#bd3786\"],[0.5555555555555556,\"#d8576b\"],[0.6666666666666666,\"#ed7953\"],[0.7777777777777778,\"#fb9f3a\"],[0.8888888888888888,\"#fdca26\"],[1.0,\"#f0f921\"]],\"type\":\"surface\"}],\"table\":[{\"cells\":{\"fill\":{\"color\":\"#EBF0F8\"},\"line\":{\"color\":\"white\"}},\"header\":{\"fill\":{\"color\":\"#C8D4E3\"},\"line\":{\"color\":\"white\"}},\"type\":\"table\"}]},\"layout\":{\"annotationdefaults\":{\"arrowcolor\":\"#2a3f5f\",\"arrowhead\":0,\"arrowwidth\":1},\"autotypenumbers\":\"strict\",\"coloraxis\":{\"colorbar\":{\"outlinewidth\":0,\"ticks\":\"\"}},\"colorscale\":{\"diverging\":[[0,\"#8e0152\"],[0.1,\"#c51b7d\"],[0.2,\"#de77ae\"],[0.3,\"#f1b6da\"],[0.4,\"#fde0ef\"],[0.5,\"#f7f7f7\"],[0.6,\"#e6f5d0\"],[0.7,\"#b8e186\"],[0.8,\"#7fbc41\"],[0.9,\"#4d9221\"],[1,\"#276419\"]],\"sequential\":[[0.0,\"#0d0887\"],[0.1111111111111111,\"#46039f\"],[0.2222222222222222,\"#7201a8\"],[0.3333333333333333,\"#9c179e\"],[0.4444444444444444,\"#bd3786\"],[0.5555555555555556,\"#d8576b\"],[0.6666666666666666,\"#ed7953\"],[0.7777777777777778,\"#fb9f3a\"],[0.8888888888888888,\"#fdca26\"],[1.0,\"#f0f921\"]],\"sequentialminus\":[[0.0,\"#0d0887\"],[0.1111111111111111,\"#46039f\"],[0.2222222222222222,\"#7201a8\"],[0.3333333333333333,\"#9c179e\"],[0.4444444444444444,\"#bd3786\"],[0.5555555555555556,\"#d8576b\"],[0.6666666666666666,\"#ed7953\"],[0.7777777777777778,\"#fb9f3a\"],[0.8888888888888888,\"#fdca26\"],[1.0,\"#f0f921\"]]},\"colorway\":[\"#636efa\",\"#EF553B\",\"#00cc96\",\"#ab63fa\",\"#FFA15A\",\"#19d3f3\",\"#FF6692\",\"#B6E880\",\"#FF97FF\",\"#FECB52\"],\"font\":{\"color\":\"#2a3f5f\"},\"geo\":{\"bgcolor\":\"white\",\"lakecolor\":\"white\",\"landcolor\":\"#E5ECF6\",\"showlakes\":true,\"showland\":true,\"subunitcolor\":\"white\"},\"hoverlabel\":{\"align\":\"left\"},\"hovermode\":\"closest\",\"mapbox\":{\"style\":\"light\"},\"paper_bgcolor\":\"white\",\"plot_bgcolor\":\"#E5ECF6\",\"polar\":{\"angularaxis\":{\"gridcolor\":\"white\",\"linecolor\":\"white\",\"ticks\":\"\"},\"bgcolor\":\"#E5ECF6\",\"radialaxis\":{\"gridcolor\":\"white\",\"linecolor\":\"white\",\"ticks\":\"\"}},\"scene\":{\"xaxis\":{\"backgroundcolor\":\"#E5ECF6\",\"gridcolor\":\"white\",\"gridwidth\":2,\"linecolor\":\"white\",\"showbackground\":true,\"ticks\":\"\",\"zerolinecolor\":\"white\"},\"yaxis\":{\"backgroundcolor\":\"#E5ECF6\",\"gridcolor\":\"white\",\"gridwidth\":2,\"linecolor\":\"white\",\"showbackground\":true,\"ticks\":\"\",\"zerolinecolor\":\"white\"},\"zaxis\":{\"backgroundcolor\":\"#E5ECF6\",\"gridcolor\":\"white\",\"gridwidth\":2,\"linecolor\":\"white\",\"showbackground\":true,\"ticks\":\"\",\"zerolinecolor\":\"white\"}},\"shapedefaults\":{\"line\":{\"color\":\"#2a3f5f\"}},\"ternary\":{\"aaxis\":{\"gridcolor\":\"white\",\"linecolor\":\"white\",\"ticks\":\"\"},\"baxis\":{\"gridcolor\":\"white\",\"linecolor\":\"white\",\"ticks\":\"\"},\"bgcolor\":\"#E5ECF6\",\"caxis\":{\"gridcolor\":\"white\",\"linecolor\":\"white\",\"ticks\":\"\"}},\"title\":{\"x\":0.05},\"xaxis\":{\"automargin\":true,\"gridcolor\":\"white\",\"linecolor\":\"white\",\"ticks\":\"\",\"title\":{\"standoff\":15},\"zerolinecolor\":\"white\",\"zerolinewidth\":2},\"yaxis\":{\"automargin\":true,\"gridcolor\":\"white\",\"linecolor\":\"white\",\"ticks\":\"\",\"title\":{\"standoff\":15},\"zerolinecolor\":\"white\",\"zerolinewidth\":2}}},\"title\":{\"font\":{\"color\":\"#4D5663\"}},\"xaxis\":{\"gridcolor\":\"#E1E5ED\",\"showgrid\":true,\"tickfont\":{\"color\":\"#4D5663\"},\"title\":{\"font\":{\"color\":\"#4D5663\"},\"text\":\"\"},\"zerolinecolor\":\"#E1E5ED\"},\"yaxis\":{\"gridcolor\":\"#E1E5ED\",\"showgrid\":true,\"tickfont\":{\"color\":\"#4D5663\"},\"title\":{\"font\":{\"color\":\"#4D5663\"},\"text\":\"\"},\"zerolinecolor\":\"#E1E5ED\"}},                        {\"showLink\": true, \"linkText\": \"Export to plot.ly\", \"plotlyServerURL\": \"https://plot.ly\", \"responsive\": true}                    ).then(function(){\n",
       "                            \n",
       "var gd = document.getElementById('48529172-f08b-4e8c-8f0f-dce5c2eb76b8');\n",
       "var x = new MutationObserver(function (mutations, observer) {{\n",
       "        var display = window.getComputedStyle(gd).display;\n",
       "        if (!display || display === 'none') {{\n",
       "            console.log([gd, 'removed!']);\n",
       "            Plotly.purge(gd);\n",
       "            observer.disconnect();\n",
       "        }}\n",
       "}});\n",
       "\n",
       "// Listen for the removal of the full notebook cells\n",
       "var notebookContainer = gd.closest('#notebook-container');\n",
       "if (notebookContainer) {{\n",
       "    x.observe(notebookContainer, {childList: true});\n",
       "}}\n",
       "\n",
       "// Listen for the clearing of the current output cell\n",
       "var outputEl = gd.closest('.output');\n",
       "if (outputEl) {{\n",
       "    x.observe(outputEl, {childList: true});\n",
       "}}\n",
       "\n",
       "                        })                };                });            </script>        </div>"
      ]
     },
     "metadata": {},
     "output_type": "display_data"
    }
   ],
   "source": [
    "df.iplot(kind='bubble',x='A',y='B',size='C')"
   ]
  },
  {
   "cell_type": "markdown",
   "metadata": {},
   "source": [
    "## scatter_matrix()\n",
    "\n",
    "Similar to sns.pairplot()"
   ]
  },
  {
   "cell_type": "code",
   "execution_count": 18,
   "metadata": {},
   "outputs": [
    {
     "data": {
      "application/vnd.plotly.v1+json": {
       "config": {
        "linkText": "Export to plot.ly",
        "plotlyServerURL": "https://plot.ly",
        "showLink": true
       },
       "data": [
        {
         "histfunc": "count",
         "histnorm": "",
         "marker": {
          "color": "rgba(255, 153, 51, 1.0)",
          "line": {
           "color": "#4D5663",
           "width": 1.3
          }
         },
         "name": "A",
         "nbinsx": 10,
         "opacity": 0.8,
         "orientation": "v",
         "type": "histogram",
         "x": [
          1.6390172210782112,
          0.35036309608803734,
          0.005345251605557072,
          -1.007168582401739,
          0.6064372360595194,
          -0.8559716524754347,
          -0.29295931013977455,
          0.11469913509520363,
          -0.7523106090575572,
          -0.195634901571466,
          -0.5404692462016839,
          -1.3120969565229128,
          1.1111884746332532,
          -1.4563221199532441,
          -0.4000778003521611,
          -1.4451703461721117,
          -1.363231315990348,
          0.658342303654108,
          0.8786515409349503,
          -1.5086797797943805,
          -0.5725951421783421,
          -2.9521790062884317,
          0.8107187720350392,
          -2.519087609499849,
          0.6896584787258254,
          0.6435745175482077,
          -1.2000336887451124,
          0.34086045864628756,
          0.2654469043662446,
          -0.07746292037022126,
          0.8630843825610846,
          1.0891490140181523,
          -1.9524223419631697,
          0.6858617659955623,
          0.2883834504425376,
          0.20911482004677523,
          0.5299742543623438,
          1.1327845046858638,
          -0.7251055108060356,
          1.2135193055712752,
          2.300244842789878,
          -0.738390301241366,
          0.05291785180475275,
          -3.4709290329743743,
          0.5977833494136633,
          0.14110732006113477,
          -0.5840013368991821,
          0.004953715931068007,
          -1.223861385225602,
          0.6190924457254161,
          0.039732403047753204,
          1.425699337352612,
          0.44876455422443184,
          1.0781702197003584,
          1.6736082013851366,
          0.13414414323520682,
          -0.049714591234064916,
          1.5718612497436992,
          -0.488626681795911,
          -1.0745094634783077,
          0.010835515648132663,
          0.7740169127901401,
          -0.6426873875675859,
          -0.9754780684816817,
          0.5529827758798664,
          -1.0672963254082246,
          -0.04456852341750004,
          0.7692202067160016,
          1.2321144828985524,
          0.1433419894687381,
          -0.2909362098687318,
          -0.47267633317745456,
          1.7972382007227412,
          0.21805988911238225,
          -0.009552893266460817,
          1.3467405298885615,
          1.585402040037534,
          -0.4229297524139318,
          -0.3769072295415943,
          -0.3270199703308662,
          -1.6570808165725148,
          -0.12574749288277748,
          -0.6176444759289953,
          0.7439988726600845,
          0.24613374285765183,
          0.38947090242920723,
          1.6723019786775943,
          -0.41963702796672747,
          0.9047373455383958,
          -0.017673105582772474,
          -1.0170416703023462,
          -0.19324125760756355,
          -1.2503224511053932,
          -2.1470424425254766,
          1.0221779062477727,
          -2.5065738171228205,
          -0.05963337005966899,
          0.47649356521775404,
          1.4276528138041606,
          -0.32425457930617246
         ],
         "xaxis": "x",
         "yaxis": "y"
        },
        {
         "line": {
          "color": "rgba(128, 128, 128, 1.0)",
          "dash": "solid",
          "shape": "linear",
          "width": 1.3
         },
         "marker": {
          "size": 2,
          "symbol": "circle"
         },
         "mode": "markers",
         "name": "A",
         "text": "",
         "type": "scatter",
         "x": [
          1.102553266001446,
          0.07003004352789324,
          0.5810101219197732,
          -1.9203120747377667,
          0.7532931016641667,
          -1.8337590115007922,
          0.3096264931476165,
          0.6393282156170463,
          -0.798725006016867,
          0.5417207731363791,
          -0.4239424069146018,
          -0.41392400709499866,
          0.08559850853532823,
          0.9093550061070701,
          -0.7280430808263331,
          -0.6824589540078425,
          0.28090931380191964,
          -0.3319007037857765,
          -1.6667158346606188,
          1.6130909499660644,
          -0.29661045750111187,
          0.03900350809678387,
          -1.071474539376231,
          1.5231277410687434,
          -0.5079840148181424,
          -0.25873323295644196,
          0.824139139298492,
          -0.7159802359304246,
          0.0625797583586818,
          -0.3284807894012514,
          1.8955312299431808,
          0.19648109599776153,
          -0.7495227570633665,
          -0.4242023122477403,
          0.3280281720357379,
          1.286964003251896,
          0.5657468540102697,
          1.3689612247632001,
          -0.14350400521153903,
          0.4957019813435518,
          -0.15271765262681536,
          0.6806210533160196,
          -0.10168526735020109,
          -0.5982519315647606,
          -0.6749402596978042,
          0.9702043432759824,
          0.1819894336902613,
          0.5985343656147386,
          0.8340920172057208,
          -0.3702418957397792,
          -0.846857106926398,
          1.0311250582516243,
          0.5008522513259931,
          0.3365768679120584,
          1.7121320739187826,
          0.5117482937902189,
          -1.8244623092300802,
          0.4321066066002589,
          -1.4421686853378737,
          0.19790900585090146,
          0.5589783024737872,
          1.7182668640964827,
          1.315239011718634,
          1.7541664056342483,
          1.0824383076378559,
          0.22308066904734622,
          0.19192596158254535,
          -0.6642502185333556,
          -1.233927505323582,
          -0.5150258836486774,
          0.7724192205916995,
          -1.539246559652809,
          -0.3441725530827281,
          -1.294768684186355,
          2.1510598274343513,
          -0.43919021706940076,
          0.7869812774679221,
          -0.2659664510423569,
          -0.178614785666635,
          0.7088802171641168,
          -0.8127121234339456,
          0.2522994859088976,
          -0.8830069315654053,
          -0.035996353631033304,
          -0.09755848244586804,
          -1.1402570557997063,
          1.0168044017244504,
          0.19659128228813155,
          0.657835318268974,
          -1.6522321435881624,
          -0.7204032750503859,
          -2.0365700276099843,
          0.42548498076418545,
          -1.198762076198404,
          -0.08761184598444494,
          0.38108581263880736,
          -0.41153334539835307,
          -0.3198757873724358,
          -1.7491866397945144,
          0.06285634871996862
         ],
         "xaxis": "x2",
         "y": [
          1.6390172210782112,
          0.35036309608803734,
          0.005345251605557072,
          -1.007168582401739,
          0.6064372360595194,
          -0.8559716524754347,
          -0.29295931013977455,
          0.11469913509520363,
          -0.7523106090575572,
          -0.195634901571466,
          -0.5404692462016839,
          -1.3120969565229128,
          1.1111884746332532,
          -1.4563221199532441,
          -0.4000778003521611,
          -1.4451703461721117,
          -1.363231315990348,
          0.658342303654108,
          0.8786515409349503,
          -1.5086797797943805,
          -0.5725951421783421,
          -2.9521790062884317,
          0.8107187720350392,
          -2.519087609499849,
          0.6896584787258254,
          0.6435745175482077,
          -1.2000336887451124,
          0.34086045864628756,
          0.2654469043662446,
          -0.07746292037022126,
          0.8630843825610846,
          1.0891490140181523,
          -1.9524223419631697,
          0.6858617659955623,
          0.2883834504425376,
          0.20911482004677523,
          0.5299742543623438,
          1.1327845046858638,
          -0.7251055108060356,
          1.2135193055712752,
          2.300244842789878,
          -0.738390301241366,
          0.05291785180475275,
          -3.4709290329743743,
          0.5977833494136633,
          0.14110732006113477,
          -0.5840013368991821,
          0.004953715931068007,
          -1.223861385225602,
          0.6190924457254161,
          0.039732403047753204,
          1.425699337352612,
          0.44876455422443184,
          1.0781702197003584,
          1.6736082013851366,
          0.13414414323520682,
          -0.049714591234064916,
          1.5718612497436992,
          -0.488626681795911,
          -1.0745094634783077,
          0.010835515648132663,
          0.7740169127901401,
          -0.6426873875675859,
          -0.9754780684816817,
          0.5529827758798664,
          -1.0672963254082246,
          -0.04456852341750004,
          0.7692202067160016,
          1.2321144828985524,
          0.1433419894687381,
          -0.2909362098687318,
          -0.47267633317745456,
          1.7972382007227412,
          0.21805988911238225,
          -0.009552893266460817,
          1.3467405298885615,
          1.585402040037534,
          -0.4229297524139318,
          -0.3769072295415943,
          -0.3270199703308662,
          -1.6570808165725148,
          -0.12574749288277748,
          -0.6176444759289953,
          0.7439988726600845,
          0.24613374285765183,
          0.38947090242920723,
          1.6723019786775943,
          -0.41963702796672747,
          0.9047373455383958,
          -0.017673105582772474,
          -1.0170416703023462,
          -0.19324125760756355,
          -1.2503224511053932,
          -2.1470424425254766,
          1.0221779062477727,
          -2.5065738171228205,
          -0.05963337005966899,
          0.47649356521775404,
          1.4276528138041606,
          -0.32425457930617246
         ],
         "yaxis": "y2"
        },
        {
         "line": {
          "color": "rgba(128, 128, 128, 1.0)",
          "dash": "solid",
          "shape": "linear",
          "width": 1.3
         },
         "marker": {
          "size": 2,
          "symbol": "circle"
         },
         "mode": "markers",
         "name": "A",
         "text": "",
         "type": "scatter",
         "x": [
          -1.2360563498264105,
          1.3159246155540758,
          -1.0482603162166566,
          0.9432616197698795,
          0.10949886162246518,
          0.5313438139599458,
          -1.3552785017281528,
          0.12462285062562888,
          -0.4889671456360796,
          -1.7262254043755738,
          -0.4727441117244799,
          2.23016733519551,
          -1.5116922783089672,
          1.0497036131393698,
          -0.3470306443121238,
          -0.075443785828641,
          -1.4295392830009814,
          -0.30124193344180233,
          -1.3677720811705105,
          -0.8353199309143495,
          0.25656687810902506,
          0.19032657870124028,
          0.5197559209704815,
          1.921351175003571,
          0.08679678567510596,
          -1.036855853984869,
          -0.48260313794125065,
          1.0669390875077744,
          -0.4998410973231635,
          1.4813675874982553,
          -2.08755006932975,
          1.4705101950570325,
          1.1456828682182947,
          -0.08809791636786443,
          -1.030893766505458,
          -0.7555175682912136,
          0.07260594299456122,
          2.2148128286809285,
          0.32373193348590285,
          0.5022243710604071,
          1.0403970950093342,
          0.4917850418417762,
          1.9661347817075387,
          -0.5731101043316489,
          -0.20878340179099592,
          -0.5022600886571217,
          0.767888524172614,
          -0.05836163111324807,
          -0.8366541518953358,
          -1.4756852125807234,
          0.4342292402110419,
          1.011375246477727,
          -0.03237677526662315,
          -1.5922206232981653,
          0.6801877876131237,
          -0.7609471783218504,
          -0.8953247315868167,
          -0.8918628114730981,
          1.0853164431965339,
          0.59632343162454,
          0.8326872866933389,
          -0.7875772856791142,
          0.23904939197822037,
          0.27233819891138294,
          2.158220785969478,
          -0.8047814973479522,
          1.1371537496974125,
          0.37714487561804827,
          0.3331136636808223,
          -1.1681919120199784,
          -0.6764021446986844,
          -0.6205998252229585,
          0.1125284868564861,
          0.15957840800580372,
          1.5188194312814423,
          1.4089987295870168,
          0.10312109310131272,
          -0.8695305524847472,
          -1.0332649555822395,
          0.1949052313930126,
          0.529649175782848,
          -2.461728343380069,
          -0.6476436240576234,
          -1.5830176874090964,
          0.1823987199377903,
          -0.7353989000653937,
          -0.3265920569485933,
          0.14176988754621792,
          -0.12049426897958981,
          -0.07429772129139557,
          0.5858574165205841,
          0.6742532264468089,
          -1.039742973706262,
          -0.10441732330559937,
          0.13297570250755156,
          0.35675827309400593,
          0.5429576605960009,
          0.8481299972917296,
          -1.269197745394751,
          -0.063424522296274
         ],
         "xaxis": "x3",
         "y": [
          1.6390172210782112,
          0.35036309608803734,
          0.005345251605557072,
          -1.007168582401739,
          0.6064372360595194,
          -0.8559716524754347,
          -0.29295931013977455,
          0.11469913509520363,
          -0.7523106090575572,
          -0.195634901571466,
          -0.5404692462016839,
          -1.3120969565229128,
          1.1111884746332532,
          -1.4563221199532441,
          -0.4000778003521611,
          -1.4451703461721117,
          -1.363231315990348,
          0.658342303654108,
          0.8786515409349503,
          -1.5086797797943805,
          -0.5725951421783421,
          -2.9521790062884317,
          0.8107187720350392,
          -2.519087609499849,
          0.6896584787258254,
          0.6435745175482077,
          -1.2000336887451124,
          0.34086045864628756,
          0.2654469043662446,
          -0.07746292037022126,
          0.8630843825610846,
          1.0891490140181523,
          -1.9524223419631697,
          0.6858617659955623,
          0.2883834504425376,
          0.20911482004677523,
          0.5299742543623438,
          1.1327845046858638,
          -0.7251055108060356,
          1.2135193055712752,
          2.300244842789878,
          -0.738390301241366,
          0.05291785180475275,
          -3.4709290329743743,
          0.5977833494136633,
          0.14110732006113477,
          -0.5840013368991821,
          0.004953715931068007,
          -1.223861385225602,
          0.6190924457254161,
          0.039732403047753204,
          1.425699337352612,
          0.44876455422443184,
          1.0781702197003584,
          1.6736082013851366,
          0.13414414323520682,
          -0.049714591234064916,
          1.5718612497436992,
          -0.488626681795911,
          -1.0745094634783077,
          0.010835515648132663,
          0.7740169127901401,
          -0.6426873875675859,
          -0.9754780684816817,
          0.5529827758798664,
          -1.0672963254082246,
          -0.04456852341750004,
          0.7692202067160016,
          1.2321144828985524,
          0.1433419894687381,
          -0.2909362098687318,
          -0.47267633317745456,
          1.7972382007227412,
          0.21805988911238225,
          -0.009552893266460817,
          1.3467405298885615,
          1.585402040037534,
          -0.4229297524139318,
          -0.3769072295415943,
          -0.3270199703308662,
          -1.6570808165725148,
          -0.12574749288277748,
          -0.6176444759289953,
          0.7439988726600845,
          0.24613374285765183,
          0.38947090242920723,
          1.6723019786775943,
          -0.41963702796672747,
          0.9047373455383958,
          -0.017673105582772474,
          -1.0170416703023462,
          -0.19324125760756355,
          -1.2503224511053932,
          -2.1470424425254766,
          1.0221779062477727,
          -2.5065738171228205,
          -0.05963337005966899,
          0.47649356521775404,
          1.4276528138041606,
          -0.32425457930617246
         ],
         "yaxis": "y3"
        },
        {
         "line": {
          "color": "rgba(128, 128, 128, 1.0)",
          "dash": "solid",
          "shape": "linear",
          "width": 1.3
         },
         "marker": {
          "size": 2,
          "symbol": "circle"
         },
         "mode": "markers",
         "name": "A",
         "text": "",
         "type": "scatter",
         "x": [
          -0.3876351538192493,
          -0.8296571219705642,
          -0.9666359010560744,
          -0.27252610137131583,
          0.29024583738250814,
          0.026293118578263032,
          0.1809630272451399,
          0.724968679915043,
          0.31262232066408185,
          -1.017825673956993,
          1.3696921307512595,
          1.3775889124639769,
          1.241098369180556,
          -0.6990524380989664,
          1.4747367236717397,
          0.5798228850293702,
          -1.036380740783406,
          0.8608894323795349,
          0.16714974846456593,
          0.6891428351484585,
          2.307597149763561,
          -0.19384362150846227,
          0.4411638735799402,
          0.9467707643346768,
          1.1935611200206604,
          -1.2082823855441158,
          -1.450893573650019,
          -0.9388907679342247,
          -0.44626964981179124,
          -1.29486767365812,
          0.20713729662405478,
          -0.6221414037699228,
          -0.6351880928477655,
          0.6098282530454491,
          0.3560243596805245,
          -0.38101026326892906,
          0.16960331543066987,
          0.7725812733389487,
          0.3193672008945128,
          0.12481433995434044,
          -1.2285353784601412,
          -0.712473629988644,
          -0.640186135196878,
          0.24458816789031673,
          -1.0113584036999896,
          -1.0728721448384266,
          -0.9952399420140805,
          -0.893786982521726,
          -1.0197858726369542,
          1.7919412297704587,
          0.9131794048060983,
          0.9294387718396656,
          -0.7863980384807477,
          1.4703071359742637,
          -0.764805697844493,
          1.4842095823819974,
          0.16197078331900475,
          -0.9523819336524822,
          0.1161357605797125,
          0.332018726360375,
          0.3978741352435876,
          1.3556320140950224,
          -0.28575551342641087,
          0.8874988150562103,
          0.09126583288734684,
          -0.30523257816122823,
          0.4873327207221328,
          0.6267538228082257,
          0.6503644344585291,
          0.9419861828588326,
          0.4761434464155009,
          -1.642093716172821,
          0.9462974435287662,
          2.245208081719052,
          -0.6545076564710867,
          -1.0415956371009087,
          -1.2618471555939805,
          -1.5595520204931115,
          1.0968150847773313,
          1.870688624312931,
          -0.36630708128034223,
          0.5029843940902577,
          0.21729457633436644,
          1.1515070541079988,
          -0.2853792863872244,
          0.19130556138435756,
          1.2119821642251132,
          0.35848705096098443,
          -0.004269602293290566,
          -0.02831173558559384,
          1.3307159916456643,
          -0.11626202059381414,
          0.13217089093742912,
          -0.930755324831226,
          -0.8022217937210094,
          0.14292601668996605,
          0.5585494252446102,
          -0.5067800112656453,
          0.18540048779486654,
          0.4483455209106131
         ],
         "xaxis": "x4",
         "y": [
          1.6390172210782112,
          0.35036309608803734,
          0.005345251605557072,
          -1.007168582401739,
          0.6064372360595194,
          -0.8559716524754347,
          -0.29295931013977455,
          0.11469913509520363,
          -0.7523106090575572,
          -0.195634901571466,
          -0.5404692462016839,
          -1.3120969565229128,
          1.1111884746332532,
          -1.4563221199532441,
          -0.4000778003521611,
          -1.4451703461721117,
          -1.363231315990348,
          0.658342303654108,
          0.8786515409349503,
          -1.5086797797943805,
          -0.5725951421783421,
          -2.9521790062884317,
          0.8107187720350392,
          -2.519087609499849,
          0.6896584787258254,
          0.6435745175482077,
          -1.2000336887451124,
          0.34086045864628756,
          0.2654469043662446,
          -0.07746292037022126,
          0.8630843825610846,
          1.0891490140181523,
          -1.9524223419631697,
          0.6858617659955623,
          0.2883834504425376,
          0.20911482004677523,
          0.5299742543623438,
          1.1327845046858638,
          -0.7251055108060356,
          1.2135193055712752,
          2.300244842789878,
          -0.738390301241366,
          0.05291785180475275,
          -3.4709290329743743,
          0.5977833494136633,
          0.14110732006113477,
          -0.5840013368991821,
          0.004953715931068007,
          -1.223861385225602,
          0.6190924457254161,
          0.039732403047753204,
          1.425699337352612,
          0.44876455422443184,
          1.0781702197003584,
          1.6736082013851366,
          0.13414414323520682,
          -0.049714591234064916,
          1.5718612497436992,
          -0.488626681795911,
          -1.0745094634783077,
          0.010835515648132663,
          0.7740169127901401,
          -0.6426873875675859,
          -0.9754780684816817,
          0.5529827758798664,
          -1.0672963254082246,
          -0.04456852341750004,
          0.7692202067160016,
          1.2321144828985524,
          0.1433419894687381,
          -0.2909362098687318,
          -0.47267633317745456,
          1.7972382007227412,
          0.21805988911238225,
          -0.009552893266460817,
          1.3467405298885615,
          1.585402040037534,
          -0.4229297524139318,
          -0.3769072295415943,
          -0.3270199703308662,
          -1.6570808165725148,
          -0.12574749288277748,
          -0.6176444759289953,
          0.7439988726600845,
          0.24613374285765183,
          0.38947090242920723,
          1.6723019786775943,
          -0.41963702796672747,
          0.9047373455383958,
          -0.017673105582772474,
          -1.0170416703023462,
          -0.19324125760756355,
          -1.2503224511053932,
          -2.1470424425254766,
          1.0221779062477727,
          -2.5065738171228205,
          -0.05963337005966899,
          0.47649356521775404,
          1.4276528138041606,
          -0.32425457930617246
         ],
         "yaxis": "y4"
        },
        {
         "line": {
          "color": "rgba(128, 128, 128, 1.0)",
          "dash": "solid",
          "shape": "linear",
          "width": 1.3
         },
         "marker": {
          "size": 2,
          "symbol": "circle"
         },
         "mode": "markers",
         "name": "B",
         "text": "",
         "type": "scatter",
         "x": [
          1.6390172210782112,
          0.35036309608803734,
          0.005345251605557072,
          -1.007168582401739,
          0.6064372360595194,
          -0.8559716524754347,
          -0.29295931013977455,
          0.11469913509520363,
          -0.7523106090575572,
          -0.195634901571466,
          -0.5404692462016839,
          -1.3120969565229128,
          1.1111884746332532,
          -1.4563221199532441,
          -0.4000778003521611,
          -1.4451703461721117,
          -1.363231315990348,
          0.658342303654108,
          0.8786515409349503,
          -1.5086797797943805,
          -0.5725951421783421,
          -2.9521790062884317,
          0.8107187720350392,
          -2.519087609499849,
          0.6896584787258254,
          0.6435745175482077,
          -1.2000336887451124,
          0.34086045864628756,
          0.2654469043662446,
          -0.07746292037022126,
          0.8630843825610846,
          1.0891490140181523,
          -1.9524223419631697,
          0.6858617659955623,
          0.2883834504425376,
          0.20911482004677523,
          0.5299742543623438,
          1.1327845046858638,
          -0.7251055108060356,
          1.2135193055712752,
          2.300244842789878,
          -0.738390301241366,
          0.05291785180475275,
          -3.4709290329743743,
          0.5977833494136633,
          0.14110732006113477,
          -0.5840013368991821,
          0.004953715931068007,
          -1.223861385225602,
          0.6190924457254161,
          0.039732403047753204,
          1.425699337352612,
          0.44876455422443184,
          1.0781702197003584,
          1.6736082013851366,
          0.13414414323520682,
          -0.049714591234064916,
          1.5718612497436992,
          -0.488626681795911,
          -1.0745094634783077,
          0.010835515648132663,
          0.7740169127901401,
          -0.6426873875675859,
          -0.9754780684816817,
          0.5529827758798664,
          -1.0672963254082246,
          -0.04456852341750004,
          0.7692202067160016,
          1.2321144828985524,
          0.1433419894687381,
          -0.2909362098687318,
          -0.47267633317745456,
          1.7972382007227412,
          0.21805988911238225,
          -0.009552893266460817,
          1.3467405298885615,
          1.585402040037534,
          -0.4229297524139318,
          -0.3769072295415943,
          -0.3270199703308662,
          -1.6570808165725148,
          -0.12574749288277748,
          -0.6176444759289953,
          0.7439988726600845,
          0.24613374285765183,
          0.38947090242920723,
          1.6723019786775943,
          -0.41963702796672747,
          0.9047373455383958,
          -0.017673105582772474,
          -1.0170416703023462,
          -0.19324125760756355,
          -1.2503224511053932,
          -2.1470424425254766,
          1.0221779062477727,
          -2.5065738171228205,
          -0.05963337005966899,
          0.47649356521775404,
          1.4276528138041606,
          -0.32425457930617246
         ],
         "xaxis": "x5",
         "y": [
          1.102553266001446,
          0.07003004352789324,
          0.5810101219197732,
          -1.9203120747377667,
          0.7532931016641667,
          -1.8337590115007922,
          0.3096264931476165,
          0.6393282156170463,
          -0.798725006016867,
          0.5417207731363791,
          -0.4239424069146018,
          -0.41392400709499866,
          0.08559850853532823,
          0.9093550061070701,
          -0.7280430808263331,
          -0.6824589540078425,
          0.28090931380191964,
          -0.3319007037857765,
          -1.6667158346606188,
          1.6130909499660644,
          -0.29661045750111187,
          0.03900350809678387,
          -1.071474539376231,
          1.5231277410687434,
          -0.5079840148181424,
          -0.25873323295644196,
          0.824139139298492,
          -0.7159802359304246,
          0.0625797583586818,
          -0.3284807894012514,
          1.8955312299431808,
          0.19648109599776153,
          -0.7495227570633665,
          -0.4242023122477403,
          0.3280281720357379,
          1.286964003251896,
          0.5657468540102697,
          1.3689612247632001,
          -0.14350400521153903,
          0.4957019813435518,
          -0.15271765262681536,
          0.6806210533160196,
          -0.10168526735020109,
          -0.5982519315647606,
          -0.6749402596978042,
          0.9702043432759824,
          0.1819894336902613,
          0.5985343656147386,
          0.8340920172057208,
          -0.3702418957397792,
          -0.846857106926398,
          1.0311250582516243,
          0.5008522513259931,
          0.3365768679120584,
          1.7121320739187826,
          0.5117482937902189,
          -1.8244623092300802,
          0.4321066066002589,
          -1.4421686853378737,
          0.19790900585090146,
          0.5589783024737872,
          1.7182668640964827,
          1.315239011718634,
          1.7541664056342483,
          1.0824383076378559,
          0.22308066904734622,
          0.19192596158254535,
          -0.6642502185333556,
          -1.233927505323582,
          -0.5150258836486774,
          0.7724192205916995,
          -1.539246559652809,
          -0.3441725530827281,
          -1.294768684186355,
          2.1510598274343513,
          -0.43919021706940076,
          0.7869812774679221,
          -0.2659664510423569,
          -0.178614785666635,
          0.7088802171641168,
          -0.8127121234339456,
          0.2522994859088976,
          -0.8830069315654053,
          -0.035996353631033304,
          -0.09755848244586804,
          -1.1402570557997063,
          1.0168044017244504,
          0.19659128228813155,
          0.657835318268974,
          -1.6522321435881624,
          -0.7204032750503859,
          -2.0365700276099843,
          0.42548498076418545,
          -1.198762076198404,
          -0.08761184598444494,
          0.38108581263880736,
          -0.41153334539835307,
          -0.3198757873724358,
          -1.7491866397945144,
          0.06285634871996862
         ],
         "yaxis": "y5"
        },
        {
         "histfunc": "count",
         "histnorm": "",
         "marker": {
          "color": "rgba(55, 128, 191, 1.0)",
          "line": {
           "color": "#4D5663",
           "width": 1.3
          }
         },
         "name": "B",
         "nbinsx": 10,
         "opacity": 0.8,
         "orientation": "v",
         "type": "histogram",
         "x": [
          1.102553266001446,
          0.07003004352789324,
          0.5810101219197732,
          -1.9203120747377667,
          0.7532931016641667,
          -1.8337590115007922,
          0.3096264931476165,
          0.6393282156170463,
          -0.798725006016867,
          0.5417207731363791,
          -0.4239424069146018,
          -0.41392400709499866,
          0.08559850853532823,
          0.9093550061070701,
          -0.7280430808263331,
          -0.6824589540078425,
          0.28090931380191964,
          -0.3319007037857765,
          -1.6667158346606188,
          1.6130909499660644,
          -0.29661045750111187,
          0.03900350809678387,
          -1.071474539376231,
          1.5231277410687434,
          -0.5079840148181424,
          -0.25873323295644196,
          0.824139139298492,
          -0.7159802359304246,
          0.0625797583586818,
          -0.3284807894012514,
          1.8955312299431808,
          0.19648109599776153,
          -0.7495227570633665,
          -0.4242023122477403,
          0.3280281720357379,
          1.286964003251896,
          0.5657468540102697,
          1.3689612247632001,
          -0.14350400521153903,
          0.4957019813435518,
          -0.15271765262681536,
          0.6806210533160196,
          -0.10168526735020109,
          -0.5982519315647606,
          -0.6749402596978042,
          0.9702043432759824,
          0.1819894336902613,
          0.5985343656147386,
          0.8340920172057208,
          -0.3702418957397792,
          -0.846857106926398,
          1.0311250582516243,
          0.5008522513259931,
          0.3365768679120584,
          1.7121320739187826,
          0.5117482937902189,
          -1.8244623092300802,
          0.4321066066002589,
          -1.4421686853378737,
          0.19790900585090146,
          0.5589783024737872,
          1.7182668640964827,
          1.315239011718634,
          1.7541664056342483,
          1.0824383076378559,
          0.22308066904734622,
          0.19192596158254535,
          -0.6642502185333556,
          -1.233927505323582,
          -0.5150258836486774,
          0.7724192205916995,
          -1.539246559652809,
          -0.3441725530827281,
          -1.294768684186355,
          2.1510598274343513,
          -0.43919021706940076,
          0.7869812774679221,
          -0.2659664510423569,
          -0.178614785666635,
          0.7088802171641168,
          -0.8127121234339456,
          0.2522994859088976,
          -0.8830069315654053,
          -0.035996353631033304,
          -0.09755848244586804,
          -1.1402570557997063,
          1.0168044017244504,
          0.19659128228813155,
          0.657835318268974,
          -1.6522321435881624,
          -0.7204032750503859,
          -2.0365700276099843,
          0.42548498076418545,
          -1.198762076198404,
          -0.08761184598444494,
          0.38108581263880736,
          -0.41153334539835307,
          -0.3198757873724358,
          -1.7491866397945144,
          0.06285634871996862
         ],
         "xaxis": "x6",
         "yaxis": "y6"
        },
        {
         "line": {
          "color": "rgba(128, 128, 128, 1.0)",
          "dash": "solid",
          "shape": "linear",
          "width": 1.3
         },
         "marker": {
          "size": 2,
          "symbol": "circle"
         },
         "mode": "markers",
         "name": "B",
         "text": "",
         "type": "scatter",
         "x": [
          -1.2360563498264105,
          1.3159246155540758,
          -1.0482603162166566,
          0.9432616197698795,
          0.10949886162246518,
          0.5313438139599458,
          -1.3552785017281528,
          0.12462285062562888,
          -0.4889671456360796,
          -1.7262254043755738,
          -0.4727441117244799,
          2.23016733519551,
          -1.5116922783089672,
          1.0497036131393698,
          -0.3470306443121238,
          -0.075443785828641,
          -1.4295392830009814,
          -0.30124193344180233,
          -1.3677720811705105,
          -0.8353199309143495,
          0.25656687810902506,
          0.19032657870124028,
          0.5197559209704815,
          1.921351175003571,
          0.08679678567510596,
          -1.036855853984869,
          -0.48260313794125065,
          1.0669390875077744,
          -0.4998410973231635,
          1.4813675874982553,
          -2.08755006932975,
          1.4705101950570325,
          1.1456828682182947,
          -0.08809791636786443,
          -1.030893766505458,
          -0.7555175682912136,
          0.07260594299456122,
          2.2148128286809285,
          0.32373193348590285,
          0.5022243710604071,
          1.0403970950093342,
          0.4917850418417762,
          1.9661347817075387,
          -0.5731101043316489,
          -0.20878340179099592,
          -0.5022600886571217,
          0.767888524172614,
          -0.05836163111324807,
          -0.8366541518953358,
          -1.4756852125807234,
          0.4342292402110419,
          1.011375246477727,
          -0.03237677526662315,
          -1.5922206232981653,
          0.6801877876131237,
          -0.7609471783218504,
          -0.8953247315868167,
          -0.8918628114730981,
          1.0853164431965339,
          0.59632343162454,
          0.8326872866933389,
          -0.7875772856791142,
          0.23904939197822037,
          0.27233819891138294,
          2.158220785969478,
          -0.8047814973479522,
          1.1371537496974125,
          0.37714487561804827,
          0.3331136636808223,
          -1.1681919120199784,
          -0.6764021446986844,
          -0.6205998252229585,
          0.1125284868564861,
          0.15957840800580372,
          1.5188194312814423,
          1.4089987295870168,
          0.10312109310131272,
          -0.8695305524847472,
          -1.0332649555822395,
          0.1949052313930126,
          0.529649175782848,
          -2.461728343380069,
          -0.6476436240576234,
          -1.5830176874090964,
          0.1823987199377903,
          -0.7353989000653937,
          -0.3265920569485933,
          0.14176988754621792,
          -0.12049426897958981,
          -0.07429772129139557,
          0.5858574165205841,
          0.6742532264468089,
          -1.039742973706262,
          -0.10441732330559937,
          0.13297570250755156,
          0.35675827309400593,
          0.5429576605960009,
          0.8481299972917296,
          -1.269197745394751,
          -0.063424522296274
         ],
         "xaxis": "x7",
         "y": [
          1.102553266001446,
          0.07003004352789324,
          0.5810101219197732,
          -1.9203120747377667,
          0.7532931016641667,
          -1.8337590115007922,
          0.3096264931476165,
          0.6393282156170463,
          -0.798725006016867,
          0.5417207731363791,
          -0.4239424069146018,
          -0.41392400709499866,
          0.08559850853532823,
          0.9093550061070701,
          -0.7280430808263331,
          -0.6824589540078425,
          0.28090931380191964,
          -0.3319007037857765,
          -1.6667158346606188,
          1.6130909499660644,
          -0.29661045750111187,
          0.03900350809678387,
          -1.071474539376231,
          1.5231277410687434,
          -0.5079840148181424,
          -0.25873323295644196,
          0.824139139298492,
          -0.7159802359304246,
          0.0625797583586818,
          -0.3284807894012514,
          1.8955312299431808,
          0.19648109599776153,
          -0.7495227570633665,
          -0.4242023122477403,
          0.3280281720357379,
          1.286964003251896,
          0.5657468540102697,
          1.3689612247632001,
          -0.14350400521153903,
          0.4957019813435518,
          -0.15271765262681536,
          0.6806210533160196,
          -0.10168526735020109,
          -0.5982519315647606,
          -0.6749402596978042,
          0.9702043432759824,
          0.1819894336902613,
          0.5985343656147386,
          0.8340920172057208,
          -0.3702418957397792,
          -0.846857106926398,
          1.0311250582516243,
          0.5008522513259931,
          0.3365768679120584,
          1.7121320739187826,
          0.5117482937902189,
          -1.8244623092300802,
          0.4321066066002589,
          -1.4421686853378737,
          0.19790900585090146,
          0.5589783024737872,
          1.7182668640964827,
          1.315239011718634,
          1.7541664056342483,
          1.0824383076378559,
          0.22308066904734622,
          0.19192596158254535,
          -0.6642502185333556,
          -1.233927505323582,
          -0.5150258836486774,
          0.7724192205916995,
          -1.539246559652809,
          -0.3441725530827281,
          -1.294768684186355,
          2.1510598274343513,
          -0.43919021706940076,
          0.7869812774679221,
          -0.2659664510423569,
          -0.178614785666635,
          0.7088802171641168,
          -0.8127121234339456,
          0.2522994859088976,
          -0.8830069315654053,
          -0.035996353631033304,
          -0.09755848244586804,
          -1.1402570557997063,
          1.0168044017244504,
          0.19659128228813155,
          0.657835318268974,
          -1.6522321435881624,
          -0.7204032750503859,
          -2.0365700276099843,
          0.42548498076418545,
          -1.198762076198404,
          -0.08761184598444494,
          0.38108581263880736,
          -0.41153334539835307,
          -0.3198757873724358,
          -1.7491866397945144,
          0.06285634871996862
         ],
         "yaxis": "y7"
        },
        {
         "line": {
          "color": "rgba(128, 128, 128, 1.0)",
          "dash": "solid",
          "shape": "linear",
          "width": 1.3
         },
         "marker": {
          "size": 2,
          "symbol": "circle"
         },
         "mode": "markers",
         "name": "B",
         "text": "",
         "type": "scatter",
         "x": [
          -0.3876351538192493,
          -0.8296571219705642,
          -0.9666359010560744,
          -0.27252610137131583,
          0.29024583738250814,
          0.026293118578263032,
          0.1809630272451399,
          0.724968679915043,
          0.31262232066408185,
          -1.017825673956993,
          1.3696921307512595,
          1.3775889124639769,
          1.241098369180556,
          -0.6990524380989664,
          1.4747367236717397,
          0.5798228850293702,
          -1.036380740783406,
          0.8608894323795349,
          0.16714974846456593,
          0.6891428351484585,
          2.307597149763561,
          -0.19384362150846227,
          0.4411638735799402,
          0.9467707643346768,
          1.1935611200206604,
          -1.2082823855441158,
          -1.450893573650019,
          -0.9388907679342247,
          -0.44626964981179124,
          -1.29486767365812,
          0.20713729662405478,
          -0.6221414037699228,
          -0.6351880928477655,
          0.6098282530454491,
          0.3560243596805245,
          -0.38101026326892906,
          0.16960331543066987,
          0.7725812733389487,
          0.3193672008945128,
          0.12481433995434044,
          -1.2285353784601412,
          -0.712473629988644,
          -0.640186135196878,
          0.24458816789031673,
          -1.0113584036999896,
          -1.0728721448384266,
          -0.9952399420140805,
          -0.893786982521726,
          -1.0197858726369542,
          1.7919412297704587,
          0.9131794048060983,
          0.9294387718396656,
          -0.7863980384807477,
          1.4703071359742637,
          -0.764805697844493,
          1.4842095823819974,
          0.16197078331900475,
          -0.9523819336524822,
          0.1161357605797125,
          0.332018726360375,
          0.3978741352435876,
          1.3556320140950224,
          -0.28575551342641087,
          0.8874988150562103,
          0.09126583288734684,
          -0.30523257816122823,
          0.4873327207221328,
          0.6267538228082257,
          0.6503644344585291,
          0.9419861828588326,
          0.4761434464155009,
          -1.642093716172821,
          0.9462974435287662,
          2.245208081719052,
          -0.6545076564710867,
          -1.0415956371009087,
          -1.2618471555939805,
          -1.5595520204931115,
          1.0968150847773313,
          1.870688624312931,
          -0.36630708128034223,
          0.5029843940902577,
          0.21729457633436644,
          1.1515070541079988,
          -0.2853792863872244,
          0.19130556138435756,
          1.2119821642251132,
          0.35848705096098443,
          -0.004269602293290566,
          -0.02831173558559384,
          1.3307159916456643,
          -0.11626202059381414,
          0.13217089093742912,
          -0.930755324831226,
          -0.8022217937210094,
          0.14292601668996605,
          0.5585494252446102,
          -0.5067800112656453,
          0.18540048779486654,
          0.4483455209106131
         ],
         "xaxis": "x8",
         "y": [
          1.102553266001446,
          0.07003004352789324,
          0.5810101219197732,
          -1.9203120747377667,
          0.7532931016641667,
          -1.8337590115007922,
          0.3096264931476165,
          0.6393282156170463,
          -0.798725006016867,
          0.5417207731363791,
          -0.4239424069146018,
          -0.41392400709499866,
          0.08559850853532823,
          0.9093550061070701,
          -0.7280430808263331,
          -0.6824589540078425,
          0.28090931380191964,
          -0.3319007037857765,
          -1.6667158346606188,
          1.6130909499660644,
          -0.29661045750111187,
          0.03900350809678387,
          -1.071474539376231,
          1.5231277410687434,
          -0.5079840148181424,
          -0.25873323295644196,
          0.824139139298492,
          -0.7159802359304246,
          0.0625797583586818,
          -0.3284807894012514,
          1.8955312299431808,
          0.19648109599776153,
          -0.7495227570633665,
          -0.4242023122477403,
          0.3280281720357379,
          1.286964003251896,
          0.5657468540102697,
          1.3689612247632001,
          -0.14350400521153903,
          0.4957019813435518,
          -0.15271765262681536,
          0.6806210533160196,
          -0.10168526735020109,
          -0.5982519315647606,
          -0.6749402596978042,
          0.9702043432759824,
          0.1819894336902613,
          0.5985343656147386,
          0.8340920172057208,
          -0.3702418957397792,
          -0.846857106926398,
          1.0311250582516243,
          0.5008522513259931,
          0.3365768679120584,
          1.7121320739187826,
          0.5117482937902189,
          -1.8244623092300802,
          0.4321066066002589,
          -1.4421686853378737,
          0.19790900585090146,
          0.5589783024737872,
          1.7182668640964827,
          1.315239011718634,
          1.7541664056342483,
          1.0824383076378559,
          0.22308066904734622,
          0.19192596158254535,
          -0.6642502185333556,
          -1.233927505323582,
          -0.5150258836486774,
          0.7724192205916995,
          -1.539246559652809,
          -0.3441725530827281,
          -1.294768684186355,
          2.1510598274343513,
          -0.43919021706940076,
          0.7869812774679221,
          -0.2659664510423569,
          -0.178614785666635,
          0.7088802171641168,
          -0.8127121234339456,
          0.2522994859088976,
          -0.8830069315654053,
          -0.035996353631033304,
          -0.09755848244586804,
          -1.1402570557997063,
          1.0168044017244504,
          0.19659128228813155,
          0.657835318268974,
          -1.6522321435881624,
          -0.7204032750503859,
          -2.0365700276099843,
          0.42548498076418545,
          -1.198762076198404,
          -0.08761184598444494,
          0.38108581263880736,
          -0.41153334539835307,
          -0.3198757873724358,
          -1.7491866397945144,
          0.06285634871996862
         ],
         "yaxis": "y8"
        },
        {
         "line": {
          "color": "rgba(128, 128, 128, 1.0)",
          "dash": "solid",
          "shape": "linear",
          "width": 1.3
         },
         "marker": {
          "size": 2,
          "symbol": "circle"
         },
         "mode": "markers",
         "name": "C",
         "text": "",
         "type": "scatter",
         "x": [
          1.6390172210782112,
          0.35036309608803734,
          0.005345251605557072,
          -1.007168582401739,
          0.6064372360595194,
          -0.8559716524754347,
          -0.29295931013977455,
          0.11469913509520363,
          -0.7523106090575572,
          -0.195634901571466,
          -0.5404692462016839,
          -1.3120969565229128,
          1.1111884746332532,
          -1.4563221199532441,
          -0.4000778003521611,
          -1.4451703461721117,
          -1.363231315990348,
          0.658342303654108,
          0.8786515409349503,
          -1.5086797797943805,
          -0.5725951421783421,
          -2.9521790062884317,
          0.8107187720350392,
          -2.519087609499849,
          0.6896584787258254,
          0.6435745175482077,
          -1.2000336887451124,
          0.34086045864628756,
          0.2654469043662446,
          -0.07746292037022126,
          0.8630843825610846,
          1.0891490140181523,
          -1.9524223419631697,
          0.6858617659955623,
          0.2883834504425376,
          0.20911482004677523,
          0.5299742543623438,
          1.1327845046858638,
          -0.7251055108060356,
          1.2135193055712752,
          2.300244842789878,
          -0.738390301241366,
          0.05291785180475275,
          -3.4709290329743743,
          0.5977833494136633,
          0.14110732006113477,
          -0.5840013368991821,
          0.004953715931068007,
          -1.223861385225602,
          0.6190924457254161,
          0.039732403047753204,
          1.425699337352612,
          0.44876455422443184,
          1.0781702197003584,
          1.6736082013851366,
          0.13414414323520682,
          -0.049714591234064916,
          1.5718612497436992,
          -0.488626681795911,
          -1.0745094634783077,
          0.010835515648132663,
          0.7740169127901401,
          -0.6426873875675859,
          -0.9754780684816817,
          0.5529827758798664,
          -1.0672963254082246,
          -0.04456852341750004,
          0.7692202067160016,
          1.2321144828985524,
          0.1433419894687381,
          -0.2909362098687318,
          -0.47267633317745456,
          1.7972382007227412,
          0.21805988911238225,
          -0.009552893266460817,
          1.3467405298885615,
          1.585402040037534,
          -0.4229297524139318,
          -0.3769072295415943,
          -0.3270199703308662,
          -1.6570808165725148,
          -0.12574749288277748,
          -0.6176444759289953,
          0.7439988726600845,
          0.24613374285765183,
          0.38947090242920723,
          1.6723019786775943,
          -0.41963702796672747,
          0.9047373455383958,
          -0.017673105582772474,
          -1.0170416703023462,
          -0.19324125760756355,
          -1.2503224511053932,
          -2.1470424425254766,
          1.0221779062477727,
          -2.5065738171228205,
          -0.05963337005966899,
          0.47649356521775404,
          1.4276528138041606,
          -0.32425457930617246
         ],
         "xaxis": "x9",
         "y": [
          -1.2360563498264105,
          1.3159246155540758,
          -1.0482603162166566,
          0.9432616197698795,
          0.10949886162246518,
          0.5313438139599458,
          -1.3552785017281528,
          0.12462285062562888,
          -0.4889671456360796,
          -1.7262254043755738,
          -0.4727441117244799,
          2.23016733519551,
          -1.5116922783089672,
          1.0497036131393698,
          -0.3470306443121238,
          -0.075443785828641,
          -1.4295392830009814,
          -0.30124193344180233,
          -1.3677720811705105,
          -0.8353199309143495,
          0.25656687810902506,
          0.19032657870124028,
          0.5197559209704815,
          1.921351175003571,
          0.08679678567510596,
          -1.036855853984869,
          -0.48260313794125065,
          1.0669390875077744,
          -0.4998410973231635,
          1.4813675874982553,
          -2.08755006932975,
          1.4705101950570325,
          1.1456828682182947,
          -0.08809791636786443,
          -1.030893766505458,
          -0.7555175682912136,
          0.07260594299456122,
          2.2148128286809285,
          0.32373193348590285,
          0.5022243710604071,
          1.0403970950093342,
          0.4917850418417762,
          1.9661347817075387,
          -0.5731101043316489,
          -0.20878340179099592,
          -0.5022600886571217,
          0.767888524172614,
          -0.05836163111324807,
          -0.8366541518953358,
          -1.4756852125807234,
          0.4342292402110419,
          1.011375246477727,
          -0.03237677526662315,
          -1.5922206232981653,
          0.6801877876131237,
          -0.7609471783218504,
          -0.8953247315868167,
          -0.8918628114730981,
          1.0853164431965339,
          0.59632343162454,
          0.8326872866933389,
          -0.7875772856791142,
          0.23904939197822037,
          0.27233819891138294,
          2.158220785969478,
          -0.8047814973479522,
          1.1371537496974125,
          0.37714487561804827,
          0.3331136636808223,
          -1.1681919120199784,
          -0.6764021446986844,
          -0.6205998252229585,
          0.1125284868564861,
          0.15957840800580372,
          1.5188194312814423,
          1.4089987295870168,
          0.10312109310131272,
          -0.8695305524847472,
          -1.0332649555822395,
          0.1949052313930126,
          0.529649175782848,
          -2.461728343380069,
          -0.6476436240576234,
          -1.5830176874090964,
          0.1823987199377903,
          -0.7353989000653937,
          -0.3265920569485933,
          0.14176988754621792,
          -0.12049426897958981,
          -0.07429772129139557,
          0.5858574165205841,
          0.6742532264468089,
          -1.039742973706262,
          -0.10441732330559937,
          0.13297570250755156,
          0.35675827309400593,
          0.5429576605960009,
          0.8481299972917296,
          -1.269197745394751,
          -0.063424522296274
         ],
         "yaxis": "y9"
        },
        {
         "line": {
          "color": "rgba(128, 128, 128, 1.0)",
          "dash": "solid",
          "shape": "linear",
          "width": 1.3
         },
         "marker": {
          "size": 2,
          "symbol": "circle"
         },
         "mode": "markers",
         "name": "C",
         "text": "",
         "type": "scatter",
         "x": [
          1.102553266001446,
          0.07003004352789324,
          0.5810101219197732,
          -1.9203120747377667,
          0.7532931016641667,
          -1.8337590115007922,
          0.3096264931476165,
          0.6393282156170463,
          -0.798725006016867,
          0.5417207731363791,
          -0.4239424069146018,
          -0.41392400709499866,
          0.08559850853532823,
          0.9093550061070701,
          -0.7280430808263331,
          -0.6824589540078425,
          0.28090931380191964,
          -0.3319007037857765,
          -1.6667158346606188,
          1.6130909499660644,
          -0.29661045750111187,
          0.03900350809678387,
          -1.071474539376231,
          1.5231277410687434,
          -0.5079840148181424,
          -0.25873323295644196,
          0.824139139298492,
          -0.7159802359304246,
          0.0625797583586818,
          -0.3284807894012514,
          1.8955312299431808,
          0.19648109599776153,
          -0.7495227570633665,
          -0.4242023122477403,
          0.3280281720357379,
          1.286964003251896,
          0.5657468540102697,
          1.3689612247632001,
          -0.14350400521153903,
          0.4957019813435518,
          -0.15271765262681536,
          0.6806210533160196,
          -0.10168526735020109,
          -0.5982519315647606,
          -0.6749402596978042,
          0.9702043432759824,
          0.1819894336902613,
          0.5985343656147386,
          0.8340920172057208,
          -0.3702418957397792,
          -0.846857106926398,
          1.0311250582516243,
          0.5008522513259931,
          0.3365768679120584,
          1.7121320739187826,
          0.5117482937902189,
          -1.8244623092300802,
          0.4321066066002589,
          -1.4421686853378737,
          0.19790900585090146,
          0.5589783024737872,
          1.7182668640964827,
          1.315239011718634,
          1.7541664056342483,
          1.0824383076378559,
          0.22308066904734622,
          0.19192596158254535,
          -0.6642502185333556,
          -1.233927505323582,
          -0.5150258836486774,
          0.7724192205916995,
          -1.539246559652809,
          -0.3441725530827281,
          -1.294768684186355,
          2.1510598274343513,
          -0.43919021706940076,
          0.7869812774679221,
          -0.2659664510423569,
          -0.178614785666635,
          0.7088802171641168,
          -0.8127121234339456,
          0.2522994859088976,
          -0.8830069315654053,
          -0.035996353631033304,
          -0.09755848244586804,
          -1.1402570557997063,
          1.0168044017244504,
          0.19659128228813155,
          0.657835318268974,
          -1.6522321435881624,
          -0.7204032750503859,
          -2.0365700276099843,
          0.42548498076418545,
          -1.198762076198404,
          -0.08761184598444494,
          0.38108581263880736,
          -0.41153334539835307,
          -0.3198757873724358,
          -1.7491866397945144,
          0.06285634871996862
         ],
         "xaxis": "x10",
         "y": [
          -1.2360563498264105,
          1.3159246155540758,
          -1.0482603162166566,
          0.9432616197698795,
          0.10949886162246518,
          0.5313438139599458,
          -1.3552785017281528,
          0.12462285062562888,
          -0.4889671456360796,
          -1.7262254043755738,
          -0.4727441117244799,
          2.23016733519551,
          -1.5116922783089672,
          1.0497036131393698,
          -0.3470306443121238,
          -0.075443785828641,
          -1.4295392830009814,
          -0.30124193344180233,
          -1.3677720811705105,
          -0.8353199309143495,
          0.25656687810902506,
          0.19032657870124028,
          0.5197559209704815,
          1.921351175003571,
          0.08679678567510596,
          -1.036855853984869,
          -0.48260313794125065,
          1.0669390875077744,
          -0.4998410973231635,
          1.4813675874982553,
          -2.08755006932975,
          1.4705101950570325,
          1.1456828682182947,
          -0.08809791636786443,
          -1.030893766505458,
          -0.7555175682912136,
          0.07260594299456122,
          2.2148128286809285,
          0.32373193348590285,
          0.5022243710604071,
          1.0403970950093342,
          0.4917850418417762,
          1.9661347817075387,
          -0.5731101043316489,
          -0.20878340179099592,
          -0.5022600886571217,
          0.767888524172614,
          -0.05836163111324807,
          -0.8366541518953358,
          -1.4756852125807234,
          0.4342292402110419,
          1.011375246477727,
          -0.03237677526662315,
          -1.5922206232981653,
          0.6801877876131237,
          -0.7609471783218504,
          -0.8953247315868167,
          -0.8918628114730981,
          1.0853164431965339,
          0.59632343162454,
          0.8326872866933389,
          -0.7875772856791142,
          0.23904939197822037,
          0.27233819891138294,
          2.158220785969478,
          -0.8047814973479522,
          1.1371537496974125,
          0.37714487561804827,
          0.3331136636808223,
          -1.1681919120199784,
          -0.6764021446986844,
          -0.6205998252229585,
          0.1125284868564861,
          0.15957840800580372,
          1.5188194312814423,
          1.4089987295870168,
          0.10312109310131272,
          -0.8695305524847472,
          -1.0332649555822395,
          0.1949052313930126,
          0.529649175782848,
          -2.461728343380069,
          -0.6476436240576234,
          -1.5830176874090964,
          0.1823987199377903,
          -0.7353989000653937,
          -0.3265920569485933,
          0.14176988754621792,
          -0.12049426897958981,
          -0.07429772129139557,
          0.5858574165205841,
          0.6742532264468089,
          -1.039742973706262,
          -0.10441732330559937,
          0.13297570250755156,
          0.35675827309400593,
          0.5429576605960009,
          0.8481299972917296,
          -1.269197745394751,
          -0.063424522296274
         ],
         "yaxis": "y10"
        },
        {
         "histfunc": "count",
         "histnorm": "",
         "marker": {
          "color": "rgba(50, 171, 96, 1.0)",
          "line": {
           "color": "#4D5663",
           "width": 1.3
          }
         },
         "name": "C",
         "nbinsx": 10,
         "opacity": 0.8,
         "orientation": "v",
         "type": "histogram",
         "x": [
          -1.2360563498264105,
          1.3159246155540758,
          -1.0482603162166566,
          0.9432616197698795,
          0.10949886162246518,
          0.5313438139599458,
          -1.3552785017281528,
          0.12462285062562888,
          -0.4889671456360796,
          -1.7262254043755738,
          -0.4727441117244799,
          2.23016733519551,
          -1.5116922783089672,
          1.0497036131393698,
          -0.3470306443121238,
          -0.075443785828641,
          -1.4295392830009814,
          -0.30124193344180233,
          -1.3677720811705105,
          -0.8353199309143495,
          0.25656687810902506,
          0.19032657870124028,
          0.5197559209704815,
          1.921351175003571,
          0.08679678567510596,
          -1.036855853984869,
          -0.48260313794125065,
          1.0669390875077744,
          -0.4998410973231635,
          1.4813675874982553,
          -2.08755006932975,
          1.4705101950570325,
          1.1456828682182947,
          -0.08809791636786443,
          -1.030893766505458,
          -0.7555175682912136,
          0.07260594299456122,
          2.2148128286809285,
          0.32373193348590285,
          0.5022243710604071,
          1.0403970950093342,
          0.4917850418417762,
          1.9661347817075387,
          -0.5731101043316489,
          -0.20878340179099592,
          -0.5022600886571217,
          0.767888524172614,
          -0.05836163111324807,
          -0.8366541518953358,
          -1.4756852125807234,
          0.4342292402110419,
          1.011375246477727,
          -0.03237677526662315,
          -1.5922206232981653,
          0.6801877876131237,
          -0.7609471783218504,
          -0.8953247315868167,
          -0.8918628114730981,
          1.0853164431965339,
          0.59632343162454,
          0.8326872866933389,
          -0.7875772856791142,
          0.23904939197822037,
          0.27233819891138294,
          2.158220785969478,
          -0.8047814973479522,
          1.1371537496974125,
          0.37714487561804827,
          0.3331136636808223,
          -1.1681919120199784,
          -0.6764021446986844,
          -0.6205998252229585,
          0.1125284868564861,
          0.15957840800580372,
          1.5188194312814423,
          1.4089987295870168,
          0.10312109310131272,
          -0.8695305524847472,
          -1.0332649555822395,
          0.1949052313930126,
          0.529649175782848,
          -2.461728343380069,
          -0.6476436240576234,
          -1.5830176874090964,
          0.1823987199377903,
          -0.7353989000653937,
          -0.3265920569485933,
          0.14176988754621792,
          -0.12049426897958981,
          -0.07429772129139557,
          0.5858574165205841,
          0.6742532264468089,
          -1.039742973706262,
          -0.10441732330559937,
          0.13297570250755156,
          0.35675827309400593,
          0.5429576605960009,
          0.8481299972917296,
          -1.269197745394751,
          -0.063424522296274
         ],
         "xaxis": "x11",
         "yaxis": "y11"
        },
        {
         "line": {
          "color": "rgba(128, 128, 128, 1.0)",
          "dash": "solid",
          "shape": "linear",
          "width": 1.3
         },
         "marker": {
          "size": 2,
          "symbol": "circle"
         },
         "mode": "markers",
         "name": "C",
         "text": "",
         "type": "scatter",
         "x": [
          -0.3876351538192493,
          -0.8296571219705642,
          -0.9666359010560744,
          -0.27252610137131583,
          0.29024583738250814,
          0.026293118578263032,
          0.1809630272451399,
          0.724968679915043,
          0.31262232066408185,
          -1.017825673956993,
          1.3696921307512595,
          1.3775889124639769,
          1.241098369180556,
          -0.6990524380989664,
          1.4747367236717397,
          0.5798228850293702,
          -1.036380740783406,
          0.8608894323795349,
          0.16714974846456593,
          0.6891428351484585,
          2.307597149763561,
          -0.19384362150846227,
          0.4411638735799402,
          0.9467707643346768,
          1.1935611200206604,
          -1.2082823855441158,
          -1.450893573650019,
          -0.9388907679342247,
          -0.44626964981179124,
          -1.29486767365812,
          0.20713729662405478,
          -0.6221414037699228,
          -0.6351880928477655,
          0.6098282530454491,
          0.3560243596805245,
          -0.38101026326892906,
          0.16960331543066987,
          0.7725812733389487,
          0.3193672008945128,
          0.12481433995434044,
          -1.2285353784601412,
          -0.712473629988644,
          -0.640186135196878,
          0.24458816789031673,
          -1.0113584036999896,
          -1.0728721448384266,
          -0.9952399420140805,
          -0.893786982521726,
          -1.0197858726369542,
          1.7919412297704587,
          0.9131794048060983,
          0.9294387718396656,
          -0.7863980384807477,
          1.4703071359742637,
          -0.764805697844493,
          1.4842095823819974,
          0.16197078331900475,
          -0.9523819336524822,
          0.1161357605797125,
          0.332018726360375,
          0.3978741352435876,
          1.3556320140950224,
          -0.28575551342641087,
          0.8874988150562103,
          0.09126583288734684,
          -0.30523257816122823,
          0.4873327207221328,
          0.6267538228082257,
          0.6503644344585291,
          0.9419861828588326,
          0.4761434464155009,
          -1.642093716172821,
          0.9462974435287662,
          2.245208081719052,
          -0.6545076564710867,
          -1.0415956371009087,
          -1.2618471555939805,
          -1.5595520204931115,
          1.0968150847773313,
          1.870688624312931,
          -0.36630708128034223,
          0.5029843940902577,
          0.21729457633436644,
          1.1515070541079988,
          -0.2853792863872244,
          0.19130556138435756,
          1.2119821642251132,
          0.35848705096098443,
          -0.004269602293290566,
          -0.02831173558559384,
          1.3307159916456643,
          -0.11626202059381414,
          0.13217089093742912,
          -0.930755324831226,
          -0.8022217937210094,
          0.14292601668996605,
          0.5585494252446102,
          -0.5067800112656453,
          0.18540048779486654,
          0.4483455209106131
         ],
         "xaxis": "x12",
         "y": [
          -1.2360563498264105,
          1.3159246155540758,
          -1.0482603162166566,
          0.9432616197698795,
          0.10949886162246518,
          0.5313438139599458,
          -1.3552785017281528,
          0.12462285062562888,
          -0.4889671456360796,
          -1.7262254043755738,
          -0.4727441117244799,
          2.23016733519551,
          -1.5116922783089672,
          1.0497036131393698,
          -0.3470306443121238,
          -0.075443785828641,
          -1.4295392830009814,
          -0.30124193344180233,
          -1.3677720811705105,
          -0.8353199309143495,
          0.25656687810902506,
          0.19032657870124028,
          0.5197559209704815,
          1.921351175003571,
          0.08679678567510596,
          -1.036855853984869,
          -0.48260313794125065,
          1.0669390875077744,
          -0.4998410973231635,
          1.4813675874982553,
          -2.08755006932975,
          1.4705101950570325,
          1.1456828682182947,
          -0.08809791636786443,
          -1.030893766505458,
          -0.7555175682912136,
          0.07260594299456122,
          2.2148128286809285,
          0.32373193348590285,
          0.5022243710604071,
          1.0403970950093342,
          0.4917850418417762,
          1.9661347817075387,
          -0.5731101043316489,
          -0.20878340179099592,
          -0.5022600886571217,
          0.767888524172614,
          -0.05836163111324807,
          -0.8366541518953358,
          -1.4756852125807234,
          0.4342292402110419,
          1.011375246477727,
          -0.03237677526662315,
          -1.5922206232981653,
          0.6801877876131237,
          -0.7609471783218504,
          -0.8953247315868167,
          -0.8918628114730981,
          1.0853164431965339,
          0.59632343162454,
          0.8326872866933389,
          -0.7875772856791142,
          0.23904939197822037,
          0.27233819891138294,
          2.158220785969478,
          -0.8047814973479522,
          1.1371537496974125,
          0.37714487561804827,
          0.3331136636808223,
          -1.1681919120199784,
          -0.6764021446986844,
          -0.6205998252229585,
          0.1125284868564861,
          0.15957840800580372,
          1.5188194312814423,
          1.4089987295870168,
          0.10312109310131272,
          -0.8695305524847472,
          -1.0332649555822395,
          0.1949052313930126,
          0.529649175782848,
          -2.461728343380069,
          -0.6476436240576234,
          -1.5830176874090964,
          0.1823987199377903,
          -0.7353989000653937,
          -0.3265920569485933,
          0.14176988754621792,
          -0.12049426897958981,
          -0.07429772129139557,
          0.5858574165205841,
          0.6742532264468089,
          -1.039742973706262,
          -0.10441732330559937,
          0.13297570250755156,
          0.35675827309400593,
          0.5429576605960009,
          0.8481299972917296,
          -1.269197745394751,
          -0.063424522296274
         ],
         "yaxis": "y12"
        },
        {
         "line": {
          "color": "rgba(128, 128, 128, 1.0)",
          "dash": "solid",
          "shape": "linear",
          "width": 1.3
         },
         "marker": {
          "size": 2,
          "symbol": "circle"
         },
         "mode": "markers",
         "name": "D",
         "text": "",
         "type": "scatter",
         "x": [
          1.6390172210782112,
          0.35036309608803734,
          0.005345251605557072,
          -1.007168582401739,
          0.6064372360595194,
          -0.8559716524754347,
          -0.29295931013977455,
          0.11469913509520363,
          -0.7523106090575572,
          -0.195634901571466,
          -0.5404692462016839,
          -1.3120969565229128,
          1.1111884746332532,
          -1.4563221199532441,
          -0.4000778003521611,
          -1.4451703461721117,
          -1.363231315990348,
          0.658342303654108,
          0.8786515409349503,
          -1.5086797797943805,
          -0.5725951421783421,
          -2.9521790062884317,
          0.8107187720350392,
          -2.519087609499849,
          0.6896584787258254,
          0.6435745175482077,
          -1.2000336887451124,
          0.34086045864628756,
          0.2654469043662446,
          -0.07746292037022126,
          0.8630843825610846,
          1.0891490140181523,
          -1.9524223419631697,
          0.6858617659955623,
          0.2883834504425376,
          0.20911482004677523,
          0.5299742543623438,
          1.1327845046858638,
          -0.7251055108060356,
          1.2135193055712752,
          2.300244842789878,
          -0.738390301241366,
          0.05291785180475275,
          -3.4709290329743743,
          0.5977833494136633,
          0.14110732006113477,
          -0.5840013368991821,
          0.004953715931068007,
          -1.223861385225602,
          0.6190924457254161,
          0.039732403047753204,
          1.425699337352612,
          0.44876455422443184,
          1.0781702197003584,
          1.6736082013851366,
          0.13414414323520682,
          -0.049714591234064916,
          1.5718612497436992,
          -0.488626681795911,
          -1.0745094634783077,
          0.010835515648132663,
          0.7740169127901401,
          -0.6426873875675859,
          -0.9754780684816817,
          0.5529827758798664,
          -1.0672963254082246,
          -0.04456852341750004,
          0.7692202067160016,
          1.2321144828985524,
          0.1433419894687381,
          -0.2909362098687318,
          -0.47267633317745456,
          1.7972382007227412,
          0.21805988911238225,
          -0.009552893266460817,
          1.3467405298885615,
          1.585402040037534,
          -0.4229297524139318,
          -0.3769072295415943,
          -0.3270199703308662,
          -1.6570808165725148,
          -0.12574749288277748,
          -0.6176444759289953,
          0.7439988726600845,
          0.24613374285765183,
          0.38947090242920723,
          1.6723019786775943,
          -0.41963702796672747,
          0.9047373455383958,
          -0.017673105582772474,
          -1.0170416703023462,
          -0.19324125760756355,
          -1.2503224511053932,
          -2.1470424425254766,
          1.0221779062477727,
          -2.5065738171228205,
          -0.05963337005966899,
          0.47649356521775404,
          1.4276528138041606,
          -0.32425457930617246
         ],
         "xaxis": "x13",
         "y": [
          -0.3876351538192493,
          -0.8296571219705642,
          -0.9666359010560744,
          -0.27252610137131583,
          0.29024583738250814,
          0.026293118578263032,
          0.1809630272451399,
          0.724968679915043,
          0.31262232066408185,
          -1.017825673956993,
          1.3696921307512595,
          1.3775889124639769,
          1.241098369180556,
          -0.6990524380989664,
          1.4747367236717397,
          0.5798228850293702,
          -1.036380740783406,
          0.8608894323795349,
          0.16714974846456593,
          0.6891428351484585,
          2.307597149763561,
          -0.19384362150846227,
          0.4411638735799402,
          0.9467707643346768,
          1.1935611200206604,
          -1.2082823855441158,
          -1.450893573650019,
          -0.9388907679342247,
          -0.44626964981179124,
          -1.29486767365812,
          0.20713729662405478,
          -0.6221414037699228,
          -0.6351880928477655,
          0.6098282530454491,
          0.3560243596805245,
          -0.38101026326892906,
          0.16960331543066987,
          0.7725812733389487,
          0.3193672008945128,
          0.12481433995434044,
          -1.2285353784601412,
          -0.712473629988644,
          -0.640186135196878,
          0.24458816789031673,
          -1.0113584036999896,
          -1.0728721448384266,
          -0.9952399420140805,
          -0.893786982521726,
          -1.0197858726369542,
          1.7919412297704587,
          0.9131794048060983,
          0.9294387718396656,
          -0.7863980384807477,
          1.4703071359742637,
          -0.764805697844493,
          1.4842095823819974,
          0.16197078331900475,
          -0.9523819336524822,
          0.1161357605797125,
          0.332018726360375,
          0.3978741352435876,
          1.3556320140950224,
          -0.28575551342641087,
          0.8874988150562103,
          0.09126583288734684,
          -0.30523257816122823,
          0.4873327207221328,
          0.6267538228082257,
          0.6503644344585291,
          0.9419861828588326,
          0.4761434464155009,
          -1.642093716172821,
          0.9462974435287662,
          2.245208081719052,
          -0.6545076564710867,
          -1.0415956371009087,
          -1.2618471555939805,
          -1.5595520204931115,
          1.0968150847773313,
          1.870688624312931,
          -0.36630708128034223,
          0.5029843940902577,
          0.21729457633436644,
          1.1515070541079988,
          -0.2853792863872244,
          0.19130556138435756,
          1.2119821642251132,
          0.35848705096098443,
          -0.004269602293290566,
          -0.02831173558559384,
          1.3307159916456643,
          -0.11626202059381414,
          0.13217089093742912,
          -0.930755324831226,
          -0.8022217937210094,
          0.14292601668996605,
          0.5585494252446102,
          -0.5067800112656453,
          0.18540048779486654,
          0.4483455209106131
         ],
         "yaxis": "y13"
        },
        {
         "line": {
          "color": "rgba(128, 128, 128, 1.0)",
          "dash": "solid",
          "shape": "linear",
          "width": 1.3
         },
         "marker": {
          "size": 2,
          "symbol": "circle"
         },
         "mode": "markers",
         "name": "D",
         "text": "",
         "type": "scatter",
         "x": [
          1.102553266001446,
          0.07003004352789324,
          0.5810101219197732,
          -1.9203120747377667,
          0.7532931016641667,
          -1.8337590115007922,
          0.3096264931476165,
          0.6393282156170463,
          -0.798725006016867,
          0.5417207731363791,
          -0.4239424069146018,
          -0.41392400709499866,
          0.08559850853532823,
          0.9093550061070701,
          -0.7280430808263331,
          -0.6824589540078425,
          0.28090931380191964,
          -0.3319007037857765,
          -1.6667158346606188,
          1.6130909499660644,
          -0.29661045750111187,
          0.03900350809678387,
          -1.071474539376231,
          1.5231277410687434,
          -0.5079840148181424,
          -0.25873323295644196,
          0.824139139298492,
          -0.7159802359304246,
          0.0625797583586818,
          -0.3284807894012514,
          1.8955312299431808,
          0.19648109599776153,
          -0.7495227570633665,
          -0.4242023122477403,
          0.3280281720357379,
          1.286964003251896,
          0.5657468540102697,
          1.3689612247632001,
          -0.14350400521153903,
          0.4957019813435518,
          -0.15271765262681536,
          0.6806210533160196,
          -0.10168526735020109,
          -0.5982519315647606,
          -0.6749402596978042,
          0.9702043432759824,
          0.1819894336902613,
          0.5985343656147386,
          0.8340920172057208,
          -0.3702418957397792,
          -0.846857106926398,
          1.0311250582516243,
          0.5008522513259931,
          0.3365768679120584,
          1.7121320739187826,
          0.5117482937902189,
          -1.8244623092300802,
          0.4321066066002589,
          -1.4421686853378737,
          0.19790900585090146,
          0.5589783024737872,
          1.7182668640964827,
          1.315239011718634,
          1.7541664056342483,
          1.0824383076378559,
          0.22308066904734622,
          0.19192596158254535,
          -0.6642502185333556,
          -1.233927505323582,
          -0.5150258836486774,
          0.7724192205916995,
          -1.539246559652809,
          -0.3441725530827281,
          -1.294768684186355,
          2.1510598274343513,
          -0.43919021706940076,
          0.7869812774679221,
          -0.2659664510423569,
          -0.178614785666635,
          0.7088802171641168,
          -0.8127121234339456,
          0.2522994859088976,
          -0.8830069315654053,
          -0.035996353631033304,
          -0.09755848244586804,
          -1.1402570557997063,
          1.0168044017244504,
          0.19659128228813155,
          0.657835318268974,
          -1.6522321435881624,
          -0.7204032750503859,
          -2.0365700276099843,
          0.42548498076418545,
          -1.198762076198404,
          -0.08761184598444494,
          0.38108581263880736,
          -0.41153334539835307,
          -0.3198757873724358,
          -1.7491866397945144,
          0.06285634871996862
         ],
         "xaxis": "x14",
         "y": [
          -0.3876351538192493,
          -0.8296571219705642,
          -0.9666359010560744,
          -0.27252610137131583,
          0.29024583738250814,
          0.026293118578263032,
          0.1809630272451399,
          0.724968679915043,
          0.31262232066408185,
          -1.017825673956993,
          1.3696921307512595,
          1.3775889124639769,
          1.241098369180556,
          -0.6990524380989664,
          1.4747367236717397,
          0.5798228850293702,
          -1.036380740783406,
          0.8608894323795349,
          0.16714974846456593,
          0.6891428351484585,
          2.307597149763561,
          -0.19384362150846227,
          0.4411638735799402,
          0.9467707643346768,
          1.1935611200206604,
          -1.2082823855441158,
          -1.450893573650019,
          -0.9388907679342247,
          -0.44626964981179124,
          -1.29486767365812,
          0.20713729662405478,
          -0.6221414037699228,
          -0.6351880928477655,
          0.6098282530454491,
          0.3560243596805245,
          -0.38101026326892906,
          0.16960331543066987,
          0.7725812733389487,
          0.3193672008945128,
          0.12481433995434044,
          -1.2285353784601412,
          -0.712473629988644,
          -0.640186135196878,
          0.24458816789031673,
          -1.0113584036999896,
          -1.0728721448384266,
          -0.9952399420140805,
          -0.893786982521726,
          -1.0197858726369542,
          1.7919412297704587,
          0.9131794048060983,
          0.9294387718396656,
          -0.7863980384807477,
          1.4703071359742637,
          -0.764805697844493,
          1.4842095823819974,
          0.16197078331900475,
          -0.9523819336524822,
          0.1161357605797125,
          0.332018726360375,
          0.3978741352435876,
          1.3556320140950224,
          -0.28575551342641087,
          0.8874988150562103,
          0.09126583288734684,
          -0.30523257816122823,
          0.4873327207221328,
          0.6267538228082257,
          0.6503644344585291,
          0.9419861828588326,
          0.4761434464155009,
          -1.642093716172821,
          0.9462974435287662,
          2.245208081719052,
          -0.6545076564710867,
          -1.0415956371009087,
          -1.2618471555939805,
          -1.5595520204931115,
          1.0968150847773313,
          1.870688624312931,
          -0.36630708128034223,
          0.5029843940902577,
          0.21729457633436644,
          1.1515070541079988,
          -0.2853792863872244,
          0.19130556138435756,
          1.2119821642251132,
          0.35848705096098443,
          -0.004269602293290566,
          -0.02831173558559384,
          1.3307159916456643,
          -0.11626202059381414,
          0.13217089093742912,
          -0.930755324831226,
          -0.8022217937210094,
          0.14292601668996605,
          0.5585494252446102,
          -0.5067800112656453,
          0.18540048779486654,
          0.4483455209106131
         ],
         "yaxis": "y14"
        },
        {
         "line": {
          "color": "rgba(128, 128, 128, 1.0)",
          "dash": "solid",
          "shape": "linear",
          "width": 1.3
         },
         "marker": {
          "size": 2,
          "symbol": "circle"
         },
         "mode": "markers",
         "name": "D",
         "text": "",
         "type": "scatter",
         "x": [
          -1.2360563498264105,
          1.3159246155540758,
          -1.0482603162166566,
          0.9432616197698795,
          0.10949886162246518,
          0.5313438139599458,
          -1.3552785017281528,
          0.12462285062562888,
          -0.4889671456360796,
          -1.7262254043755738,
          -0.4727441117244799,
          2.23016733519551,
          -1.5116922783089672,
          1.0497036131393698,
          -0.3470306443121238,
          -0.075443785828641,
          -1.4295392830009814,
          -0.30124193344180233,
          -1.3677720811705105,
          -0.8353199309143495,
          0.25656687810902506,
          0.19032657870124028,
          0.5197559209704815,
          1.921351175003571,
          0.08679678567510596,
          -1.036855853984869,
          -0.48260313794125065,
          1.0669390875077744,
          -0.4998410973231635,
          1.4813675874982553,
          -2.08755006932975,
          1.4705101950570325,
          1.1456828682182947,
          -0.08809791636786443,
          -1.030893766505458,
          -0.7555175682912136,
          0.07260594299456122,
          2.2148128286809285,
          0.32373193348590285,
          0.5022243710604071,
          1.0403970950093342,
          0.4917850418417762,
          1.9661347817075387,
          -0.5731101043316489,
          -0.20878340179099592,
          -0.5022600886571217,
          0.767888524172614,
          -0.05836163111324807,
          -0.8366541518953358,
          -1.4756852125807234,
          0.4342292402110419,
          1.011375246477727,
          -0.03237677526662315,
          -1.5922206232981653,
          0.6801877876131237,
          -0.7609471783218504,
          -0.8953247315868167,
          -0.8918628114730981,
          1.0853164431965339,
          0.59632343162454,
          0.8326872866933389,
          -0.7875772856791142,
          0.23904939197822037,
          0.27233819891138294,
          2.158220785969478,
          -0.8047814973479522,
          1.1371537496974125,
          0.37714487561804827,
          0.3331136636808223,
          -1.1681919120199784,
          -0.6764021446986844,
          -0.6205998252229585,
          0.1125284868564861,
          0.15957840800580372,
          1.5188194312814423,
          1.4089987295870168,
          0.10312109310131272,
          -0.8695305524847472,
          -1.0332649555822395,
          0.1949052313930126,
          0.529649175782848,
          -2.461728343380069,
          -0.6476436240576234,
          -1.5830176874090964,
          0.1823987199377903,
          -0.7353989000653937,
          -0.3265920569485933,
          0.14176988754621792,
          -0.12049426897958981,
          -0.07429772129139557,
          0.5858574165205841,
          0.6742532264468089,
          -1.039742973706262,
          -0.10441732330559937,
          0.13297570250755156,
          0.35675827309400593,
          0.5429576605960009,
          0.8481299972917296,
          -1.269197745394751,
          -0.063424522296274
         ],
         "xaxis": "x15",
         "y": [
          -0.3876351538192493,
          -0.8296571219705642,
          -0.9666359010560744,
          -0.27252610137131583,
          0.29024583738250814,
          0.026293118578263032,
          0.1809630272451399,
          0.724968679915043,
          0.31262232066408185,
          -1.017825673956993,
          1.3696921307512595,
          1.3775889124639769,
          1.241098369180556,
          -0.6990524380989664,
          1.4747367236717397,
          0.5798228850293702,
          -1.036380740783406,
          0.8608894323795349,
          0.16714974846456593,
          0.6891428351484585,
          2.307597149763561,
          -0.19384362150846227,
          0.4411638735799402,
          0.9467707643346768,
          1.1935611200206604,
          -1.2082823855441158,
          -1.450893573650019,
          -0.9388907679342247,
          -0.44626964981179124,
          -1.29486767365812,
          0.20713729662405478,
          -0.6221414037699228,
          -0.6351880928477655,
          0.6098282530454491,
          0.3560243596805245,
          -0.38101026326892906,
          0.16960331543066987,
          0.7725812733389487,
          0.3193672008945128,
          0.12481433995434044,
          -1.2285353784601412,
          -0.712473629988644,
          -0.640186135196878,
          0.24458816789031673,
          -1.0113584036999896,
          -1.0728721448384266,
          -0.9952399420140805,
          -0.893786982521726,
          -1.0197858726369542,
          1.7919412297704587,
          0.9131794048060983,
          0.9294387718396656,
          -0.7863980384807477,
          1.4703071359742637,
          -0.764805697844493,
          1.4842095823819974,
          0.16197078331900475,
          -0.9523819336524822,
          0.1161357605797125,
          0.332018726360375,
          0.3978741352435876,
          1.3556320140950224,
          -0.28575551342641087,
          0.8874988150562103,
          0.09126583288734684,
          -0.30523257816122823,
          0.4873327207221328,
          0.6267538228082257,
          0.6503644344585291,
          0.9419861828588326,
          0.4761434464155009,
          -1.642093716172821,
          0.9462974435287662,
          2.245208081719052,
          -0.6545076564710867,
          -1.0415956371009087,
          -1.2618471555939805,
          -1.5595520204931115,
          1.0968150847773313,
          1.870688624312931,
          -0.36630708128034223,
          0.5029843940902577,
          0.21729457633436644,
          1.1515070541079988,
          -0.2853792863872244,
          0.19130556138435756,
          1.2119821642251132,
          0.35848705096098443,
          -0.004269602293290566,
          -0.02831173558559384,
          1.3307159916456643,
          -0.11626202059381414,
          0.13217089093742912,
          -0.930755324831226,
          -0.8022217937210094,
          0.14292601668996605,
          0.5585494252446102,
          -0.5067800112656453,
          0.18540048779486654,
          0.4483455209106131
         ],
         "yaxis": "y15"
        },
        {
         "histfunc": "count",
         "histnorm": "",
         "marker": {
          "color": "rgba(128, 0, 128, 1.0)",
          "line": {
           "color": "#4D5663",
           "width": 1.3
          }
         },
         "name": "D",
         "nbinsx": 10,
         "opacity": 0.8,
         "orientation": "v",
         "type": "histogram",
         "x": [
          -0.3876351538192493,
          -0.8296571219705642,
          -0.9666359010560744,
          -0.27252610137131583,
          0.29024583738250814,
          0.026293118578263032,
          0.1809630272451399,
          0.724968679915043,
          0.31262232066408185,
          -1.017825673956993,
          1.3696921307512595,
          1.3775889124639769,
          1.241098369180556,
          -0.6990524380989664,
          1.4747367236717397,
          0.5798228850293702,
          -1.036380740783406,
          0.8608894323795349,
          0.16714974846456593,
          0.6891428351484585,
          2.307597149763561,
          -0.19384362150846227,
          0.4411638735799402,
          0.9467707643346768,
          1.1935611200206604,
          -1.2082823855441158,
          -1.450893573650019,
          -0.9388907679342247,
          -0.44626964981179124,
          -1.29486767365812,
          0.20713729662405478,
          -0.6221414037699228,
          -0.6351880928477655,
          0.6098282530454491,
          0.3560243596805245,
          -0.38101026326892906,
          0.16960331543066987,
          0.7725812733389487,
          0.3193672008945128,
          0.12481433995434044,
          -1.2285353784601412,
          -0.712473629988644,
          -0.640186135196878,
          0.24458816789031673,
          -1.0113584036999896,
          -1.0728721448384266,
          -0.9952399420140805,
          -0.893786982521726,
          -1.0197858726369542,
          1.7919412297704587,
          0.9131794048060983,
          0.9294387718396656,
          -0.7863980384807477,
          1.4703071359742637,
          -0.764805697844493,
          1.4842095823819974,
          0.16197078331900475,
          -0.9523819336524822,
          0.1161357605797125,
          0.332018726360375,
          0.3978741352435876,
          1.3556320140950224,
          -0.28575551342641087,
          0.8874988150562103,
          0.09126583288734684,
          -0.30523257816122823,
          0.4873327207221328,
          0.6267538228082257,
          0.6503644344585291,
          0.9419861828588326,
          0.4761434464155009,
          -1.642093716172821,
          0.9462974435287662,
          2.245208081719052,
          -0.6545076564710867,
          -1.0415956371009087,
          -1.2618471555939805,
          -1.5595520204931115,
          1.0968150847773313,
          1.870688624312931,
          -0.36630708128034223,
          0.5029843940902577,
          0.21729457633436644,
          1.1515070541079988,
          -0.2853792863872244,
          0.19130556138435756,
          1.2119821642251132,
          0.35848705096098443,
          -0.004269602293290566,
          -0.02831173558559384,
          1.3307159916456643,
          -0.11626202059381414,
          0.13217089093742912,
          -0.930755324831226,
          -0.8022217937210094,
          0.14292601668996605,
          0.5585494252446102,
          -0.5067800112656453,
          0.18540048779486654,
          0.4483455209106131
         ],
         "xaxis": "x16",
         "yaxis": "y16"
        }
       ],
       "layout": {
        "bargap": 0.02,
        "legend": {
         "bgcolor": "#F5F6F9",
         "font": {
          "color": "#4D5663"
         }
        },
        "paper_bgcolor": "#F5F6F9",
        "plot_bgcolor": "#F5F6F9",
        "showlegend": false,
        "template": {
         "data": {
          "bar": [
           {
            "error_x": {
             "color": "#2a3f5f"
            },
            "error_y": {
             "color": "#2a3f5f"
            },
            "marker": {
             "line": {
              "color": "#E5ECF6",
              "width": 0.5
             },
             "pattern": {
              "fillmode": "overlay",
              "size": 10,
              "solidity": 0.2
             }
            },
            "type": "bar"
           }
          ],
          "barpolar": [
           {
            "marker": {
             "line": {
              "color": "#E5ECF6",
              "width": 0.5
             },
             "pattern": {
              "fillmode": "overlay",
              "size": 10,
              "solidity": 0.2
             }
            },
            "type": "barpolar"
           }
          ],
          "carpet": [
           {
            "aaxis": {
             "endlinecolor": "#2a3f5f",
             "gridcolor": "white",
             "linecolor": "white",
             "minorgridcolor": "white",
             "startlinecolor": "#2a3f5f"
            },
            "baxis": {
             "endlinecolor": "#2a3f5f",
             "gridcolor": "white",
             "linecolor": "white",
             "minorgridcolor": "white",
             "startlinecolor": "#2a3f5f"
            },
            "type": "carpet"
           }
          ],
          "choropleth": [
           {
            "colorbar": {
             "outlinewidth": 0,
             "ticks": ""
            },
            "type": "choropleth"
           }
          ],
          "contour": [
           {
            "colorbar": {
             "outlinewidth": 0,
             "ticks": ""
            },
            "colorscale": [
             [
              0,
              "#0d0887"
             ],
             [
              0.1111111111111111,
              "#46039f"
             ],
             [
              0.2222222222222222,
              "#7201a8"
             ],
             [
              0.3333333333333333,
              "#9c179e"
             ],
             [
              0.4444444444444444,
              "#bd3786"
             ],
             [
              0.5555555555555556,
              "#d8576b"
             ],
             [
              0.6666666666666666,
              "#ed7953"
             ],
             [
              0.7777777777777778,
              "#fb9f3a"
             ],
             [
              0.8888888888888888,
              "#fdca26"
             ],
             [
              1,
              "#f0f921"
             ]
            ],
            "type": "contour"
           }
          ],
          "contourcarpet": [
           {
            "colorbar": {
             "outlinewidth": 0,
             "ticks": ""
            },
            "type": "contourcarpet"
           }
          ],
          "heatmap": [
           {
            "colorbar": {
             "outlinewidth": 0,
             "ticks": ""
            },
            "colorscale": [
             [
              0,
              "#0d0887"
             ],
             [
              0.1111111111111111,
              "#46039f"
             ],
             [
              0.2222222222222222,
              "#7201a8"
             ],
             [
              0.3333333333333333,
              "#9c179e"
             ],
             [
              0.4444444444444444,
              "#bd3786"
             ],
             [
              0.5555555555555556,
              "#d8576b"
             ],
             [
              0.6666666666666666,
              "#ed7953"
             ],
             [
              0.7777777777777778,
              "#fb9f3a"
             ],
             [
              0.8888888888888888,
              "#fdca26"
             ],
             [
              1,
              "#f0f921"
             ]
            ],
            "type": "heatmap"
           }
          ],
          "heatmapgl": [
           {
            "colorbar": {
             "outlinewidth": 0,
             "ticks": ""
            },
            "colorscale": [
             [
              0,
              "#0d0887"
             ],
             [
              0.1111111111111111,
              "#46039f"
             ],
             [
              0.2222222222222222,
              "#7201a8"
             ],
             [
              0.3333333333333333,
              "#9c179e"
             ],
             [
              0.4444444444444444,
              "#bd3786"
             ],
             [
              0.5555555555555556,
              "#d8576b"
             ],
             [
              0.6666666666666666,
              "#ed7953"
             ],
             [
              0.7777777777777778,
              "#fb9f3a"
             ],
             [
              0.8888888888888888,
              "#fdca26"
             ],
             [
              1,
              "#f0f921"
             ]
            ],
            "type": "heatmapgl"
           }
          ],
          "histogram": [
           {
            "marker": {
             "pattern": {
              "fillmode": "overlay",
              "size": 10,
              "solidity": 0.2
             }
            },
            "type": "histogram"
           }
          ],
          "histogram2d": [
           {
            "colorbar": {
             "outlinewidth": 0,
             "ticks": ""
            },
            "colorscale": [
             [
              0,
              "#0d0887"
             ],
             [
              0.1111111111111111,
              "#46039f"
             ],
             [
              0.2222222222222222,
              "#7201a8"
             ],
             [
              0.3333333333333333,
              "#9c179e"
             ],
             [
              0.4444444444444444,
              "#bd3786"
             ],
             [
              0.5555555555555556,
              "#d8576b"
             ],
             [
              0.6666666666666666,
              "#ed7953"
             ],
             [
              0.7777777777777778,
              "#fb9f3a"
             ],
             [
              0.8888888888888888,
              "#fdca26"
             ],
             [
              1,
              "#f0f921"
             ]
            ],
            "type": "histogram2d"
           }
          ],
          "histogram2dcontour": [
           {
            "colorbar": {
             "outlinewidth": 0,
             "ticks": ""
            },
            "colorscale": [
             [
              0,
              "#0d0887"
             ],
             [
              0.1111111111111111,
              "#46039f"
             ],
             [
              0.2222222222222222,
              "#7201a8"
             ],
             [
              0.3333333333333333,
              "#9c179e"
             ],
             [
              0.4444444444444444,
              "#bd3786"
             ],
             [
              0.5555555555555556,
              "#d8576b"
             ],
             [
              0.6666666666666666,
              "#ed7953"
             ],
             [
              0.7777777777777778,
              "#fb9f3a"
             ],
             [
              0.8888888888888888,
              "#fdca26"
             ],
             [
              1,
              "#f0f921"
             ]
            ],
            "type": "histogram2dcontour"
           }
          ],
          "mesh3d": [
           {
            "colorbar": {
             "outlinewidth": 0,
             "ticks": ""
            },
            "type": "mesh3d"
           }
          ],
          "parcoords": [
           {
            "line": {
             "colorbar": {
              "outlinewidth": 0,
              "ticks": ""
             }
            },
            "type": "parcoords"
           }
          ],
          "pie": [
           {
            "automargin": true,
            "type": "pie"
           }
          ],
          "scatter": [
           {
            "marker": {
             "colorbar": {
              "outlinewidth": 0,
              "ticks": ""
             }
            },
            "type": "scatter"
           }
          ],
          "scatter3d": [
           {
            "line": {
             "colorbar": {
              "outlinewidth": 0,
              "ticks": ""
             }
            },
            "marker": {
             "colorbar": {
              "outlinewidth": 0,
              "ticks": ""
             }
            },
            "type": "scatter3d"
           }
          ],
          "scattercarpet": [
           {
            "marker": {
             "colorbar": {
              "outlinewidth": 0,
              "ticks": ""
             }
            },
            "type": "scattercarpet"
           }
          ],
          "scattergeo": [
           {
            "marker": {
             "colorbar": {
              "outlinewidth": 0,
              "ticks": ""
             }
            },
            "type": "scattergeo"
           }
          ],
          "scattergl": [
           {
            "marker": {
             "colorbar": {
              "outlinewidth": 0,
              "ticks": ""
             }
            },
            "type": "scattergl"
           }
          ],
          "scattermapbox": [
           {
            "marker": {
             "colorbar": {
              "outlinewidth": 0,
              "ticks": ""
             }
            },
            "type": "scattermapbox"
           }
          ],
          "scatterpolar": [
           {
            "marker": {
             "colorbar": {
              "outlinewidth": 0,
              "ticks": ""
             }
            },
            "type": "scatterpolar"
           }
          ],
          "scatterpolargl": [
           {
            "marker": {
             "colorbar": {
              "outlinewidth": 0,
              "ticks": ""
             }
            },
            "type": "scatterpolargl"
           }
          ],
          "scatterternary": [
           {
            "marker": {
             "colorbar": {
              "outlinewidth": 0,
              "ticks": ""
             }
            },
            "type": "scatterternary"
           }
          ],
          "surface": [
           {
            "colorbar": {
             "outlinewidth": 0,
             "ticks": ""
            },
            "colorscale": [
             [
              0,
              "#0d0887"
             ],
             [
              0.1111111111111111,
              "#46039f"
             ],
             [
              0.2222222222222222,
              "#7201a8"
             ],
             [
              0.3333333333333333,
              "#9c179e"
             ],
             [
              0.4444444444444444,
              "#bd3786"
             ],
             [
              0.5555555555555556,
              "#d8576b"
             ],
             [
              0.6666666666666666,
              "#ed7953"
             ],
             [
              0.7777777777777778,
              "#fb9f3a"
             ],
             [
              0.8888888888888888,
              "#fdca26"
             ],
             [
              1,
              "#f0f921"
             ]
            ],
            "type": "surface"
           }
          ],
          "table": [
           {
            "cells": {
             "fill": {
              "color": "#EBF0F8"
             },
             "line": {
              "color": "white"
             }
            },
            "header": {
             "fill": {
              "color": "#C8D4E3"
             },
             "line": {
              "color": "white"
             }
            },
            "type": "table"
           }
          ]
         },
         "layout": {
          "annotationdefaults": {
           "arrowcolor": "#2a3f5f",
           "arrowhead": 0,
           "arrowwidth": 1
          },
          "autotypenumbers": "strict",
          "coloraxis": {
           "colorbar": {
            "outlinewidth": 0,
            "ticks": ""
           }
          },
          "colorscale": {
           "diverging": [
            [
             0,
             "#8e0152"
            ],
            [
             0.1,
             "#c51b7d"
            ],
            [
             0.2,
             "#de77ae"
            ],
            [
             0.3,
             "#f1b6da"
            ],
            [
             0.4,
             "#fde0ef"
            ],
            [
             0.5,
             "#f7f7f7"
            ],
            [
             0.6,
             "#e6f5d0"
            ],
            [
             0.7,
             "#b8e186"
            ],
            [
             0.8,
             "#7fbc41"
            ],
            [
             0.9,
             "#4d9221"
            ],
            [
             1,
             "#276419"
            ]
           ],
           "sequential": [
            [
             0,
             "#0d0887"
            ],
            [
             0.1111111111111111,
             "#46039f"
            ],
            [
             0.2222222222222222,
             "#7201a8"
            ],
            [
             0.3333333333333333,
             "#9c179e"
            ],
            [
             0.4444444444444444,
             "#bd3786"
            ],
            [
             0.5555555555555556,
             "#d8576b"
            ],
            [
             0.6666666666666666,
             "#ed7953"
            ],
            [
             0.7777777777777778,
             "#fb9f3a"
            ],
            [
             0.8888888888888888,
             "#fdca26"
            ],
            [
             1,
             "#f0f921"
            ]
           ],
           "sequentialminus": [
            [
             0,
             "#0d0887"
            ],
            [
             0.1111111111111111,
             "#46039f"
            ],
            [
             0.2222222222222222,
             "#7201a8"
            ],
            [
             0.3333333333333333,
             "#9c179e"
            ],
            [
             0.4444444444444444,
             "#bd3786"
            ],
            [
             0.5555555555555556,
             "#d8576b"
            ],
            [
             0.6666666666666666,
             "#ed7953"
            ],
            [
             0.7777777777777778,
             "#fb9f3a"
            ],
            [
             0.8888888888888888,
             "#fdca26"
            ],
            [
             1,
             "#f0f921"
            ]
           ]
          },
          "colorway": [
           "#636efa",
           "#EF553B",
           "#00cc96",
           "#ab63fa",
           "#FFA15A",
           "#19d3f3",
           "#FF6692",
           "#B6E880",
           "#FF97FF",
           "#FECB52"
          ],
          "font": {
           "color": "#2a3f5f"
          },
          "geo": {
           "bgcolor": "white",
           "lakecolor": "white",
           "landcolor": "#E5ECF6",
           "showlakes": true,
           "showland": true,
           "subunitcolor": "white"
          },
          "hoverlabel": {
           "align": "left"
          },
          "hovermode": "closest",
          "mapbox": {
           "style": "light"
          },
          "paper_bgcolor": "white",
          "plot_bgcolor": "#E5ECF6",
          "polar": {
           "angularaxis": {
            "gridcolor": "white",
            "linecolor": "white",
            "ticks": ""
           },
           "bgcolor": "#E5ECF6",
           "radialaxis": {
            "gridcolor": "white",
            "linecolor": "white",
            "ticks": ""
           }
          },
          "scene": {
           "xaxis": {
            "backgroundcolor": "#E5ECF6",
            "gridcolor": "white",
            "gridwidth": 2,
            "linecolor": "white",
            "showbackground": true,
            "ticks": "",
            "zerolinecolor": "white"
           },
           "yaxis": {
            "backgroundcolor": "#E5ECF6",
            "gridcolor": "white",
            "gridwidth": 2,
            "linecolor": "white",
            "showbackground": true,
            "ticks": "",
            "zerolinecolor": "white"
           },
           "zaxis": {
            "backgroundcolor": "#E5ECF6",
            "gridcolor": "white",
            "gridwidth": 2,
            "linecolor": "white",
            "showbackground": true,
            "ticks": "",
            "zerolinecolor": "white"
           }
          },
          "shapedefaults": {
           "line": {
            "color": "#2a3f5f"
           }
          },
          "ternary": {
           "aaxis": {
            "gridcolor": "white",
            "linecolor": "white",
            "ticks": ""
           },
           "baxis": {
            "gridcolor": "white",
            "linecolor": "white",
            "ticks": ""
           },
           "bgcolor": "#E5ECF6",
           "caxis": {
            "gridcolor": "white",
            "linecolor": "white",
            "ticks": ""
           }
          },
          "title": {
           "x": 0.05
          },
          "xaxis": {
           "automargin": true,
           "gridcolor": "white",
           "linecolor": "white",
           "ticks": "",
           "title": {
            "standoff": 15
           },
           "zerolinecolor": "white",
           "zerolinewidth": 2
          },
          "yaxis": {
           "automargin": true,
           "gridcolor": "white",
           "linecolor": "white",
           "ticks": "",
           "title": {
            "standoff": 15
           },
           "zerolinecolor": "white",
           "zerolinewidth": 2
          }
         }
        },
        "title": {
         "font": {
          "color": "#4D5663"
         }
        },
        "xaxis": {
         "anchor": "y",
         "domain": [
          0,
          0.2125
         ],
         "gridcolor": "#E1E5ED",
         "showgrid": false,
         "tickfont": {
          "color": "#4D5663"
         },
         "title": {
          "font": {
           "color": "#4D5663"
          },
          "text": ""
         },
         "zerolinecolor": "#E1E5ED"
        },
        "xaxis10": {
         "anchor": "y10",
         "domain": [
          0.2625,
          0.475
         ],
         "gridcolor": "#E1E5ED",
         "showgrid": false,
         "tickfont": {
          "color": "#4D5663"
         },
         "title": {
          "font": {
           "color": "#4D5663"
          },
          "text": ""
         },
         "zerolinecolor": "#E1E5ED"
        },
        "xaxis11": {
         "anchor": "y11",
         "domain": [
          0.525,
          0.7375
         ],
         "gridcolor": "#E1E5ED",
         "showgrid": false,
         "tickfont": {
          "color": "#4D5663"
         },
         "title": {
          "font": {
           "color": "#4D5663"
          },
          "text": ""
         },
         "zerolinecolor": "#E1E5ED"
        },
        "xaxis12": {
         "anchor": "y12",
         "domain": [
          0.7875,
          1
         ],
         "gridcolor": "#E1E5ED",
         "showgrid": false,
         "tickfont": {
          "color": "#4D5663"
         },
         "title": {
          "font": {
           "color": "#4D5663"
          },
          "text": ""
         },
         "zerolinecolor": "#E1E5ED"
        },
        "xaxis13": {
         "anchor": "y13",
         "domain": [
          0,
          0.2125
         ],
         "gridcolor": "#E1E5ED",
         "showgrid": false,
         "tickfont": {
          "color": "#4D5663"
         },
         "title": {
          "font": {
           "color": "#4D5663"
          },
          "text": ""
         },
         "zerolinecolor": "#E1E5ED"
        },
        "xaxis14": {
         "anchor": "y14",
         "domain": [
          0.2625,
          0.475
         ],
         "gridcolor": "#E1E5ED",
         "showgrid": false,
         "tickfont": {
          "color": "#4D5663"
         },
         "title": {
          "font": {
           "color": "#4D5663"
          },
          "text": ""
         },
         "zerolinecolor": "#E1E5ED"
        },
        "xaxis15": {
         "anchor": "y15",
         "domain": [
          0.525,
          0.7375
         ],
         "gridcolor": "#E1E5ED",
         "showgrid": false,
         "tickfont": {
          "color": "#4D5663"
         },
         "title": {
          "font": {
           "color": "#4D5663"
          },
          "text": ""
         },
         "zerolinecolor": "#E1E5ED"
        },
        "xaxis16": {
         "anchor": "y16",
         "domain": [
          0.7875,
          1
         ],
         "gridcolor": "#E1E5ED",
         "showgrid": false,
         "tickfont": {
          "color": "#4D5663"
         },
         "title": {
          "font": {
           "color": "#4D5663"
          },
          "text": ""
         },
         "zerolinecolor": "#E1E5ED"
        },
        "xaxis2": {
         "anchor": "y2",
         "domain": [
          0.2625,
          0.475
         ],
         "gridcolor": "#E1E5ED",
         "showgrid": false,
         "tickfont": {
          "color": "#4D5663"
         },
         "title": {
          "font": {
           "color": "#4D5663"
          },
          "text": ""
         },
         "zerolinecolor": "#E1E5ED"
        },
        "xaxis3": {
         "anchor": "y3",
         "domain": [
          0.525,
          0.7375
         ],
         "gridcolor": "#E1E5ED",
         "showgrid": false,
         "tickfont": {
          "color": "#4D5663"
         },
         "title": {
          "font": {
           "color": "#4D5663"
          },
          "text": ""
         },
         "zerolinecolor": "#E1E5ED"
        },
        "xaxis4": {
         "anchor": "y4",
         "domain": [
          0.7875,
          1
         ],
         "gridcolor": "#E1E5ED",
         "showgrid": false,
         "tickfont": {
          "color": "#4D5663"
         },
         "title": {
          "font": {
           "color": "#4D5663"
          },
          "text": ""
         },
         "zerolinecolor": "#E1E5ED"
        },
        "xaxis5": {
         "anchor": "y5",
         "domain": [
          0,
          0.2125
         ],
         "gridcolor": "#E1E5ED",
         "showgrid": false,
         "tickfont": {
          "color": "#4D5663"
         },
         "title": {
          "font": {
           "color": "#4D5663"
          },
          "text": ""
         },
         "zerolinecolor": "#E1E5ED"
        },
        "xaxis6": {
         "anchor": "y6",
         "domain": [
          0.2625,
          0.475
         ],
         "gridcolor": "#E1E5ED",
         "showgrid": false,
         "tickfont": {
          "color": "#4D5663"
         },
         "title": {
          "font": {
           "color": "#4D5663"
          },
          "text": ""
         },
         "zerolinecolor": "#E1E5ED"
        },
        "xaxis7": {
         "anchor": "y7",
         "domain": [
          0.525,
          0.7375
         ],
         "gridcolor": "#E1E5ED",
         "showgrid": false,
         "tickfont": {
          "color": "#4D5663"
         },
         "title": {
          "font": {
           "color": "#4D5663"
          },
          "text": ""
         },
         "zerolinecolor": "#E1E5ED"
        },
        "xaxis8": {
         "anchor": "y8",
         "domain": [
          0.7875,
          1
         ],
         "gridcolor": "#E1E5ED",
         "showgrid": false,
         "tickfont": {
          "color": "#4D5663"
         },
         "title": {
          "font": {
           "color": "#4D5663"
          },
          "text": ""
         },
         "zerolinecolor": "#E1E5ED"
        },
        "xaxis9": {
         "anchor": "y9",
         "domain": [
          0,
          0.2125
         ],
         "gridcolor": "#E1E5ED",
         "showgrid": false,
         "tickfont": {
          "color": "#4D5663"
         },
         "title": {
          "font": {
           "color": "#4D5663"
          },
          "text": ""
         },
         "zerolinecolor": "#E1E5ED"
        },
        "yaxis": {
         "anchor": "x",
         "domain": [
          0.8025,
          1
         ],
         "gridcolor": "#E1E5ED",
         "showgrid": false,
         "tickfont": {
          "color": "#4D5663"
         },
         "title": {
          "font": {
           "color": "#4D5663"
          },
          "text": ""
         },
         "zerolinecolor": "#E1E5ED"
        },
        "yaxis10": {
         "anchor": "x10",
         "domain": [
          0.2675,
          0.465
         ],
         "gridcolor": "#E1E5ED",
         "showgrid": false,
         "tickfont": {
          "color": "#4D5663"
         },
         "title": {
          "font": {
           "color": "#4D5663"
          },
          "text": ""
         },
         "zerolinecolor": "#E1E5ED"
        },
        "yaxis11": {
         "anchor": "x11",
         "domain": [
          0.2675,
          0.465
         ],
         "gridcolor": "#E1E5ED",
         "showgrid": false,
         "tickfont": {
          "color": "#4D5663"
         },
         "title": {
          "font": {
           "color": "#4D5663"
          },
          "text": ""
         },
         "zerolinecolor": "#E1E5ED"
        },
        "yaxis12": {
         "anchor": "x12",
         "domain": [
          0.2675,
          0.465
         ],
         "gridcolor": "#E1E5ED",
         "showgrid": false,
         "tickfont": {
          "color": "#4D5663"
         },
         "title": {
          "font": {
           "color": "#4D5663"
          },
          "text": ""
         },
         "zerolinecolor": "#E1E5ED"
        },
        "yaxis13": {
         "anchor": "x13",
         "domain": [
          0,
          0.1975
         ],
         "gridcolor": "#E1E5ED",
         "showgrid": false,
         "tickfont": {
          "color": "#4D5663"
         },
         "title": {
          "font": {
           "color": "#4D5663"
          },
          "text": ""
         },
         "zerolinecolor": "#E1E5ED"
        },
        "yaxis14": {
         "anchor": "x14",
         "domain": [
          0,
          0.1975
         ],
         "gridcolor": "#E1E5ED",
         "showgrid": false,
         "tickfont": {
          "color": "#4D5663"
         },
         "title": {
          "font": {
           "color": "#4D5663"
          },
          "text": ""
         },
         "zerolinecolor": "#E1E5ED"
        },
        "yaxis15": {
         "anchor": "x15",
         "domain": [
          0,
          0.1975
         ],
         "gridcolor": "#E1E5ED",
         "showgrid": false,
         "tickfont": {
          "color": "#4D5663"
         },
         "title": {
          "font": {
           "color": "#4D5663"
          },
          "text": ""
         },
         "zerolinecolor": "#E1E5ED"
        },
        "yaxis16": {
         "anchor": "x16",
         "domain": [
          0,
          0.1975
         ],
         "gridcolor": "#E1E5ED",
         "showgrid": false,
         "tickfont": {
          "color": "#4D5663"
         },
         "title": {
          "font": {
           "color": "#4D5663"
          },
          "text": ""
         },
         "zerolinecolor": "#E1E5ED"
        },
        "yaxis2": {
         "anchor": "x2",
         "domain": [
          0.8025,
          1
         ],
         "gridcolor": "#E1E5ED",
         "showgrid": false,
         "tickfont": {
          "color": "#4D5663"
         },
         "title": {
          "font": {
           "color": "#4D5663"
          },
          "text": ""
         },
         "zerolinecolor": "#E1E5ED"
        },
        "yaxis3": {
         "anchor": "x3",
         "domain": [
          0.8025,
          1
         ],
         "gridcolor": "#E1E5ED",
         "showgrid": false,
         "tickfont": {
          "color": "#4D5663"
         },
         "title": {
          "font": {
           "color": "#4D5663"
          },
          "text": ""
         },
         "zerolinecolor": "#E1E5ED"
        },
        "yaxis4": {
         "anchor": "x4",
         "domain": [
          0.8025,
          1
         ],
         "gridcolor": "#E1E5ED",
         "showgrid": false,
         "tickfont": {
          "color": "#4D5663"
         },
         "title": {
          "font": {
           "color": "#4D5663"
          },
          "text": ""
         },
         "zerolinecolor": "#E1E5ED"
        },
        "yaxis5": {
         "anchor": "x5",
         "domain": [
          0.535,
          0.7325
         ],
         "gridcolor": "#E1E5ED",
         "showgrid": false,
         "tickfont": {
          "color": "#4D5663"
         },
         "title": {
          "font": {
           "color": "#4D5663"
          },
          "text": ""
         },
         "zerolinecolor": "#E1E5ED"
        },
        "yaxis6": {
         "anchor": "x6",
         "domain": [
          0.535,
          0.7325
         ],
         "gridcolor": "#E1E5ED",
         "showgrid": false,
         "tickfont": {
          "color": "#4D5663"
         },
         "title": {
          "font": {
           "color": "#4D5663"
          },
          "text": ""
         },
         "zerolinecolor": "#E1E5ED"
        },
        "yaxis7": {
         "anchor": "x7",
         "domain": [
          0.535,
          0.7325
         ],
         "gridcolor": "#E1E5ED",
         "showgrid": false,
         "tickfont": {
          "color": "#4D5663"
         },
         "title": {
          "font": {
           "color": "#4D5663"
          },
          "text": ""
         },
         "zerolinecolor": "#E1E5ED"
        },
        "yaxis8": {
         "anchor": "x8",
         "domain": [
          0.535,
          0.7325
         ],
         "gridcolor": "#E1E5ED",
         "showgrid": false,
         "tickfont": {
          "color": "#4D5663"
         },
         "title": {
          "font": {
           "color": "#4D5663"
          },
          "text": ""
         },
         "zerolinecolor": "#E1E5ED"
        },
        "yaxis9": {
         "anchor": "x9",
         "domain": [
          0.2675,
          0.465
         ],
         "gridcolor": "#E1E5ED",
         "showgrid": false,
         "tickfont": {
          "color": "#4D5663"
         },
         "title": {
          "font": {
           "color": "#4D5663"
          },
          "text": ""
         },
         "zerolinecolor": "#E1E5ED"
        }
       }
      },
      "text/html": [
       "<div>                            <div id=\"be318965-6190-47d7-bf63-c51259c584c6\" class=\"plotly-graph-div\" style=\"height:525px; width:100%;\"></div>            <script type=\"text/javascript\">                require([\"plotly\"], function(Plotly) {                    window.PLOTLYENV=window.PLOTLYENV || {};\n",
       "                    window.PLOTLYENV.BASE_URL='https://plot.ly';                                    if (document.getElementById(\"be318965-6190-47d7-bf63-c51259c584c6\")) {                    Plotly.newPlot(                        \"be318965-6190-47d7-bf63-c51259c584c6\",                        [{\"histfunc\":\"count\",\"histnorm\":\"\",\"marker\":{\"color\":\"rgba(255, 153, 51, 1.0)\",\"line\":{\"color\":\"#4D5663\",\"width\":1.3}},\"name\":\"A\",\"nbinsx\":10,\"opacity\":0.8,\"orientation\":\"v\",\"type\":\"histogram\",\"x\":[1.6390172210782112,0.35036309608803734,0.005345251605557072,-1.007168582401739,0.6064372360595194,-0.8559716524754347,-0.29295931013977455,0.11469913509520363,-0.7523106090575572,-0.195634901571466,-0.5404692462016839,-1.3120969565229128,1.1111884746332532,-1.4563221199532441,-0.4000778003521611,-1.4451703461721117,-1.363231315990348,0.658342303654108,0.8786515409349503,-1.5086797797943805,-0.5725951421783421,-2.9521790062884317,0.8107187720350392,-2.519087609499849,0.6896584787258254,0.6435745175482077,-1.2000336887451124,0.34086045864628756,0.2654469043662446,-0.07746292037022126,0.8630843825610846,1.0891490140181523,-1.9524223419631697,0.6858617659955623,0.2883834504425376,0.20911482004677523,0.5299742543623438,1.1327845046858638,-0.7251055108060356,1.2135193055712752,2.300244842789878,-0.738390301241366,0.05291785180475275,-3.4709290329743743,0.5977833494136633,0.14110732006113477,-0.5840013368991821,0.004953715931068007,-1.223861385225602,0.6190924457254161,0.039732403047753204,1.425699337352612,0.44876455422443184,1.0781702197003584,1.6736082013851366,0.13414414323520682,-0.049714591234064916,1.5718612497436992,-0.488626681795911,-1.0745094634783077,0.010835515648132663,0.7740169127901401,-0.6426873875675859,-0.9754780684816817,0.5529827758798664,-1.0672963254082246,-0.04456852341750004,0.7692202067160016,1.2321144828985524,0.1433419894687381,-0.2909362098687318,-0.47267633317745456,1.7972382007227412,0.21805988911238225,-0.009552893266460817,1.3467405298885615,1.585402040037534,-0.4229297524139318,-0.3769072295415943,-0.3270199703308662,-1.6570808165725148,-0.12574749288277748,-0.6176444759289953,0.7439988726600845,0.24613374285765183,0.38947090242920723,1.6723019786775943,-0.41963702796672747,0.9047373455383958,-0.017673105582772474,-1.0170416703023462,-0.19324125760756355,-1.2503224511053932,-2.1470424425254766,1.0221779062477727,-2.5065738171228205,-0.05963337005966899,0.47649356521775404,1.4276528138041606,-0.32425457930617246],\"xaxis\":\"x\",\"yaxis\":\"y\"},{\"line\":{\"color\":\"rgba(128, 128, 128, 1.0)\",\"dash\":\"solid\",\"shape\":\"linear\",\"width\":1.3},\"marker\":{\"size\":2,\"symbol\":\"circle\"},\"mode\":\"markers\",\"name\":\"A\",\"text\":\"\",\"type\":\"scatter\",\"x\":[1.102553266001446,0.07003004352789324,0.5810101219197732,-1.9203120747377667,0.7532931016641667,-1.8337590115007922,0.3096264931476165,0.6393282156170463,-0.798725006016867,0.5417207731363791,-0.4239424069146018,-0.41392400709499866,0.08559850853532823,0.9093550061070701,-0.7280430808263331,-0.6824589540078425,0.28090931380191964,-0.3319007037857765,-1.6667158346606188,1.6130909499660644,-0.29661045750111187,0.03900350809678387,-1.071474539376231,1.5231277410687434,-0.5079840148181424,-0.25873323295644196,0.824139139298492,-0.7159802359304246,0.0625797583586818,-0.3284807894012514,1.8955312299431808,0.19648109599776153,-0.7495227570633665,-0.4242023122477403,0.3280281720357379,1.286964003251896,0.5657468540102697,1.3689612247632001,-0.14350400521153903,0.4957019813435518,-0.15271765262681536,0.6806210533160196,-0.10168526735020109,-0.5982519315647606,-0.6749402596978042,0.9702043432759824,0.1819894336902613,0.5985343656147386,0.8340920172057208,-0.3702418957397792,-0.846857106926398,1.0311250582516243,0.5008522513259931,0.3365768679120584,1.7121320739187826,0.5117482937902189,-1.8244623092300802,0.4321066066002589,-1.4421686853378737,0.19790900585090146,0.5589783024737872,1.7182668640964827,1.315239011718634,1.7541664056342483,1.0824383076378559,0.22308066904734622,0.19192596158254535,-0.6642502185333556,-1.233927505323582,-0.5150258836486774,0.7724192205916995,-1.539246559652809,-0.3441725530827281,-1.294768684186355,2.1510598274343513,-0.43919021706940076,0.7869812774679221,-0.2659664510423569,-0.178614785666635,0.7088802171641168,-0.8127121234339456,0.2522994859088976,-0.8830069315654053,-0.035996353631033304,-0.09755848244586804,-1.1402570557997063,1.0168044017244504,0.19659128228813155,0.657835318268974,-1.6522321435881624,-0.7204032750503859,-2.0365700276099843,0.42548498076418545,-1.198762076198404,-0.08761184598444494,0.38108581263880736,-0.41153334539835307,-0.3198757873724358,-1.7491866397945144,0.06285634871996862],\"xaxis\":\"x2\",\"y\":[1.6390172210782112,0.35036309608803734,0.005345251605557072,-1.007168582401739,0.6064372360595194,-0.8559716524754347,-0.29295931013977455,0.11469913509520363,-0.7523106090575572,-0.195634901571466,-0.5404692462016839,-1.3120969565229128,1.1111884746332532,-1.4563221199532441,-0.4000778003521611,-1.4451703461721117,-1.363231315990348,0.658342303654108,0.8786515409349503,-1.5086797797943805,-0.5725951421783421,-2.9521790062884317,0.8107187720350392,-2.519087609499849,0.6896584787258254,0.6435745175482077,-1.2000336887451124,0.34086045864628756,0.2654469043662446,-0.07746292037022126,0.8630843825610846,1.0891490140181523,-1.9524223419631697,0.6858617659955623,0.2883834504425376,0.20911482004677523,0.5299742543623438,1.1327845046858638,-0.7251055108060356,1.2135193055712752,2.300244842789878,-0.738390301241366,0.05291785180475275,-3.4709290329743743,0.5977833494136633,0.14110732006113477,-0.5840013368991821,0.004953715931068007,-1.223861385225602,0.6190924457254161,0.039732403047753204,1.425699337352612,0.44876455422443184,1.0781702197003584,1.6736082013851366,0.13414414323520682,-0.049714591234064916,1.5718612497436992,-0.488626681795911,-1.0745094634783077,0.010835515648132663,0.7740169127901401,-0.6426873875675859,-0.9754780684816817,0.5529827758798664,-1.0672963254082246,-0.04456852341750004,0.7692202067160016,1.2321144828985524,0.1433419894687381,-0.2909362098687318,-0.47267633317745456,1.7972382007227412,0.21805988911238225,-0.009552893266460817,1.3467405298885615,1.585402040037534,-0.4229297524139318,-0.3769072295415943,-0.3270199703308662,-1.6570808165725148,-0.12574749288277748,-0.6176444759289953,0.7439988726600845,0.24613374285765183,0.38947090242920723,1.6723019786775943,-0.41963702796672747,0.9047373455383958,-0.017673105582772474,-1.0170416703023462,-0.19324125760756355,-1.2503224511053932,-2.1470424425254766,1.0221779062477727,-2.5065738171228205,-0.05963337005966899,0.47649356521775404,1.4276528138041606,-0.32425457930617246],\"yaxis\":\"y2\"},{\"line\":{\"color\":\"rgba(128, 128, 128, 1.0)\",\"dash\":\"solid\",\"shape\":\"linear\",\"width\":1.3},\"marker\":{\"size\":2,\"symbol\":\"circle\"},\"mode\":\"markers\",\"name\":\"A\",\"text\":\"\",\"type\":\"scatter\",\"x\":[-1.2360563498264105,1.3159246155540758,-1.0482603162166566,0.9432616197698795,0.10949886162246518,0.5313438139599458,-1.3552785017281528,0.12462285062562888,-0.4889671456360796,-1.7262254043755738,-0.4727441117244799,2.23016733519551,-1.5116922783089672,1.0497036131393698,-0.3470306443121238,-0.075443785828641,-1.4295392830009814,-0.30124193344180233,-1.3677720811705105,-0.8353199309143495,0.25656687810902506,0.19032657870124028,0.5197559209704815,1.921351175003571,0.08679678567510596,-1.036855853984869,-0.48260313794125065,1.0669390875077744,-0.4998410973231635,1.4813675874982553,-2.08755006932975,1.4705101950570325,1.1456828682182947,-0.08809791636786443,-1.030893766505458,-0.7555175682912136,0.07260594299456122,2.2148128286809285,0.32373193348590285,0.5022243710604071,1.0403970950093342,0.4917850418417762,1.9661347817075387,-0.5731101043316489,-0.20878340179099592,-0.5022600886571217,0.767888524172614,-0.05836163111324807,-0.8366541518953358,-1.4756852125807234,0.4342292402110419,1.011375246477727,-0.03237677526662315,-1.5922206232981653,0.6801877876131237,-0.7609471783218504,-0.8953247315868167,-0.8918628114730981,1.0853164431965339,0.59632343162454,0.8326872866933389,-0.7875772856791142,0.23904939197822037,0.27233819891138294,2.158220785969478,-0.8047814973479522,1.1371537496974125,0.37714487561804827,0.3331136636808223,-1.1681919120199784,-0.6764021446986844,-0.6205998252229585,0.1125284868564861,0.15957840800580372,1.5188194312814423,1.4089987295870168,0.10312109310131272,-0.8695305524847472,-1.0332649555822395,0.1949052313930126,0.529649175782848,-2.461728343380069,-0.6476436240576234,-1.5830176874090964,0.1823987199377903,-0.7353989000653937,-0.3265920569485933,0.14176988754621792,-0.12049426897958981,-0.07429772129139557,0.5858574165205841,0.6742532264468089,-1.039742973706262,-0.10441732330559937,0.13297570250755156,0.35675827309400593,0.5429576605960009,0.8481299972917296,-1.269197745394751,-0.063424522296274],\"xaxis\":\"x3\",\"y\":[1.6390172210782112,0.35036309608803734,0.005345251605557072,-1.007168582401739,0.6064372360595194,-0.8559716524754347,-0.29295931013977455,0.11469913509520363,-0.7523106090575572,-0.195634901571466,-0.5404692462016839,-1.3120969565229128,1.1111884746332532,-1.4563221199532441,-0.4000778003521611,-1.4451703461721117,-1.363231315990348,0.658342303654108,0.8786515409349503,-1.5086797797943805,-0.5725951421783421,-2.9521790062884317,0.8107187720350392,-2.519087609499849,0.6896584787258254,0.6435745175482077,-1.2000336887451124,0.34086045864628756,0.2654469043662446,-0.07746292037022126,0.8630843825610846,1.0891490140181523,-1.9524223419631697,0.6858617659955623,0.2883834504425376,0.20911482004677523,0.5299742543623438,1.1327845046858638,-0.7251055108060356,1.2135193055712752,2.300244842789878,-0.738390301241366,0.05291785180475275,-3.4709290329743743,0.5977833494136633,0.14110732006113477,-0.5840013368991821,0.004953715931068007,-1.223861385225602,0.6190924457254161,0.039732403047753204,1.425699337352612,0.44876455422443184,1.0781702197003584,1.6736082013851366,0.13414414323520682,-0.049714591234064916,1.5718612497436992,-0.488626681795911,-1.0745094634783077,0.010835515648132663,0.7740169127901401,-0.6426873875675859,-0.9754780684816817,0.5529827758798664,-1.0672963254082246,-0.04456852341750004,0.7692202067160016,1.2321144828985524,0.1433419894687381,-0.2909362098687318,-0.47267633317745456,1.7972382007227412,0.21805988911238225,-0.009552893266460817,1.3467405298885615,1.585402040037534,-0.4229297524139318,-0.3769072295415943,-0.3270199703308662,-1.6570808165725148,-0.12574749288277748,-0.6176444759289953,0.7439988726600845,0.24613374285765183,0.38947090242920723,1.6723019786775943,-0.41963702796672747,0.9047373455383958,-0.017673105582772474,-1.0170416703023462,-0.19324125760756355,-1.2503224511053932,-2.1470424425254766,1.0221779062477727,-2.5065738171228205,-0.05963337005966899,0.47649356521775404,1.4276528138041606,-0.32425457930617246],\"yaxis\":\"y3\"},{\"line\":{\"color\":\"rgba(128, 128, 128, 1.0)\",\"dash\":\"solid\",\"shape\":\"linear\",\"width\":1.3},\"marker\":{\"size\":2,\"symbol\":\"circle\"},\"mode\":\"markers\",\"name\":\"A\",\"text\":\"\",\"type\":\"scatter\",\"x\":[-0.3876351538192493,-0.8296571219705642,-0.9666359010560744,-0.27252610137131583,0.29024583738250814,0.026293118578263032,0.1809630272451399,0.724968679915043,0.31262232066408185,-1.017825673956993,1.3696921307512595,1.3775889124639769,1.241098369180556,-0.6990524380989664,1.4747367236717397,0.5798228850293702,-1.036380740783406,0.8608894323795349,0.16714974846456593,0.6891428351484585,2.307597149763561,-0.19384362150846227,0.4411638735799402,0.9467707643346768,1.1935611200206604,-1.2082823855441158,-1.450893573650019,-0.9388907679342247,-0.44626964981179124,-1.29486767365812,0.20713729662405478,-0.6221414037699228,-0.6351880928477655,0.6098282530454491,0.3560243596805245,-0.38101026326892906,0.16960331543066987,0.7725812733389487,0.3193672008945128,0.12481433995434044,-1.2285353784601412,-0.712473629988644,-0.640186135196878,0.24458816789031673,-1.0113584036999896,-1.0728721448384266,-0.9952399420140805,-0.893786982521726,-1.0197858726369542,1.7919412297704587,0.9131794048060983,0.9294387718396656,-0.7863980384807477,1.4703071359742637,-0.764805697844493,1.4842095823819974,0.16197078331900475,-0.9523819336524822,0.1161357605797125,0.332018726360375,0.3978741352435876,1.3556320140950224,-0.28575551342641087,0.8874988150562103,0.09126583288734684,-0.30523257816122823,0.4873327207221328,0.6267538228082257,0.6503644344585291,0.9419861828588326,0.4761434464155009,-1.642093716172821,0.9462974435287662,2.245208081719052,-0.6545076564710867,-1.0415956371009087,-1.2618471555939805,-1.5595520204931115,1.0968150847773313,1.870688624312931,-0.36630708128034223,0.5029843940902577,0.21729457633436644,1.1515070541079988,-0.2853792863872244,0.19130556138435756,1.2119821642251132,0.35848705096098443,-0.004269602293290566,-0.02831173558559384,1.3307159916456643,-0.11626202059381414,0.13217089093742912,-0.930755324831226,-0.8022217937210094,0.14292601668996605,0.5585494252446102,-0.5067800112656453,0.18540048779486654,0.4483455209106131],\"xaxis\":\"x4\",\"y\":[1.6390172210782112,0.35036309608803734,0.005345251605557072,-1.007168582401739,0.6064372360595194,-0.8559716524754347,-0.29295931013977455,0.11469913509520363,-0.7523106090575572,-0.195634901571466,-0.5404692462016839,-1.3120969565229128,1.1111884746332532,-1.4563221199532441,-0.4000778003521611,-1.4451703461721117,-1.363231315990348,0.658342303654108,0.8786515409349503,-1.5086797797943805,-0.5725951421783421,-2.9521790062884317,0.8107187720350392,-2.519087609499849,0.6896584787258254,0.6435745175482077,-1.2000336887451124,0.34086045864628756,0.2654469043662446,-0.07746292037022126,0.8630843825610846,1.0891490140181523,-1.9524223419631697,0.6858617659955623,0.2883834504425376,0.20911482004677523,0.5299742543623438,1.1327845046858638,-0.7251055108060356,1.2135193055712752,2.300244842789878,-0.738390301241366,0.05291785180475275,-3.4709290329743743,0.5977833494136633,0.14110732006113477,-0.5840013368991821,0.004953715931068007,-1.223861385225602,0.6190924457254161,0.039732403047753204,1.425699337352612,0.44876455422443184,1.0781702197003584,1.6736082013851366,0.13414414323520682,-0.049714591234064916,1.5718612497436992,-0.488626681795911,-1.0745094634783077,0.010835515648132663,0.7740169127901401,-0.6426873875675859,-0.9754780684816817,0.5529827758798664,-1.0672963254082246,-0.04456852341750004,0.7692202067160016,1.2321144828985524,0.1433419894687381,-0.2909362098687318,-0.47267633317745456,1.7972382007227412,0.21805988911238225,-0.009552893266460817,1.3467405298885615,1.585402040037534,-0.4229297524139318,-0.3769072295415943,-0.3270199703308662,-1.6570808165725148,-0.12574749288277748,-0.6176444759289953,0.7439988726600845,0.24613374285765183,0.38947090242920723,1.6723019786775943,-0.41963702796672747,0.9047373455383958,-0.017673105582772474,-1.0170416703023462,-0.19324125760756355,-1.2503224511053932,-2.1470424425254766,1.0221779062477727,-2.5065738171228205,-0.05963337005966899,0.47649356521775404,1.4276528138041606,-0.32425457930617246],\"yaxis\":\"y4\"},{\"line\":{\"color\":\"rgba(128, 128, 128, 1.0)\",\"dash\":\"solid\",\"shape\":\"linear\",\"width\":1.3},\"marker\":{\"size\":2,\"symbol\":\"circle\"},\"mode\":\"markers\",\"name\":\"B\",\"text\":\"\",\"type\":\"scatter\",\"x\":[1.6390172210782112,0.35036309608803734,0.005345251605557072,-1.007168582401739,0.6064372360595194,-0.8559716524754347,-0.29295931013977455,0.11469913509520363,-0.7523106090575572,-0.195634901571466,-0.5404692462016839,-1.3120969565229128,1.1111884746332532,-1.4563221199532441,-0.4000778003521611,-1.4451703461721117,-1.363231315990348,0.658342303654108,0.8786515409349503,-1.5086797797943805,-0.5725951421783421,-2.9521790062884317,0.8107187720350392,-2.519087609499849,0.6896584787258254,0.6435745175482077,-1.2000336887451124,0.34086045864628756,0.2654469043662446,-0.07746292037022126,0.8630843825610846,1.0891490140181523,-1.9524223419631697,0.6858617659955623,0.2883834504425376,0.20911482004677523,0.5299742543623438,1.1327845046858638,-0.7251055108060356,1.2135193055712752,2.300244842789878,-0.738390301241366,0.05291785180475275,-3.4709290329743743,0.5977833494136633,0.14110732006113477,-0.5840013368991821,0.004953715931068007,-1.223861385225602,0.6190924457254161,0.039732403047753204,1.425699337352612,0.44876455422443184,1.0781702197003584,1.6736082013851366,0.13414414323520682,-0.049714591234064916,1.5718612497436992,-0.488626681795911,-1.0745094634783077,0.010835515648132663,0.7740169127901401,-0.6426873875675859,-0.9754780684816817,0.5529827758798664,-1.0672963254082246,-0.04456852341750004,0.7692202067160016,1.2321144828985524,0.1433419894687381,-0.2909362098687318,-0.47267633317745456,1.7972382007227412,0.21805988911238225,-0.009552893266460817,1.3467405298885615,1.585402040037534,-0.4229297524139318,-0.3769072295415943,-0.3270199703308662,-1.6570808165725148,-0.12574749288277748,-0.6176444759289953,0.7439988726600845,0.24613374285765183,0.38947090242920723,1.6723019786775943,-0.41963702796672747,0.9047373455383958,-0.017673105582772474,-1.0170416703023462,-0.19324125760756355,-1.2503224511053932,-2.1470424425254766,1.0221779062477727,-2.5065738171228205,-0.05963337005966899,0.47649356521775404,1.4276528138041606,-0.32425457930617246],\"xaxis\":\"x5\",\"y\":[1.102553266001446,0.07003004352789324,0.5810101219197732,-1.9203120747377667,0.7532931016641667,-1.8337590115007922,0.3096264931476165,0.6393282156170463,-0.798725006016867,0.5417207731363791,-0.4239424069146018,-0.41392400709499866,0.08559850853532823,0.9093550061070701,-0.7280430808263331,-0.6824589540078425,0.28090931380191964,-0.3319007037857765,-1.6667158346606188,1.6130909499660644,-0.29661045750111187,0.03900350809678387,-1.071474539376231,1.5231277410687434,-0.5079840148181424,-0.25873323295644196,0.824139139298492,-0.7159802359304246,0.0625797583586818,-0.3284807894012514,1.8955312299431808,0.19648109599776153,-0.7495227570633665,-0.4242023122477403,0.3280281720357379,1.286964003251896,0.5657468540102697,1.3689612247632001,-0.14350400521153903,0.4957019813435518,-0.15271765262681536,0.6806210533160196,-0.10168526735020109,-0.5982519315647606,-0.6749402596978042,0.9702043432759824,0.1819894336902613,0.5985343656147386,0.8340920172057208,-0.3702418957397792,-0.846857106926398,1.0311250582516243,0.5008522513259931,0.3365768679120584,1.7121320739187826,0.5117482937902189,-1.8244623092300802,0.4321066066002589,-1.4421686853378737,0.19790900585090146,0.5589783024737872,1.7182668640964827,1.315239011718634,1.7541664056342483,1.0824383076378559,0.22308066904734622,0.19192596158254535,-0.6642502185333556,-1.233927505323582,-0.5150258836486774,0.7724192205916995,-1.539246559652809,-0.3441725530827281,-1.294768684186355,2.1510598274343513,-0.43919021706940076,0.7869812774679221,-0.2659664510423569,-0.178614785666635,0.7088802171641168,-0.8127121234339456,0.2522994859088976,-0.8830069315654053,-0.035996353631033304,-0.09755848244586804,-1.1402570557997063,1.0168044017244504,0.19659128228813155,0.657835318268974,-1.6522321435881624,-0.7204032750503859,-2.0365700276099843,0.42548498076418545,-1.198762076198404,-0.08761184598444494,0.38108581263880736,-0.41153334539835307,-0.3198757873724358,-1.7491866397945144,0.06285634871996862],\"yaxis\":\"y5\"},{\"histfunc\":\"count\",\"histnorm\":\"\",\"marker\":{\"color\":\"rgba(55, 128, 191, 1.0)\",\"line\":{\"color\":\"#4D5663\",\"width\":1.3}},\"name\":\"B\",\"nbinsx\":10,\"opacity\":0.8,\"orientation\":\"v\",\"type\":\"histogram\",\"x\":[1.102553266001446,0.07003004352789324,0.5810101219197732,-1.9203120747377667,0.7532931016641667,-1.8337590115007922,0.3096264931476165,0.6393282156170463,-0.798725006016867,0.5417207731363791,-0.4239424069146018,-0.41392400709499866,0.08559850853532823,0.9093550061070701,-0.7280430808263331,-0.6824589540078425,0.28090931380191964,-0.3319007037857765,-1.6667158346606188,1.6130909499660644,-0.29661045750111187,0.03900350809678387,-1.071474539376231,1.5231277410687434,-0.5079840148181424,-0.25873323295644196,0.824139139298492,-0.7159802359304246,0.0625797583586818,-0.3284807894012514,1.8955312299431808,0.19648109599776153,-0.7495227570633665,-0.4242023122477403,0.3280281720357379,1.286964003251896,0.5657468540102697,1.3689612247632001,-0.14350400521153903,0.4957019813435518,-0.15271765262681536,0.6806210533160196,-0.10168526735020109,-0.5982519315647606,-0.6749402596978042,0.9702043432759824,0.1819894336902613,0.5985343656147386,0.8340920172057208,-0.3702418957397792,-0.846857106926398,1.0311250582516243,0.5008522513259931,0.3365768679120584,1.7121320739187826,0.5117482937902189,-1.8244623092300802,0.4321066066002589,-1.4421686853378737,0.19790900585090146,0.5589783024737872,1.7182668640964827,1.315239011718634,1.7541664056342483,1.0824383076378559,0.22308066904734622,0.19192596158254535,-0.6642502185333556,-1.233927505323582,-0.5150258836486774,0.7724192205916995,-1.539246559652809,-0.3441725530827281,-1.294768684186355,2.1510598274343513,-0.43919021706940076,0.7869812774679221,-0.2659664510423569,-0.178614785666635,0.7088802171641168,-0.8127121234339456,0.2522994859088976,-0.8830069315654053,-0.035996353631033304,-0.09755848244586804,-1.1402570557997063,1.0168044017244504,0.19659128228813155,0.657835318268974,-1.6522321435881624,-0.7204032750503859,-2.0365700276099843,0.42548498076418545,-1.198762076198404,-0.08761184598444494,0.38108581263880736,-0.41153334539835307,-0.3198757873724358,-1.7491866397945144,0.06285634871996862],\"xaxis\":\"x6\",\"yaxis\":\"y6\"},{\"line\":{\"color\":\"rgba(128, 128, 128, 1.0)\",\"dash\":\"solid\",\"shape\":\"linear\",\"width\":1.3},\"marker\":{\"size\":2,\"symbol\":\"circle\"},\"mode\":\"markers\",\"name\":\"B\",\"text\":\"\",\"type\":\"scatter\",\"x\":[-1.2360563498264105,1.3159246155540758,-1.0482603162166566,0.9432616197698795,0.10949886162246518,0.5313438139599458,-1.3552785017281528,0.12462285062562888,-0.4889671456360796,-1.7262254043755738,-0.4727441117244799,2.23016733519551,-1.5116922783089672,1.0497036131393698,-0.3470306443121238,-0.075443785828641,-1.4295392830009814,-0.30124193344180233,-1.3677720811705105,-0.8353199309143495,0.25656687810902506,0.19032657870124028,0.5197559209704815,1.921351175003571,0.08679678567510596,-1.036855853984869,-0.48260313794125065,1.0669390875077744,-0.4998410973231635,1.4813675874982553,-2.08755006932975,1.4705101950570325,1.1456828682182947,-0.08809791636786443,-1.030893766505458,-0.7555175682912136,0.07260594299456122,2.2148128286809285,0.32373193348590285,0.5022243710604071,1.0403970950093342,0.4917850418417762,1.9661347817075387,-0.5731101043316489,-0.20878340179099592,-0.5022600886571217,0.767888524172614,-0.05836163111324807,-0.8366541518953358,-1.4756852125807234,0.4342292402110419,1.011375246477727,-0.03237677526662315,-1.5922206232981653,0.6801877876131237,-0.7609471783218504,-0.8953247315868167,-0.8918628114730981,1.0853164431965339,0.59632343162454,0.8326872866933389,-0.7875772856791142,0.23904939197822037,0.27233819891138294,2.158220785969478,-0.8047814973479522,1.1371537496974125,0.37714487561804827,0.3331136636808223,-1.1681919120199784,-0.6764021446986844,-0.6205998252229585,0.1125284868564861,0.15957840800580372,1.5188194312814423,1.4089987295870168,0.10312109310131272,-0.8695305524847472,-1.0332649555822395,0.1949052313930126,0.529649175782848,-2.461728343380069,-0.6476436240576234,-1.5830176874090964,0.1823987199377903,-0.7353989000653937,-0.3265920569485933,0.14176988754621792,-0.12049426897958981,-0.07429772129139557,0.5858574165205841,0.6742532264468089,-1.039742973706262,-0.10441732330559937,0.13297570250755156,0.35675827309400593,0.5429576605960009,0.8481299972917296,-1.269197745394751,-0.063424522296274],\"xaxis\":\"x7\",\"y\":[1.102553266001446,0.07003004352789324,0.5810101219197732,-1.9203120747377667,0.7532931016641667,-1.8337590115007922,0.3096264931476165,0.6393282156170463,-0.798725006016867,0.5417207731363791,-0.4239424069146018,-0.41392400709499866,0.08559850853532823,0.9093550061070701,-0.7280430808263331,-0.6824589540078425,0.28090931380191964,-0.3319007037857765,-1.6667158346606188,1.6130909499660644,-0.29661045750111187,0.03900350809678387,-1.071474539376231,1.5231277410687434,-0.5079840148181424,-0.25873323295644196,0.824139139298492,-0.7159802359304246,0.0625797583586818,-0.3284807894012514,1.8955312299431808,0.19648109599776153,-0.7495227570633665,-0.4242023122477403,0.3280281720357379,1.286964003251896,0.5657468540102697,1.3689612247632001,-0.14350400521153903,0.4957019813435518,-0.15271765262681536,0.6806210533160196,-0.10168526735020109,-0.5982519315647606,-0.6749402596978042,0.9702043432759824,0.1819894336902613,0.5985343656147386,0.8340920172057208,-0.3702418957397792,-0.846857106926398,1.0311250582516243,0.5008522513259931,0.3365768679120584,1.7121320739187826,0.5117482937902189,-1.8244623092300802,0.4321066066002589,-1.4421686853378737,0.19790900585090146,0.5589783024737872,1.7182668640964827,1.315239011718634,1.7541664056342483,1.0824383076378559,0.22308066904734622,0.19192596158254535,-0.6642502185333556,-1.233927505323582,-0.5150258836486774,0.7724192205916995,-1.539246559652809,-0.3441725530827281,-1.294768684186355,2.1510598274343513,-0.43919021706940076,0.7869812774679221,-0.2659664510423569,-0.178614785666635,0.7088802171641168,-0.8127121234339456,0.2522994859088976,-0.8830069315654053,-0.035996353631033304,-0.09755848244586804,-1.1402570557997063,1.0168044017244504,0.19659128228813155,0.657835318268974,-1.6522321435881624,-0.7204032750503859,-2.0365700276099843,0.42548498076418545,-1.198762076198404,-0.08761184598444494,0.38108581263880736,-0.41153334539835307,-0.3198757873724358,-1.7491866397945144,0.06285634871996862],\"yaxis\":\"y7\"},{\"line\":{\"color\":\"rgba(128, 128, 128, 1.0)\",\"dash\":\"solid\",\"shape\":\"linear\",\"width\":1.3},\"marker\":{\"size\":2,\"symbol\":\"circle\"},\"mode\":\"markers\",\"name\":\"B\",\"text\":\"\",\"type\":\"scatter\",\"x\":[-0.3876351538192493,-0.8296571219705642,-0.9666359010560744,-0.27252610137131583,0.29024583738250814,0.026293118578263032,0.1809630272451399,0.724968679915043,0.31262232066408185,-1.017825673956993,1.3696921307512595,1.3775889124639769,1.241098369180556,-0.6990524380989664,1.4747367236717397,0.5798228850293702,-1.036380740783406,0.8608894323795349,0.16714974846456593,0.6891428351484585,2.307597149763561,-0.19384362150846227,0.4411638735799402,0.9467707643346768,1.1935611200206604,-1.2082823855441158,-1.450893573650019,-0.9388907679342247,-0.44626964981179124,-1.29486767365812,0.20713729662405478,-0.6221414037699228,-0.6351880928477655,0.6098282530454491,0.3560243596805245,-0.38101026326892906,0.16960331543066987,0.7725812733389487,0.3193672008945128,0.12481433995434044,-1.2285353784601412,-0.712473629988644,-0.640186135196878,0.24458816789031673,-1.0113584036999896,-1.0728721448384266,-0.9952399420140805,-0.893786982521726,-1.0197858726369542,1.7919412297704587,0.9131794048060983,0.9294387718396656,-0.7863980384807477,1.4703071359742637,-0.764805697844493,1.4842095823819974,0.16197078331900475,-0.9523819336524822,0.1161357605797125,0.332018726360375,0.3978741352435876,1.3556320140950224,-0.28575551342641087,0.8874988150562103,0.09126583288734684,-0.30523257816122823,0.4873327207221328,0.6267538228082257,0.6503644344585291,0.9419861828588326,0.4761434464155009,-1.642093716172821,0.9462974435287662,2.245208081719052,-0.6545076564710867,-1.0415956371009087,-1.2618471555939805,-1.5595520204931115,1.0968150847773313,1.870688624312931,-0.36630708128034223,0.5029843940902577,0.21729457633436644,1.1515070541079988,-0.2853792863872244,0.19130556138435756,1.2119821642251132,0.35848705096098443,-0.004269602293290566,-0.02831173558559384,1.3307159916456643,-0.11626202059381414,0.13217089093742912,-0.930755324831226,-0.8022217937210094,0.14292601668996605,0.5585494252446102,-0.5067800112656453,0.18540048779486654,0.4483455209106131],\"xaxis\":\"x8\",\"y\":[1.102553266001446,0.07003004352789324,0.5810101219197732,-1.9203120747377667,0.7532931016641667,-1.8337590115007922,0.3096264931476165,0.6393282156170463,-0.798725006016867,0.5417207731363791,-0.4239424069146018,-0.41392400709499866,0.08559850853532823,0.9093550061070701,-0.7280430808263331,-0.6824589540078425,0.28090931380191964,-0.3319007037857765,-1.6667158346606188,1.6130909499660644,-0.29661045750111187,0.03900350809678387,-1.071474539376231,1.5231277410687434,-0.5079840148181424,-0.25873323295644196,0.824139139298492,-0.7159802359304246,0.0625797583586818,-0.3284807894012514,1.8955312299431808,0.19648109599776153,-0.7495227570633665,-0.4242023122477403,0.3280281720357379,1.286964003251896,0.5657468540102697,1.3689612247632001,-0.14350400521153903,0.4957019813435518,-0.15271765262681536,0.6806210533160196,-0.10168526735020109,-0.5982519315647606,-0.6749402596978042,0.9702043432759824,0.1819894336902613,0.5985343656147386,0.8340920172057208,-0.3702418957397792,-0.846857106926398,1.0311250582516243,0.5008522513259931,0.3365768679120584,1.7121320739187826,0.5117482937902189,-1.8244623092300802,0.4321066066002589,-1.4421686853378737,0.19790900585090146,0.5589783024737872,1.7182668640964827,1.315239011718634,1.7541664056342483,1.0824383076378559,0.22308066904734622,0.19192596158254535,-0.6642502185333556,-1.233927505323582,-0.5150258836486774,0.7724192205916995,-1.539246559652809,-0.3441725530827281,-1.294768684186355,2.1510598274343513,-0.43919021706940076,0.7869812774679221,-0.2659664510423569,-0.178614785666635,0.7088802171641168,-0.8127121234339456,0.2522994859088976,-0.8830069315654053,-0.035996353631033304,-0.09755848244586804,-1.1402570557997063,1.0168044017244504,0.19659128228813155,0.657835318268974,-1.6522321435881624,-0.7204032750503859,-2.0365700276099843,0.42548498076418545,-1.198762076198404,-0.08761184598444494,0.38108581263880736,-0.41153334539835307,-0.3198757873724358,-1.7491866397945144,0.06285634871996862],\"yaxis\":\"y8\"},{\"line\":{\"color\":\"rgba(128, 128, 128, 1.0)\",\"dash\":\"solid\",\"shape\":\"linear\",\"width\":1.3},\"marker\":{\"size\":2,\"symbol\":\"circle\"},\"mode\":\"markers\",\"name\":\"C\",\"text\":\"\",\"type\":\"scatter\",\"x\":[1.6390172210782112,0.35036309608803734,0.005345251605557072,-1.007168582401739,0.6064372360595194,-0.8559716524754347,-0.29295931013977455,0.11469913509520363,-0.7523106090575572,-0.195634901571466,-0.5404692462016839,-1.3120969565229128,1.1111884746332532,-1.4563221199532441,-0.4000778003521611,-1.4451703461721117,-1.363231315990348,0.658342303654108,0.8786515409349503,-1.5086797797943805,-0.5725951421783421,-2.9521790062884317,0.8107187720350392,-2.519087609499849,0.6896584787258254,0.6435745175482077,-1.2000336887451124,0.34086045864628756,0.2654469043662446,-0.07746292037022126,0.8630843825610846,1.0891490140181523,-1.9524223419631697,0.6858617659955623,0.2883834504425376,0.20911482004677523,0.5299742543623438,1.1327845046858638,-0.7251055108060356,1.2135193055712752,2.300244842789878,-0.738390301241366,0.05291785180475275,-3.4709290329743743,0.5977833494136633,0.14110732006113477,-0.5840013368991821,0.004953715931068007,-1.223861385225602,0.6190924457254161,0.039732403047753204,1.425699337352612,0.44876455422443184,1.0781702197003584,1.6736082013851366,0.13414414323520682,-0.049714591234064916,1.5718612497436992,-0.488626681795911,-1.0745094634783077,0.010835515648132663,0.7740169127901401,-0.6426873875675859,-0.9754780684816817,0.5529827758798664,-1.0672963254082246,-0.04456852341750004,0.7692202067160016,1.2321144828985524,0.1433419894687381,-0.2909362098687318,-0.47267633317745456,1.7972382007227412,0.21805988911238225,-0.009552893266460817,1.3467405298885615,1.585402040037534,-0.4229297524139318,-0.3769072295415943,-0.3270199703308662,-1.6570808165725148,-0.12574749288277748,-0.6176444759289953,0.7439988726600845,0.24613374285765183,0.38947090242920723,1.6723019786775943,-0.41963702796672747,0.9047373455383958,-0.017673105582772474,-1.0170416703023462,-0.19324125760756355,-1.2503224511053932,-2.1470424425254766,1.0221779062477727,-2.5065738171228205,-0.05963337005966899,0.47649356521775404,1.4276528138041606,-0.32425457930617246],\"xaxis\":\"x9\",\"y\":[-1.2360563498264105,1.3159246155540758,-1.0482603162166566,0.9432616197698795,0.10949886162246518,0.5313438139599458,-1.3552785017281528,0.12462285062562888,-0.4889671456360796,-1.7262254043755738,-0.4727441117244799,2.23016733519551,-1.5116922783089672,1.0497036131393698,-0.3470306443121238,-0.075443785828641,-1.4295392830009814,-0.30124193344180233,-1.3677720811705105,-0.8353199309143495,0.25656687810902506,0.19032657870124028,0.5197559209704815,1.921351175003571,0.08679678567510596,-1.036855853984869,-0.48260313794125065,1.0669390875077744,-0.4998410973231635,1.4813675874982553,-2.08755006932975,1.4705101950570325,1.1456828682182947,-0.08809791636786443,-1.030893766505458,-0.7555175682912136,0.07260594299456122,2.2148128286809285,0.32373193348590285,0.5022243710604071,1.0403970950093342,0.4917850418417762,1.9661347817075387,-0.5731101043316489,-0.20878340179099592,-0.5022600886571217,0.767888524172614,-0.05836163111324807,-0.8366541518953358,-1.4756852125807234,0.4342292402110419,1.011375246477727,-0.03237677526662315,-1.5922206232981653,0.6801877876131237,-0.7609471783218504,-0.8953247315868167,-0.8918628114730981,1.0853164431965339,0.59632343162454,0.8326872866933389,-0.7875772856791142,0.23904939197822037,0.27233819891138294,2.158220785969478,-0.8047814973479522,1.1371537496974125,0.37714487561804827,0.3331136636808223,-1.1681919120199784,-0.6764021446986844,-0.6205998252229585,0.1125284868564861,0.15957840800580372,1.5188194312814423,1.4089987295870168,0.10312109310131272,-0.8695305524847472,-1.0332649555822395,0.1949052313930126,0.529649175782848,-2.461728343380069,-0.6476436240576234,-1.5830176874090964,0.1823987199377903,-0.7353989000653937,-0.3265920569485933,0.14176988754621792,-0.12049426897958981,-0.07429772129139557,0.5858574165205841,0.6742532264468089,-1.039742973706262,-0.10441732330559937,0.13297570250755156,0.35675827309400593,0.5429576605960009,0.8481299972917296,-1.269197745394751,-0.063424522296274],\"yaxis\":\"y9\"},{\"line\":{\"color\":\"rgba(128, 128, 128, 1.0)\",\"dash\":\"solid\",\"shape\":\"linear\",\"width\":1.3},\"marker\":{\"size\":2,\"symbol\":\"circle\"},\"mode\":\"markers\",\"name\":\"C\",\"text\":\"\",\"type\":\"scatter\",\"x\":[1.102553266001446,0.07003004352789324,0.5810101219197732,-1.9203120747377667,0.7532931016641667,-1.8337590115007922,0.3096264931476165,0.6393282156170463,-0.798725006016867,0.5417207731363791,-0.4239424069146018,-0.41392400709499866,0.08559850853532823,0.9093550061070701,-0.7280430808263331,-0.6824589540078425,0.28090931380191964,-0.3319007037857765,-1.6667158346606188,1.6130909499660644,-0.29661045750111187,0.03900350809678387,-1.071474539376231,1.5231277410687434,-0.5079840148181424,-0.25873323295644196,0.824139139298492,-0.7159802359304246,0.0625797583586818,-0.3284807894012514,1.8955312299431808,0.19648109599776153,-0.7495227570633665,-0.4242023122477403,0.3280281720357379,1.286964003251896,0.5657468540102697,1.3689612247632001,-0.14350400521153903,0.4957019813435518,-0.15271765262681536,0.6806210533160196,-0.10168526735020109,-0.5982519315647606,-0.6749402596978042,0.9702043432759824,0.1819894336902613,0.5985343656147386,0.8340920172057208,-0.3702418957397792,-0.846857106926398,1.0311250582516243,0.5008522513259931,0.3365768679120584,1.7121320739187826,0.5117482937902189,-1.8244623092300802,0.4321066066002589,-1.4421686853378737,0.19790900585090146,0.5589783024737872,1.7182668640964827,1.315239011718634,1.7541664056342483,1.0824383076378559,0.22308066904734622,0.19192596158254535,-0.6642502185333556,-1.233927505323582,-0.5150258836486774,0.7724192205916995,-1.539246559652809,-0.3441725530827281,-1.294768684186355,2.1510598274343513,-0.43919021706940076,0.7869812774679221,-0.2659664510423569,-0.178614785666635,0.7088802171641168,-0.8127121234339456,0.2522994859088976,-0.8830069315654053,-0.035996353631033304,-0.09755848244586804,-1.1402570557997063,1.0168044017244504,0.19659128228813155,0.657835318268974,-1.6522321435881624,-0.7204032750503859,-2.0365700276099843,0.42548498076418545,-1.198762076198404,-0.08761184598444494,0.38108581263880736,-0.41153334539835307,-0.3198757873724358,-1.7491866397945144,0.06285634871996862],\"xaxis\":\"x10\",\"y\":[-1.2360563498264105,1.3159246155540758,-1.0482603162166566,0.9432616197698795,0.10949886162246518,0.5313438139599458,-1.3552785017281528,0.12462285062562888,-0.4889671456360796,-1.7262254043755738,-0.4727441117244799,2.23016733519551,-1.5116922783089672,1.0497036131393698,-0.3470306443121238,-0.075443785828641,-1.4295392830009814,-0.30124193344180233,-1.3677720811705105,-0.8353199309143495,0.25656687810902506,0.19032657870124028,0.5197559209704815,1.921351175003571,0.08679678567510596,-1.036855853984869,-0.48260313794125065,1.0669390875077744,-0.4998410973231635,1.4813675874982553,-2.08755006932975,1.4705101950570325,1.1456828682182947,-0.08809791636786443,-1.030893766505458,-0.7555175682912136,0.07260594299456122,2.2148128286809285,0.32373193348590285,0.5022243710604071,1.0403970950093342,0.4917850418417762,1.9661347817075387,-0.5731101043316489,-0.20878340179099592,-0.5022600886571217,0.767888524172614,-0.05836163111324807,-0.8366541518953358,-1.4756852125807234,0.4342292402110419,1.011375246477727,-0.03237677526662315,-1.5922206232981653,0.6801877876131237,-0.7609471783218504,-0.8953247315868167,-0.8918628114730981,1.0853164431965339,0.59632343162454,0.8326872866933389,-0.7875772856791142,0.23904939197822037,0.27233819891138294,2.158220785969478,-0.8047814973479522,1.1371537496974125,0.37714487561804827,0.3331136636808223,-1.1681919120199784,-0.6764021446986844,-0.6205998252229585,0.1125284868564861,0.15957840800580372,1.5188194312814423,1.4089987295870168,0.10312109310131272,-0.8695305524847472,-1.0332649555822395,0.1949052313930126,0.529649175782848,-2.461728343380069,-0.6476436240576234,-1.5830176874090964,0.1823987199377903,-0.7353989000653937,-0.3265920569485933,0.14176988754621792,-0.12049426897958981,-0.07429772129139557,0.5858574165205841,0.6742532264468089,-1.039742973706262,-0.10441732330559937,0.13297570250755156,0.35675827309400593,0.5429576605960009,0.8481299972917296,-1.269197745394751,-0.063424522296274],\"yaxis\":\"y10\"},{\"histfunc\":\"count\",\"histnorm\":\"\",\"marker\":{\"color\":\"rgba(50, 171, 96, 1.0)\",\"line\":{\"color\":\"#4D5663\",\"width\":1.3}},\"name\":\"C\",\"nbinsx\":10,\"opacity\":0.8,\"orientation\":\"v\",\"type\":\"histogram\",\"x\":[-1.2360563498264105,1.3159246155540758,-1.0482603162166566,0.9432616197698795,0.10949886162246518,0.5313438139599458,-1.3552785017281528,0.12462285062562888,-0.4889671456360796,-1.7262254043755738,-0.4727441117244799,2.23016733519551,-1.5116922783089672,1.0497036131393698,-0.3470306443121238,-0.075443785828641,-1.4295392830009814,-0.30124193344180233,-1.3677720811705105,-0.8353199309143495,0.25656687810902506,0.19032657870124028,0.5197559209704815,1.921351175003571,0.08679678567510596,-1.036855853984869,-0.48260313794125065,1.0669390875077744,-0.4998410973231635,1.4813675874982553,-2.08755006932975,1.4705101950570325,1.1456828682182947,-0.08809791636786443,-1.030893766505458,-0.7555175682912136,0.07260594299456122,2.2148128286809285,0.32373193348590285,0.5022243710604071,1.0403970950093342,0.4917850418417762,1.9661347817075387,-0.5731101043316489,-0.20878340179099592,-0.5022600886571217,0.767888524172614,-0.05836163111324807,-0.8366541518953358,-1.4756852125807234,0.4342292402110419,1.011375246477727,-0.03237677526662315,-1.5922206232981653,0.6801877876131237,-0.7609471783218504,-0.8953247315868167,-0.8918628114730981,1.0853164431965339,0.59632343162454,0.8326872866933389,-0.7875772856791142,0.23904939197822037,0.27233819891138294,2.158220785969478,-0.8047814973479522,1.1371537496974125,0.37714487561804827,0.3331136636808223,-1.1681919120199784,-0.6764021446986844,-0.6205998252229585,0.1125284868564861,0.15957840800580372,1.5188194312814423,1.4089987295870168,0.10312109310131272,-0.8695305524847472,-1.0332649555822395,0.1949052313930126,0.529649175782848,-2.461728343380069,-0.6476436240576234,-1.5830176874090964,0.1823987199377903,-0.7353989000653937,-0.3265920569485933,0.14176988754621792,-0.12049426897958981,-0.07429772129139557,0.5858574165205841,0.6742532264468089,-1.039742973706262,-0.10441732330559937,0.13297570250755156,0.35675827309400593,0.5429576605960009,0.8481299972917296,-1.269197745394751,-0.063424522296274],\"xaxis\":\"x11\",\"yaxis\":\"y11\"},{\"line\":{\"color\":\"rgba(128, 128, 128, 1.0)\",\"dash\":\"solid\",\"shape\":\"linear\",\"width\":1.3},\"marker\":{\"size\":2,\"symbol\":\"circle\"},\"mode\":\"markers\",\"name\":\"C\",\"text\":\"\",\"type\":\"scatter\",\"x\":[-0.3876351538192493,-0.8296571219705642,-0.9666359010560744,-0.27252610137131583,0.29024583738250814,0.026293118578263032,0.1809630272451399,0.724968679915043,0.31262232066408185,-1.017825673956993,1.3696921307512595,1.3775889124639769,1.241098369180556,-0.6990524380989664,1.4747367236717397,0.5798228850293702,-1.036380740783406,0.8608894323795349,0.16714974846456593,0.6891428351484585,2.307597149763561,-0.19384362150846227,0.4411638735799402,0.9467707643346768,1.1935611200206604,-1.2082823855441158,-1.450893573650019,-0.9388907679342247,-0.44626964981179124,-1.29486767365812,0.20713729662405478,-0.6221414037699228,-0.6351880928477655,0.6098282530454491,0.3560243596805245,-0.38101026326892906,0.16960331543066987,0.7725812733389487,0.3193672008945128,0.12481433995434044,-1.2285353784601412,-0.712473629988644,-0.640186135196878,0.24458816789031673,-1.0113584036999896,-1.0728721448384266,-0.9952399420140805,-0.893786982521726,-1.0197858726369542,1.7919412297704587,0.9131794048060983,0.9294387718396656,-0.7863980384807477,1.4703071359742637,-0.764805697844493,1.4842095823819974,0.16197078331900475,-0.9523819336524822,0.1161357605797125,0.332018726360375,0.3978741352435876,1.3556320140950224,-0.28575551342641087,0.8874988150562103,0.09126583288734684,-0.30523257816122823,0.4873327207221328,0.6267538228082257,0.6503644344585291,0.9419861828588326,0.4761434464155009,-1.642093716172821,0.9462974435287662,2.245208081719052,-0.6545076564710867,-1.0415956371009087,-1.2618471555939805,-1.5595520204931115,1.0968150847773313,1.870688624312931,-0.36630708128034223,0.5029843940902577,0.21729457633436644,1.1515070541079988,-0.2853792863872244,0.19130556138435756,1.2119821642251132,0.35848705096098443,-0.004269602293290566,-0.02831173558559384,1.3307159916456643,-0.11626202059381414,0.13217089093742912,-0.930755324831226,-0.8022217937210094,0.14292601668996605,0.5585494252446102,-0.5067800112656453,0.18540048779486654,0.4483455209106131],\"xaxis\":\"x12\",\"y\":[-1.2360563498264105,1.3159246155540758,-1.0482603162166566,0.9432616197698795,0.10949886162246518,0.5313438139599458,-1.3552785017281528,0.12462285062562888,-0.4889671456360796,-1.7262254043755738,-0.4727441117244799,2.23016733519551,-1.5116922783089672,1.0497036131393698,-0.3470306443121238,-0.075443785828641,-1.4295392830009814,-0.30124193344180233,-1.3677720811705105,-0.8353199309143495,0.25656687810902506,0.19032657870124028,0.5197559209704815,1.921351175003571,0.08679678567510596,-1.036855853984869,-0.48260313794125065,1.0669390875077744,-0.4998410973231635,1.4813675874982553,-2.08755006932975,1.4705101950570325,1.1456828682182947,-0.08809791636786443,-1.030893766505458,-0.7555175682912136,0.07260594299456122,2.2148128286809285,0.32373193348590285,0.5022243710604071,1.0403970950093342,0.4917850418417762,1.9661347817075387,-0.5731101043316489,-0.20878340179099592,-0.5022600886571217,0.767888524172614,-0.05836163111324807,-0.8366541518953358,-1.4756852125807234,0.4342292402110419,1.011375246477727,-0.03237677526662315,-1.5922206232981653,0.6801877876131237,-0.7609471783218504,-0.8953247315868167,-0.8918628114730981,1.0853164431965339,0.59632343162454,0.8326872866933389,-0.7875772856791142,0.23904939197822037,0.27233819891138294,2.158220785969478,-0.8047814973479522,1.1371537496974125,0.37714487561804827,0.3331136636808223,-1.1681919120199784,-0.6764021446986844,-0.6205998252229585,0.1125284868564861,0.15957840800580372,1.5188194312814423,1.4089987295870168,0.10312109310131272,-0.8695305524847472,-1.0332649555822395,0.1949052313930126,0.529649175782848,-2.461728343380069,-0.6476436240576234,-1.5830176874090964,0.1823987199377903,-0.7353989000653937,-0.3265920569485933,0.14176988754621792,-0.12049426897958981,-0.07429772129139557,0.5858574165205841,0.6742532264468089,-1.039742973706262,-0.10441732330559937,0.13297570250755156,0.35675827309400593,0.5429576605960009,0.8481299972917296,-1.269197745394751,-0.063424522296274],\"yaxis\":\"y12\"},{\"line\":{\"color\":\"rgba(128, 128, 128, 1.0)\",\"dash\":\"solid\",\"shape\":\"linear\",\"width\":1.3},\"marker\":{\"size\":2,\"symbol\":\"circle\"},\"mode\":\"markers\",\"name\":\"D\",\"text\":\"\",\"type\":\"scatter\",\"x\":[1.6390172210782112,0.35036309608803734,0.005345251605557072,-1.007168582401739,0.6064372360595194,-0.8559716524754347,-0.29295931013977455,0.11469913509520363,-0.7523106090575572,-0.195634901571466,-0.5404692462016839,-1.3120969565229128,1.1111884746332532,-1.4563221199532441,-0.4000778003521611,-1.4451703461721117,-1.363231315990348,0.658342303654108,0.8786515409349503,-1.5086797797943805,-0.5725951421783421,-2.9521790062884317,0.8107187720350392,-2.519087609499849,0.6896584787258254,0.6435745175482077,-1.2000336887451124,0.34086045864628756,0.2654469043662446,-0.07746292037022126,0.8630843825610846,1.0891490140181523,-1.9524223419631697,0.6858617659955623,0.2883834504425376,0.20911482004677523,0.5299742543623438,1.1327845046858638,-0.7251055108060356,1.2135193055712752,2.300244842789878,-0.738390301241366,0.05291785180475275,-3.4709290329743743,0.5977833494136633,0.14110732006113477,-0.5840013368991821,0.004953715931068007,-1.223861385225602,0.6190924457254161,0.039732403047753204,1.425699337352612,0.44876455422443184,1.0781702197003584,1.6736082013851366,0.13414414323520682,-0.049714591234064916,1.5718612497436992,-0.488626681795911,-1.0745094634783077,0.010835515648132663,0.7740169127901401,-0.6426873875675859,-0.9754780684816817,0.5529827758798664,-1.0672963254082246,-0.04456852341750004,0.7692202067160016,1.2321144828985524,0.1433419894687381,-0.2909362098687318,-0.47267633317745456,1.7972382007227412,0.21805988911238225,-0.009552893266460817,1.3467405298885615,1.585402040037534,-0.4229297524139318,-0.3769072295415943,-0.3270199703308662,-1.6570808165725148,-0.12574749288277748,-0.6176444759289953,0.7439988726600845,0.24613374285765183,0.38947090242920723,1.6723019786775943,-0.41963702796672747,0.9047373455383958,-0.017673105582772474,-1.0170416703023462,-0.19324125760756355,-1.2503224511053932,-2.1470424425254766,1.0221779062477727,-2.5065738171228205,-0.05963337005966899,0.47649356521775404,1.4276528138041606,-0.32425457930617246],\"xaxis\":\"x13\",\"y\":[-0.3876351538192493,-0.8296571219705642,-0.9666359010560744,-0.27252610137131583,0.29024583738250814,0.026293118578263032,0.1809630272451399,0.724968679915043,0.31262232066408185,-1.017825673956993,1.3696921307512595,1.3775889124639769,1.241098369180556,-0.6990524380989664,1.4747367236717397,0.5798228850293702,-1.036380740783406,0.8608894323795349,0.16714974846456593,0.6891428351484585,2.307597149763561,-0.19384362150846227,0.4411638735799402,0.9467707643346768,1.1935611200206604,-1.2082823855441158,-1.450893573650019,-0.9388907679342247,-0.44626964981179124,-1.29486767365812,0.20713729662405478,-0.6221414037699228,-0.6351880928477655,0.6098282530454491,0.3560243596805245,-0.38101026326892906,0.16960331543066987,0.7725812733389487,0.3193672008945128,0.12481433995434044,-1.2285353784601412,-0.712473629988644,-0.640186135196878,0.24458816789031673,-1.0113584036999896,-1.0728721448384266,-0.9952399420140805,-0.893786982521726,-1.0197858726369542,1.7919412297704587,0.9131794048060983,0.9294387718396656,-0.7863980384807477,1.4703071359742637,-0.764805697844493,1.4842095823819974,0.16197078331900475,-0.9523819336524822,0.1161357605797125,0.332018726360375,0.3978741352435876,1.3556320140950224,-0.28575551342641087,0.8874988150562103,0.09126583288734684,-0.30523257816122823,0.4873327207221328,0.6267538228082257,0.6503644344585291,0.9419861828588326,0.4761434464155009,-1.642093716172821,0.9462974435287662,2.245208081719052,-0.6545076564710867,-1.0415956371009087,-1.2618471555939805,-1.5595520204931115,1.0968150847773313,1.870688624312931,-0.36630708128034223,0.5029843940902577,0.21729457633436644,1.1515070541079988,-0.2853792863872244,0.19130556138435756,1.2119821642251132,0.35848705096098443,-0.004269602293290566,-0.02831173558559384,1.3307159916456643,-0.11626202059381414,0.13217089093742912,-0.930755324831226,-0.8022217937210094,0.14292601668996605,0.5585494252446102,-0.5067800112656453,0.18540048779486654,0.4483455209106131],\"yaxis\":\"y13\"},{\"line\":{\"color\":\"rgba(128, 128, 128, 1.0)\",\"dash\":\"solid\",\"shape\":\"linear\",\"width\":1.3},\"marker\":{\"size\":2,\"symbol\":\"circle\"},\"mode\":\"markers\",\"name\":\"D\",\"text\":\"\",\"type\":\"scatter\",\"x\":[1.102553266001446,0.07003004352789324,0.5810101219197732,-1.9203120747377667,0.7532931016641667,-1.8337590115007922,0.3096264931476165,0.6393282156170463,-0.798725006016867,0.5417207731363791,-0.4239424069146018,-0.41392400709499866,0.08559850853532823,0.9093550061070701,-0.7280430808263331,-0.6824589540078425,0.28090931380191964,-0.3319007037857765,-1.6667158346606188,1.6130909499660644,-0.29661045750111187,0.03900350809678387,-1.071474539376231,1.5231277410687434,-0.5079840148181424,-0.25873323295644196,0.824139139298492,-0.7159802359304246,0.0625797583586818,-0.3284807894012514,1.8955312299431808,0.19648109599776153,-0.7495227570633665,-0.4242023122477403,0.3280281720357379,1.286964003251896,0.5657468540102697,1.3689612247632001,-0.14350400521153903,0.4957019813435518,-0.15271765262681536,0.6806210533160196,-0.10168526735020109,-0.5982519315647606,-0.6749402596978042,0.9702043432759824,0.1819894336902613,0.5985343656147386,0.8340920172057208,-0.3702418957397792,-0.846857106926398,1.0311250582516243,0.5008522513259931,0.3365768679120584,1.7121320739187826,0.5117482937902189,-1.8244623092300802,0.4321066066002589,-1.4421686853378737,0.19790900585090146,0.5589783024737872,1.7182668640964827,1.315239011718634,1.7541664056342483,1.0824383076378559,0.22308066904734622,0.19192596158254535,-0.6642502185333556,-1.233927505323582,-0.5150258836486774,0.7724192205916995,-1.539246559652809,-0.3441725530827281,-1.294768684186355,2.1510598274343513,-0.43919021706940076,0.7869812774679221,-0.2659664510423569,-0.178614785666635,0.7088802171641168,-0.8127121234339456,0.2522994859088976,-0.8830069315654053,-0.035996353631033304,-0.09755848244586804,-1.1402570557997063,1.0168044017244504,0.19659128228813155,0.657835318268974,-1.6522321435881624,-0.7204032750503859,-2.0365700276099843,0.42548498076418545,-1.198762076198404,-0.08761184598444494,0.38108581263880736,-0.41153334539835307,-0.3198757873724358,-1.7491866397945144,0.06285634871996862],\"xaxis\":\"x14\",\"y\":[-0.3876351538192493,-0.8296571219705642,-0.9666359010560744,-0.27252610137131583,0.29024583738250814,0.026293118578263032,0.1809630272451399,0.724968679915043,0.31262232066408185,-1.017825673956993,1.3696921307512595,1.3775889124639769,1.241098369180556,-0.6990524380989664,1.4747367236717397,0.5798228850293702,-1.036380740783406,0.8608894323795349,0.16714974846456593,0.6891428351484585,2.307597149763561,-0.19384362150846227,0.4411638735799402,0.9467707643346768,1.1935611200206604,-1.2082823855441158,-1.450893573650019,-0.9388907679342247,-0.44626964981179124,-1.29486767365812,0.20713729662405478,-0.6221414037699228,-0.6351880928477655,0.6098282530454491,0.3560243596805245,-0.38101026326892906,0.16960331543066987,0.7725812733389487,0.3193672008945128,0.12481433995434044,-1.2285353784601412,-0.712473629988644,-0.640186135196878,0.24458816789031673,-1.0113584036999896,-1.0728721448384266,-0.9952399420140805,-0.893786982521726,-1.0197858726369542,1.7919412297704587,0.9131794048060983,0.9294387718396656,-0.7863980384807477,1.4703071359742637,-0.764805697844493,1.4842095823819974,0.16197078331900475,-0.9523819336524822,0.1161357605797125,0.332018726360375,0.3978741352435876,1.3556320140950224,-0.28575551342641087,0.8874988150562103,0.09126583288734684,-0.30523257816122823,0.4873327207221328,0.6267538228082257,0.6503644344585291,0.9419861828588326,0.4761434464155009,-1.642093716172821,0.9462974435287662,2.245208081719052,-0.6545076564710867,-1.0415956371009087,-1.2618471555939805,-1.5595520204931115,1.0968150847773313,1.870688624312931,-0.36630708128034223,0.5029843940902577,0.21729457633436644,1.1515070541079988,-0.2853792863872244,0.19130556138435756,1.2119821642251132,0.35848705096098443,-0.004269602293290566,-0.02831173558559384,1.3307159916456643,-0.11626202059381414,0.13217089093742912,-0.930755324831226,-0.8022217937210094,0.14292601668996605,0.5585494252446102,-0.5067800112656453,0.18540048779486654,0.4483455209106131],\"yaxis\":\"y14\"},{\"line\":{\"color\":\"rgba(128, 128, 128, 1.0)\",\"dash\":\"solid\",\"shape\":\"linear\",\"width\":1.3},\"marker\":{\"size\":2,\"symbol\":\"circle\"},\"mode\":\"markers\",\"name\":\"D\",\"text\":\"\",\"type\":\"scatter\",\"x\":[-1.2360563498264105,1.3159246155540758,-1.0482603162166566,0.9432616197698795,0.10949886162246518,0.5313438139599458,-1.3552785017281528,0.12462285062562888,-0.4889671456360796,-1.7262254043755738,-0.4727441117244799,2.23016733519551,-1.5116922783089672,1.0497036131393698,-0.3470306443121238,-0.075443785828641,-1.4295392830009814,-0.30124193344180233,-1.3677720811705105,-0.8353199309143495,0.25656687810902506,0.19032657870124028,0.5197559209704815,1.921351175003571,0.08679678567510596,-1.036855853984869,-0.48260313794125065,1.0669390875077744,-0.4998410973231635,1.4813675874982553,-2.08755006932975,1.4705101950570325,1.1456828682182947,-0.08809791636786443,-1.030893766505458,-0.7555175682912136,0.07260594299456122,2.2148128286809285,0.32373193348590285,0.5022243710604071,1.0403970950093342,0.4917850418417762,1.9661347817075387,-0.5731101043316489,-0.20878340179099592,-0.5022600886571217,0.767888524172614,-0.05836163111324807,-0.8366541518953358,-1.4756852125807234,0.4342292402110419,1.011375246477727,-0.03237677526662315,-1.5922206232981653,0.6801877876131237,-0.7609471783218504,-0.8953247315868167,-0.8918628114730981,1.0853164431965339,0.59632343162454,0.8326872866933389,-0.7875772856791142,0.23904939197822037,0.27233819891138294,2.158220785969478,-0.8047814973479522,1.1371537496974125,0.37714487561804827,0.3331136636808223,-1.1681919120199784,-0.6764021446986844,-0.6205998252229585,0.1125284868564861,0.15957840800580372,1.5188194312814423,1.4089987295870168,0.10312109310131272,-0.8695305524847472,-1.0332649555822395,0.1949052313930126,0.529649175782848,-2.461728343380069,-0.6476436240576234,-1.5830176874090964,0.1823987199377903,-0.7353989000653937,-0.3265920569485933,0.14176988754621792,-0.12049426897958981,-0.07429772129139557,0.5858574165205841,0.6742532264468089,-1.039742973706262,-0.10441732330559937,0.13297570250755156,0.35675827309400593,0.5429576605960009,0.8481299972917296,-1.269197745394751,-0.063424522296274],\"xaxis\":\"x15\",\"y\":[-0.3876351538192493,-0.8296571219705642,-0.9666359010560744,-0.27252610137131583,0.29024583738250814,0.026293118578263032,0.1809630272451399,0.724968679915043,0.31262232066408185,-1.017825673956993,1.3696921307512595,1.3775889124639769,1.241098369180556,-0.6990524380989664,1.4747367236717397,0.5798228850293702,-1.036380740783406,0.8608894323795349,0.16714974846456593,0.6891428351484585,2.307597149763561,-0.19384362150846227,0.4411638735799402,0.9467707643346768,1.1935611200206604,-1.2082823855441158,-1.450893573650019,-0.9388907679342247,-0.44626964981179124,-1.29486767365812,0.20713729662405478,-0.6221414037699228,-0.6351880928477655,0.6098282530454491,0.3560243596805245,-0.38101026326892906,0.16960331543066987,0.7725812733389487,0.3193672008945128,0.12481433995434044,-1.2285353784601412,-0.712473629988644,-0.640186135196878,0.24458816789031673,-1.0113584036999896,-1.0728721448384266,-0.9952399420140805,-0.893786982521726,-1.0197858726369542,1.7919412297704587,0.9131794048060983,0.9294387718396656,-0.7863980384807477,1.4703071359742637,-0.764805697844493,1.4842095823819974,0.16197078331900475,-0.9523819336524822,0.1161357605797125,0.332018726360375,0.3978741352435876,1.3556320140950224,-0.28575551342641087,0.8874988150562103,0.09126583288734684,-0.30523257816122823,0.4873327207221328,0.6267538228082257,0.6503644344585291,0.9419861828588326,0.4761434464155009,-1.642093716172821,0.9462974435287662,2.245208081719052,-0.6545076564710867,-1.0415956371009087,-1.2618471555939805,-1.5595520204931115,1.0968150847773313,1.870688624312931,-0.36630708128034223,0.5029843940902577,0.21729457633436644,1.1515070541079988,-0.2853792863872244,0.19130556138435756,1.2119821642251132,0.35848705096098443,-0.004269602293290566,-0.02831173558559384,1.3307159916456643,-0.11626202059381414,0.13217089093742912,-0.930755324831226,-0.8022217937210094,0.14292601668996605,0.5585494252446102,-0.5067800112656453,0.18540048779486654,0.4483455209106131],\"yaxis\":\"y15\"},{\"histfunc\":\"count\",\"histnorm\":\"\",\"marker\":{\"color\":\"rgba(128, 0, 128, 1.0)\",\"line\":{\"color\":\"#4D5663\",\"width\":1.3}},\"name\":\"D\",\"nbinsx\":10,\"opacity\":0.8,\"orientation\":\"v\",\"type\":\"histogram\",\"x\":[-0.3876351538192493,-0.8296571219705642,-0.9666359010560744,-0.27252610137131583,0.29024583738250814,0.026293118578263032,0.1809630272451399,0.724968679915043,0.31262232066408185,-1.017825673956993,1.3696921307512595,1.3775889124639769,1.241098369180556,-0.6990524380989664,1.4747367236717397,0.5798228850293702,-1.036380740783406,0.8608894323795349,0.16714974846456593,0.6891428351484585,2.307597149763561,-0.19384362150846227,0.4411638735799402,0.9467707643346768,1.1935611200206604,-1.2082823855441158,-1.450893573650019,-0.9388907679342247,-0.44626964981179124,-1.29486767365812,0.20713729662405478,-0.6221414037699228,-0.6351880928477655,0.6098282530454491,0.3560243596805245,-0.38101026326892906,0.16960331543066987,0.7725812733389487,0.3193672008945128,0.12481433995434044,-1.2285353784601412,-0.712473629988644,-0.640186135196878,0.24458816789031673,-1.0113584036999896,-1.0728721448384266,-0.9952399420140805,-0.893786982521726,-1.0197858726369542,1.7919412297704587,0.9131794048060983,0.9294387718396656,-0.7863980384807477,1.4703071359742637,-0.764805697844493,1.4842095823819974,0.16197078331900475,-0.9523819336524822,0.1161357605797125,0.332018726360375,0.3978741352435876,1.3556320140950224,-0.28575551342641087,0.8874988150562103,0.09126583288734684,-0.30523257816122823,0.4873327207221328,0.6267538228082257,0.6503644344585291,0.9419861828588326,0.4761434464155009,-1.642093716172821,0.9462974435287662,2.245208081719052,-0.6545076564710867,-1.0415956371009087,-1.2618471555939805,-1.5595520204931115,1.0968150847773313,1.870688624312931,-0.36630708128034223,0.5029843940902577,0.21729457633436644,1.1515070541079988,-0.2853792863872244,0.19130556138435756,1.2119821642251132,0.35848705096098443,-0.004269602293290566,-0.02831173558559384,1.3307159916456643,-0.11626202059381414,0.13217089093742912,-0.930755324831226,-0.8022217937210094,0.14292601668996605,0.5585494252446102,-0.5067800112656453,0.18540048779486654,0.4483455209106131],\"xaxis\":\"x16\",\"yaxis\":\"y16\"}],                        {\"bargap\":0.02,\"legend\":{\"bgcolor\":\"#F5F6F9\",\"font\":{\"color\":\"#4D5663\"}},\"paper_bgcolor\":\"#F5F6F9\",\"plot_bgcolor\":\"#F5F6F9\",\"showlegend\":false,\"template\":{\"data\":{\"bar\":[{\"error_x\":{\"color\":\"#2a3f5f\"},\"error_y\":{\"color\":\"#2a3f5f\"},\"marker\":{\"line\":{\"color\":\"#E5ECF6\",\"width\":0.5},\"pattern\":{\"fillmode\":\"overlay\",\"size\":10,\"solidity\":0.2}},\"type\":\"bar\"}],\"barpolar\":[{\"marker\":{\"line\":{\"color\":\"#E5ECF6\",\"width\":0.5},\"pattern\":{\"fillmode\":\"overlay\",\"size\":10,\"solidity\":0.2}},\"type\":\"barpolar\"}],\"carpet\":[{\"aaxis\":{\"endlinecolor\":\"#2a3f5f\",\"gridcolor\":\"white\",\"linecolor\":\"white\",\"minorgridcolor\":\"white\",\"startlinecolor\":\"#2a3f5f\"},\"baxis\":{\"endlinecolor\":\"#2a3f5f\",\"gridcolor\":\"white\",\"linecolor\":\"white\",\"minorgridcolor\":\"white\",\"startlinecolor\":\"#2a3f5f\"},\"type\":\"carpet\"}],\"choropleth\":[{\"colorbar\":{\"outlinewidth\":0,\"ticks\":\"\"},\"type\":\"choropleth\"}],\"contour\":[{\"colorbar\":{\"outlinewidth\":0,\"ticks\":\"\"},\"colorscale\":[[0.0,\"#0d0887\"],[0.1111111111111111,\"#46039f\"],[0.2222222222222222,\"#7201a8\"],[0.3333333333333333,\"#9c179e\"],[0.4444444444444444,\"#bd3786\"],[0.5555555555555556,\"#d8576b\"],[0.6666666666666666,\"#ed7953\"],[0.7777777777777778,\"#fb9f3a\"],[0.8888888888888888,\"#fdca26\"],[1.0,\"#f0f921\"]],\"type\":\"contour\"}],\"contourcarpet\":[{\"colorbar\":{\"outlinewidth\":0,\"ticks\":\"\"},\"type\":\"contourcarpet\"}],\"heatmap\":[{\"colorbar\":{\"outlinewidth\":0,\"ticks\":\"\"},\"colorscale\":[[0.0,\"#0d0887\"],[0.1111111111111111,\"#46039f\"],[0.2222222222222222,\"#7201a8\"],[0.3333333333333333,\"#9c179e\"],[0.4444444444444444,\"#bd3786\"],[0.5555555555555556,\"#d8576b\"],[0.6666666666666666,\"#ed7953\"],[0.7777777777777778,\"#fb9f3a\"],[0.8888888888888888,\"#fdca26\"],[1.0,\"#f0f921\"]],\"type\":\"heatmap\"}],\"heatmapgl\":[{\"colorbar\":{\"outlinewidth\":0,\"ticks\":\"\"},\"colorscale\":[[0.0,\"#0d0887\"],[0.1111111111111111,\"#46039f\"],[0.2222222222222222,\"#7201a8\"],[0.3333333333333333,\"#9c179e\"],[0.4444444444444444,\"#bd3786\"],[0.5555555555555556,\"#d8576b\"],[0.6666666666666666,\"#ed7953\"],[0.7777777777777778,\"#fb9f3a\"],[0.8888888888888888,\"#fdca26\"],[1.0,\"#f0f921\"]],\"type\":\"heatmapgl\"}],\"histogram\":[{\"marker\":{\"pattern\":{\"fillmode\":\"overlay\",\"size\":10,\"solidity\":0.2}},\"type\":\"histogram\"}],\"histogram2d\":[{\"colorbar\":{\"outlinewidth\":0,\"ticks\":\"\"},\"colorscale\":[[0.0,\"#0d0887\"],[0.1111111111111111,\"#46039f\"],[0.2222222222222222,\"#7201a8\"],[0.3333333333333333,\"#9c179e\"],[0.4444444444444444,\"#bd3786\"],[0.5555555555555556,\"#d8576b\"],[0.6666666666666666,\"#ed7953\"],[0.7777777777777778,\"#fb9f3a\"],[0.8888888888888888,\"#fdca26\"],[1.0,\"#f0f921\"]],\"type\":\"histogram2d\"}],\"histogram2dcontour\":[{\"colorbar\":{\"outlinewidth\":0,\"ticks\":\"\"},\"colorscale\":[[0.0,\"#0d0887\"],[0.1111111111111111,\"#46039f\"],[0.2222222222222222,\"#7201a8\"],[0.3333333333333333,\"#9c179e\"],[0.4444444444444444,\"#bd3786\"],[0.5555555555555556,\"#d8576b\"],[0.6666666666666666,\"#ed7953\"],[0.7777777777777778,\"#fb9f3a\"],[0.8888888888888888,\"#fdca26\"],[1.0,\"#f0f921\"]],\"type\":\"histogram2dcontour\"}],\"mesh3d\":[{\"colorbar\":{\"outlinewidth\":0,\"ticks\":\"\"},\"type\":\"mesh3d\"}],\"parcoords\":[{\"line\":{\"colorbar\":{\"outlinewidth\":0,\"ticks\":\"\"}},\"type\":\"parcoords\"}],\"pie\":[{\"automargin\":true,\"type\":\"pie\"}],\"scatter\":[{\"marker\":{\"colorbar\":{\"outlinewidth\":0,\"ticks\":\"\"}},\"type\":\"scatter\"}],\"scatter3d\":[{\"line\":{\"colorbar\":{\"outlinewidth\":0,\"ticks\":\"\"}},\"marker\":{\"colorbar\":{\"outlinewidth\":0,\"ticks\":\"\"}},\"type\":\"scatter3d\"}],\"scattercarpet\":[{\"marker\":{\"colorbar\":{\"outlinewidth\":0,\"ticks\":\"\"}},\"type\":\"scattercarpet\"}],\"scattergeo\":[{\"marker\":{\"colorbar\":{\"outlinewidth\":0,\"ticks\":\"\"}},\"type\":\"scattergeo\"}],\"scattergl\":[{\"marker\":{\"colorbar\":{\"outlinewidth\":0,\"ticks\":\"\"}},\"type\":\"scattergl\"}],\"scattermapbox\":[{\"marker\":{\"colorbar\":{\"outlinewidth\":0,\"ticks\":\"\"}},\"type\":\"scattermapbox\"}],\"scatterpolar\":[{\"marker\":{\"colorbar\":{\"outlinewidth\":0,\"ticks\":\"\"}},\"type\":\"scatterpolar\"}],\"scatterpolargl\":[{\"marker\":{\"colorbar\":{\"outlinewidth\":0,\"ticks\":\"\"}},\"type\":\"scatterpolargl\"}],\"scatterternary\":[{\"marker\":{\"colorbar\":{\"outlinewidth\":0,\"ticks\":\"\"}},\"type\":\"scatterternary\"}],\"surface\":[{\"colorbar\":{\"outlinewidth\":0,\"ticks\":\"\"},\"colorscale\":[[0.0,\"#0d0887\"],[0.1111111111111111,\"#46039f\"],[0.2222222222222222,\"#7201a8\"],[0.3333333333333333,\"#9c179e\"],[0.4444444444444444,\"#bd3786\"],[0.5555555555555556,\"#d8576b\"],[0.6666666666666666,\"#ed7953\"],[0.7777777777777778,\"#fb9f3a\"],[0.8888888888888888,\"#fdca26\"],[1.0,\"#f0f921\"]],\"type\":\"surface\"}],\"table\":[{\"cells\":{\"fill\":{\"color\":\"#EBF0F8\"},\"line\":{\"color\":\"white\"}},\"header\":{\"fill\":{\"color\":\"#C8D4E3\"},\"line\":{\"color\":\"white\"}},\"type\":\"table\"}]},\"layout\":{\"annotationdefaults\":{\"arrowcolor\":\"#2a3f5f\",\"arrowhead\":0,\"arrowwidth\":1},\"autotypenumbers\":\"strict\",\"coloraxis\":{\"colorbar\":{\"outlinewidth\":0,\"ticks\":\"\"}},\"colorscale\":{\"diverging\":[[0,\"#8e0152\"],[0.1,\"#c51b7d\"],[0.2,\"#de77ae\"],[0.3,\"#f1b6da\"],[0.4,\"#fde0ef\"],[0.5,\"#f7f7f7\"],[0.6,\"#e6f5d0\"],[0.7,\"#b8e186\"],[0.8,\"#7fbc41\"],[0.9,\"#4d9221\"],[1,\"#276419\"]],\"sequential\":[[0.0,\"#0d0887\"],[0.1111111111111111,\"#46039f\"],[0.2222222222222222,\"#7201a8\"],[0.3333333333333333,\"#9c179e\"],[0.4444444444444444,\"#bd3786\"],[0.5555555555555556,\"#d8576b\"],[0.6666666666666666,\"#ed7953\"],[0.7777777777777778,\"#fb9f3a\"],[0.8888888888888888,\"#fdca26\"],[1.0,\"#f0f921\"]],\"sequentialminus\":[[0.0,\"#0d0887\"],[0.1111111111111111,\"#46039f\"],[0.2222222222222222,\"#7201a8\"],[0.3333333333333333,\"#9c179e\"],[0.4444444444444444,\"#bd3786\"],[0.5555555555555556,\"#d8576b\"],[0.6666666666666666,\"#ed7953\"],[0.7777777777777778,\"#fb9f3a\"],[0.8888888888888888,\"#fdca26\"],[1.0,\"#f0f921\"]]},\"colorway\":[\"#636efa\",\"#EF553B\",\"#00cc96\",\"#ab63fa\",\"#FFA15A\",\"#19d3f3\",\"#FF6692\",\"#B6E880\",\"#FF97FF\",\"#FECB52\"],\"font\":{\"color\":\"#2a3f5f\"},\"geo\":{\"bgcolor\":\"white\",\"lakecolor\":\"white\",\"landcolor\":\"#E5ECF6\",\"showlakes\":true,\"showland\":true,\"subunitcolor\":\"white\"},\"hoverlabel\":{\"align\":\"left\"},\"hovermode\":\"closest\",\"mapbox\":{\"style\":\"light\"},\"paper_bgcolor\":\"white\",\"plot_bgcolor\":\"#E5ECF6\",\"polar\":{\"angularaxis\":{\"gridcolor\":\"white\",\"linecolor\":\"white\",\"ticks\":\"\"},\"bgcolor\":\"#E5ECF6\",\"radialaxis\":{\"gridcolor\":\"white\",\"linecolor\":\"white\",\"ticks\":\"\"}},\"scene\":{\"xaxis\":{\"backgroundcolor\":\"#E5ECF6\",\"gridcolor\":\"white\",\"gridwidth\":2,\"linecolor\":\"white\",\"showbackground\":true,\"ticks\":\"\",\"zerolinecolor\":\"white\"},\"yaxis\":{\"backgroundcolor\":\"#E5ECF6\",\"gridcolor\":\"white\",\"gridwidth\":2,\"linecolor\":\"white\",\"showbackground\":true,\"ticks\":\"\",\"zerolinecolor\":\"white\"},\"zaxis\":{\"backgroundcolor\":\"#E5ECF6\",\"gridcolor\":\"white\",\"gridwidth\":2,\"linecolor\":\"white\",\"showbackground\":true,\"ticks\":\"\",\"zerolinecolor\":\"white\"}},\"shapedefaults\":{\"line\":{\"color\":\"#2a3f5f\"}},\"ternary\":{\"aaxis\":{\"gridcolor\":\"white\",\"linecolor\":\"white\",\"ticks\":\"\"},\"baxis\":{\"gridcolor\":\"white\",\"linecolor\":\"white\",\"ticks\":\"\"},\"bgcolor\":\"#E5ECF6\",\"caxis\":{\"gridcolor\":\"white\",\"linecolor\":\"white\",\"ticks\":\"\"}},\"title\":{\"x\":0.05},\"xaxis\":{\"automargin\":true,\"gridcolor\":\"white\",\"linecolor\":\"white\",\"ticks\":\"\",\"title\":{\"standoff\":15},\"zerolinecolor\":\"white\",\"zerolinewidth\":2},\"yaxis\":{\"automargin\":true,\"gridcolor\":\"white\",\"linecolor\":\"white\",\"ticks\":\"\",\"title\":{\"standoff\":15},\"zerolinecolor\":\"white\",\"zerolinewidth\":2}}},\"title\":{\"font\":{\"color\":\"#4D5663\"}},\"xaxis\":{\"anchor\":\"y\",\"domain\":[0.0,0.2125],\"gridcolor\":\"#E1E5ED\",\"showgrid\":false,\"tickfont\":{\"color\":\"#4D5663\"},\"title\":{\"font\":{\"color\":\"#4D5663\"},\"text\":\"\"},\"zerolinecolor\":\"#E1E5ED\"},\"xaxis10\":{\"anchor\":\"y10\",\"domain\":[0.2625,0.475],\"gridcolor\":\"#E1E5ED\",\"showgrid\":false,\"tickfont\":{\"color\":\"#4D5663\"},\"title\":{\"font\":{\"color\":\"#4D5663\"},\"text\":\"\"},\"zerolinecolor\":\"#E1E5ED\"},\"xaxis11\":{\"anchor\":\"y11\",\"domain\":[0.525,0.7375],\"gridcolor\":\"#E1E5ED\",\"showgrid\":false,\"tickfont\":{\"color\":\"#4D5663\"},\"title\":{\"font\":{\"color\":\"#4D5663\"},\"text\":\"\"},\"zerolinecolor\":\"#E1E5ED\"},\"xaxis12\":{\"anchor\":\"y12\",\"domain\":[0.7875,1.0],\"gridcolor\":\"#E1E5ED\",\"showgrid\":false,\"tickfont\":{\"color\":\"#4D5663\"},\"title\":{\"font\":{\"color\":\"#4D5663\"},\"text\":\"\"},\"zerolinecolor\":\"#E1E5ED\"},\"xaxis13\":{\"anchor\":\"y13\",\"domain\":[0.0,0.2125],\"gridcolor\":\"#E1E5ED\",\"showgrid\":false,\"tickfont\":{\"color\":\"#4D5663\"},\"title\":{\"font\":{\"color\":\"#4D5663\"},\"text\":\"\"},\"zerolinecolor\":\"#E1E5ED\"},\"xaxis14\":{\"anchor\":\"y14\",\"domain\":[0.2625,0.475],\"gridcolor\":\"#E1E5ED\",\"showgrid\":false,\"tickfont\":{\"color\":\"#4D5663\"},\"title\":{\"font\":{\"color\":\"#4D5663\"},\"text\":\"\"},\"zerolinecolor\":\"#E1E5ED\"},\"xaxis15\":{\"anchor\":\"y15\",\"domain\":[0.525,0.7375],\"gridcolor\":\"#E1E5ED\",\"showgrid\":false,\"tickfont\":{\"color\":\"#4D5663\"},\"title\":{\"font\":{\"color\":\"#4D5663\"},\"text\":\"\"},\"zerolinecolor\":\"#E1E5ED\"},\"xaxis16\":{\"anchor\":\"y16\",\"domain\":[0.7875,1.0],\"gridcolor\":\"#E1E5ED\",\"showgrid\":false,\"tickfont\":{\"color\":\"#4D5663\"},\"title\":{\"font\":{\"color\":\"#4D5663\"},\"text\":\"\"},\"zerolinecolor\":\"#E1E5ED\"},\"xaxis2\":{\"anchor\":\"y2\",\"domain\":[0.2625,0.475],\"gridcolor\":\"#E1E5ED\",\"showgrid\":false,\"tickfont\":{\"color\":\"#4D5663\"},\"title\":{\"font\":{\"color\":\"#4D5663\"},\"text\":\"\"},\"zerolinecolor\":\"#E1E5ED\"},\"xaxis3\":{\"anchor\":\"y3\",\"domain\":[0.525,0.7375],\"gridcolor\":\"#E1E5ED\",\"showgrid\":false,\"tickfont\":{\"color\":\"#4D5663\"},\"title\":{\"font\":{\"color\":\"#4D5663\"},\"text\":\"\"},\"zerolinecolor\":\"#E1E5ED\"},\"xaxis4\":{\"anchor\":\"y4\",\"domain\":[0.7875,1.0],\"gridcolor\":\"#E1E5ED\",\"showgrid\":false,\"tickfont\":{\"color\":\"#4D5663\"},\"title\":{\"font\":{\"color\":\"#4D5663\"},\"text\":\"\"},\"zerolinecolor\":\"#E1E5ED\"},\"xaxis5\":{\"anchor\":\"y5\",\"domain\":[0.0,0.2125],\"gridcolor\":\"#E1E5ED\",\"showgrid\":false,\"tickfont\":{\"color\":\"#4D5663\"},\"title\":{\"font\":{\"color\":\"#4D5663\"},\"text\":\"\"},\"zerolinecolor\":\"#E1E5ED\"},\"xaxis6\":{\"anchor\":\"y6\",\"domain\":[0.2625,0.475],\"gridcolor\":\"#E1E5ED\",\"showgrid\":false,\"tickfont\":{\"color\":\"#4D5663\"},\"title\":{\"font\":{\"color\":\"#4D5663\"},\"text\":\"\"},\"zerolinecolor\":\"#E1E5ED\"},\"xaxis7\":{\"anchor\":\"y7\",\"domain\":[0.525,0.7375],\"gridcolor\":\"#E1E5ED\",\"showgrid\":false,\"tickfont\":{\"color\":\"#4D5663\"},\"title\":{\"font\":{\"color\":\"#4D5663\"},\"text\":\"\"},\"zerolinecolor\":\"#E1E5ED\"},\"xaxis8\":{\"anchor\":\"y8\",\"domain\":[0.7875,1.0],\"gridcolor\":\"#E1E5ED\",\"showgrid\":false,\"tickfont\":{\"color\":\"#4D5663\"},\"title\":{\"font\":{\"color\":\"#4D5663\"},\"text\":\"\"},\"zerolinecolor\":\"#E1E5ED\"},\"xaxis9\":{\"anchor\":\"y9\",\"domain\":[0.0,0.2125],\"gridcolor\":\"#E1E5ED\",\"showgrid\":false,\"tickfont\":{\"color\":\"#4D5663\"},\"title\":{\"font\":{\"color\":\"#4D5663\"},\"text\":\"\"},\"zerolinecolor\":\"#E1E5ED\"},\"yaxis\":{\"anchor\":\"x\",\"domain\":[0.8025,1.0],\"gridcolor\":\"#E1E5ED\",\"showgrid\":false,\"tickfont\":{\"color\":\"#4D5663\"},\"title\":{\"font\":{\"color\":\"#4D5663\"},\"text\":\"\"},\"zerolinecolor\":\"#E1E5ED\"},\"yaxis10\":{\"anchor\":\"x10\",\"domain\":[0.2675,0.465],\"gridcolor\":\"#E1E5ED\",\"showgrid\":false,\"tickfont\":{\"color\":\"#4D5663\"},\"title\":{\"font\":{\"color\":\"#4D5663\"},\"text\":\"\"},\"zerolinecolor\":\"#E1E5ED\"},\"yaxis11\":{\"anchor\":\"x11\",\"domain\":[0.2675,0.465],\"gridcolor\":\"#E1E5ED\",\"showgrid\":false,\"tickfont\":{\"color\":\"#4D5663\"},\"title\":{\"font\":{\"color\":\"#4D5663\"},\"text\":\"\"},\"zerolinecolor\":\"#E1E5ED\"},\"yaxis12\":{\"anchor\":\"x12\",\"domain\":[0.2675,0.465],\"gridcolor\":\"#E1E5ED\",\"showgrid\":false,\"tickfont\":{\"color\":\"#4D5663\"},\"title\":{\"font\":{\"color\":\"#4D5663\"},\"text\":\"\"},\"zerolinecolor\":\"#E1E5ED\"},\"yaxis13\":{\"anchor\":\"x13\",\"domain\":[0.0,0.1975],\"gridcolor\":\"#E1E5ED\",\"showgrid\":false,\"tickfont\":{\"color\":\"#4D5663\"},\"title\":{\"font\":{\"color\":\"#4D5663\"},\"text\":\"\"},\"zerolinecolor\":\"#E1E5ED\"},\"yaxis14\":{\"anchor\":\"x14\",\"domain\":[0.0,0.1975],\"gridcolor\":\"#E1E5ED\",\"showgrid\":false,\"tickfont\":{\"color\":\"#4D5663\"},\"title\":{\"font\":{\"color\":\"#4D5663\"},\"text\":\"\"},\"zerolinecolor\":\"#E1E5ED\"},\"yaxis15\":{\"anchor\":\"x15\",\"domain\":[0.0,0.1975],\"gridcolor\":\"#E1E5ED\",\"showgrid\":false,\"tickfont\":{\"color\":\"#4D5663\"},\"title\":{\"font\":{\"color\":\"#4D5663\"},\"text\":\"\"},\"zerolinecolor\":\"#E1E5ED\"},\"yaxis16\":{\"anchor\":\"x16\",\"domain\":[0.0,0.1975],\"gridcolor\":\"#E1E5ED\",\"showgrid\":false,\"tickfont\":{\"color\":\"#4D5663\"},\"title\":{\"font\":{\"color\":\"#4D5663\"},\"text\":\"\"},\"zerolinecolor\":\"#E1E5ED\"},\"yaxis2\":{\"anchor\":\"x2\",\"domain\":[0.8025,1.0],\"gridcolor\":\"#E1E5ED\",\"showgrid\":false,\"tickfont\":{\"color\":\"#4D5663\"},\"title\":{\"font\":{\"color\":\"#4D5663\"},\"text\":\"\"},\"zerolinecolor\":\"#E1E5ED\"},\"yaxis3\":{\"anchor\":\"x3\",\"domain\":[0.8025,1.0],\"gridcolor\":\"#E1E5ED\",\"showgrid\":false,\"tickfont\":{\"color\":\"#4D5663\"},\"title\":{\"font\":{\"color\":\"#4D5663\"},\"text\":\"\"},\"zerolinecolor\":\"#E1E5ED\"},\"yaxis4\":{\"anchor\":\"x4\",\"domain\":[0.8025,1.0],\"gridcolor\":\"#E1E5ED\",\"showgrid\":false,\"tickfont\":{\"color\":\"#4D5663\"},\"title\":{\"font\":{\"color\":\"#4D5663\"},\"text\":\"\"},\"zerolinecolor\":\"#E1E5ED\"},\"yaxis5\":{\"anchor\":\"x5\",\"domain\":[0.535,0.7325],\"gridcolor\":\"#E1E5ED\",\"showgrid\":false,\"tickfont\":{\"color\":\"#4D5663\"},\"title\":{\"font\":{\"color\":\"#4D5663\"},\"text\":\"\"},\"zerolinecolor\":\"#E1E5ED\"},\"yaxis6\":{\"anchor\":\"x6\",\"domain\":[0.535,0.7325],\"gridcolor\":\"#E1E5ED\",\"showgrid\":false,\"tickfont\":{\"color\":\"#4D5663\"},\"title\":{\"font\":{\"color\":\"#4D5663\"},\"text\":\"\"},\"zerolinecolor\":\"#E1E5ED\"},\"yaxis7\":{\"anchor\":\"x7\",\"domain\":[0.535,0.7325],\"gridcolor\":\"#E1E5ED\",\"showgrid\":false,\"tickfont\":{\"color\":\"#4D5663\"},\"title\":{\"font\":{\"color\":\"#4D5663\"},\"text\":\"\"},\"zerolinecolor\":\"#E1E5ED\"},\"yaxis8\":{\"anchor\":\"x8\",\"domain\":[0.535,0.7325],\"gridcolor\":\"#E1E5ED\",\"showgrid\":false,\"tickfont\":{\"color\":\"#4D5663\"},\"title\":{\"font\":{\"color\":\"#4D5663\"},\"text\":\"\"},\"zerolinecolor\":\"#E1E5ED\"},\"yaxis9\":{\"anchor\":\"x9\",\"domain\":[0.2675,0.465],\"gridcolor\":\"#E1E5ED\",\"showgrid\":false,\"tickfont\":{\"color\":\"#4D5663\"},\"title\":{\"font\":{\"color\":\"#4D5663\"},\"text\":\"\"},\"zerolinecolor\":\"#E1E5ED\"}},                        {\"showLink\": true, \"linkText\": \"Export to plot.ly\", \"plotlyServerURL\": \"https://plot.ly\", \"responsive\": true}                    ).then(function(){\n",
       "                            \n",
       "var gd = document.getElementById('be318965-6190-47d7-bf63-c51259c584c6');\n",
       "var x = new MutationObserver(function (mutations, observer) {{\n",
       "        var display = window.getComputedStyle(gd).display;\n",
       "        if (!display || display === 'none') {{\n",
       "            console.log([gd, 'removed!']);\n",
       "            Plotly.purge(gd);\n",
       "            observer.disconnect();\n",
       "        }}\n",
       "}});\n",
       "\n",
       "// Listen for the removal of the full notebook cells\n",
       "var notebookContainer = gd.closest('#notebook-container');\n",
       "if (notebookContainer) {{\n",
       "    x.observe(notebookContainer, {childList: true});\n",
       "}}\n",
       "\n",
       "// Listen for the clearing of the current output cell\n",
       "var outputEl = gd.closest('.output');\n",
       "if (outputEl) {{\n",
       "    x.observe(outputEl, {childList: true});\n",
       "}}\n",
       "\n",
       "                        })                };                });            </script>        </div>"
      ]
     },
     "metadata": {},
     "output_type": "display_data"
    }
   ],
   "source": [
    "df.scatter_matrix()"
   ]
  },
  {
   "cell_type": "markdown",
   "metadata": {
    "collapsed": true
   },
   "source": [
    "# Great Job!"
   ]
  }
 ],
 "metadata": {
  "kernelspec": {
   "display_name": "Python 3",
   "language": "python",
   "name": "python3"
  },
  "language_info": {
   "codemirror_mode": {
    "name": "ipython",
    "version": 3
   },
   "file_extension": ".py",
   "mimetype": "text/x-python",
   "name": "python",
   "nbconvert_exporter": "python",
   "pygments_lexer": "ipython3",
   "version": "3.8.8"
  }
 },
 "nbformat": 4,
 "nbformat_minor": 1
}
